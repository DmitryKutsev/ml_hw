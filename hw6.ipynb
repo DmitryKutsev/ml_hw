{
  "nbformat": 4,
  "nbformat_minor": 0,
  "metadata": {
    "colab": {
      "name": "Untitled35.ipynb",
      "provenance": [],
      "machine_shape": "hm",
      "authorship_tag": "ABX9TyOsoKBN39zU+1U8yb+L/q98",
      "include_colab_link": true
    },
    "kernelspec": {
      "name": "python3",
      "display_name": "Python 3"
    }
  },
  "cells": [
    {
      "cell_type": "markdown",
      "metadata": {
        "id": "view-in-github",
        "colab_type": "text"
      },
      "source": [
        "<a href=\"https://colab.research.google.com/github/DmitryKutsev/ml_hw/blob/master/hw6.ipynb\" target=\"_parent\"><img src=\"https://colab.research.google.com/assets/colab-badge.svg\" alt=\"Open In Colab\"/></a>"
      ]
    },
    {
      "cell_type": "code",
      "metadata": {
        "id": "bj5Hs34qCUtn",
        "colab_type": "code",
        "outputId": "d88b0c35-42a5-425e-c61b-5a9b5862a679",
        "colab": {
          "base_uri": "https://localhost:8080/",
          "height": 190
        }
      },
      "source": [
        "# https://github.com/mannefedov/hse_ml_m1/blob/master/6_nn_intro/nn_intro.ipynb\n",
        "# https://docs.google.com/forms/d/e/1FAIpQLSdbdl9DMhqlwgAtxro-cewafRyCq_liHFByCksRWBZsRlIKWA/viewform\n",
        "\n",
        "from google.colab import drive\n",
        "drive.mount('/content/drive')\n",
        "\n",
        "!unzip '/content/drive/My Drive/data.zip'"
      ],
      "execution_count": 0,
      "outputs": [
        {
          "output_type": "stream",
          "text": [
            "Go to this URL in a browser: https://accounts.google.com/o/oauth2/auth?client_id=947318989803-6bn6qk8qdgf4n4g3pfee6491hc0brc4i.apps.googleusercontent.com&redirect_uri=urn%3aietf%3awg%3aoauth%3a2.0%3aoob&response_type=code&scope=email%20https%3a%2f%2fwww.googleapis.com%2fauth%2fdocs.test%20https%3a%2f%2fwww.googleapis.com%2fauth%2fdrive%20https%3a%2f%2fwww.googleapis.com%2fauth%2fdrive.photos.readonly%20https%3a%2f%2fwww.googleapis.com%2fauth%2fpeopleapi.readonly\n",
            "\n",
            "Enter your authorization code:\n",
            "··········\n",
            "Mounted at /content/drive\n",
            "Archive:  /content/drive/My Drive/data.zip\n",
            "  inflating: avito_data.csv          \n",
            "  inflating: quora.csv               \n",
            "  inflating: __MACOSX/._quora.csv    \n"
          ],
          "name": "stdout"
        }
      ]
    },
    {
      "cell_type": "code",
      "metadata": {
        "id": "_8ZBG-P1pfxW",
        "colab_type": "code",
        "outputId": "b701fe44-18ff-427e-b723-788ead9f72cb",
        "colab": {
          "base_uri": "https://localhost:8080/",
          "height": 462
        }
      },
      "source": [
        "!pip install pandas scikit-learn gensim matplotlib\n"
      ],
      "execution_count": 0,
      "outputs": [
        {
          "output_type": "stream",
          "text": [
            "Requirement already satisfied: pandas in /usr/local/lib/python3.6/dist-packages (1.0.3)\n",
            "Requirement already satisfied: scikit-learn in /usr/local/lib/python3.6/dist-packages (0.22.2.post1)\n",
            "Requirement already satisfied: gensim in /usr/local/lib/python3.6/dist-packages (3.6.0)\n",
            "Requirement already satisfied: matplotlib in /usr/local/lib/python3.6/dist-packages (3.2.1)\n",
            "Requirement already satisfied: pytz>=2017.2 in /usr/local/lib/python3.6/dist-packages (from pandas) (2018.9)\n",
            "Requirement already satisfied: python-dateutil>=2.6.1 in /usr/local/lib/python3.6/dist-packages (from pandas) (2.8.1)\n",
            "Requirement already satisfied: numpy>=1.13.3 in /usr/local/lib/python3.6/dist-packages (from pandas) (1.18.3)\n",
            "Requirement already satisfied: joblib>=0.11 in /usr/local/lib/python3.6/dist-packages (from scikit-learn) (0.14.1)\n",
            "Requirement already satisfied: scipy>=0.17.0 in /usr/local/lib/python3.6/dist-packages (from scikit-learn) (1.4.1)\n",
            "Requirement already satisfied: six>=1.5.0 in /usr/local/lib/python3.6/dist-packages (from gensim) (1.12.0)\n",
            "Requirement already satisfied: smart-open>=1.2.1 in /usr/local/lib/python3.6/dist-packages (from gensim) (2.0.0)\n",
            "Requirement already satisfied: pyparsing!=2.0.4,!=2.1.2,!=2.1.6,>=2.0.1 in /usr/local/lib/python3.6/dist-packages (from matplotlib) (2.4.7)\n",
            "Requirement already satisfied: kiwisolver>=1.0.1 in /usr/local/lib/python3.6/dist-packages (from matplotlib) (1.2.0)\n",
            "Requirement already satisfied: cycler>=0.10 in /usr/local/lib/python3.6/dist-packages (from matplotlib) (0.10.0)\n",
            "Requirement already satisfied: boto in /usr/local/lib/python3.6/dist-packages (from smart-open>=1.2.1->gensim) (2.49.0)\n",
            "Requirement already satisfied: boto3 in /usr/local/lib/python3.6/dist-packages (from smart-open>=1.2.1->gensim) (1.13.1)\n",
            "Requirement already satisfied: requests in /usr/local/lib/python3.6/dist-packages (from smart-open>=1.2.1->gensim) (2.23.0)\n",
            "Requirement already satisfied: jmespath<1.0.0,>=0.7.1 in /usr/local/lib/python3.6/dist-packages (from boto3->smart-open>=1.2.1->gensim) (0.9.5)\n",
            "Requirement already satisfied: s3transfer<0.4.0,>=0.3.0 in /usr/local/lib/python3.6/dist-packages (from boto3->smart-open>=1.2.1->gensim) (0.3.3)\n",
            "Requirement already satisfied: botocore<1.17.0,>=1.16.1 in /usr/local/lib/python3.6/dist-packages (from boto3->smart-open>=1.2.1->gensim) (1.16.1)\n",
            "Requirement already satisfied: idna<3,>=2.5 in /usr/local/lib/python3.6/dist-packages (from requests->smart-open>=1.2.1->gensim) (2.9)\n",
            "Requirement already satisfied: certifi>=2017.4.17 in /usr/local/lib/python3.6/dist-packages (from requests->smart-open>=1.2.1->gensim) (2020.4.5.1)\n",
            "Requirement already satisfied: chardet<4,>=3.0.2 in /usr/local/lib/python3.6/dist-packages (from requests->smart-open>=1.2.1->gensim) (3.0.4)\n",
            "Requirement already satisfied: urllib3!=1.25.0,!=1.25.1,<1.26,>=1.21.1 in /usr/local/lib/python3.6/dist-packages (from requests->smart-open>=1.2.1->gensim) (1.24.3)\n",
            "Requirement already satisfied: docutils<0.16,>=0.10 in /usr/local/lib/python3.6/dist-packages (from botocore<1.17.0,>=1.16.1->boto3->smart-open>=1.2.1->gensim) (0.15.2)\n"
          ],
          "name": "stdout"
        }
      ]
    },
    {
      "cell_type": "code",
      "metadata": {
        "id": "JWLewr5Fp3lR",
        "colab_type": "code",
        "colab": {}
      },
      "source": [
        "import tensorflow as tf"
      ],
      "execution_count": 0,
      "outputs": []
    },
    {
      "cell_type": "code",
      "metadata": {
        "id": "9A9DvgNCp8OQ",
        "colab_type": "code",
        "colab": {}
      },
      "source": [
        "import pandas as pd\n",
        "import numpy as np\n",
        "from string import punctuation\n",
        "from sklearn.model_selection import train_test_split\n",
        "from collections import Counter\n",
        "import matplotlib.pyplot as plt\n",
        "import gensim\n",
        "%matplotlib inline"
      ],
      "execution_count": 0,
      "outputs": []
    },
    {
      "cell_type": "code",
      "metadata": {
        "id": "PVL8TcIlp9yr",
        "colab_type": "code",
        "colab": {}
      },
      "source": [
        "# avito = pd.read_csv('avito_data.csv').dropna()\n",
        "# !unzip '/content/drive/My Drive/data.zip'"
      ],
      "execution_count": 0,
      "outputs": []
    },
    {
      "cell_type": "code",
      "metadata": {
        "id": "G1ab4is8qIwJ",
        "colab_type": "code",
        "colab": {}
      },
      "source": [
        "def preprocess(text):\n",
        "    tokens = text.lower().split()\n",
        "    tokens = [token.strip(punctuation) for token in tokens]\n",
        "    return tokens"
      ],
      "execution_count": 0,
      "outputs": []
    },
    {
      "cell_type": "code",
      "metadata": {
        "id": "kUDKjquXQ98E",
        "colab_type": "code",
        "colab": {}
      },
      "source": [
        "from sklearn.metrics import classification_report"
      ],
      "execution_count": 0,
      "outputs": []
    },
    {
      "cell_type": "code",
      "metadata": {
        "id": "BM7URqL8zahU",
        "colab_type": "code",
        "colab": {}
      },
      "source": [
        ""
      ],
      "execution_count": 0,
      "outputs": []
    },
    {
      "cell_type": "code",
      "metadata": {
        "id": "49NSLpzW2xM-",
        "colab_type": "code",
        "colab": {}
      },
      "source": [
        "#конкатенация в один эмбеддинг"
      ],
      "execution_count": 0,
      "outputs": []
    },
    {
      "cell_type": "code",
      "metadata": {
        "id": "NddBtEAs8UWy",
        "colab_type": "code",
        "colab": {}
      },
      "source": [
        "quora = pd.read_csv('quora.csv')"
      ],
      "execution_count": 0,
      "outputs": []
    },
    {
      "cell_type": "code",
      "metadata": {
        "id": "Z546fqVj8UUU",
        "colab_type": "code",
        "colab": {}
      },
      "source": [
        "vocab = Counter()\n",
        "\n",
        "for text in quora.question_text:\n",
        "    vocab.update(preprocess(text))"
      ],
      "execution_count": 0,
      "outputs": []
    },
    {
      "cell_type": "code",
      "metadata": {
        "id": "36C2psSw8UN1",
        "colab_type": "code",
        "colab": {}
      },
      "source": [
        "filtered_vocab = set()\n",
        "\n",
        "for word in vocab:\n",
        "    if vocab[word] > 50:\n",
        "        filtered_vocab.add(word)"
      ],
      "execution_count": 0,
      "outputs": []
    },
    {
      "cell_type": "code",
      "metadata": {
        "id": "fAsfW1Y18eWe",
        "colab_type": "code",
        "colab": {}
      },
      "source": [
        "word2id = {'UNK':1, 'PAD':0}\n",
        "\n",
        "for word in filtered_vocab:\n",
        "    word2id[word] = len(word2id)"
      ],
      "execution_count": 0,
      "outputs": []
    },
    {
      "cell_type": "code",
      "metadata": {
        "id": "0Vx9OPnl8eex",
        "colab_type": "code",
        "colab": {}
      },
      "source": [
        "id2word = {i:word for word, i in word2id.items()}"
      ],
      "execution_count": 0,
      "outputs": []
    },
    {
      "cell_type": "code",
      "metadata": {
        "id": "emy4AQjm8ea3",
        "colab_type": "code",
        "colab": {}
      },
      "source": [
        "X = []\n",
        "\n",
        "for text in quora.question_text:\n",
        "    tokens = preprocess(text)\n",
        "    ids = [word2id.get(token, 1) for token in tokens]\n",
        "    X.append(ids)"
      ],
      "execution_count": 0,
      "outputs": []
    },
    {
      "cell_type": "code",
      "metadata": {
        "id": "i5kkD0KV8vNQ",
        "colab_type": "code",
        "colab": {}
      },
      "source": [
        "MAX_LEN = max(len(x) for x in X)"
      ],
      "execution_count": 0,
      "outputs": []
    },
    {
      "cell_type": "code",
      "metadata": {
        "id": "cwb1wlKF8vJc",
        "colab_type": "code",
        "colab": {}
      },
      "source": [
        "X = tf.keras.preprocessing.sequence.pad_sequences(X, maxlen=MAX_LEN)"
      ],
      "execution_count": 0,
      "outputs": []
    },
    {
      "cell_type": "code",
      "metadata": {
        "id": "tuDnfiDB8vFe",
        "colab_type": "code",
        "colab": {}
      },
      "source": [
        "y = quora.target.values"
      ],
      "execution_count": 0,
      "outputs": []
    },
    {
      "cell_type": "code",
      "metadata": {
        "id": "9KdWst_6_C4-",
        "colab_type": "code",
        "colab": {}
      },
      "source": [
        "X_train, X_valid, y_train, y_valid = train_test_split(X, y, test_size=0.05)"
      ],
      "execution_count": 0,
      "outputs": []
    },
    {
      "cell_type": "code",
      "metadata": {
        "id": "VRtsA51__C1h",
        "colab_type": "code",
        "colab": {}
      },
      "source": [
        "model = tf.keras.Sequential()\n",
        "\n",
        "model.add(tf.keras.layers.Embedding(input_dim=len(word2id),\n",
        "                                      input_length=MAX_LEN, output_dim=100)) \n",
        "model.add(tf.keras.layers.Flatten())\n",
        "model.add(tf.keras.layers.Dense(64, activation='relu'))\n",
        "model.add(tf.keras.layers.Dense(64, activation='relu'))\n",
        "model.add(tf.keras.layers.Dense(1, activation='sigmoid'))\n",
        "\n",
        "model.compile(optimizer='adam', loss='binary_crossentropy',\n",
        "              metrics=['accuracy'])"
      ],
      "execution_count": 0,
      "outputs": []
    },
    {
      "cell_type": "code",
      "metadata": {
        "id": "uN7PHeo2_Cxp",
        "colab_type": "code",
        "outputId": "fb892627-8242-4bb3-8db7-ad4e70993c70",
        "colab": {
          "base_uri": "https://localhost:8080/",
          "height": 204
        }
      },
      "source": [
        "model.fit(X_train, y_train, \n",
        "          validation_data=(X_valid, y_valid),\n",
        "          batch_size=1024,\n",
        "         epochs=5)"
      ],
      "execution_count": 0,
      "outputs": [
        {
          "output_type": "stream",
          "text": [
            "Epoch 1/5\n",
            "1212/1212 [==============================] - 102s 84ms/step - loss: 0.1270 - accuracy: 0.9515 - val_loss: 0.1155 - val_accuracy: 0.9545\n",
            "Epoch 2/5\n",
            "1212/1212 [==============================] - 103s 85ms/step - loss: 0.1061 - accuracy: 0.9570 - val_loss: 0.1166 - val_accuracy: 0.9551\n",
            "Epoch 3/5\n",
            "1212/1212 [==============================] - 102s 84ms/step - loss: 0.0927 - accuracy: 0.9623 - val_loss: 0.1250 - val_accuracy: 0.9527\n",
            "Epoch 4/5\n",
            "1212/1212 [==============================] - 102s 84ms/step - loss: 0.0752 - accuracy: 0.9700 - val_loss: 0.1410 - val_accuracy: 0.9494\n",
            "Epoch 5/5\n",
            "1212/1212 [==============================] - 102s 85ms/step - loss: 0.0603 - accuracy: 0.9762 - val_loss: 0.1676 - val_accuracy: 0.9488\n"
          ],
          "name": "stdout"
        },
        {
          "output_type": "execute_result",
          "data": {
            "text/plain": [
              "<tensorflow.python.keras.callbacks.History at 0x7fedd6cd15f8>"
            ]
          },
          "metadata": {
            "tags": []
          },
          "execution_count": 22
        }
      ]
    },
    {
      "cell_type": "code",
      "metadata": {
        "id": "PrJX1ddG_RPC",
        "colab_type": "code",
        "colab": {}
      },
      "source": [
        "from sklearn.metrics import classification_report"
      ],
      "execution_count": 0,
      "outputs": []
    },
    {
      "cell_type": "code",
      "metadata": {
        "id": "Tp0IKTYs_RLE",
        "colab_type": "code",
        "colab": {}
      },
      "source": [
        "preds = model.predict(X_valid).reshape(-1)"
      ],
      "execution_count": 0,
      "outputs": []
    },
    {
      "cell_type": "code",
      "metadata": {
        "id": "y0_GGub1_RHh",
        "colab_type": "code",
        "outputId": "bb6ef977-0e49-4274-9565-d7d7d8499625",
        "colab": {
          "base_uri": "https://localhost:8080/",
          "height": 170
        }
      },
      "source": [
        "print(classification_report(y_valid, (preds > 0.5).astype(int)))"
      ],
      "execution_count": 0,
      "outputs": [
        {
          "output_type": "stream",
          "text": [
            "              precision    recall  f1-score   support\n",
            "\n",
            "           0       0.97      0.98      0.97     61266\n",
            "           1       0.60      0.52      0.56      4041\n",
            "\n",
            "    accuracy                           0.95     65307\n",
            "   macro avg       0.78      0.75      0.76     65307\n",
            "weighted avg       0.95      0.95      0.95     65307\n",
            "\n"
          ],
          "name": "stdout"
        }
      ]
    },
    {
      "cell_type": "code",
      "metadata": {
        "id": "jo2yd1DmGQY8",
        "colab_type": "code",
        "colab": {}
      },
      "source": [
        "#Усреднение"
      ],
      "execution_count": 0,
      "outputs": []
    },
    {
      "cell_type": "code",
      "metadata": {
        "id": "MOLTjeLZHJv0",
        "colab_type": "code",
        "colab": {}
      },
      "source": [
        "inputs = tf.keras.layers.Input(shape=(100,))\n",
        "\n",
        "\n",
        "embeddings = tf.keras.layers.Embedding(input_dim=len(word2id), output_dim=10)(inputs)\n",
        "mean = tf.keras.layers.Lambda(lambda x: tf.keras.backend.mean(x,  axis=1))(embeddings)\n",
        "dense = tf.keras.layers.Dense(64, activation='relu')(mean)\n",
        "dense = tf.keras.layers.Dense(64, activation='relu')(mean)\n",
        "outputs = tf.keras.layers.Dense(1, activation='sigmoid')(dense)\n",
        "\n",
        "model = tf.keras.Model(inputs=inputs, outputs=outputs)\n",
        "optimizer = tf.keras.optimizers.Adam(learning_rate=0.0001)\n",
        "model.compile(optimizer=optimizer,\n",
        "              loss='mse',\n",
        "              metrics=[tf.keras.metrics.RootMeanSquaredError()])"
      ],
      "execution_count": 0,
      "outputs": []
    },
    {
      "cell_type": "code",
      "metadata": {
        "id": "DNaYZ2vCHPVF",
        "colab_type": "code",
        "outputId": "0b640bd2-db3c-4e33-d462-273685437ec2",
        "colab": {
          "base_uri": "https://localhost:8080/",
          "height": 275
        }
      },
      "source": [
        "model.fit(X_train, y_train, \n",
        "          validation_data=(X_valid, y_valid),\n",
        "          batch_size=1024,\n",
        "         epochs=5)"
      ],
      "execution_count": 0,
      "outputs": [
        {
          "output_type": "stream",
          "text": [
            "Epoch 1/5\n",
            "WARNING:tensorflow:Model was constructed with shape (None, 100) for input Tensor(\"input_107:0\", shape=(None, 100), dtype=float32), but it was called on an input with incompatible shape (None, 134).\n",
            "WARNING:tensorflow:Model was constructed with shape (None, 100) for input Tensor(\"input_107:0\", shape=(None, 100), dtype=float32), but it was called on an input with incompatible shape (None, 134).\n",
            "1210/1212 [============================>.] - ETA: 0s - loss: 0.1510 - root_mean_squared_error: 0.3887WARNING:tensorflow:Model was constructed with shape (None, 100) for input Tensor(\"input_107:0\", shape=(None, 100), dtype=float32), but it was called on an input with incompatible shape (None, 134).\n",
            "1212/1212 [==============================] - 13s 11ms/step - loss: 0.1509 - root_mean_squared_error: 0.3885 - val_loss: 0.0667 - val_root_mean_squared_error: 0.2582\n",
            "Epoch 2/5\n",
            "1212/1212 [==============================] - 13s 11ms/step - loss: 0.0598 - root_mean_squared_error: 0.2446 - val_loss: 0.0564 - val_root_mean_squared_error: 0.2376\n",
            "Epoch 3/5\n",
            "1212/1212 [==============================] - 13s 11ms/step - loss: 0.0573 - root_mean_squared_error: 0.2394 - val_loss: 0.0560 - val_root_mean_squared_error: 0.2366\n",
            "Epoch 4/5\n",
            "1212/1212 [==============================] - 14s 12ms/step - loss: 0.0570 - root_mean_squared_error: 0.2387 - val_loss: 0.0556 - val_root_mean_squared_error: 0.2358\n",
            "Epoch 5/5\n",
            "1212/1212 [==============================] - 13s 11ms/step - loss: 0.0565 - root_mean_squared_error: 0.2377 - val_loss: 0.0551 - val_root_mean_squared_error: 0.2347\n"
          ],
          "name": "stdout"
        },
        {
          "output_type": "execute_result",
          "data": {
            "text/plain": [
              "<tensorflow.python.keras.callbacks.History at 0x7fed787f84e0>"
            ]
          },
          "metadata": {
            "tags": []
          },
          "execution_count": 149
        }
      ]
    },
    {
      "cell_type": "code",
      "metadata": {
        "id": "4BTCSL2WJaNI",
        "colab_type": "code",
        "outputId": "8875db39-c868-4f65-8f33-46b09c1e3c11",
        "colab": {
          "base_uri": "https://localhost:8080/",
          "height": 54
        }
      },
      "source": [
        "preds = model.predict(X_valid).reshape(-1)"
      ],
      "execution_count": 0,
      "outputs": [
        {
          "output_type": "stream",
          "text": [
            "WARNING:tensorflow:Model was constructed with shape (None, 100) for input Tensor(\"input_107:0\", shape=(None, 100), dtype=float32), but it was called on an input with incompatible shape (None, 134).\n"
          ],
          "name": "stdout"
        }
      ]
    },
    {
      "cell_type": "code",
      "metadata": {
        "id": "7orITlkqJceQ",
        "colab_type": "code",
        "outputId": "96af4432-418a-4166-aa6d-51c89fdf2096",
        "colab": {
          "base_uri": "https://localhost:8080/",
          "height": 224
        }
      },
      "source": [
        "print(classification_report(y_valid, (preds > 0.5).astype(int)))"
      ],
      "execution_count": 0,
      "outputs": [
        {
          "output_type": "stream",
          "text": [
            "              precision    recall  f1-score   support\n",
            "\n",
            "           0       0.94      1.00      0.97     61351\n",
            "           1       0.00      0.00      0.00      3956\n",
            "\n",
            "    accuracy                           0.94     65307\n",
            "   macro avg       0.47      0.50      0.48     65307\n",
            "weighted avg       0.88      0.94      0.91     65307\n",
            "\n"
          ],
          "name": "stdout"
        },
        {
          "output_type": "stream",
          "text": [
            "/usr/local/lib/python3.6/dist-packages/sklearn/metrics/_classification.py:1272: UndefinedMetricWarning: Precision and F-score are ill-defined and being set to 0.0 in labels with no predicted samples. Use `zero_division` parameter to control this behavior.\n",
            "  _warn_prf(average, modifier, msg_start, len(result))\n"
          ],
          "name": "stderr"
        }
      ]
    },
    {
      "cell_type": "code",
      "metadata": {
        "id": "qau7B0txJf8s",
        "colab_type": "code",
        "colab": {}
      },
      "source": [
        "#сложение"
      ],
      "execution_count": 0,
      "outputs": []
    },
    {
      "cell_type": "code",
      "metadata": {
        "id": "dByvoW75KLv2",
        "colab_type": "code",
        "colab": {}
      },
      "source": [
        "inputs = tf.keras.layers.Input(shape=(100,))\n",
        "\n",
        "\n",
        "embeddings = tf.keras.layers.Embedding(input_dim=len(word2id), output_dim=10)(inputs)\n",
        "summ = tf.keras.layers.Lambda(lambda x: tf.keras.backend.sum(x,  axis=1))(embeddings)\n",
        "dense = tf.keras.layers.Dense(64, activation='relu')(summ)\n",
        "dense = tf.keras.layers.Dense(64, activation='relu')(summ)\n",
        "outputs = tf.keras.layers.Dense(1, activation='sigmoid')(dense)\n",
        "\n",
        "model = tf.keras.Model(inputs=inputs, outputs=outputs)\n",
        "optimizer = tf.keras.optimizers.Adam(learning_rate=0.0001)\n",
        "model.compile(optimizer=optimizer,\n",
        "              loss='mse',\n",
        "              metrics=[tf.keras.metrics.RootMeanSquaredError()])"
      ],
      "execution_count": 0,
      "outputs": []
    },
    {
      "cell_type": "code",
      "metadata": {
        "id": "R36y8x1TMGRn",
        "colab_type": "code",
        "outputId": "40392f61-aa79-4d5d-ad54-93292fead534",
        "colab": {
          "base_uri": "https://localhost:8080/",
          "height": 54
        }
      },
      "source": [
        "preds = model.predict(X_valid).reshape(-1)"
      ],
      "execution_count": 0,
      "outputs": [
        {
          "output_type": "stream",
          "text": [
            "WARNING:tensorflow:Model was constructed with shape (None, 100) for input Tensor(\"input_108:0\", shape=(None, 100), dtype=float32), but it was called on an input with incompatible shape (None, 134).\n"
          ],
          "name": "stdout"
        }
      ]
    },
    {
      "cell_type": "code",
      "metadata": {
        "id": "hwKxkogZMGOh",
        "colab_type": "code",
        "outputId": "980fb0a2-d187-4298-ba93-9b49ebd30869",
        "colab": {
          "base_uri": "https://localhost:8080/",
          "height": 170
        }
      },
      "source": [
        "print(classification_report(y_valid, (preds > 0.5).astype(int)))"
      ],
      "execution_count": 0,
      "outputs": [
        {
          "output_type": "stream",
          "text": [
            "              precision    recall  f1-score   support\n",
            "\n",
            "           0       1.00      0.00      0.00     61351\n",
            "           1       0.06      1.00      0.11      3956\n",
            "\n",
            "    accuracy                           0.06     65307\n",
            "   macro avg       0.53      0.50      0.06     65307\n",
            "weighted avg       0.94      0.06      0.01     65307\n",
            "\n"
          ],
          "name": "stdout"
        }
      ]
    },
    {
      "cell_type": "code",
      "metadata": {
        "id": "198K5z8aMGLO",
        "colab_type": "code",
        "colab": {}
      },
      "source": [
        ""
      ],
      "execution_count": 0,
      "outputs": []
    },
    {
      "cell_type": "code",
      "metadata": {
        "id": "tOM9fz6QMGGB",
        "colab_type": "code",
        "colab": {}
      },
      "source": [
        "# две предобученные эмбединг модели с конкатенацией"
      ],
      "execution_count": 0,
      "outputs": []
    },
    {
      "cell_type": "code",
      "metadata": {
        "id": "mrbazcsz3Rrm",
        "colab_type": "code",
        "colab": {}
      },
      "source": [
        "X_train, X_valid, y_train, y_valid = train_test_split(X, y, test_size=0.05)"
      ],
      "execution_count": 0,
      "outputs": []
    },
    {
      "cell_type": "code",
      "metadata": {
        "id": "qKpR9SgZMU1J",
        "colab_type": "code",
        "colab": {}
      },
      "source": [
        "texts = quora.question_text.apply(preprocess).tolist()"
      ],
      "execution_count": 0,
      "outputs": []
    },
    {
      "cell_type": "code",
      "metadata": {
        "id": "jNNYM7QqMd_R",
        "colab_type": "code",
        "colab": {}
      },
      "source": [
        "ft = gensim.models.FastText(texts, size=100, iter=2)"
      ],
      "execution_count": 0,
      "outputs": []
    },
    {
      "cell_type": "code",
      "metadata": {
        "id": "jEXbg2vHMl9z",
        "colab_type": "code",
        "colab": {}
      },
      "source": [
        "ft2 = gensim.models.FastText(texts, window=3,  size=100, iter=4)"
      ],
      "execution_count": 0,
      "outputs": []
    },
    {
      "cell_type": "code",
      "metadata": {
        "id": "z7Jw9piNNYmh",
        "colab_type": "code",
        "outputId": "6ffcfffe-6450-4aad-85ee-2dff464eb770",
        "colab": {
          "base_uri": "https://localhost:8080/",
          "height": 275
        }
      },
      "source": [
        "ft.most_similar('wiki')"
      ],
      "execution_count": 0,
      "outputs": [
        {
          "output_type": "stream",
          "text": [
            "/usr/local/lib/python3.6/dist-packages/ipykernel_launcher.py:1: DeprecationWarning: Call to deprecated `most_similar` (Method will be removed in 4.0.0, use self.wv.most_similar() instead).\n",
            "  \"\"\"Entry point for launching an IPython kernel.\n",
            "/usr/local/lib/python3.6/dist-packages/gensim/matutils.py:737: FutureWarning: Conversion of the second argument of issubdtype from `int` to `np.signedinteger` is deprecated. In future, it will be treated as `np.int64 == np.dtype(int).type`.\n",
            "  if np.issubdtype(vec.dtype, np.int):\n"
          ],
          "name": "stderr"
        },
        {
          "output_type": "execute_result",
          "data": {
            "text/plain": [
              "[('wiz', 0.8618590831756592),\n",
              " ('wi', 0.8361142873764038),\n",
              " ('wi-fi', 0.8300323486328125),\n",
              " ('wih', 0.8275600075721741),\n",
              " ('wig', 0.8142218589782715),\n",
              " ('wix', 0.7989658117294312),\n",
              " ('winfrey', 0.7854574918746948),\n",
              " ('wiil', 0.7844014167785645),\n",
              " ('wimp', 0.7825563549995422),\n",
              " ('windy', 0.7776259183883667)]"
            ]
          },
          "metadata": {
            "tags": []
          },
          "execution_count": 42
        }
      ]
    },
    {
      "cell_type": "code",
      "metadata": {
        "id": "YlNHgSMdPML3",
        "colab_type": "code",
        "outputId": "fad14f14-ce75-49e6-f371-6feec6ee1227",
        "colab": {
          "base_uri": "https://localhost:8080/",
          "height": 122
        }
      },
      "source": [
        "weights = np.zeros((len(word2id), 100))\n",
        "\n",
        "for word, i in word2id.items():\n",
        "    if word == 'PAD':\n",
        "        continue\n",
        "    if word == 'UNK':\n",
        "        weights[i] = ft['какоераоваыпаопрвлоа']   \n",
        "    try:\n",
        "        weights[i] = ft[word]       \n",
        "    except KeyError:\n",
        "        weights[i] = ft['опрагпллирао']"
      ],
      "execution_count": 0,
      "outputs": [
        {
          "output_type": "stream",
          "text": [
            "/usr/local/lib/python3.6/dist-packages/ipykernel_launcher.py:10: DeprecationWarning: Call to deprecated `__getitem__` (Method will be removed in 4.0.0, use self.wv.__getitem__() instead).\n",
            "  # Remove the CWD from sys.path while we load stuff.\n",
            "/usr/local/lib/python3.6/dist-packages/ipykernel_launcher.py:13: DeprecationWarning: Call to deprecated `__getitem__` (Method will be removed in 4.0.0, use self.wv.__getitem__() instead).\n",
            "  del sys.path[0]\n",
            "/usr/local/lib/python3.6/dist-packages/ipykernel_launcher.py:18: DeprecationWarning: Call to deprecated `__getitem__` (Method will be removed in 4.0.0, use self.wv.__getitem__() instead).\n"
          ],
          "name": "stderr"
        }
      ]
    },
    {
      "cell_type": "code",
      "metadata": {
        "id": "FGCk6NgSPVJL",
        "colab_type": "code",
        "outputId": "4b1998c1-fe87-4953-d312-35896014fbdf",
        "colab": {
          "base_uri": "https://localhost:8080/",
          "height": 122
        }
      },
      "source": [
        "weights2 = np.zeros((len(word2id), 100))\n",
        "\n",
        "for word, i in word2id.items():\n",
        "    if word == 'PAD':\n",
        "        continue\n",
        "    \n",
        "    if word == 'UNK':\n",
        "        weights2[i] = ft2['какоераоваыпаопрвлоа']\n",
        "    \n",
        "    try:\n",
        "        weights2[i] = ft2[word]\n",
        "    \n",
        "    \n",
        "    except KeyError:\n",
        "        weights[i] = ft2['опрагпллирао']"
      ],
      "execution_count": 0,
      "outputs": [
        {
          "output_type": "stream",
          "text": [
            "/usr/local/lib/python3.6/dist-packages/ipykernel_launcher.py:10: DeprecationWarning: Call to deprecated `__getitem__` (Method will be removed in 4.0.0, use self.wv.__getitem__() instead).\n",
            "  # Remove the CWD from sys.path while we load stuff.\n",
            "/usr/local/lib/python3.6/dist-packages/ipykernel_launcher.py:13: DeprecationWarning: Call to deprecated `__getitem__` (Method will be removed in 4.0.0, use self.wv.__getitem__() instead).\n",
            "  del sys.path[0]\n",
            "/usr/local/lib/python3.6/dist-packages/ipykernel_launcher.py:18: DeprecationWarning: Call to deprecated `__getitem__` (Method will be removed in 4.0.0, use self.wv.__getitem__() instead).\n"
          ],
          "name": "stderr"
        }
      ]
    },
    {
      "cell_type": "code",
      "metadata": {
        "id": "iq_8_jGiS3iO",
        "colab_type": "code",
        "colab": {}
      },
      "source": [
        "from tensorflow.keras import layers"
      ],
      "execution_count": 0,
      "outputs": []
    },
    {
      "cell_type": "code",
      "metadata": {
        "id": "0rxBm8Vu1P6W",
        "colab_type": "code",
        "colab": {}
      },
      "source": [
        "\n",
        "inputs = tf.keras.layers.Input(shape=(100,))\n",
        "\n",
        "\n",
        "embeddings = tf.keras.layers.Embedding(input_dim=len(word2id), output_dim=100, trainable=False,\n",
        "                                      weights=[weights])(inputs, )\n",
        "mean = tf.keras.layers.Lambda(lambda x: tf.keras.backend.mean(x,  axis=1))(embeddings)\n",
        "dense = tf.keras.layers.Dense(64, activation='relu')(mean)\n",
        "dense = tf.keras.layers.Dense(64, activation='relu')(mean)\n",
        "outputs = tf.keras.layers.Dense(1, activation='linear')(dense)\n",
        "\n",
        "embeddings2 = tf.keras.layers.Embedding(input_dim=len(word2id), output_dim=100, trainable=False,\n",
        "                                      weights=[weights2])(inputs, )\n",
        "mean2 = tf.keras.layers.Lambda(lambda x: tf.keras.backend.mean(x,  axis=1))(embeddings)\n",
        "dense2 = tf.keras.layers.Dense(64, activation='relu')(mean)\n",
        "dense2 = tf.keras.layers.Dense(64, activation='relu')(mean)\n",
        "outputs2 = tf.keras.layers.Dense(1, activation='linear')(dense)\n",
        "\n",
        "added = layers.Concatenate()([outputs, outputs2 ])\n",
        "out = layers.Dense(64)(added)\n",
        "\n",
        "\n",
        "model = tf.keras.Model(inputs=inputs, outputs=outputs)\n",
        "optimizer = tf.keras.optimizers.Adam(learning_rate=0.0001)\n",
        "model.compile(optimizer=optimizer,\n",
        "              loss='mse',\n",
        "              metrics=[tf.keras.metrics.RootMeanSquaredError()])"
      ],
      "execution_count": 0,
      "outputs": []
    },
    {
      "cell_type": "code",
      "metadata": {
        "id": "lhfvLbBvh6DZ",
        "colab_type": "code",
        "outputId": "ef2b5577-bcb3-4c83-dc4d-e3732404d08a",
        "colab": {
          "base_uri": "https://localhost:8080/",
          "height": 275
        }
      },
      "source": [
        "model.fit(X_train, y_train, \n",
        "          validation_data=(X_valid, y_valid),\n",
        "          batch_size=1024,\n",
        "         epochs=5)"
      ],
      "execution_count": 0,
      "outputs": [
        {
          "output_type": "stream",
          "text": [
            "Epoch 1/5\n",
            "WARNING:tensorflow:Model was constructed with shape (None, 100) for input Tensor(\"input_106:0\", shape=(None, 100), dtype=float32), but it was called on an input with incompatible shape (None, 134).\n",
            "WARNING:tensorflow:Model was constructed with shape (None, 100) for input Tensor(\"input_106:0\", shape=(None, 100), dtype=float32), but it was called on an input with incompatible shape (None, 134).\n",
            "1212/1212 [==============================] - ETA: 0s - loss: 0.0502 - root_mean_squared_error: 0.2241WARNING:tensorflow:Model was constructed with shape (None, 100) for input Tensor(\"input_106:0\", shape=(None, 100), dtype=float32), but it was called on an input with incompatible shape (None, 134).\n",
            "1212/1212 [==============================] - 13s 11ms/step - loss: 0.0502 - root_mean_squared_error: 0.2241 - val_loss: 0.0439 - val_root_mean_squared_error: 0.2096\n",
            "Epoch 2/5\n",
            "1212/1212 [==============================] - 13s 11ms/step - loss: 0.0436 - root_mean_squared_error: 0.2088 - val_loss: 0.0422 - val_root_mean_squared_error: 0.2054\n",
            "Epoch 3/5\n",
            "1212/1212 [==============================] - 13s 11ms/step - loss: 0.0424 - root_mean_squared_error: 0.2059 - val_loss: 0.0414 - val_root_mean_squared_error: 0.2034\n",
            "Epoch 4/5\n",
            "1212/1212 [==============================] - 13s 11ms/step - loss: 0.0418 - root_mean_squared_error: 0.2044 - val_loss: 0.0409 - val_root_mean_squared_error: 0.2023\n",
            "Epoch 5/5\n",
            "1212/1212 [==============================] - 13s 11ms/step - loss: 0.0414 - root_mean_squared_error: 0.2034 - val_loss: 0.0406 - val_root_mean_squared_error: 0.2014\n"
          ],
          "name": "stdout"
        },
        {
          "output_type": "execute_result",
          "data": {
            "text/plain": [
              "<tensorflow.python.keras.callbacks.History at 0x7fed791c5208>"
            ]
          },
          "metadata": {
            "tags": []
          },
          "execution_count": 146
        }
      ]
    },
    {
      "cell_type": "code",
      "metadata": {
        "id": "xWsDQ-jkgqOq",
        "colab_type": "code",
        "outputId": "b047f8a1-ccd9-47a5-dedf-334a0578aed0",
        "colab": {
          "base_uri": "https://localhost:8080/",
          "height": 207
        }
      },
      "source": [
        "preds = model.predict(X_valid).reshape(-1)\n",
        "print(classification_report(y_valid, (preds > 0.5).astype(int)))"
      ],
      "execution_count": 0,
      "outputs": [
        {
          "output_type": "stream",
          "text": [
            "WARNING:tensorflow:Model was constructed with shape (None, 100) for input Tensor(\"input_106:0\", shape=(None, 100), dtype=float32), but it was called on an input with incompatible shape (None, 134).\n",
            "              precision    recall  f1-score   support\n",
            "\n",
            "           0       0.95      0.99      0.97     61351\n",
            "           1       0.69      0.20      0.31      3956\n",
            "\n",
            "    accuracy                           0.95     65307\n",
            "   macro avg       0.82      0.60      0.64     65307\n",
            "weighted avg       0.94      0.95      0.93     65307\n",
            "\n"
          ],
          "name": "stdout"
        }
      ]
    },
    {
      "cell_type": "code",
      "metadata": {
        "id": "Rz1We8-QgzMY",
        "colab_type": "code",
        "colab": {}
      },
      "source": [
        ""
      ],
      "execution_count": 0,
      "outputs": []
    }
  ]
}