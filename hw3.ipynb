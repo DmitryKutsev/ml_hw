{
  "nbformat": 4,
  "nbformat_minor": 0,
  "metadata": {
    "colab": {
      "name": "Untitled27.ipynb",
      "provenance": [],
      "authorship_tag": "ABX9TyOAu3H5tjIRLZPKE4SdEZzK",
      "include_colab_link": true
    },
    "kernelspec": {
      "name": "python3",
      "display_name": "Python 3"
    }
  },
  "cells": [
    {
      "cell_type": "markdown",
      "metadata": {
        "id": "view-in-github",
        "colab_type": "text"
      },
      "source": [
        "<a href=\"https://colab.research.google.com/github/DmitryKutsev/ml_hw/blob/master/hw3.ipynb\" target=\"_parent\"><img src=\"https://colab.research.google.com/assets/colab-badge.svg\" alt=\"Open In Colab\"/></a>"
      ]
    },
    {
      "cell_type": "code",
      "metadata": {
        "id": "2Ko86A2TeHnK",
        "colab_type": "code",
        "outputId": "443aa819-67cf-4f4b-9751-caefbd15c180",
        "colab": {
          "base_uri": "https://localhost:8080/",
          "height": 204
        }
      },
      "source": [
        "!wget http://qwone.com/~jason/20Newsgroups/20news-19997.tar.gz"
      ],
      "execution_count": 1,
      "outputs": [
        {
          "output_type": "stream",
          "text": [
            "--2020-02-29 16:44:00--  http://qwone.com/~jason/20Newsgroups/20news-19997.tar.gz\n",
            "Resolving qwone.com (qwone.com)... 108.20.201.166\n",
            "Connecting to qwone.com (qwone.com)|108.20.201.166|:80... connected.\n",
            "HTTP request sent, awaiting response... 200 OK\n",
            "Length: 17332201 (17M) [application/x-gzip]\n",
            "Saving to: ‘20news-19997.tar.gz’\n",
            "\n",
            "20news-19997.tar.gz 100%[===================>]  16.53M  6.84MB/s    in 2.4s    \n",
            "\n",
            "2020-02-29 16:44:02 (6.84 MB/s) - ‘20news-19997.tar.gz’ saved [17332201/17332201]\n",
            "\n"
          ],
          "name": "stdout"
        }
      ]
    },
    {
      "cell_type": "code",
      "metadata": {
        "id": "jMfk1dadf-ZV",
        "colab_type": "code",
        "colab": {}
      },
      "source": [
        "!gunzip 20news-19997.tar.gz"
      ],
      "execution_count": 0,
      "outputs": []
    },
    {
      "cell_type": "code",
      "metadata": {
        "id": "rT2v4bAjgGz7",
        "colab_type": "code",
        "outputId": "70e08cf1-5b34-4d20-85cc-4475258a84ab",
        "colab": {
          "base_uri": "https://localhost:8080/",
          "height": 34
        }
      },
      "source": [
        "!ls"
      ],
      "execution_count": 2,
      "outputs": [
        {
          "output_type": "stream",
          "text": [
            "20news-19997.tar.gz  sample_data\n"
          ],
          "name": "stdout"
        }
      ]
    },
    {
      "cell_type": "code",
      "metadata": {
        "id": "WxzD8P7IhAHF",
        "colab_type": "code",
        "colab": {}
      },
      "source": [
        "from sklearn.feature_extraction.text import CountVectorizer\n",
        "from sklearn.datasets import fetch_20newsgroups\n",
        "count_vect = CountVectorizer()\n",
        "from sklearn.model_selection import train_test_split, StratifiedKFold, KFold, cross_val_score, GridSearchCV, RepeatedStratifiedKFold\n",
        "import pandas as pd\n",
        "import matplotlib.pyplot as plt\n",
        "from sklearn.svm import LinearSVC\n",
        "import numpy as np\n",
        "from sklearn.metrics import accuracy_score, roc_auc_score"
      ],
      "execution_count": 0,
      "outputs": []
    },
    {
      "cell_type": "code",
      "metadata": {
        "id": "RbOAymPhiRrv",
        "colab_type": "code",
        "colab": {
          "base_uri": "https://localhost:8080/",
          "height": 51
        },
        "outputId": "0086af86-390c-4655-c51e-344de2e55ed9"
      },
      "source": [
        "categories = ['alt.atheism', 'soc.religion.christian', 'comp.graphics', 'sci.med']\n",
        "twenty_train = fetch_20newsgroups(subset='train', categories=categories, shuffle=True, random_state=42)"
      ],
      "execution_count": 4,
      "outputs": [
        {
          "output_type": "stream",
          "text": [
            "Downloading 20news dataset. This may take a few minutes.\n",
            "Downloading dataset from https://ndownloader.figshare.com/files/5975967 (14 MB)\n"
          ],
          "name": "stderr"
        }
      ]
    },
    {
      "cell_type": "code",
      "metadata": {
        "id": "YW1c3YKJjDuv",
        "colab_type": "code",
        "outputId": "9eda5ed6-0c71-4de0-fc6e-feb9f09e347f",
        "colab": {
          "base_uri": "https://localhost:8080/",
          "height": 51
        }
      },
      "source": [
        "from sklearn.feature_extraction.text import CountVectorizer\n",
        "count_vect = CountVectorizer()\n",
        "X_train_dict = count_vect.fit(twenty_train.data) \n",
        "X_train_counts = X_train_dict.transform(twenty_train.data) \n",
        "X_train_counts.shape\n",
        "X_train_counts"
      ],
      "execution_count": 60,
      "outputs": [
        {
          "output_type": "execute_result",
          "data": {
            "text/plain": [
              "<2257x35788 sparse matrix of type '<class 'numpy.int64'>'\n",
              "\twith 365886 stored elements in Compressed Sparse Row format>"
            ]
          },
          "metadata": {
            "tags": []
          },
          "execution_count": 60
        }
      ]
    },
    {
      "cell_type": "code",
      "metadata": {
        "id": "0f7-ZY3ajK8v",
        "colab_type": "code",
        "outputId": "c86502c9-892a-467c-bda9-8f8494fed88e",
        "colab": {
          "base_uri": "https://localhost:8080/",
          "height": 34
        }
      },
      "source": [
        "from sklearn.metrics import *\n",
        "twenty_test = fetch_20newsgroups(subset='test', categories=categories, \n",
        "                                 shuffle=True, random_state=0)\n",
        "X_test = count_vect.transform(twenty_test.data) \n",
        "print(X_test.shape)\n"
      ],
      "execution_count": 62,
      "outputs": [
        {
          "output_type": "stream",
          "text": [
            "(1502, 35788)\n"
          ],
          "name": "stdout"
        }
      ]
    },
    {
      "cell_type": "code",
      "metadata": {
        "id": "pomS1hFrDaOu",
        "colab_type": "code",
        "colab": {
          "base_uri": "https://localhost:8080/",
          "height": 51
        },
        "outputId": "c2d082a3-396c-4182-e4bf-3fb3577d6288"
      },
      "source": [
        "features = pd.DataFrame(X_train_counts)\n",
        "answers = pd.DataFrame(twenty_train.target)\n",
        "print(len(features))\n",
        "len(answers)"
      ],
      "execution_count": 64,
      "outputs": [
        {
          "output_type": "stream",
          "text": [
            "2257\n"
          ],
          "name": "stdout"
        },
        {
          "output_type": "execute_result",
          "data": {
            "text/plain": [
              "2257"
            ]
          },
          "metadata": {
            "tags": []
          },
          "execution_count": 64
        }
      ]
    },
    {
      "cell_type": "code",
      "metadata": {
        "id": "YVf3u_8anpUN",
        "colab_type": "code",
        "colab": {}
      },
      "source": [
        "repeated_folds = RepeatedStratifiedKFold(n_splits=n_fold, n_repeats=20, random_state=0)"
      ],
      "execution_count": 0,
      "outputs": []
    },
    {
      "cell_type": "code",
      "metadata": {
        "id": "4-AN7nxfgZVd",
        "colab_type": "code",
        "colab": {
          "base_uri": "https://localhost:8080/",
          "height": 493
        },
        "outputId": "55739bda-eeef-43dc-bd2f-7bb5729c1ad0"
      },
      "source": [
        "y = twenty_train.target\n",
        "oof = np.zeros(X_train_counts.shape[0])\n",
        "prediction = np.zeros(X_test.shape[0])\n",
        "valid_scores = []\n",
        "feature_importance = pd.DataFrame()\n",
        "for fold_n, (train_index, valid_index) in enumerate(folds.split(X_train_counts, y)):\n",
        "    X_train, X_valid = X_train_counts[train_index], X_train_counts[valid_index]\n",
        "    y_train, y_valid = y[train_index], y[valid_index]\n",
        "      \n",
        "\n",
        "    chosen_lr.fit(X_train, y_train)      \n",
        "    y_pred_test = chosen_lr.predict_proba(X_test)[:, 1]\n",
        "    y_pred_valid = chosen_lr.predict_proba(X_valid)[:, 1]\n",
        "    print(y_valid)\n",
        "    valid_score = roc_auc_score(np.array(y_valid), y_pred_valid, multi_class='ovo', average='weighted', sample_weight='array-like')\n",
        "    print(valid_score)\n",
        "\n",
        "\n",
        "    # oof[valid_index] = y_pred_valid.reshape(-1,)\n",
        "    # valid_scores.append(valid_score)\n",
        "    # prediction += y_pred_test  \n",
        "\n",
        "# prediction /= (fold_n + 1)\n",
        "# print(prediction)\n",
        "# test_score = roc_auc_score(y_test, prediction, multi_class='ovo', average='micro')\n",
        "# print('Cross Validation mean score: {0:.4f}, std: {1:.4f}.'.format(np.mean(valid_scores), np.std(valid_scores)))\n",
        "# print(\"Score on test data: {0:.4f}\".format(test_score))\n",
        "    \n",
        "\n",
        "    \n",
        "\n",
        "    #return oof, prediction, valid_scores"
      ],
      "execution_count": 270,
      "outputs": [
        {
          "output_type": "stream",
          "text": [
            "[3 1 3 1 1 0 1 3 1 1 1 2 3 2 3 2 2 2 1 1 3 1 2 2 0 3 1 2 0 3 3 0 1 1 3 1 1\n",
            " 3 1 2 2 1 0 1 3 3 3 2 3 0 0 2 0 3 1 1 1 2 0 2 3 3 0 3 0 0 1 1 2 1 1 3 0 2\n",
            " 0 3 0 2 1 2 2 1 2 2 3 1 1 1 2 1 2 3 1 1 2 1 2 1 0 3 1 2 1 1 0 3 1 0 3 3 1\n",
            " 2 1 3 2 2 1 2 0 1 1 2 3 2 2 3 2 2 3 3 2 1 3 2 2 1 0 3 2 3 0 1 3 2 0 3 2 3\n",
            " 2 1 0 1 0 0 0 0 1 1 3 3 3 1 1 3 2 0 1 2 0 1 2 2 2 3 0 2 3 1 0 1 2 0 1 0 1\n",
            " 1 1 3 3 1 3 3 0 0 0 2 1 0 3 2 3 1 2 1 0 1 1 1 1 3 1 2 0 3 1 2 0 3 2 2 3 3\n",
            " 1 2 2 2]\n"
          ],
          "name": "stdout"
        },
        {
          "output_type": "error",
          "ename": "AxisError",
          "evalue": "ignored",
          "traceback": [
            "\u001b[0;31m---------------------------------------------------------------------------\u001b[0m",
            "\u001b[0;31mAxisError\u001b[0m                                 Traceback (most recent call last)",
            "\u001b[0;32m<ipython-input-270-9e9cedca1646>\u001b[0m in \u001b[0;36m<module>\u001b[0;34m()\u001b[0m\n\u001b[1;32m     13\u001b[0m     \u001b[0my_pred_valid\u001b[0m \u001b[0;34m=\u001b[0m \u001b[0mchosen_lr\u001b[0m\u001b[0;34m.\u001b[0m\u001b[0mpredict_proba\u001b[0m\u001b[0;34m(\u001b[0m\u001b[0mX_valid\u001b[0m\u001b[0;34m)\u001b[0m\u001b[0;34m[\u001b[0m\u001b[0;34m:\u001b[0m\u001b[0;34m,\u001b[0m \u001b[0;36m1\u001b[0m\u001b[0;34m]\u001b[0m\u001b[0;34m\u001b[0m\u001b[0;34m\u001b[0m\u001b[0m\n\u001b[1;32m     14\u001b[0m     \u001b[0mprint\u001b[0m\u001b[0;34m(\u001b[0m\u001b[0my_valid\u001b[0m\u001b[0;34m)\u001b[0m\u001b[0;34m\u001b[0m\u001b[0;34m\u001b[0m\u001b[0m\n\u001b[0;32m---> 15\u001b[0;31m     \u001b[0mvalid_score\u001b[0m \u001b[0;34m=\u001b[0m \u001b[0mroc_auc_score\u001b[0m\u001b[0;34m(\u001b[0m\u001b[0mnp\u001b[0m\u001b[0;34m.\u001b[0m\u001b[0marray\u001b[0m\u001b[0;34m(\u001b[0m\u001b[0my_valid\u001b[0m\u001b[0;34m)\u001b[0m\u001b[0;34m,\u001b[0m \u001b[0my_pred_valid\u001b[0m\u001b[0;34m,\u001b[0m \u001b[0mmulti_class\u001b[0m\u001b[0;34m=\u001b[0m\u001b[0;34m'ovo'\u001b[0m\u001b[0;34m,\u001b[0m \u001b[0maverage\u001b[0m\u001b[0;34m=\u001b[0m\u001b[0;34m'weighted'\u001b[0m\u001b[0;34m,\u001b[0m \u001b[0msample_weight\u001b[0m\u001b[0;34m=\u001b[0m\u001b[0;34m'array-like'\u001b[0m\u001b[0;34m)\u001b[0m\u001b[0;34m\u001b[0m\u001b[0;34m\u001b[0m\u001b[0m\n\u001b[0m\u001b[1;32m     16\u001b[0m     \u001b[0mprint\u001b[0m\u001b[0;34m(\u001b[0m\u001b[0mvalid_score\u001b[0m\u001b[0;34m)\u001b[0m\u001b[0;34m\u001b[0m\u001b[0;34m\u001b[0m\u001b[0m\n\u001b[1;32m     17\u001b[0m \u001b[0;34m\u001b[0m\u001b[0m\n",
            "\u001b[0;32m/usr/local/lib/python3.6/dist-packages/sklearn/metrics/_ranking.py\u001b[0m in \u001b[0;36mroc_auc_score\u001b[0;34m(y_true, y_score, average, sample_weight, max_fpr, multi_class, labels)\u001b[0m\n\u001b[1;32m    381\u001b[0m             \u001b[0;32mraise\u001b[0m \u001b[0mValueError\u001b[0m\u001b[0;34m(\u001b[0m\u001b[0;34m\"multi_class must be in ('ovo', 'ovr')\"\u001b[0m\u001b[0;34m)\u001b[0m\u001b[0;34m\u001b[0m\u001b[0;34m\u001b[0m\u001b[0m\n\u001b[1;32m    382\u001b[0m         return _multiclass_roc_auc_score(y_true, y_score, labels,\n\u001b[0;32m--> 383\u001b[0;31m                                          multi_class, average, sample_weight)\n\u001b[0m\u001b[1;32m    384\u001b[0m     \u001b[0;32melif\u001b[0m \u001b[0my_type\u001b[0m \u001b[0;34m==\u001b[0m \u001b[0;34m\"binary\"\u001b[0m\u001b[0;34m:\u001b[0m\u001b[0;34m\u001b[0m\u001b[0;34m\u001b[0m\u001b[0m\n\u001b[1;32m    385\u001b[0m         \u001b[0mlabels\u001b[0m \u001b[0;34m=\u001b[0m \u001b[0mnp\u001b[0m\u001b[0;34m.\u001b[0m\u001b[0munique\u001b[0m\u001b[0;34m(\u001b[0m\u001b[0my_true\u001b[0m\u001b[0;34m)\u001b[0m\u001b[0;34m\u001b[0m\u001b[0;34m\u001b[0m\u001b[0m\n",
            "\u001b[0;32m/usr/local/lib/python3.6/dist-packages/sklearn/metrics/_ranking.py\u001b[0m in \u001b[0;36m_multiclass_roc_auc_score\u001b[0;34m(y_true, y_score, labels, multi_class, average, sample_weight)\u001b[0m\n\u001b[1;32m    438\u001b[0m     \"\"\"\n\u001b[1;32m    439\u001b[0m     \u001b[0;31m# validation of the input y_score\u001b[0m\u001b[0;34m\u001b[0m\u001b[0;34m\u001b[0m\u001b[0;34m\u001b[0m\u001b[0m\n\u001b[0;32m--> 440\u001b[0;31m     \u001b[0;32mif\u001b[0m \u001b[0;32mnot\u001b[0m \u001b[0mnp\u001b[0m\u001b[0;34m.\u001b[0m\u001b[0mallclose\u001b[0m\u001b[0;34m(\u001b[0m\u001b[0;36m1\u001b[0m\u001b[0;34m,\u001b[0m \u001b[0my_score\u001b[0m\u001b[0;34m.\u001b[0m\u001b[0msum\u001b[0m\u001b[0;34m(\u001b[0m\u001b[0maxis\u001b[0m\u001b[0;34m=\u001b[0m\u001b[0;36m1\u001b[0m\u001b[0;34m)\u001b[0m\u001b[0;34m)\u001b[0m\u001b[0;34m:\u001b[0m\u001b[0;34m\u001b[0m\u001b[0;34m\u001b[0m\u001b[0m\n\u001b[0m\u001b[1;32m    441\u001b[0m         raise ValueError(\n\u001b[1;32m    442\u001b[0m             \u001b[0;34m\"Target scores need to be probabilities for multiclass \"\u001b[0m\u001b[0;34m\u001b[0m\u001b[0;34m\u001b[0m\u001b[0m\n",
            "\u001b[0;32m/usr/local/lib/python3.6/dist-packages/numpy/core/_methods.py\u001b[0m in \u001b[0;36m_sum\u001b[0;34m(a, axis, dtype, out, keepdims, initial, where)\u001b[0m\n\u001b[1;32m     36\u001b[0m def _sum(a, axis=None, dtype=None, out=None, keepdims=False,\n\u001b[1;32m     37\u001b[0m          initial=_NoValue, where=True):\n\u001b[0;32m---> 38\u001b[0;31m     \u001b[0;32mreturn\u001b[0m \u001b[0mumr_sum\u001b[0m\u001b[0;34m(\u001b[0m\u001b[0ma\u001b[0m\u001b[0;34m,\u001b[0m \u001b[0maxis\u001b[0m\u001b[0;34m,\u001b[0m \u001b[0mdtype\u001b[0m\u001b[0;34m,\u001b[0m \u001b[0mout\u001b[0m\u001b[0;34m,\u001b[0m \u001b[0mkeepdims\u001b[0m\u001b[0;34m,\u001b[0m \u001b[0minitial\u001b[0m\u001b[0;34m,\u001b[0m \u001b[0mwhere\u001b[0m\u001b[0;34m)\u001b[0m\u001b[0;34m\u001b[0m\u001b[0;34m\u001b[0m\u001b[0m\n\u001b[0m\u001b[1;32m     39\u001b[0m \u001b[0;34m\u001b[0m\u001b[0m\n\u001b[1;32m     40\u001b[0m def _prod(a, axis=None, dtype=None, out=None, keepdims=False,\n",
            "\u001b[0;31mAxisError\u001b[0m: axis 1 is out of bounds for array of dimension 1"
          ]
        }
      ]
    },
    {
      "cell_type": "code",
      "metadata": {
        "id": "_kIarzIJmGkd",
        "colab_type": "code",
        "colab": {
          "base_uri": "https://localhost:8080/",
          "height": 326
        },
        "outputId": "eb6e8b51-e9e6-467e-9908-933e6f7c893d"
      },
      "source": [
        "cv_train_model(X_train_counts, twenty_train.target, X_test,\\\n",
        "                                               twenty_test.target,  model=chosen_lr,  folds=repeated_folds)"
      ],
      "execution_count": 250,
      "outputs": [
        {
          "output_type": "error",
          "ename": "AxisError",
          "evalue": "ignored",
          "traceback": [
            "\u001b[0;31m---------------------------------------------------------------------------\u001b[0m",
            "\u001b[0;31mAxisError\u001b[0m                                 Traceback (most recent call last)",
            "\u001b[0;32m<ipython-input-250-5614507b3eb5>\u001b[0m in \u001b[0;36m<module>\u001b[0;34m()\u001b[0m\n\u001b[0;32m----> 1\u001b[0;31m \u001b[0mcv_train_model\u001b[0m\u001b[0;34m(\u001b[0m\u001b[0mX_train_counts\u001b[0m\u001b[0;34m,\u001b[0m \u001b[0mtwenty_train\u001b[0m\u001b[0;34m.\u001b[0m\u001b[0mtarget\u001b[0m\u001b[0;34m,\u001b[0m \u001b[0mX_test\u001b[0m\u001b[0;34m,\u001b[0m                                               \u001b[0mtwenty_test\u001b[0m\u001b[0;34m.\u001b[0m\u001b[0mtarget\u001b[0m\u001b[0;34m,\u001b[0m  \u001b[0mmodel\u001b[0m\u001b[0;34m=\u001b[0m\u001b[0mchosen_lr\u001b[0m\u001b[0;34m,\u001b[0m  \u001b[0mfolds\u001b[0m\u001b[0;34m=\u001b[0m\u001b[0mrepeated_folds\u001b[0m\u001b[0;34m)\u001b[0m\u001b[0;34m\u001b[0m\u001b[0;34m\u001b[0m\u001b[0m\n\u001b[0m",
            "\u001b[0;32m<ipython-input-249-350e251341b3>\u001b[0m in \u001b[0;36mcv_train_model\u001b[0;34m(X, y, X_test, y_test, folds, plot_feature_importance, model)\u001b[0m\n\u001b[1;32m     12\u001b[0m         \u001b[0my_pred_test\u001b[0m \u001b[0;34m=\u001b[0m \u001b[0mmodel\u001b[0m\u001b[0;34m.\u001b[0m\u001b[0mpredict_proba\u001b[0m\u001b[0;34m(\u001b[0m\u001b[0mX_test\u001b[0m\u001b[0;34m)\u001b[0m\u001b[0;34m[\u001b[0m\u001b[0;34m:\u001b[0m\u001b[0;34m,\u001b[0m \u001b[0;36m1\u001b[0m\u001b[0;34m]\u001b[0m\u001b[0;34m\u001b[0m\u001b[0;34m\u001b[0m\u001b[0m\n\u001b[1;32m     13\u001b[0m         \u001b[0my_pred_valid\u001b[0m \u001b[0;34m=\u001b[0m \u001b[0mmodel\u001b[0m\u001b[0;34m.\u001b[0m\u001b[0mpredict_proba\u001b[0m\u001b[0;34m(\u001b[0m\u001b[0mX_valid\u001b[0m\u001b[0;34m)\u001b[0m\u001b[0;34m[\u001b[0m\u001b[0;34m:\u001b[0m\u001b[0;34m,\u001b[0m \u001b[0;36m1\u001b[0m\u001b[0;34m]\u001b[0m\u001b[0;34m\u001b[0m\u001b[0;34m\u001b[0m\u001b[0m\n\u001b[0;32m---> 14\u001b[0;31m         \u001b[0mvalid_score\u001b[0m \u001b[0;34m=\u001b[0m \u001b[0mroc_auc_score\u001b[0m\u001b[0;34m(\u001b[0m\u001b[0my_valid\u001b[0m\u001b[0;34m,\u001b[0m \u001b[0my_pred_valid\u001b[0m\u001b[0;34m,\u001b[0m \u001b[0mmulti_class\u001b[0m\u001b[0;34m=\u001b[0m\u001b[0;34m'ovo'\u001b[0m\u001b[0;34m)\u001b[0m\u001b[0;34m\u001b[0m\u001b[0;34m\u001b[0m\u001b[0m\n\u001b[0m\u001b[1;32m     15\u001b[0m \u001b[0;34m\u001b[0m\u001b[0m\n\u001b[1;32m     16\u001b[0m         \u001b[0moof\u001b[0m\u001b[0;34m[\u001b[0m\u001b[0mvalid_index\u001b[0m\u001b[0;34m]\u001b[0m \u001b[0;34m=\u001b[0m \u001b[0my_pred_valid\u001b[0m\u001b[0;34m\u001b[0m\u001b[0;34m\u001b[0m\u001b[0m\n",
            "\u001b[0;32m/usr/local/lib/python3.6/dist-packages/sklearn/metrics/_ranking.py\u001b[0m in \u001b[0;36mroc_auc_score\u001b[0;34m(y_true, y_score, average, sample_weight, max_fpr, multi_class, labels)\u001b[0m\n\u001b[1;32m    381\u001b[0m             \u001b[0;32mraise\u001b[0m \u001b[0mValueError\u001b[0m\u001b[0;34m(\u001b[0m\u001b[0;34m\"multi_class must be in ('ovo', 'ovr')\"\u001b[0m\u001b[0;34m)\u001b[0m\u001b[0;34m\u001b[0m\u001b[0;34m\u001b[0m\u001b[0m\n\u001b[1;32m    382\u001b[0m         return _multiclass_roc_auc_score(y_true, y_score, labels,\n\u001b[0;32m--> 383\u001b[0;31m                                          multi_class, average, sample_weight)\n\u001b[0m\u001b[1;32m    384\u001b[0m     \u001b[0;32melif\u001b[0m \u001b[0my_type\u001b[0m \u001b[0;34m==\u001b[0m \u001b[0;34m\"binary\"\u001b[0m\u001b[0;34m:\u001b[0m\u001b[0;34m\u001b[0m\u001b[0;34m\u001b[0m\u001b[0m\n\u001b[1;32m    385\u001b[0m         \u001b[0mlabels\u001b[0m \u001b[0;34m=\u001b[0m \u001b[0mnp\u001b[0m\u001b[0;34m.\u001b[0m\u001b[0munique\u001b[0m\u001b[0;34m(\u001b[0m\u001b[0my_true\u001b[0m\u001b[0;34m)\u001b[0m\u001b[0;34m\u001b[0m\u001b[0;34m\u001b[0m\u001b[0m\n",
            "\u001b[0;32m/usr/local/lib/python3.6/dist-packages/sklearn/metrics/_ranking.py\u001b[0m in \u001b[0;36m_multiclass_roc_auc_score\u001b[0;34m(y_true, y_score, labels, multi_class, average, sample_weight)\u001b[0m\n\u001b[1;32m    438\u001b[0m     \"\"\"\n\u001b[1;32m    439\u001b[0m     \u001b[0;31m# validation of the input y_score\u001b[0m\u001b[0;34m\u001b[0m\u001b[0;34m\u001b[0m\u001b[0;34m\u001b[0m\u001b[0m\n\u001b[0;32m--> 440\u001b[0;31m     \u001b[0;32mif\u001b[0m \u001b[0;32mnot\u001b[0m \u001b[0mnp\u001b[0m\u001b[0;34m.\u001b[0m\u001b[0mallclose\u001b[0m\u001b[0;34m(\u001b[0m\u001b[0;36m1\u001b[0m\u001b[0;34m,\u001b[0m \u001b[0my_score\u001b[0m\u001b[0;34m.\u001b[0m\u001b[0msum\u001b[0m\u001b[0;34m(\u001b[0m\u001b[0maxis\u001b[0m\u001b[0;34m=\u001b[0m\u001b[0;36m1\u001b[0m\u001b[0;34m)\u001b[0m\u001b[0;34m)\u001b[0m\u001b[0;34m:\u001b[0m\u001b[0;34m\u001b[0m\u001b[0;34m\u001b[0m\u001b[0m\n\u001b[0m\u001b[1;32m    441\u001b[0m         raise ValueError(\n\u001b[1;32m    442\u001b[0m             \u001b[0;34m\"Target scores need to be probabilities for multiclass \"\u001b[0m\u001b[0;34m\u001b[0m\u001b[0;34m\u001b[0m\u001b[0m\n",
            "\u001b[0;32m/usr/local/lib/python3.6/dist-packages/numpy/core/_methods.py\u001b[0m in \u001b[0;36m_sum\u001b[0;34m(a, axis, dtype, out, keepdims, initial, where)\u001b[0m\n\u001b[1;32m     36\u001b[0m def _sum(a, axis=None, dtype=None, out=None, keepdims=False,\n\u001b[1;32m     37\u001b[0m          initial=_NoValue, where=True):\n\u001b[0;32m---> 38\u001b[0;31m     \u001b[0;32mreturn\u001b[0m \u001b[0mumr_sum\u001b[0m\u001b[0;34m(\u001b[0m\u001b[0ma\u001b[0m\u001b[0;34m,\u001b[0m \u001b[0maxis\u001b[0m\u001b[0;34m,\u001b[0m \u001b[0mdtype\u001b[0m\u001b[0;34m,\u001b[0m \u001b[0mout\u001b[0m\u001b[0;34m,\u001b[0m \u001b[0mkeepdims\u001b[0m\u001b[0;34m,\u001b[0m \u001b[0minitial\u001b[0m\u001b[0;34m,\u001b[0m \u001b[0mwhere\u001b[0m\u001b[0;34m)\u001b[0m\u001b[0;34m\u001b[0m\u001b[0;34m\u001b[0m\u001b[0m\n\u001b[0m\u001b[1;32m     39\u001b[0m \u001b[0;34m\u001b[0m\u001b[0m\n\u001b[1;32m     40\u001b[0m def _prod(a, axis=None, dtype=None, out=None, keepdims=False,\n",
            "\u001b[0;31mAxisError\u001b[0m: axis 1 is out of bounds for array of dimension 1"
          ]
        }
      ]
    },
    {
      "cell_type": "code",
      "metadata": {
        "id": "BtMNLHVDlACe",
        "colab_type": "code",
        "colab": {
          "base_uri": "https://localhost:8080/",
          "height": 374
        },
        "outputId": "3947204f-83e3-4c60-e5f4-96a18efde20c"
      },
      "source": [
        "scores(chosen_lr)"
      ],
      "execution_count": 224,
      "outputs": [
        {
          "output_type": "stream",
          "text": [
            "acc=0.8901\n",
            "micro F1=0.8901, micro P=0.8901, micro R=0.8901\n",
            "macro F1=0.8868, macro P=0.8865, macro R=0.8915\n",
            "\n"
          ],
          "name": "stdout"
        },
        {
          "output_type": "error",
          "ename": "AxisError",
          "evalue": "ignored",
          "traceback": [
            "\u001b[0;31m---------------------------------------------------------------------------\u001b[0m",
            "\u001b[0;31mAxisError\u001b[0m                                 Traceback (most recent call last)",
            "\u001b[0;32m<ipython-input-224-aa53c6bc2a8c>\u001b[0m in \u001b[0;36m<module>\u001b[0;34m()\u001b[0m\n\u001b[0;32m----> 1\u001b[0;31m \u001b[0mscores\u001b[0m\u001b[0;34m(\u001b[0m\u001b[0mchosen_lr\u001b[0m\u001b[0;34m)\u001b[0m\u001b[0;34m\u001b[0m\u001b[0;34m\u001b[0m\u001b[0m\n\u001b[0m",
            "\u001b[0;32m<ipython-input-199-7fe0ac4209bf>\u001b[0m in \u001b[0;36mscores\u001b[0;34m(model)\u001b[0m\n\u001b[1;32m     12\u001b[0m   \u001b[0mprint\u001b[0m\u001b[0;34m(\u001b[0m\u001b[0;34m'micro F1={0:1.4f}, micro P={1:1.4f}, micro R={2:1.4f}'\u001b[0m\u001b[0;34m.\u001b[0m\u001b[0mformat\u001b[0m\u001b[0;34m(\u001b[0m\u001b[0mmicro_f1\u001b[0m\u001b[0;34m,\u001b[0m \u001b[0mmicro_p\u001b[0m\u001b[0;34m,\u001b[0m \u001b[0mmicro_r\u001b[0m\u001b[0;34m)\u001b[0m\u001b[0;34m)\u001b[0m\u001b[0;34m\u001b[0m\u001b[0;34m\u001b[0m\u001b[0m\n\u001b[1;32m     13\u001b[0m   \u001b[0mprint\u001b[0m\u001b[0;34m(\u001b[0m\u001b[0;34m'macro F1={0:1.4f}, macro P={1:1.4f}, macro R={2:1.4f}\\n'\u001b[0m\u001b[0;34m.\u001b[0m\u001b[0mformat\u001b[0m\u001b[0;34m(\u001b[0m\u001b[0mmacro_f1\u001b[0m\u001b[0;34m,\u001b[0m \u001b[0mmacro_p\u001b[0m\u001b[0;34m,\u001b[0m \u001b[0mmacro_r\u001b[0m\u001b[0;34m)\u001b[0m\u001b[0;34m)\u001b[0m\u001b[0;34m\u001b[0m\u001b[0;34m\u001b[0m\u001b[0m\n\u001b[0;32m---> 14\u001b[0;31m   \u001b[0moof_lr\u001b[0m\u001b[0;34m,\u001b[0m \u001b[0mprediction_lr\u001b[0m\u001b[0;34m,\u001b[0m \u001b[0mscores\u001b[0m \u001b[0;34m=\u001b[0m \u001b[0mcv_train_model\u001b[0m\u001b[0;34m(\u001b[0m\u001b[0mX_train_counts\u001b[0m\u001b[0;34m,\u001b[0m \u001b[0mtwenty_train\u001b[0m\u001b[0;34m.\u001b[0m\u001b[0mtarget\u001b[0m\u001b[0;34m,\u001b[0m \u001b[0mX_test\u001b[0m\u001b[0;34m,\u001b[0m                                                 \u001b[0mtwenty_test\u001b[0m\u001b[0;34m.\u001b[0m\u001b[0mtarget\u001b[0m\u001b[0;34m,\u001b[0m  \u001b[0mmodel\u001b[0m\u001b[0;34m=\u001b[0m\u001b[0mmodel\u001b[0m\u001b[0;34m,\u001b[0m  \u001b[0mfolds\u001b[0m\u001b[0;34m=\u001b[0m\u001b[0mrepeated_folds\u001b[0m\u001b[0;34m)\u001b[0m\u001b[0;34m\u001b[0m\u001b[0;34m\u001b[0m\u001b[0m\n\u001b[0m",
            "\u001b[0;32m<ipython-input-223-2064b296bd59>\u001b[0m in \u001b[0;36mcv_train_model\u001b[0;34m(X, y, X_test, y_test, folds, plot_feature_importance, model)\u001b[0m\n\u001b[1;32m     12\u001b[0m         \u001b[0my_pred_test\u001b[0m \u001b[0;34m=\u001b[0m \u001b[0mmodel\u001b[0m\u001b[0;34m.\u001b[0m\u001b[0mpredict_proba\u001b[0m\u001b[0;34m(\u001b[0m\u001b[0mX_test\u001b[0m\u001b[0;34m)\u001b[0m\u001b[0;34m[\u001b[0m\u001b[0;34m:\u001b[0m\u001b[0;34m,\u001b[0m \u001b[0;36m1\u001b[0m\u001b[0;34m]\u001b[0m\u001b[0;34m\u001b[0m\u001b[0;34m\u001b[0m\u001b[0m\n\u001b[1;32m     13\u001b[0m         \u001b[0my_pred_valid\u001b[0m \u001b[0;34m=\u001b[0m \u001b[0mmodel\u001b[0m\u001b[0;34m.\u001b[0m\u001b[0mpredict_proba\u001b[0m\u001b[0;34m(\u001b[0m\u001b[0mX_valid\u001b[0m\u001b[0;34m)\u001b[0m\u001b[0;34m[\u001b[0m\u001b[0;34m:\u001b[0m\u001b[0;34m,\u001b[0m \u001b[0;36m1\u001b[0m\u001b[0;34m]\u001b[0m\u001b[0;34m\u001b[0m\u001b[0;34m\u001b[0m\u001b[0m\n\u001b[0;32m---> 14\u001b[0;31m         \u001b[0mvalid_score\u001b[0m \u001b[0;34m=\u001b[0m \u001b[0mroc_auc_score\u001b[0m\u001b[0;34m(\u001b[0m\u001b[0my_valid\u001b[0m\u001b[0;34m,\u001b[0m \u001b[0my_pred_valid\u001b[0m\u001b[0;34m,\u001b[0m \u001b[0mmulti_class\u001b[0m\u001b[0;34m=\u001b[0m\u001b[0;34m'ovo'\u001b[0m\u001b[0;34m)\u001b[0m\u001b[0;34m\u001b[0m\u001b[0;34m\u001b[0m\u001b[0m\n\u001b[0m\u001b[1;32m     15\u001b[0m \u001b[0;34m\u001b[0m\u001b[0m\n\u001b[1;32m     16\u001b[0m         \u001b[0moof\u001b[0m\u001b[0;34m[\u001b[0m\u001b[0mvalid_index\u001b[0m\u001b[0;34m]\u001b[0m \u001b[0;34m=\u001b[0m \u001b[0my_pred_valid\u001b[0m\u001b[0;34m.\u001b[0m\u001b[0mreshape\u001b[0m\u001b[0;34m(\u001b[0m\u001b[0;34m-\u001b[0m\u001b[0;36m1\u001b[0m\u001b[0;34m,\u001b[0m\u001b[0;34m)\u001b[0m\u001b[0;34m\u001b[0m\u001b[0;34m\u001b[0m\u001b[0m\n",
            "\u001b[0;32m/usr/local/lib/python3.6/dist-packages/sklearn/metrics/_ranking.py\u001b[0m in \u001b[0;36mroc_auc_score\u001b[0;34m(y_true, y_score, average, sample_weight, max_fpr, multi_class, labels)\u001b[0m\n\u001b[1;32m    381\u001b[0m             \u001b[0;32mraise\u001b[0m \u001b[0mValueError\u001b[0m\u001b[0;34m(\u001b[0m\u001b[0;34m\"multi_class must be in ('ovo', 'ovr')\"\u001b[0m\u001b[0;34m)\u001b[0m\u001b[0;34m\u001b[0m\u001b[0;34m\u001b[0m\u001b[0m\n\u001b[1;32m    382\u001b[0m         return _multiclass_roc_auc_score(y_true, y_score, labels,\n\u001b[0;32m--> 383\u001b[0;31m                                          multi_class, average, sample_weight)\n\u001b[0m\u001b[1;32m    384\u001b[0m     \u001b[0;32melif\u001b[0m \u001b[0my_type\u001b[0m \u001b[0;34m==\u001b[0m \u001b[0;34m\"binary\"\u001b[0m\u001b[0;34m:\u001b[0m\u001b[0;34m\u001b[0m\u001b[0;34m\u001b[0m\u001b[0m\n\u001b[1;32m    385\u001b[0m         \u001b[0mlabels\u001b[0m \u001b[0;34m=\u001b[0m \u001b[0mnp\u001b[0m\u001b[0;34m.\u001b[0m\u001b[0munique\u001b[0m\u001b[0;34m(\u001b[0m\u001b[0my_true\u001b[0m\u001b[0;34m)\u001b[0m\u001b[0;34m\u001b[0m\u001b[0;34m\u001b[0m\u001b[0m\n",
            "\u001b[0;32m/usr/local/lib/python3.6/dist-packages/sklearn/metrics/_ranking.py\u001b[0m in \u001b[0;36m_multiclass_roc_auc_score\u001b[0;34m(y_true, y_score, labels, multi_class, average, sample_weight)\u001b[0m\n\u001b[1;32m    438\u001b[0m     \"\"\"\n\u001b[1;32m    439\u001b[0m     \u001b[0;31m# validation of the input y_score\u001b[0m\u001b[0;34m\u001b[0m\u001b[0;34m\u001b[0m\u001b[0;34m\u001b[0m\u001b[0m\n\u001b[0;32m--> 440\u001b[0;31m     \u001b[0;32mif\u001b[0m \u001b[0;32mnot\u001b[0m \u001b[0mnp\u001b[0m\u001b[0;34m.\u001b[0m\u001b[0mallclose\u001b[0m\u001b[0;34m(\u001b[0m\u001b[0;36m1\u001b[0m\u001b[0;34m,\u001b[0m \u001b[0my_score\u001b[0m\u001b[0;34m.\u001b[0m\u001b[0msum\u001b[0m\u001b[0;34m(\u001b[0m\u001b[0maxis\u001b[0m\u001b[0;34m=\u001b[0m\u001b[0;36m1\u001b[0m\u001b[0;34m)\u001b[0m\u001b[0;34m)\u001b[0m\u001b[0;34m:\u001b[0m\u001b[0;34m\u001b[0m\u001b[0;34m\u001b[0m\u001b[0m\n\u001b[0m\u001b[1;32m    441\u001b[0m         raise ValueError(\n\u001b[1;32m    442\u001b[0m             \u001b[0;34m\"Target scores need to be probabilities for multiclass \"\u001b[0m\u001b[0;34m\u001b[0m\u001b[0;34m\u001b[0m\u001b[0m\n",
            "\u001b[0;32m/usr/local/lib/python3.6/dist-packages/numpy/core/_methods.py\u001b[0m in \u001b[0;36m_sum\u001b[0;34m(a, axis, dtype, out, keepdims, initial, where)\u001b[0m\n\u001b[1;32m     36\u001b[0m def _sum(a, axis=None, dtype=None, out=None, keepdims=False,\n\u001b[1;32m     37\u001b[0m          initial=_NoValue, where=True):\n\u001b[0;32m---> 38\u001b[0;31m     \u001b[0;32mreturn\u001b[0m \u001b[0mumr_sum\u001b[0m\u001b[0;34m(\u001b[0m\u001b[0ma\u001b[0m\u001b[0;34m,\u001b[0m \u001b[0maxis\u001b[0m\u001b[0;34m,\u001b[0m \u001b[0mdtype\u001b[0m\u001b[0;34m,\u001b[0m \u001b[0mout\u001b[0m\u001b[0;34m,\u001b[0m \u001b[0mkeepdims\u001b[0m\u001b[0;34m,\u001b[0m \u001b[0minitial\u001b[0m\u001b[0;34m,\u001b[0m \u001b[0mwhere\u001b[0m\u001b[0;34m)\u001b[0m\u001b[0;34m\u001b[0m\u001b[0;34m\u001b[0m\u001b[0m\n\u001b[0m\u001b[1;32m     39\u001b[0m \u001b[0;34m\u001b[0m\u001b[0m\n\u001b[1;32m     40\u001b[0m def _prod(a, axis=None, dtype=None, out=None, keepdims=False,\n",
            "\u001b[0;31mAxisError\u001b[0m: axis 1 is out of bounds for array of dimension 1"
          ]
        }
      ]
    },
    {
      "cell_type": "code",
      "metadata": {
        "id": "Dg_SEl2H60QM",
        "colab_type": "code",
        "colab": {}
      },
      "source": [
        "\n",
        "def scores(model):\n",
        "  predicted = model.predict(X_test)\n",
        "  acc = accuracy_score(predicted, twenty_test.target)\n",
        "  micro_f1 = f1_score(predicted, twenty_test.target, average = 'micro')\n",
        "  micro_p = precision_score(predicted, twenty_test.target, average = 'micro')\n",
        "  micro_r = recall_score(predicted, twenty_test.target, average = 'micro')\n",
        "  macro_f1 = f1_score(predicted, twenty_test.target, average = 'macro')\n",
        "  macro_p = precision_score(predicted, twenty_test.target, average = 'macro')\n",
        "  macro_r = recall_score(predicted, twenty_test.target, average = 'macro')\n",
        "  print('acc={0:1.4f}'.format(acc))\n",
        "  print('micro F1={0:1.4f}, micro P={1:1.4f}, micro R={2:1.4f}'.format(micro_f1, micro_p, micro_r))\n",
        "  print('macro F1={0:1.4f}, macro P={1:1.4f}, macro R={2:1.4f}\\n'.format(macro_f1, macro_p, macro_r))\n",
        "  oof_lr, prediction_lr, scores = cv_train_model(X_train_counts, twenty_train.target, X_test,\\\n",
        "                                                 twenty_test.target,  model=model,  folds=repeated_folds)"
      ],
      "execution_count": 0,
      "outputs": []
    },
    {
      "cell_type": "code",
      "metadata": {
        "id": "5I6barqF60fS",
        "colab_type": "code",
        "colab": {}
      },
      "source": [
        ""
      ],
      "execution_count": 0,
      "outputs": []
    },
    {
      "cell_type": "code",
      "metadata": {
        "id": "EoODQ2RslKwz",
        "colab_type": "code",
        "colab": {}
      },
      "source": [
        "from sklearn.model_selection import train_test_split, KFold"
      ],
      "execution_count": 0,
      "outputs": []
    },
    {
      "cell_type": "code",
      "metadata": {
        "id": "ima6Iad7lDQE",
        "colab_type": "code",
        "colab": {}
      },
      "source": [
        "n_fold = 10\n",
        "folds = KFold(n_splits=n_fold, shuffle=True, random_state=0)\n",
        "stratified_folds = StratifiedKFold(n_splits=n_fold, shuffle=True, random_state=0)\n",
        "repeated_folds = RepeatedStratifiedKFold(n_splits=n_fold, n_repeats=20, random_state=0)"
      ],
      "execution_count": 0,
      "outputs": []
    },
    {
      "cell_type": "code",
      "metadata": {
        "id": "S7A0DMRgSvsL",
        "colab_type": "code",
        "colab": {}
      },
      "source": [
        "\n",
        "svc = LinearSVC().fit(X_train_counts, twenty_train.target)"
      ],
      "execution_count": 0,
      "outputs": []
    },
    {
      "cell_type": "code",
      "metadata": {
        "id": "3ZW4iQVbAwpt",
        "colab_type": "code",
        "outputId": "dc7b6df9-dcbc-463e-b48f-3f942fbe6cd4",
        "colab": {
          "base_uri": "https://localhost:8080/",
          "height": 71
        }
      },
      "source": [
        "parameter_grid = {'penalty' : ['l1', 'l2'],\n",
        "                  'loss' : ['hinge', 'str', 'squared_hinge'],\n",
        "                  'intercept_scaling' : [1, 2],\n",
        "                  'verbose': [0,1]\n",
        "                 }\n",
        "\n",
        "grid_search = GridSearchCV(svc, param_grid=parameter_grid, cv=folds)\n",
        "grid_search.fit(X_train_counts, twenty_train.target)\n",
        "print('Best score: {}'.format(grid_search.best_score_))\n",
        "print('Best parameters: {}'.format(grid_search.best_params_))"
      ],
      "execution_count": 149,
      "outputs": [
        {
          "output_type": "stream",
          "text": [
            "[LibLinear][LibLinear][LibLinear][LibLinear][LibLinear][LibLinear][LibLinear][LibLinear][LibLinear][LibLinear][LibLinear][LibLinear][LibLinear][LibLinear][LibLinear][LibLinear][LibLinear][LibLinear][LibLinear][LibLinear][LibLinear][LibLinear][LibLinear][LibLinear][LibLinear][LibLinear][LibLinear][LibLinear][LibLinear][LibLinear][LibLinear][LibLinear][LibLinear][LibLinear][LibLinear][LibLinear][LibLinear][LibLinear][LibLinear][LibLinear][LibLinear][LibLinear][LibLinear][LibLinear][LibLinear][LibLinear][LibLinear][LibLinear][LibLinear][LibLinear][LibLinear][LibLinear][LibLinear][LibLinear][LibLinear][LibLinear][LibLinear][LibLinear][LibLinear][LibLinear][LibLinear][LibLinear][LibLinear][LibLinear][LibLinear][LibLinear][LibLinear][LibLinear][LibLinear][LibLinear][LibLinear][LibLinear][LibLinear][LibLinear][LibLinear][LibLinear][LibLinear][LibLinear][LibLinear][LibLinear][LibLinear][LibLinear][LibLinear][LibLinear][LibLinear][LibLinear][LibLinear][LibLinear][LibLinear][LibLinear][LibLinear][LibLinear][LibLinear][LibLinear][LibLinear][LibLinear][LibLinear][LibLinear][LibLinear][LibLinear][LibLinear][LibLinear][LibLinear][LibLinear][LibLinear][LibLinear][LibLinear][LibLinear][LibLinear][LibLinear][LibLinear][LibLinear][LibLinear][LibLinear][LibLinear][LibLinear][LibLinear][LibLinear][LibLinear][LibLinear]Best score: 0.9539233038348083\n",
            "Best parameters: {'intercept_scaling': 2, 'loss': 'squared_hinge', 'penalty': 'l2', 'verbose': 0}\n"
          ],
          "name": "stdout"
        }
      ]
    },
    {
      "cell_type": "code",
      "metadata": {
        "id": "J0UET_1y2FZV",
        "colab_type": "code",
        "colab": {}
      },
      "source": [
        "chosen_svc = LinearSVC(intercept_scaling=2, loss='squared_hinge', penalty='l2', verbose=0).fit(X_train_counts, twenty_train.target)"
      ],
      "execution_count": 0,
      "outputs": []
    },
    {
      "cell_type": "code",
      "metadata": {
        "id": "Jiz_sT1x2FgS",
        "colab_type": "code",
        "outputId": "f57cdae0-dced-4968-c092-43b7cc8d72e6",
        "colab": {
          "base_uri": "https://localhost:8080/",
          "height": 394
        }
      },
      "source": [
        "scores(chosen_lr)"
      ],
      "execution_count": 214,
      "outputs": [
        {
          "output_type": "stream",
          "text": [
            "acc=0.8901\n",
            "micro F1=0.8901, micro P=0.8901, micro R=0.8901\n",
            "macro F1=0.8868, macro P=0.8865, macro R=0.8915\n",
            "\n"
          ],
          "name": "stdout"
        },
        {
          "output_type": "error",
          "ename": "ValueError",
          "evalue": "ignored",
          "traceback": [
            "\u001b[0;31m---------------------------------------------------------------------------\u001b[0m",
            "\u001b[0;31mValueError\u001b[0m                                Traceback (most recent call last)",
            "\u001b[0;32m<ipython-input-214-aa53c6bc2a8c>\u001b[0m in \u001b[0;36m<module>\u001b[0;34m()\u001b[0m\n\u001b[0;32m----> 1\u001b[0;31m \u001b[0mscores\u001b[0m\u001b[0;34m(\u001b[0m\u001b[0mchosen_lr\u001b[0m\u001b[0;34m)\u001b[0m\u001b[0;34m\u001b[0m\u001b[0;34m\u001b[0m\u001b[0m\n\u001b[0m",
            "\u001b[0;32m<ipython-input-199-7fe0ac4209bf>\u001b[0m in \u001b[0;36mscores\u001b[0;34m(model)\u001b[0m\n\u001b[1;32m     12\u001b[0m   \u001b[0mprint\u001b[0m\u001b[0;34m(\u001b[0m\u001b[0;34m'micro F1={0:1.4f}, micro P={1:1.4f}, micro R={2:1.4f}'\u001b[0m\u001b[0;34m.\u001b[0m\u001b[0mformat\u001b[0m\u001b[0;34m(\u001b[0m\u001b[0mmicro_f1\u001b[0m\u001b[0;34m,\u001b[0m \u001b[0mmicro_p\u001b[0m\u001b[0;34m,\u001b[0m \u001b[0mmicro_r\u001b[0m\u001b[0;34m)\u001b[0m\u001b[0;34m)\u001b[0m\u001b[0;34m\u001b[0m\u001b[0;34m\u001b[0m\u001b[0m\n\u001b[1;32m     13\u001b[0m   \u001b[0mprint\u001b[0m\u001b[0;34m(\u001b[0m\u001b[0;34m'macro F1={0:1.4f}, macro P={1:1.4f}, macro R={2:1.4f}\\n'\u001b[0m\u001b[0;34m.\u001b[0m\u001b[0mformat\u001b[0m\u001b[0;34m(\u001b[0m\u001b[0mmacro_f1\u001b[0m\u001b[0;34m,\u001b[0m \u001b[0mmacro_p\u001b[0m\u001b[0;34m,\u001b[0m \u001b[0mmacro_r\u001b[0m\u001b[0;34m)\u001b[0m\u001b[0;34m)\u001b[0m\u001b[0;34m\u001b[0m\u001b[0;34m\u001b[0m\u001b[0m\n\u001b[0;32m---> 14\u001b[0;31m   \u001b[0moof_lr\u001b[0m\u001b[0;34m,\u001b[0m \u001b[0mprediction_lr\u001b[0m\u001b[0;34m,\u001b[0m \u001b[0mscores\u001b[0m \u001b[0;34m=\u001b[0m \u001b[0mcv_train_model\u001b[0m\u001b[0;34m(\u001b[0m\u001b[0mX_train_counts\u001b[0m\u001b[0;34m,\u001b[0m \u001b[0mtwenty_train\u001b[0m\u001b[0;34m.\u001b[0m\u001b[0mtarget\u001b[0m\u001b[0;34m,\u001b[0m \u001b[0mX_test\u001b[0m\u001b[0;34m,\u001b[0m                                                 \u001b[0mtwenty_test\u001b[0m\u001b[0;34m.\u001b[0m\u001b[0mtarget\u001b[0m\u001b[0;34m,\u001b[0m  \u001b[0mmodel\u001b[0m\u001b[0;34m=\u001b[0m\u001b[0mmodel\u001b[0m\u001b[0;34m,\u001b[0m  \u001b[0mfolds\u001b[0m\u001b[0;34m=\u001b[0m\u001b[0mrepeated_folds\u001b[0m\u001b[0;34m)\u001b[0m\u001b[0;34m\u001b[0m\u001b[0;34m\u001b[0m\u001b[0m\n\u001b[0m",
            "\u001b[0;32m<ipython-input-211-097df3bceb91>\u001b[0m in \u001b[0;36mcv_train_model\u001b[0;34m(X, y, X_test, y_test, folds, plot_feature_importance, model)\u001b[0m\n\u001b[1;32m     12\u001b[0m         \u001b[0my_pred_test\u001b[0m \u001b[0;34m=\u001b[0m \u001b[0mmodel\u001b[0m\u001b[0;34m.\u001b[0m\u001b[0mpredict_proba\u001b[0m\u001b[0;34m(\u001b[0m\u001b[0mX_test\u001b[0m\u001b[0;34m)\u001b[0m\u001b[0;34m[\u001b[0m\u001b[0;34m:\u001b[0m\u001b[0;34m,\u001b[0m \u001b[0;36m1\u001b[0m\u001b[0;34m]\u001b[0m\u001b[0;34m\u001b[0m\u001b[0;34m\u001b[0m\u001b[0m\n\u001b[1;32m     13\u001b[0m         \u001b[0my_pred_valid\u001b[0m \u001b[0;34m=\u001b[0m \u001b[0mmodel\u001b[0m\u001b[0;34m.\u001b[0m\u001b[0mpredict_proba\u001b[0m\u001b[0;34m(\u001b[0m\u001b[0mX_valid\u001b[0m\u001b[0;34m)\u001b[0m\u001b[0;34m[\u001b[0m\u001b[0;34m:\u001b[0m\u001b[0;34m,\u001b[0m \u001b[0;36m1\u001b[0m\u001b[0;34m]\u001b[0m\u001b[0;34m\u001b[0m\u001b[0;34m\u001b[0m\u001b[0m\n\u001b[0;32m---> 14\u001b[0;31m         \u001b[0mvalid_score\u001b[0m \u001b[0;34m=\u001b[0m \u001b[0mroc_auc_score\u001b[0m\u001b[0;34m(\u001b[0m\u001b[0my_valid\u001b[0m\u001b[0;34m,\u001b[0m \u001b[0my_pred_valid\u001b[0m\u001b[0;34m)\u001b[0m\u001b[0;34m\u001b[0m\u001b[0;34m\u001b[0m\u001b[0m\n\u001b[0m\u001b[1;32m     15\u001b[0m \u001b[0;34m\u001b[0m\u001b[0m\n\u001b[1;32m     16\u001b[0m         \u001b[0moof\u001b[0m\u001b[0;34m[\u001b[0m\u001b[0mvalid_index\u001b[0m\u001b[0;34m]\u001b[0m \u001b[0;34m=\u001b[0m \u001b[0my_pred_valid\u001b[0m\u001b[0;34m.\u001b[0m\u001b[0mreshape\u001b[0m\u001b[0;34m(\u001b[0m\u001b[0;34m-\u001b[0m\u001b[0;36m1\u001b[0m\u001b[0;34m,\u001b[0m\u001b[0;34m)\u001b[0m\u001b[0;34m\u001b[0m\u001b[0;34m\u001b[0m\u001b[0m\n",
            "\u001b[0;32m/usr/local/lib/python3.6/dist-packages/sklearn/metrics/_ranking.py\u001b[0m in \u001b[0;36mroc_auc_score\u001b[0;34m(y_true, y_score, average, sample_weight, max_fpr, multi_class, labels)\u001b[0m\n\u001b[1;32m    379\u001b[0m                              \"instead\".format(max_fpr))\n\u001b[1;32m    380\u001b[0m         \u001b[0;32mif\u001b[0m \u001b[0mmulti_class\u001b[0m \u001b[0;34m==\u001b[0m \u001b[0;34m'raise'\u001b[0m\u001b[0;34m:\u001b[0m\u001b[0;34m\u001b[0m\u001b[0;34m\u001b[0m\u001b[0m\n\u001b[0;32m--> 381\u001b[0;31m             \u001b[0;32mraise\u001b[0m \u001b[0mValueError\u001b[0m\u001b[0;34m(\u001b[0m\u001b[0;34m\"multi_class must be in ('ovo', 'ovr')\"\u001b[0m\u001b[0;34m)\u001b[0m\u001b[0;34m\u001b[0m\u001b[0;34m\u001b[0m\u001b[0m\n\u001b[0m\u001b[1;32m    382\u001b[0m         return _multiclass_roc_auc_score(y_true, y_score, labels,\n\u001b[1;32m    383\u001b[0m                                          multi_class, average, sample_weight)\n",
            "\u001b[0;31mValueError\u001b[0m: multi_class must be in ('ovo', 'ovr')"
          ]
        }
      ]
    },
    {
      "cell_type": "code",
      "metadata": {
        "id": "lnF4CfQ1trpN",
        "colab_type": "code",
        "colab": {}
      },
      "source": [
        "from sklearn import linear_model"
      ],
      "execution_count": 0,
      "outputs": []
    },
    {
      "cell_type": "code",
      "metadata": {
        "id": "WToZrcHpAwsD",
        "colab_type": "code",
        "outputId": "ddfd678d-1694-4ae7-a308-8695aa7dec9b",
        "colab": {
          "base_uri": "https://localhost:8080/",
          "height": 51
        }
      },
      "source": [
        "lr = linear_model.LogisticRegression().fit(X_train_counts, twenty_train.target)\n",
        "\n",
        "parameter_grid = {'class_weight' : ['balanced', None],\n",
        "                  'penalty' : ['l2', 'l1'],\n",
        "                  'solver' : ['liblinear', 'saga'],\n",
        "                  'C' : [0.001, 0.01, 0.08],\n",
        "                  'max_iter': [2,10]\n",
        "                 }\n",
        "\n",
        "grid_search = GridSearchCV(lr, param_grid=parameter_grid, cv=folds)\n",
        "grid_search.fit(X_train_counts, twenty_train.target)\n",
        "print('Best score: {}'.format(grid_search.best_score_))\n",
        "print('Best parameters: {}'.format(grid_search.best_params_))"
      ],
      "execution_count": 73,
      "outputs": [
        {
          "output_type": "stream",
          "text": [
            "Best score: 0.9570285152409046\n",
            "Best parameters: {'C': 0.08, 'class_weight': 'balanced', 'max_iter': 10, 'penalty': 'l2', 'solver': 'liblinear'}\n"
          ],
          "name": "stdout"
        }
      ]
    },
    {
      "cell_type": "code",
      "metadata": {
        "id": "0CQ14WEywF0o",
        "colab_type": "code",
        "colab": {}
      },
      "source": [
        "chosen_lr = linear_model.LogisticRegression(C=0.08, class_weight='balanced', max_iter=10, penalty='l2', solver='liblinear').fit(X_train_counts, twenty_train.target)"
      ],
      "execution_count": 0,
      "outputs": []
    },
    {
      "cell_type": "code",
      "metadata": {
        "id": "1bW8VN9L6Ltq",
        "colab_type": "code",
        "outputId": "dad2ce03-5824-48b5-bba8-98326aa3b7bf",
        "colab": {
          "base_uri": "https://localhost:8080/",
          "height": 85
        }
      },
      "source": [
        "scores(chosen_lr)"
      ],
      "execution_count": 75,
      "outputs": [
        {
          "output_type": "stream",
          "text": [
            "acc=0.8955\n",
            "micro F1=0.8955, micro P=0.8955, micro R=0.8955\n",
            "macro F1=0.8927, macro P=0.8916, macro R=0.8995\n",
            "\n"
          ],
          "name": "stdout"
        }
      ]
    },
    {
      "cell_type": "code",
      "metadata": {
        "id": "O11RPquxAQxm",
        "colab_type": "code",
        "colab": {}
      },
      "source": [
        "from sklearn.tree import DecisionTreeClassifier\n",
        "tree = DecisionTreeClassifier().fit(X_train_counts, twenty_train.target)\n"
      ],
      "execution_count": 0,
      "outputs": []
    },
    {
      "cell_type": "code",
      "metadata": {
        "id": "Ap9tTOqLAQ0H",
        "colab_type": "code",
        "outputId": "72e57f4b-638e-4445-98d8-4d694d9289a3",
        "colab": {
          "base_uri": "https://localhost:8080/",
          "height": 51
        }
      },
      "source": [
        "\n",
        "\n",
        "parameter_grid = {'criterion' : ['gini', 'entropy'],\n",
        "                  'splitter' : ['best', 'random'],\n",
        "                  'min_samples_split' : [1, 2, 3],\n",
        "                  'max_features' : ['auto', 'sqrt', 'log2'],\n",
        "                  'ccp_alpha': [1.0, 2.0, 0.0]\n",
        "                 }\n",
        "\n",
        "grid_search = GridSearchCV(tree, param_grid=parameter_grid, cv=folds)\n",
        "grid_search.fit(X_train_counts, twenty_train.target)\n",
        "print('Best score: {}'.format(grid_search.best_score_))\n",
        "print('Best parameters: {}'.format(grid_search.best_params_))"
      ],
      "execution_count": 77,
      "outputs": [
        {
          "output_type": "stream",
          "text": [
            "Best score: 0.6654650934119961\n",
            "Best parameters: {'ccp_alpha': 0.0, 'criterion': 'gini', 'max_features': 'sqrt', 'min_samples_split': 3, 'splitter': 'random'}\n"
          ],
          "name": "stdout"
        }
      ]
    },
    {
      "cell_type": "code",
      "metadata": {
        "id": "mawyPgsWwF8R",
        "colab_type": "code",
        "colab": {}
      },
      "source": [
        "chosen_tree = DecisionTreeClassifier(ccp_alpha=0.0, criterion='gini', max_features='sqrt', min_samples_split=3,\\\n",
        "                                     splitter='best').fit(X_train_counts, twenty_train.target)"
      ],
      "execution_count": 0,
      "outputs": []
    },
    {
      "cell_type": "code",
      "metadata": {
        "id": "d8m6sKXIATo8",
        "colab_type": "code",
        "outputId": "3626f5a1-b64e-4a3d-9a06-9456d24bf3fc",
        "colab": {
          "base_uri": "https://localhost:8080/",
          "height": 85
        }
      },
      "source": [
        "scores(chosen_tree)"
      ],
      "execution_count": 79,
      "outputs": [
        {
          "output_type": "stream",
          "text": [
            "acc=0.6265\n",
            "micro F1=0.6265, micro P=0.6265, micro R=0.6265\n",
            "macro F1=0.6161, macro P=0.6203, macro R=0.6171\n",
            "\n"
          ],
          "name": "stdout"
        }
      ]
    },
    {
      "cell_type": "code",
      "metadata": {
        "id": "7FpMIINdC9mo",
        "colab_type": "code",
        "outputId": "b277f391-1626-42df-f941-1527d1c5d613",
        "colab": {
          "base_uri": "https://localhost:8080/",
          "height": 204
        }
      },
      "source": [
        "!pip install eli5"
      ],
      "execution_count": 80,
      "outputs": [
        {
          "output_type": "stream",
          "text": [
            "Requirement already satisfied: eli5 in /usr/local/lib/python3.6/dist-packages (0.10.1)\n",
            "Requirement already satisfied: numpy>=1.9.0 in /usr/local/lib/python3.6/dist-packages (from eli5) (1.17.5)\n",
            "Requirement already satisfied: tabulate>=0.7.7 in /usr/local/lib/python3.6/dist-packages (from eli5) (0.8.6)\n",
            "Requirement already satisfied: attrs>16.0.0 in /usr/local/lib/python3.6/dist-packages (from eli5) (19.3.0)\n",
            "Requirement already satisfied: six in /usr/local/lib/python3.6/dist-packages (from eli5) (1.12.0)\n",
            "Requirement already satisfied: jinja2 in /usr/local/lib/python3.6/dist-packages (from eli5) (2.11.1)\n",
            "Requirement already satisfied: scikit-learn>=0.18 in /usr/local/lib/python3.6/dist-packages (from eli5) (0.22.1)\n",
            "Requirement already satisfied: graphviz in /usr/local/lib/python3.6/dist-packages (from eli5) (0.10.1)\n",
            "Requirement already satisfied: scipy in /usr/local/lib/python3.6/dist-packages (from eli5) (1.4.1)\n",
            "Requirement already satisfied: MarkupSafe>=0.23 in /usr/local/lib/python3.6/dist-packages (from jinja2->eli5) (1.1.1)\n",
            "Requirement already satisfied: joblib>=0.11 in /usr/local/lib/python3.6/dist-packages (from scikit-learn>=0.18->eli5) (0.14.1)\n"
          ],
          "name": "stdout"
        }
      ]
    },
    {
      "cell_type": "code",
      "metadata": {
        "id": "ZCt_8W2rEprr",
        "colab_type": "code",
        "outputId": "7e9de4e4-fd1a-40a0-c0f8-61f12233edbe",
        "colab": {
          "base_uri": "https://localhost:8080/",
          "height": 187
        }
      },
      "source": [
        "!pip install shap"
      ],
      "execution_count": 81,
      "outputs": [
        {
          "output_type": "stream",
          "text": [
            "Requirement already satisfied: shap in /usr/local/lib/python3.6/dist-packages (0.35.0)\n",
            "Requirement already satisfied: scikit-learn in /usr/local/lib/python3.6/dist-packages (from shap) (0.22.1)\n",
            "Requirement already satisfied: tqdm>4.25.0 in /usr/local/lib/python3.6/dist-packages (from shap) (4.28.1)\n",
            "Requirement already satisfied: numpy in /usr/local/lib/python3.6/dist-packages (from shap) (1.17.5)\n",
            "Requirement already satisfied: pandas in /usr/local/lib/python3.6/dist-packages (from shap) (0.25.3)\n",
            "Requirement already satisfied: scipy in /usr/local/lib/python3.6/dist-packages (from shap) (1.4.1)\n",
            "Requirement already satisfied: joblib>=0.11 in /usr/local/lib/python3.6/dist-packages (from scikit-learn->shap) (0.14.1)\n",
            "Requirement already satisfied: pytz>=2017.2 in /usr/local/lib/python3.6/dist-packages (from pandas->shap) (2018.9)\n",
            "Requirement already satisfied: python-dateutil>=2.6.1 in /usr/local/lib/python3.6/dist-packages (from pandas->shap) (2.6.1)\n",
            "Requirement already satisfied: six>=1.5 in /usr/local/lib/python3.6/dist-packages (from python-dateutil>=2.6.1->pandas->shap) (1.12.0)\n"
          ],
          "name": "stdout"
        }
      ]
    },
    {
      "cell_type": "code",
      "metadata": {
        "id": "yZVS0M5AATq9",
        "colab_type": "code",
        "colab": {}
      },
      "source": [
        "import eli5\n",
        "from eli5.sklearn import PermutationImportance\n",
        "import shap"
      ],
      "execution_count": 0,
      "outputs": []
    },
    {
      "cell_type": "code",
      "metadata": {
        "id": "PXlsPPnZC7FO",
        "colab_type": "code",
        "colab": {}
      },
      "source": [
        "import warnings\n",
        "warnings.filterwarnings('ignore')"
      ],
      "execution_count": 0,
      "outputs": []
    },
    {
      "cell_type": "code",
      "metadata": {
        "id": "5cPBAx1V37nM",
        "colab_type": "code",
        "colab": {}
      },
      "source": [
        "index_to_word = {v:k for k,v in X_train_dict.vocabulary_.items()}\n",
        "def important_feachers(model, number_of_f):\n",
        "  feacher_nums = eli5.formatters.as_dataframe.explain_weights_df(model, top=number_of_f)\n",
        "  feacher_list = list(feacher_nums['feature'])\n",
        "  my_list = []\n",
        "  for i in feacher_list:\n",
        "    if i != '<BIAS>':\n",
        "      my_list.append(index_to_word[int(i[1:])])\n",
        "  return(my_list)\n"
      ],
      "execution_count": 0,
      "outputs": []
    },
    {
      "cell_type": "code",
      "metadata": {
        "id": "XfEERuDRLf3D",
        "colab_type": "code",
        "colab": {
          "base_uri": "https://localhost:8080/",
          "height": 1000
        },
        "outputId": "90febede-9b9a-4386-82cb-205e49703bda"
      },
      "source": [
        "for i in important_feachers(chosen_lr, 50):\n",
        "  print(i)"
      ],
      "execution_count": 184,
      "outputs": [
        {
          "output_type": "stream",
          "text": [
            "keith\n",
            "atheism\n",
            "mathew\n",
            "atheists\n",
            "okcforum\n",
            "writes\n",
            "umd\n",
            "islamic\n",
            "benedikt\n",
            "caltech\n",
            "wingate\n",
            "morality\n",
            "sandvik\n",
            "bill\n",
            "mantis\n",
            "islam\n",
            "mangoe\n",
            "rushdie\n",
            "halat\n",
            "osrhe\n",
            "psuvm\n",
            "livesey\n",
            "bible\n",
            "jaeger\n",
            "cwru\n",
            "religion\n",
            "psu\n",
            "tammy\n",
            "psilink\n",
            "moral\n",
            "charley\n",
            "more\n",
            "sgi\n",
            "tek\n",
            "political\n",
            "kmr4\n",
            "ca\n",
            "church\n",
            "athos\n",
            "am\n",
            "pitt\n",
            "christians\n",
            "christ\n",
            "graphics\n",
            "thanks\n",
            "rutgers\n",
            "lines\n",
            "organization\n",
            "subject\n",
            "graphics\n",
            "image\n",
            "files\n",
            "file\n",
            "3d\n",
            "images\n",
            "computer\n",
            "software\n",
            "points\n",
            "code\n",
            "program\n",
            "need\n",
            "polygon\n",
            "tiff\n",
            "video\n",
            "42\n",
            "version\n",
            "color\n",
            "looking\n",
            "vga\n",
            "card\n",
            "windows\n",
            "3do\n",
            "cview\n",
            "using\n",
            "format\n",
            "24\n",
            "gif\n",
            "ftp\n",
            "animation\n",
            "line\n",
            "host\n",
            "where\n",
            "package\n",
            "hi\n",
            "algorithm\n",
            "nntp\n",
            "surface\n",
            "pitt\n",
            "re\n",
            "christian\n",
            "his\n",
            "my\n",
            "your\n",
            "she\n",
            "he\n",
            "keith\n",
            "who\n",
            "god\n",
            "people\n",
            "pitt\n",
            "doctor\n",
            "msg\n",
            "disease\n",
            "information\n",
            "treatment\n",
            "health\n",
            "medical\n",
            "cancer\n",
            "banks\n",
            "medicine\n",
            "med\n",
            "geb\n",
            "gordon\n",
            "photography\n",
            "radford\n",
            "berkeley\n",
            "dyer\n",
            "effects\n",
            "syndrome\n",
            "food\n",
            "my\n",
            "pain\n",
            "eye\n",
            "card\n",
            "christ\n",
            "windows\n",
            "program\n",
            "our\n",
            "images\n",
            "atheists\n",
            "ac\n",
            "au\n",
            "rutgers\n",
            "religion\n",
            "sgi\n",
            "book\n",
            "subject\n",
            "file\n",
            "3d\n",
            "bible\n",
            "files\n",
            "church\n",
            "jesus\n",
            "christians\n",
            "christian\n",
            "lines\n",
            "graphics\n",
            "god\n",
            "rutgers\n",
            "church\n",
            "christians\n",
            "christ\n",
            "athos\n",
            "christian\n",
            "clh\n",
            "1993\n",
            "apr\n",
            "god\n",
            "hell\n",
            "petch\n",
            "may\n",
            "love\n",
            "christianity\n",
            "sin\n",
            "our\n",
            "easter\n",
            "catholic\n",
            "heaven\n",
            "geneva\n",
            "indiana\n",
            "fisher\n",
            "authority\n",
            "valley\n",
            "who\n",
            "edu\n",
            "disease\n",
            "matthew\n",
            "co\n",
            "pitt\n",
            "using\n",
            "software\n",
            "tin\n",
            "computer\n",
            "help\n",
            "keith\n",
            "information\n",
            "keywords\n",
            "de\n",
            "doctor\n",
            "atheism\n",
            "newsreader\n",
            "com\n",
            "distribution\n",
            "article\n",
            "graphics\n",
            "posting\n",
            "nntp\n",
            "host\n"
          ],
          "name": "stdout"
        }
      ]
    },
    {
      "cell_type": "code",
      "metadata": {
        "id": "cKsfICD_Lf0v",
        "colab_type": "code",
        "colab": {
          "base_uri": "https://localhost:8080/",
          "height": 867
        },
        "outputId": "de320d98-ea53-46cb-a2c7-be0e508f7555"
      },
      "source": [
        "for i in important_feachers(chosen_tree, 50):\n",
        "  print(i)"
      ],
      "execution_count": 185,
      "outputs": [
        {
          "output_type": "stream",
          "text": [
            "athos\n",
            "graphics\n",
            "geneva\n",
            "morality\n",
            "he\n",
            "skepticism\n",
            "dbstu1\n",
            "images\n",
            "therefore\n",
            "gif\n",
            "rushdie\n",
            "belief\n",
            "host\n",
            "has\n",
            "was\n",
            "you\n",
            "false\n",
            "of\n",
            "version\n",
            "such\n",
            "christian\n",
            "3d\n",
            "unx\n",
            "punishment\n",
            "faith\n",
            "writes\n",
            "that\n",
            "distribution\n",
            "church\n",
            "surrender\n",
            "we\n",
            "can\n",
            "files\n",
            "video\n",
            "batman\n",
            "com\n",
            "islamic\n",
            "by\n",
            "for\n",
            "med\n",
            "patients\n",
            "edu\n",
            "dead\n",
            "have\n",
            "november\n",
            "dos\n",
            "would\n",
            "human\n",
            "know\n",
            "atheist\n"
          ],
          "name": "stdout"
        }
      ]
    },
    {
      "cell_type": "code",
      "metadata": {
        "id": "2mKvUuUELfxi",
        "colab_type": "code",
        "colab": {
          "base_uri": "https://localhost:8080/",
          "height": 1000
        },
        "outputId": "7a8dc591-48a4-4ceb-bc40-22c6d9a90893"
      },
      "source": [
        "for i in important_feachers(chosen_svc, 50):\n",
        "  print(i)"
      ],
      "execution_count": 189,
      "outputs": [
        {
          "output_type": "stream",
          "text": [
            "mathew\n",
            "okcforum\n",
            "believing\n",
            "atheism\n",
            "go\n",
            "keith\n",
            "psuvm\n",
            "penn\n",
            "psu\n",
            "jsn104\n",
            "blashephemers\n",
            "crchh410\n",
            "mantis\n",
            "wingate\n",
            "benedikt\n",
            "atheists\n",
            "damnation\n",
            "thoughts\n",
            "islamic\n",
            "umd\n",
            "mangoe\n",
            "walla\n",
            "prepared\n",
            "bible\n",
            "bill\n",
            "psilink\n",
            "caltech\n",
            "osrhe\n",
            "tammy\n",
            "cwru\n",
            "12\n",
            "uta\n",
            "utarlg\n",
            "saturn\n",
            "wwc\n",
            "pope\n",
            "rushdie\n",
            "sandvik\n",
            "morality\n",
            "writes\n",
            "humans\n",
            "koresh\n",
            "kmr4\n",
            "risen\n",
            "brian\n",
            "thanks\n",
            "christ\n",
            "subject\n",
            "rutgers\n",
            "graphics\n",
            "package\n",
            "images\n",
            "library\n",
            "card\n",
            "24\n",
            "software\n",
            "mail\n",
            "abrash\n",
            "gmontem\n",
            "montemayor\n",
            "gif\n",
            "files\n",
            "file\n",
            "image\n",
            "george\n",
            "code\n",
            "video\n",
            "jr0930\n",
            "bham\n",
            "ibm3090\n",
            "ftp\n",
            "3d\n",
            "42\n",
            "tiff\n",
            "points\n",
            "windows\n",
            "cview\n",
            "3do\n",
            "looking\n",
            "computer\n",
            "eehp22\n",
            "hl7204\n",
            "vga\n",
            "animation\n",
            "imagine\n",
            "polygon\n",
            "need\n",
            "advance\n",
            "jeeves\n",
            "cost\n",
            "he\n",
            "prozac\n",
            "keith\n",
            "bassili\n",
            "people\n",
            "bible\n",
            "dohertyl\n",
            "christian\n",
            "pitt\n",
            "doctor\n",
            "information\n",
            "disease\n",
            "treatment\n",
            "radford\n",
            "health\n",
            "jeeves\n",
            "jmetz\n",
            "msg\n",
            "erythromycin\n",
            "effects\n",
            "cancer\n",
            "cost\n",
            "ucsd\n",
            "roxonal\n",
            "syndrome\n",
            "ysu\n",
            "suite\n",
            "carson\n",
            "photography\n",
            "sometimes\n",
            "na\n",
            "foreskin\n",
            "med\n",
            "usually\n",
            "krillean\n",
            "arythmia\n",
            "foods\n",
            "getting\n",
            "prozac\n",
            "card\n",
            "file\n",
            "caltech\n",
            "jesus\n",
            "michael\n",
            "bible\n",
            "mail\n",
            "lines\n",
            "book\n",
            "gmontem\n",
            "abrash\n",
            "montemayor\n",
            "christians\n",
            "images\n",
            "package\n",
            "christian\n",
            "god\n",
            "graphics\n",
            "rutgers\n",
            "clh\n",
            "christians\n",
            "church\n",
            "christ\n",
            "bassili\n",
            "christian\n",
            "love\n",
            "petch\n",
            "dohertyl\n",
            "bucknell\n",
            "athos\n",
            "geneva\n",
            "translation\n",
            "translations\n",
            "1993\n",
            "easter\n",
            "oser\n",
            "virginia\n",
            "sin\n",
            "fisher\n",
            "christianity\n",
            "abri\n",
            "may\n",
            "andi\n",
            "ab4z\n",
            "beyer\n",
            "soul\n",
            "indiana\n",
            "new\n",
            "de\n",
            "co\n",
            "mangoe\n",
            "organization\n",
            "keywords\n",
            "hl7204\n",
            "eehp22\n",
            "go\n",
            "tin\n",
            "software\n",
            "doctor\n",
            "package\n",
            "article\n",
            "posting\n",
            "library\n",
            "newsreader\n",
            "information\n",
            "graphics\n",
            "nntp\n",
            "host\n"
          ],
          "name": "stdout"
        }
      ]
    },
    {
      "cell_type": "code",
      "metadata": {
        "id": "YSRCejVUOku2",
        "colab_type": "code",
        "colab": {}
      },
      "source": [
        ""
      ],
      "execution_count": 0,
      "outputs": []
    },
    {
      "cell_type": "code",
      "metadata": {
        "id": "blyZXFr1OkIE",
        "colab_type": "code",
        "colab": {}
      },
      "source": [
        ""
      ],
      "execution_count": 0,
      "outputs": []
    },
    {
      "cell_type": "code",
      "metadata": {
        "id": "oEq9hHXW60Xz",
        "colab_type": "code",
        "colab": {}
      },
      "source": [
        ""
      ],
      "execution_count": 0,
      "outputs": []
    }
  ]
}