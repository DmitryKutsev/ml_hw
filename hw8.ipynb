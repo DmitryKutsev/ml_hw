{
  "nbformat": 4,
  "nbformat_minor": 0,
  "metadata": {
    "colab": {
      "name": "Untitled37.ipynb",
      "provenance": [],
      "authorship_tag": "ABX9TyOt6frMUOxSur2b+sZcjLiA",
      "include_colab_link": true
    },
    "kernelspec": {
      "name": "python3",
      "display_name": "Python 3"
    }
  },
  "cells": [
    {
      "cell_type": "markdown",
      "metadata": {
        "id": "view-in-github",
        "colab_type": "text"
      },
      "source": [
        "<a href=\"https://colab.research.google.com/github/DmitryKutsev/ml_hw/blob/master/hw8.ipynb\" target=\"_parent\"><img src=\"https://colab.research.google.com/assets/colab-badge.svg\" alt=\"Open In Colab\"/></a>"
      ]
    },
    {
      "cell_type": "code",
      "metadata": {
        "id": "X_BjyKE5lunc",
        "colab_type": "code",
        "colab": {}
      },
      "source": [
        "#form https://docs.google.com/forms/d/e/1FAIpQLSdH_5zoN0BvuYJdUaIYjQDkz7niBVXR671zpUm3p-RqJdBDfA/viewform\n",
        "\n",
        "#handout https://www.depends-on-the-definition.com/lstm-with-char-embeddings-for-ner/\n",
        "\n",
        "#lect notebook https://colab.research.google.com/drive/1xb3OD0b8IPqqyVUqRtYu6NgE27Brgc_P?usp=sharing\n"
      ],
      "execution_count": 0,
      "outputs": []
    },
    {
      "cell_type": "code",
      "metadata": {
        "id": "2LwM-0AGl8J8",
        "colab_type": "code",
        "colab": {}
      },
      "source": [
        "from tensorflow.keras.models import Sequential\n",
        "from tensorflow.keras.layers import Dense, Activation, Dropout, LSTM, GRU, Bidirectional, TimeDistributed, InputLayer, Embedding, Conv1D\n",
        "from tensorflow.keras.preprocessing.sequence import pad_sequences\n",
        "from tensorflow.keras.utils import to_categorical\n",
        "import numpy as np\n",
        "from sklearn.model_selection import train_test_split\n",
        "import matplotlib.pyplot as plt\n",
        "from collections import Counter"
      ],
      "execution_count": 0,
      "outputs": []
    },
    {
      "cell_type": "code",
      "metadata": {
        "id": "DNxF4CdSmrls",
        "colab_type": "code",
        "colab": {}
      },
      "source": [
        "from numpy.random import seed\n",
        "seed(0)\n",
        "from tensorflow.random import set_seed\n",
        "set_seed(0)"
      ],
      "execution_count": 0,
      "outputs": []
    },
    {
      "cell_type": "code",
      "metadata": {
        "id": "nBrLIm_4r8zC",
        "colab_type": "code",
        "outputId": "bb341f95-ec10-4a55-9ad2-4b60e4a00c89",
        "colab": {
          "base_uri": "https://localhost:8080/",
          "height": 68
        }
      },
      "source": [
        "import nltk\n",
        "nltk.download('treebank')"
      ],
      "execution_count": 23,
      "outputs": [
        {
          "output_type": "stream",
          "text": [
            "[nltk_data] Downloading package treebank to /root/nltk_data...\n",
            "[nltk_data]   Package treebank is already up-to-date!\n"
          ],
          "name": "stdout"
        },
        {
          "output_type": "execute_result",
          "data": {
            "text/plain": [
              "True"
            ]
          },
          "metadata": {
            "tags": []
          },
          "execution_count": 23
        }
      ]
    },
    {
      "cell_type": "code",
      "metadata": {
        "id": "kMYR_iU-w0sF",
        "colab_type": "code",
        "colab": {}
      },
      "source": [
        "tagged_sentences = nltk.corpus.treebank.tagged_sents()"
      ],
      "execution_count": 0,
      "outputs": []
    },
    {
      "cell_type": "code",
      "metadata": {
        "id": "XfTto6URw35t",
        "colab_type": "code",
        "colab": {}
      },
      "source": [
        "sentences, sentence_tags =[], [] \n",
        "for tagged_sentence in tagged_sentences:\n",
        "    sentence, tags = zip(*tagged_sentence)\n",
        "    sentences.append(sentence)\n",
        "    sentence_tags.append(tags)"
      ],
      "execution_count": 0,
      "outputs": []
    },
    {
      "cell_type": "code",
      "metadata": {
        "id": "RQCUheV7w654",
        "colab_type": "code",
        "colab": {}
      },
      "source": [
        "sent_train, sent_test, tag_train, tag_test = train_test_split(sentences, sentence_tags, test_size=0.2, random_state=0)"
      ],
      "execution_count": 0,
      "outputs": []
    },
    {
      "cell_type": "code",
      "metadata": {
        "id": "5OUr65Dhx0bm",
        "colab_type": "code",
        "colab": {}
      },
      "source": [
        "vocab = Counter()\n",
        "for sent in sent_train:\n",
        "    sent = [word.lower() for word in sent]\n",
        "    vocab.update(sent)"
      ],
      "execution_count": 0,
      "outputs": []
    },
    {
      "cell_type": "code",
      "metadata": {
        "id": "oXfhlxFMx5gf",
        "colab_type": "code",
        "colab": {}
      },
      "source": [
        "filtered_vocab = {word for word in vocab if vocab[word] > 5}"
      ],
      "execution_count": 0,
      "outputs": []
    },
    {
      "cell_type": "code",
      "metadata": {
        "id": "rzZlPei2Hlis",
        "colab_type": "code",
        "colab": {}
      },
      "source": [
        "vocab_test = Counter()\n",
        "for sent in sent_test:\n",
        "    sent = [word.lower() for word in sent]\n",
        "    vocab_test.update(sent)\n",
        "filtered_vocab_test = {word for word in vocab_test if vocab_test[word] > 5}"
      ],
      "execution_count": 0,
      "outputs": []
    },
    {
      "cell_type": "code",
      "metadata": {
        "id": "xStR061vx7Qj",
        "colab_type": "code",
        "colab": {}
      },
      "source": [
        "word2id = {'PAD':0,'UNK':1}    \n",
        "for i,word in enumerate(filtered_vocab):\n",
        "      word2id[word] = i + 2\n",
        "\n",
        "id2word = {i:word for word, i in word2id.items()}"
      ],
      "execution_count": 0,
      "outputs": []
    },
    {
      "cell_type": "code",
      "metadata": {
        "id": "xnRblVQoyFCR",
        "colab_type": "code",
        "colab": {}
      },
      "source": [
        "tag2id = {'PAD':0}  \n",
        "for tags in tag_train:\n",
        "    for tag in tags:\n",
        "      if tag.lower() not in tag2id:\n",
        "        tag2id[tag.lower()] = len(tag2id)\n",
        "\n",
        "id2tag = {i:tag for tag, i in tag2id.items()}"
      ],
      "execution_count": 0,
      "outputs": []
    },
    {
      "cell_type": "code",
      "metadata": {
        "id": "iH2-ronOyL88",
        "colab_type": "code",
        "colab": {}
      },
      "source": [
        "def data2ints(data, smth2id):\n",
        "  int_data = []\n",
        "  for seq in data:\n",
        "      int_seq = []\n",
        "      for i in seq:\n",
        "          try:\n",
        "            int_seq.append(smth2id[i.lower()])\n",
        "          except KeyError:\n",
        "            int_seq.append(smth2id['UNK'])\n",
        "  \n",
        "      int_data.append(int_seq)\n",
        "  return int_data\n",
        " "
      ],
      "execution_count": 0,
      "outputs": []
    },
    {
      "cell_type": "code",
      "metadata": {
        "id": "OcYCS4owHH6q",
        "colab_type": "code",
        "colab": {
          "base_uri": "https://localhost:8080/",
          "height": 34
        },
        "outputId": "f8af8c7c-74a6-4a58-a8c9-4e2988758910"
      },
      "source": [
        "sent_train[0]"
      ],
      "execution_count": 51,
      "outputs": [
        {
          "output_type": "execute_result",
          "data": {
            "text/plain": [
              "('Edward', 'L.', 'Kane', 'succeeded', 'Mr.', 'Taylor', 'as', 'chairman', '.')"
            ]
          },
          "metadata": {
            "tags": []
          },
          "execution_count": 51
        }
      ]
    },
    {
      "cell_type": "code",
      "metadata": {
        "id": "ENGVXP12yOnS",
        "colab_type": "code",
        "outputId": "6521a717-a3ef-4395-ce13-32013800c555",
        "colab": {
          "base_uri": "https://localhost:8080/",
          "height": 85
        }
      },
      "source": [
        "X_train_ids, X_test_ids = data2ints(sent_train, word2id), data2ints(sent_test, word2id)\n",
        "y_train_ids, y_test_ids = data2ints(tag_train, tag2id), data2ints(tag_test, tag2id)\n",
        "\n",
        "\n",
        "print(X_train_ids[0])\n",
        "print(X_test_ids[0])\n",
        "print(y_train_ids[0])\n",
        "print(y_test_ids[0])"
      ],
      "execution_count": 32,
      "outputs": [
        {
          "output_type": "stream",
          "text": [
            "[619, 1, 1, 1, 758, 1, 344, 732, 1273]\n",
            "[566, 1378, 719, 1397, 877, 588, 800, 1, 851, 1, 169, 682, 311, 1273]\n",
            "[1, 1, 1, 2, 1, 1, 3, 4, 5]\n",
            "[18, 19, 21, 24, 10, 25, 24, 18, 21, 14, 3, 7, 15, 5]\n"
          ],
          "name": "stdout"
        }
      ]
    },
    {
      "cell_type": "code",
      "metadata": {
        "id": "r1Oodw0nG5MN",
        "colab_type": "code",
        "colab": {
          "base_uri": "https://localhost:8080/",
          "height": 85
        },
        "outputId": "a7bd52d5-5f37-4ea9-d50e-d3e229681b21"
      },
      "source": [
        "X_train_symbols, X_test_symbols = sent_train, sent_test\n",
        "\n",
        "y_train_symbols, y_test_symbols = tag_train, tag_test\n",
        "\n",
        "\n",
        "print(X_train_symbols[0])\n",
        "print(X_test_symbols[0])\n",
        "print(y_train_symbols[0])\n",
        "print(y_test_symbols[0])"
      ],
      "execution_count": 52,
      "outputs": [
        {
          "output_type": "stream",
          "text": [
            "('Edward', 'L.', 'Kane', 'succeeded', 'Mr.', 'Taylor', 'as', 'chairman', '.')\n",
            "('You', 'do', \"n't\", 'want', '*-1', 'to', 'get', 'yourself', 'too', 'upset', 'about', 'these', 'things', '.')\n",
            "('NNP', 'NNP', 'NNP', 'VBD', 'NNP', 'NNP', 'IN', 'NN', '.')\n",
            "('PRP', 'VBP', 'RB', 'VB', '-NONE-', 'TO', 'VB', 'PRP', 'RB', 'JJ', 'IN', 'DT', 'NNS', '.')\n"
          ],
          "name": "stdout"
        }
      ]
    },
    {
      "cell_type": "code",
      "metadata": {
        "id": "oW-WTcLeyaa5",
        "colab_type": "code",
        "colab": {}
      },
      "source": [
        "MAX_LEN = max(len(x) for x in X_train_ids)"
      ],
      "execution_count": 0,
      "outputs": []
    },
    {
      "cell_type": "code",
      "metadata": {
        "id": "8mBdsCujzTBF",
        "colab_type": "code",
        "outputId": "10921231-6909-4ae8-8d77-87aae4587ba1",
        "colab": {
          "base_uri": "https://localhost:8080/",
          "height": 34
        }
      },
      "source": [
        "MAX_LEN"
      ],
      "execution_count": 34,
      "outputs": [
        {
          "output_type": "execute_result",
          "data": {
            "text/plain": [
              "128"
            ]
          },
          "metadata": {
            "tags": []
          },
          "execution_count": 34
        }
      ]
    },
    {
      "cell_type": "code",
      "metadata": {
        "id": "fnXAeESUYv1v",
        "colab_type": "code",
        "colab": {}
      },
      "source": [
        "MAX_SYMB_LEN = 10\n",
        "for i in (vocab + vocab_test).keys():\n",
        "  if len(i)>MAX_SYMB_LEN:\n",
        "    MAX_SYMB_LEN = len(i)\n"
      ],
      "execution_count": 0,
      "outputs": []
    },
    {
      "cell_type": "code",
      "metadata": {
        "id": "4Hn0livqySmS",
        "colab_type": "code",
        "colab": {}
      },
      "source": [
        "X_train, X_test = pad_sequences(X_train_ids, maxlen=MAX_LEN, padding='post'), pad_sequences(X_test_ids, maxlen=MAX_LEN, padding='post')\n",
        "y_train_pad, y_test_pad = pad_sequences(y_train_ids, maxlen=MAX_LEN, padding='post'), pad_sequences(y_test_ids, maxlen=MAX_LEN, padding='post')"
      ],
      "execution_count": 0,
      "outputs": []
    },
    {
      "cell_type": "code",
      "metadata": {
        "id": "67b3TmewZVfy",
        "colab_type": "code",
        "colab": {}
      },
      "source": [
        "X_train_symb, X_test_symb = pad_sequences(X_train_ids, maxlen=MAX_SYMB_LEN, padding='post'), pad_sequences(X_test_ids, maxlen=MAX_SYMB_LEN, padding='post')\n",
        "y_train_symb_pad, y_test_symb_pad = pad_sequences(y_train_ids, maxlen=MAX_SYMB_LEN, padding='post'), pad_sequences(y_test_ids, maxlen=MAX_SYMB_LEN, padding='post')"
      ],
      "execution_count": 0,
      "outputs": []
    },
    {
      "cell_type": "code",
      "metadata": {
        "id": "rf29HckWyVcC",
        "colab_type": "code",
        "outputId": "bb7d8df9-e312-4083-aeb8-fd63039a75f4",
        "colab": {
          "base_uri": "https://localhost:8080/",
          "height": 34
        }
      },
      "source": [
        "print(X_train_symb.shape, y_train_symb_pad.shape, X_test_symb.shape, y_test_symb_pad.shape)"
      ],
      "execution_count": 56,
      "outputs": [
        {
          "output_type": "stream",
          "text": [
            "(3131, 24) (3131, 24) (783, 24) (783, 24)\n"
          ],
          "name": "stdout"
        }
      ]
    },
    {
      "cell_type": "code",
      "metadata": {
        "id": "TFoUsalDZtDz",
        "colab_type": "code",
        "colab": {
          "base_uri": "https://localhost:8080/",
          "height": 34
        },
        "outputId": "bb6b7cc9-dba0-431a-cbe6-c23c72bcd8e6"
      },
      "source": [
        "print(X_train.shape, y_train_pad.shape, X_test.shape, y_test_pad.shape)"
      ],
      "execution_count": 57,
      "outputs": [
        {
          "output_type": "stream",
          "text": [
            "(3131, 128) (3131, 128) (783, 128) (783, 128)\n"
          ],
          "name": "stdout"
        }
      ]
    },
    {
      "cell_type": "code",
      "metadata": {
        "id": "a9quZpemzZDA",
        "colab_type": "code",
        "colab": {}
      },
      "source": [
        "y_train, y_test = to_categorical(y_train_pad, num_classes=len(tag2id)), to_categorical(y_test_pad, num_classes=len(tag2id))"
      ],
      "execution_count": 0,
      "outputs": []
    },
    {
      "cell_type": "code",
      "metadata": {
        "id": "qXSqyo4hzqgT",
        "colab_type": "code",
        "outputId": "8b7a85bf-8eff-4af3-fe1e-5e777e4aba96",
        "colab": {
          "base_uri": "https://localhost:8080/",
          "height": 357
        }
      },
      "source": [
        "mask_model = Sequential()\n",
        "mask_model.add(InputLayer(input_shape=(MAX_LEN)))\n",
        "mask_model.add(Embedding(len(word2id),100, mask_zero=True))\n",
        "mask_model.add(Bidirectional(LSTM(256, return_sequences=True)))\n",
        "mask_model.add(Dropout(0.2))\n",
        "mask_model.add(Bidirectional(LSTM(128, return_sequences=True)))\n",
        "mask_model.add(TimeDistributed(Dense(len(tag2id))))\n",
        "\n",
        "\n",
        "mask_model.add(InputLayer(input_shape=(MAX_SYMB_LEN)))\n",
        "mask_model.add(Embedding(len(word2id),100, mask_zero=True))\n",
        "onv_global = tf.keras.layers.Conv1D(kernel_size=5, filters=32, strides=1)(concat)\n",
        "flatten = tf.keras.layers.Flatten()(conv_global)\n",
        "mask_model.add(Bidirectional(LSTM(256, return_sequences=True)))\n",
        "mask_model.add(Dropout(0.2))\n",
        "mask_model.add(Bidirectional(LSTM(128, return_sequences=True)))\n",
        "mask_model.add(TimeDistributed(Dense(len(tag2id))))\n",
        "\n",
        "\n",
        "mask_model.add(Activation('softmax'))\n",
        "mask_model.compile(loss='categorical_crossentropy', optimizer='Adam', \n",
        "                   metrics=['accuracy'])\n",
        "mask_model.summary()\n",
        "mask_model.summary()\n"
      ],
      "execution_count": 35,
      "outputs": [
        {
          "output_type": "stream",
          "text": [
            "Model: \"sequential_1\"\n",
            "_________________________________________________________________\n",
            "Layer (type)                 Output Shape              Param #   \n",
            "=================================================================\n",
            "embedding_1 (Embedding)      (None, 128, 100)          168100    \n",
            "_________________________________________________________________\n",
            "bidirectional_1 (Bidirection (None, 128, 512)          731136    \n",
            "_________________________________________________________________\n",
            "dropout_1 (Dropout)          (None, 128, 512)          0         \n",
            "_________________________________________________________________\n",
            "bidirectional_2 (Bidirection (None, 128, 256)          656384    \n",
            "_________________________________________________________________\n",
            "time_distributed_1 (TimeDist (None, 128, 47)           12079     \n",
            "_________________________________________________________________\n",
            "activation_1 (Activation)    (None, 128, 47)           0         \n",
            "=================================================================\n",
            "Total params: 1,567,699\n",
            "Trainable params: 1,567,699\n",
            "Non-trainable params: 0\n",
            "_________________________________________________________________\n"
          ],
          "name": "stdout"
        }
      ]
    },
    {
      "cell_type": "code",
      "metadata": {
        "id": "v0MSmckNzyC-",
        "colab_type": "code",
        "colab": {
          "base_uri": "https://localhost:8080/",
          "height": 714
        },
        "outputId": "675281d7-acf3-49ba-e456-18dd729aa85a"
      },
      "source": [
        "mask_model.fit(X_train,y_train, validation_data=(X_test, y_test), batch_size=128, epochs=20)"
      ],
      "execution_count": 36,
      "outputs": [
        {
          "output_type": "stream",
          "text": [
            "Epoch 1/20\n",
            "25/25 [==============================] - 108s 4s/step - loss: 0.6453 - accuracy: 0.0600 - val_loss: 0.6014 - val_accuracy: 0.0333\n",
            "Epoch 2/20\n",
            "25/25 [==============================] - 103s 4s/step - loss: 0.5767 - accuracy: 0.0334 - val_loss: 0.5903 - val_accuracy: 0.0362\n",
            "Epoch 3/20\n",
            "25/25 [==============================] - 103s 4s/step - loss: 0.5687 - accuracy: 0.0354 - val_loss: 0.5829 - val_accuracy: 0.0358\n",
            "Epoch 4/20\n",
            "25/25 [==============================] - 104s 4s/step - loss: 0.5557 - accuracy: 0.0428 - val_loss: 0.5486 - val_accuracy: 0.0627\n",
            "Epoch 5/20\n",
            "25/25 [==============================] - 103s 4s/step - loss: 0.4653 - accuracy: 0.0796 - val_loss: 0.3866 - val_accuracy: 0.1030\n",
            "Epoch 6/20\n",
            "25/25 [==============================] - 103s 4s/step - loss: 0.3085 - accuracy: 0.1143 - val_loss: 0.2546 - val_accuracy: 0.1334\n",
            "Epoch 7/20\n",
            "25/25 [==============================] - 103s 4s/step - loss: 0.2048 - accuracy: 0.1452 - val_loss: 0.1768 - val_accuracy: 0.1608\n",
            "Epoch 8/20\n",
            "25/25 [==============================] - 103s 4s/step - loss: 0.1449 - accuracy: 0.1634 - val_loss: 0.1357 - val_accuracy: 0.1706\n",
            "Epoch 9/20\n",
            "25/25 [==============================] - 103s 4s/step - loss: 0.1137 - accuracy: 0.1697 - val_loss: 0.1152 - val_accuracy: 0.1739\n",
            "Epoch 10/20\n",
            "25/25 [==============================] - 100s 4s/step - loss: 0.0980 - accuracy: 0.1727 - val_loss: 0.1043 - val_accuracy: 0.1764\n",
            "Epoch 11/20\n",
            "25/25 [==============================] - 101s 4s/step - loss: 0.0889 - accuracy: 0.1743 - val_loss: 0.0995 - val_accuracy: 0.1768\n",
            "Epoch 12/20\n",
            "25/25 [==============================] - 101s 4s/step - loss: 0.0812 - accuracy: 0.1761 - val_loss: 0.0924 - val_accuracy: 0.1789\n",
            "Epoch 13/20\n",
            "25/25 [==============================] - 101s 4s/step - loss: 0.0752 - accuracy: 0.1777 - val_loss: 0.0866 - val_accuracy: 0.1802\n",
            "Epoch 14/20\n",
            "25/25 [==============================] - 105s 4s/step - loss: 0.0703 - accuracy: 0.1790 - val_loss: 0.0828 - val_accuracy: 0.1818\n",
            "Epoch 15/20\n",
            "25/25 [==============================] - 101s 4s/step - loss: 0.0663 - accuracy: 0.1799 - val_loss: 0.0798 - val_accuracy: 0.1824\n",
            "Epoch 16/20\n",
            "25/25 [==============================] - 101s 4s/step - loss: 0.0629 - accuracy: 0.1807 - val_loss: 0.0782 - val_accuracy: 0.1825\n",
            "Epoch 17/20\n",
            "25/25 [==============================] - 101s 4s/step - loss: 0.0605 - accuracy: 0.1813 - val_loss: 0.0773 - val_accuracy: 0.1827\n",
            "Epoch 18/20\n",
            "25/25 [==============================] - 101s 4s/step - loss: 0.0579 - accuracy: 0.1818 - val_loss: 0.0751 - val_accuracy: 0.1833\n",
            "Epoch 19/20\n",
            "25/25 [==============================] - 101s 4s/step - loss: 0.0550 - accuracy: 0.1829 - val_loss: 0.0748 - val_accuracy: 0.1831\n",
            "Epoch 20/20\n",
            "25/25 [==============================] - 105s 4s/step - loss: 0.0534 - accuracy: 0.1831 - val_loss: 0.0735 - val_accuracy: 0.1834\n"
          ],
          "name": "stdout"
        },
        {
          "output_type": "execute_result",
          "data": {
            "text/plain": [
              "<tensorflow.python.keras.callbacks.History at 0x7f053a14dc18>"
            ]
          },
          "metadata": {
            "tags": []
          },
          "execution_count": 36
        }
      ]
    },
    {
      "cell_type": "code",
      "metadata": {
        "id": "gVoQfCWmFmeO",
        "colab_type": "code",
        "colab": {}
      },
      "source": [
        "#"
      ],
      "execution_count": 0,
      "outputs": []
    }
  ]
}