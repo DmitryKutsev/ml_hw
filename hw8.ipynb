{
  "nbformat": 4,
  "nbformat_minor": 0,
  "metadata": {
    "colab": {
      "name": "Untitled37.ipynb",
      "provenance": [],
      "authorship_tag": "ABX9TyMKqL8Tz9w77nBbUEo3a18t",
      "include_colab_link": true
    },
    "kernelspec": {
      "name": "python3",
      "display_name": "Python 3"
    }
  },
  "cells": [
    {
      "cell_type": "markdown",
      "metadata": {
        "id": "view-in-github",
        "colab_type": "text"
      },
      "source": [
        "<a href=\"https://colab.research.google.com/github/DmitryKutsev/ml_hw/blob/master/hw8.ipynb\" target=\"_parent\"><img src=\"https://colab.research.google.com/assets/colab-badge.svg\" alt=\"Open In Colab\"/></a>"
      ]
    },
    {
      "cell_type": "code",
      "metadata": {
        "id": "X_BjyKE5lunc",
        "colab_type": "code",
        "colab": {}
      },
      "source": [
        "#form https://docs.google.com/forms/d/e/1FAIpQLSdH_5zoN0BvuYJdUaIYjQDkz7niBVXR671zpUm3p-RqJdBDfA/viewform\n",
        "\n",
        "#handout https://www.depends-on-the-definition.com/lstm-with-char-embeddings-for-ner/\n",
        "\n",
        "#lect notebook https://colab.research.google.com/drive/1xb3OD0b8IPqqyVUqRtYu6NgE27Brgc_P?usp=sharing\n"
      ],
      "execution_count": 0,
      "outputs": []
    },
    {
      "cell_type": "code",
      "metadata": {
        "id": "2LwM-0AGl8J8",
        "colab_type": "code",
        "colab": {}
      },
      "source": [
        "from tensorflow.keras.models import Sequential\n",
        "from tensorflow.keras.layers import Dense, Activation, SpatialDropout1D, Dropout, LSTM, GRU, Bidirectional, TimeDistributed, InputLayer, Embedding, Conv1D\n",
        "from tensorflow.keras.preprocessing.sequence import pad_sequences\n",
        "from tensorflow.keras.utils import to_categorical\n",
        "import numpy as np\n",
        "from sklearn.model_selection import train_test_split\n",
        "import matplotlib.pyplot as plt\n",
        "from collections import Counter\n",
        "import tensorflow as tf"
      ],
      "execution_count": 0,
      "outputs": []
    },
    {
      "cell_type": "code",
      "metadata": {
        "id": "DNxF4CdSmrls",
        "colab_type": "code",
        "colab": {}
      },
      "source": [
        "from numpy.random import seed\n",
        "seed(0)\n",
        "from tensorflow.random import set_seed\n",
        "set_seed(0)"
      ],
      "execution_count": 0,
      "outputs": []
    },
    {
      "cell_type": "code",
      "metadata": {
        "id": "nBrLIm_4r8zC",
        "colab_type": "code",
        "outputId": "bf308a22-63ff-4251-b899-de1879697a03",
        "colab": {
          "base_uri": "https://localhost:8080/",
          "height": 68
        }
      },
      "source": [
        "import nltk\n",
        "nltk.download('treebank')"
      ],
      "execution_count": 69,
      "outputs": [
        {
          "output_type": "stream",
          "text": [
            "[nltk_data] Downloading package treebank to /root/nltk_data...\n",
            "[nltk_data]   Package treebank is already up-to-date!\n"
          ],
          "name": "stdout"
        },
        {
          "output_type": "execute_result",
          "data": {
            "text/plain": [
              "True"
            ]
          },
          "metadata": {
            "tags": []
          },
          "execution_count": 69
        }
      ]
    },
    {
      "cell_type": "code",
      "metadata": {
        "id": "kMYR_iU-w0sF",
        "colab_type": "code",
        "colab": {}
      },
      "source": [
        "tagged_sentences = nltk.corpus.treebank.tagged_sents()"
      ],
      "execution_count": 0,
      "outputs": []
    },
    {
      "cell_type": "code",
      "metadata": {
        "id": "XfTto6URw35t",
        "colab_type": "code",
        "colab": {}
      },
      "source": [
        "sentences, sentence_tags =[], [] \n",
        "for tagged_sentence in tagged_sentences:\n",
        "    sentence, tags = zip(*tagged_sentence)\n",
        "    sentences.append(sentence)\n",
        "    sentence_tags.append(tags)"
      ],
      "execution_count": 0,
      "outputs": []
    },
    {
      "cell_type": "code",
      "metadata": {
        "id": "RQCUheV7w654",
        "colab_type": "code",
        "colab": {}
      },
      "source": [
        "sent_train, sent_test, tag_train, tag_test = train_test_split(sentences, sentence_tags, test_size=0.2, random_state=0)"
      ],
      "execution_count": 0,
      "outputs": []
    },
    {
      "cell_type": "code",
      "metadata": {
        "id": "5OUr65Dhx0bm",
        "colab_type": "code",
        "colab": {}
      },
      "source": [
        "# vocab = Counter()\n",
        "# for sent in sent_train:\n",
        "#     sent = [word.lower() for word in sent]\n",
        "#     vocab.update(sent)"
      ],
      "execution_count": 0,
      "outputs": []
    },
    {
      "cell_type": "code",
      "metadata": {
        "id": "lkFCaD48alwt",
        "colab_type": "code",
        "colab": {}
      },
      "source": [
        "vocab = Counter()\n",
        "for sent in sent_train:\n",
        "    sent = [word.lower() for word in sent]\n",
        "    for word in sent:\n",
        "      for i in word:\n",
        "        vocab.update(sent)"
      ],
      "execution_count": 0,
      "outputs": []
    },
    {
      "cell_type": "code",
      "metadata": {
        "id": "oXfhlxFMx5gf",
        "colab_type": "code",
        "colab": {}
      },
      "source": [
        "filtered_vocab = {word for word in vocab if vocab[word] > 5}"
      ],
      "execution_count": 0,
      "outputs": []
    },
    {
      "cell_type": "code",
      "metadata": {
        "id": "rzZlPei2Hlis",
        "colab_type": "code",
        "colab": {}
      },
      "source": [
        "vocab_test = Counter()\n",
        "for sent in sent_test:\n",
        "    sent = [word.lower() for word in sent]\n",
        "    vocab_test.update(sent)\n",
        "filtered_vocab_test = {word for word in vocab_test if vocab_test[word] > 5}"
      ],
      "execution_count": 0,
      "outputs": []
    },
    {
      "cell_type": "code",
      "metadata": {
        "id": "xStR061vx7Qj",
        "colab_type": "code",
        "colab": {}
      },
      "source": [
        "word2id = {'PAD':0,'UNK':1}    \n",
        "for i,word in enumerate(filtered_vocab):\n",
        "      word2id[word] = i + 2\n",
        "\n",
        "id2word = {i:word for word, i in word2id.items()}"
      ],
      "execution_count": 0,
      "outputs": []
    },
    {
      "cell_type": "code",
      "metadata": {
        "id": "xnRblVQoyFCR",
        "colab_type": "code",
        "colab": {}
      },
      "source": [
        "tag2id = {'PAD':0}  \n",
        "for tags in tag_train:\n",
        "    for tag in tags:\n",
        "      if tag.lower() not in tag2id:\n",
        "        tag2id[tag.lower()] = len(tag2id)\n",
        "\n",
        "id2tag = {i:tag for tag, i in tag2id.items()}"
      ],
      "execution_count": 0,
      "outputs": []
    },
    {
      "cell_type": "code",
      "metadata": {
        "id": "iH2-ronOyL88",
        "colab_type": "code",
        "colab": {}
      },
      "source": [
        "def data2ints(data, smth2id):\n",
        "  int_data = []\n",
        "  for seq in data:\n",
        "      int_seq = []\n",
        "      for i in seq:\n",
        "          try:\n",
        "            int_seq.append(smth2id[i.lower()])\n",
        "          except KeyError:\n",
        "            int_seq.append(smth2id['UNK'])\n",
        "  \n",
        "      int_data.append(int_seq)\n",
        "  return int_data\n",
        " "
      ],
      "execution_count": 0,
      "outputs": []
    },
    {
      "cell_type": "code",
      "metadata": {
        "id": "OcYCS4owHH6q",
        "colab_type": "code",
        "colab": {
          "base_uri": "https://localhost:8080/",
          "height": 34
        },
        "outputId": "9dfe63d5-973a-4341-8220-7849572e453e"
      },
      "source": [
        "sent_train[0]"
      ],
      "execution_count": 155,
      "outputs": [
        {
          "output_type": "execute_result",
          "data": {
            "text/plain": [
              "('Edward', 'L.', 'Kane', 'succeeded', 'Mr.', 'Taylor', 'as', 'chairman', '.')"
            ]
          },
          "metadata": {
            "tags": []
          },
          "execution_count": 155
        }
      ]
    },
    {
      "cell_type": "code",
      "metadata": {
        "id": "ENGVXP12yOnS",
        "colab_type": "code",
        "outputId": "06a65299-be28-4e1a-e380-e8beb52d7e8f",
        "colab": {
          "base_uri": "https://localhost:8080/",
          "height": 85
        }
      },
      "source": [
        "X_train_ids, X_test_ids = data2ints(sent_train, word2id), data2ints(sent_test, word2id)\n",
        "y_train_ids, y_test_ids = data2ints(tag_train, tag2id), data2ints(tag_test, tag2id)\n",
        "\n",
        "\n",
        "print(X_train_ids[0])\n",
        "print(X_test_ids[0])\n",
        "print(y_train_ids[0])\n",
        "print(y_test_ids[0])"
      ],
      "execution_count": 156,
      "outputs": [
        {
          "output_type": "stream",
          "text": [
            "[6020, 1050, 2590, 9712, 8679, 393, 5581, 1087, 4396]\n",
            "[854, 7104, 6150, 7134, 6395, 888, 6269, 1, 8805, 5917, 2700, 8573, 443, 4396]\n",
            "[1, 1, 1, 2, 1, 1, 3, 4, 5]\n",
            "[18, 19, 21, 24, 10, 25, 24, 18, 21, 14, 3, 7, 15, 5]\n"
          ],
          "name": "stdout"
        }
      ]
    },
    {
      "cell_type": "code",
      "metadata": {
        "id": "r1Oodw0nG5MN",
        "colab_type": "code",
        "colab": {
          "base_uri": "https://localhost:8080/",
          "height": 85
        },
        "outputId": "d87b0dc8-652c-4abd-9e0a-37da220e4ff0"
      },
      "source": [
        "X_train_symbols, X_test_symbols = sent_train, sent_test\n",
        "\n",
        "y_train_symbols, y_test_symbols = tag_train, tag_test\n",
        "\n",
        "\n",
        "print(X_train_symbols[0])\n",
        "print(X_test_symbols[0])\n",
        "print(y_train_symbols[0])\n",
        "print(y_test_symbols[0])"
      ],
      "execution_count": 157,
      "outputs": [
        {
          "output_type": "stream",
          "text": [
            "('Edward', 'L.', 'Kane', 'succeeded', 'Mr.', 'Taylor', 'as', 'chairman', '.')\n",
            "('You', 'do', \"n't\", 'want', '*-1', 'to', 'get', 'yourself', 'too', 'upset', 'about', 'these', 'things', '.')\n",
            "('NNP', 'NNP', 'NNP', 'VBD', 'NNP', 'NNP', 'IN', 'NN', '.')\n",
            "('PRP', 'VBP', 'RB', 'VB', '-NONE-', 'TO', 'VB', 'PRP', 'RB', 'JJ', 'IN', 'DT', 'NNS', '.')\n"
          ],
          "name": "stdout"
        }
      ]
    },
    {
      "cell_type": "code",
      "metadata": {
        "id": "oW-WTcLeyaa5",
        "colab_type": "code",
        "colab": {}
      },
      "source": [
        "MAX_LEN = max(len(x) for x in X_train_ids)"
      ],
      "execution_count": 0,
      "outputs": []
    },
    {
      "cell_type": "code",
      "metadata": {
        "id": "fnXAeESUYv1v",
        "colab_type": "code",
        "colab": {}
      },
      "source": [
        "MAX_SYMB_LEN = max(len(x) for x in vocab.keys())\n",
        "\n",
        "MAX_SEQ_LEN = max(len(x) for x in sent_train)"
      ],
      "execution_count": 0,
      "outputs": []
    },
    {
      "cell_type": "code",
      "metadata": {
        "id": "8mBdsCujzTBF",
        "colab_type": "code",
        "outputId": "d52bb0c0-b11e-4034-9764-713dff9203fa",
        "colab": {
          "base_uri": "https://localhost:8080/",
          "height": 34
        }
      },
      "source": [
        "MAX_LEN, MAX_SEQ_LEN, MAX_SYMB_LEN "
      ],
      "execution_count": 160,
      "outputs": [
        {
          "output_type": "execute_result",
          "data": {
            "text/plain": [
              "(128, 128, 24)"
            ]
          },
          "metadata": {
            "tags": []
          },
          "execution_count": 160
        }
      ]
    },
    {
      "cell_type": "code",
      "metadata": {
        "id": "4Hn0livqySmS",
        "colab_type": "code",
        "colab": {}
      },
      "source": [
        "X_train, X_test = pad_sequences(X_train_ids, maxlen=MAX_LEN, padding='post'), pad_sequences(X_test_ids, maxlen=MAX_LEN, padding='post')\n",
        "y_train_pad, y_test_pad = pad_sequences(y_train_ids, maxlen=MAX_LEN, padding='post'), pad_sequences(y_test_ids, maxlen=MAX_LEN, padding='post')"
      ],
      "execution_count": 0,
      "outputs": []
    },
    {
      "cell_type": "code",
      "metadata": {
        "id": "67b3TmewZVfy",
        "colab_type": "code",
        "colab": {}
      },
      "source": [
        "X_train_symb, X_test_symb = pad_sequences(X_train_ids, maxlen=MAX_SYMB_LEN, padding='post'), pad_sequences(X_test_ids, maxlen=MAX_SYMB_LEN, padding='post')\n",
        "y_train_symb_pad, y_test_symb_pad = pad_sequences(y_train_ids, maxlen=MAX_SYMB_LEN, padding='post'), pad_sequences(y_test_ids, maxlen=MAX_SYMB_LEN, padding='post')"
      ],
      "execution_count": 0,
      "outputs": []
    },
    {
      "cell_type": "code",
      "metadata": {
        "id": "rf29HckWyVcC",
        "colab_type": "code",
        "outputId": "2a337094-8d1a-4b8c-bab8-05d575d3b273",
        "colab": {
          "base_uri": "https://localhost:8080/",
          "height": 34
        }
      },
      "source": [
        "print(X_train_symb.shape, y_train_symb_pad.shape, X_test_symb.shape, y_test_symb_pad.shape)"
      ],
      "execution_count": 163,
      "outputs": [
        {
          "output_type": "stream",
          "text": [
            "(3131, 24) (3131, 24) (783, 24) (783, 24)\n"
          ],
          "name": "stdout"
        }
      ]
    },
    {
      "cell_type": "code",
      "metadata": {
        "id": "TFoUsalDZtDz",
        "colab_type": "code",
        "colab": {
          "base_uri": "https://localhost:8080/",
          "height": 34
        },
        "outputId": "e664dec3-fb28-413f-d0b7-462649d14794"
      },
      "source": [
        "print(X_train.shape, y_train_pad.shape, X_test.shape, y_test_pad.shape)"
      ],
      "execution_count": 164,
      "outputs": [
        {
          "output_type": "stream",
          "text": [
            "(3131, 128) (3131, 128) (783, 128) (783, 128)\n"
          ],
          "name": "stdout"
        }
      ]
    },
    {
      "cell_type": "code",
      "metadata": {
        "id": "a9quZpemzZDA",
        "colab_type": "code",
        "colab": {}
      },
      "source": [
        "y_train, y_test = to_categorical(y_train_pad, num_classes=len(tag2id)), to_categorical(y_test_pad, num_classes=len(tag2id))"
      ],
      "execution_count": 0,
      "outputs": []
    },
    {
      "cell_type": "code",
      "metadata": {
        "id": "uBj11TE8ez2l",
        "colab_type": "code",
        "colab": {}
      },
      "source": [
        "y_train_symb, y_test_symb = to_categorical(y_train_pad, num_classes=len(tag2id)), to_categorical(y_test_pad, num_classes=len(tag2id))"
      ],
      "execution_count": 0,
      "outputs": []
    },
    {
      "cell_type": "code",
      "metadata": {
        "id": "qXSqyo4hzqgT",
        "colab_type": "code",
        "outputId": "7b5eda74-69fe-46e0-c0a2-c47faf1d9598",
        "colab": {
          "base_uri": "https://localhost:8080/",
          "height": 680
        }
      },
      "source": [
        "inputs = tf.keras.layers.Input(shape=(MAX_LEN, ))\n",
        "embeddings = tf.keras.layers.Embedding(input_dim=len(word2id), output_dim=100)(inputs, )\n",
        "bilstm1 = tf.keras.layers.Bidirectional(LSTM(256, return_sequences=True))(embeddings)\n",
        "drop = tf.keras.layers.Dropout(0.2)(bilstm1)\n",
        "bilstm2 = tf.keras.layers.Bidirectional(LSTM(128, return_sequences=True))(drop)\n",
        "outputs1 = tf.keras.layers.TimeDistributed(Dense(len(tag2id), activation='softmax'))(bilstm2)\n",
        "\n",
        "inputs2 = tf.keras.layers.Input(shape=(MAX_LEN, MAX_SYMB_LEN))\n",
        "embeddings2 = tf.keras.layers.Embedding(input_dim=len(word2id), output_dim=100)(inputs2, )\n",
        "conv = TimeDistributed(tf.keras.layers.Conv1D(kernel_size=5, filters=32, strides=1))(embeddings2)\n",
        "flatten = TimeDistributed(tf.keras.layers.Flatten())(conv)\n",
        "#dense = tf.keras.layers.Dense(50, activation='relu')(flatten)\n",
        "outputs2 = tf.keras.layers.TimeDistributed(Dense(len(tag2id), activation='softmax'))(flatten)\n",
        "\n",
        "\n",
        "\n",
        "concat = tf.keras.layers.concatenate([outputs1, outputs2])\n",
        "concat = tf.keras.layers.Dropout(0.2)(concat)\n",
        "main_lstm = Bidirectional(LSTM(128, return_sequences=True, recurrent_dropout=0.6))(concat)\n",
        "outputs = TimeDistributed(Dense(len(tag2id), activation=\"sigmoid\"))(main_lstm)\n",
        "\n",
        "inputs = [inputs, inputs2]\n",
        "model = tf.keras.Model(inputs=inputs, outputs=outputs)\n",
        "model.compile(loss='categorical_crossentropy', optimizer='Adam', \n",
        "                   metrics=['accuracy'])\n",
        "model.summary()\n"
      ],
      "execution_count": 220,
      "outputs": [
        {
          "output_type": "stream",
          "text": [
            "Model: \"model_40\"\n",
            "__________________________________________________________________________________________________\n",
            "Layer (type)                    Output Shape         Param #     Connected to                     \n",
            "==================================================================================================\n",
            "input_181 (InputLayer)          [(None, 128)]        0                                            \n",
            "__________________________________________________________________________________________________\n",
            "embedding_250 (Embedding)       (None, 128, 100)     1007100     input_181[0][0]                  \n",
            "__________________________________________________________________________________________________\n",
            "input_182 (InputLayer)          [(None, 128, 24)]    0                                            \n",
            "__________________________________________________________________________________________________\n",
            "bidirectional_234 (Bidirectiona (None, 128, 512)     731136      embedding_250[0][0]              \n",
            "__________________________________________________________________________________________________\n",
            "embedding_251 (Embedding)       (None, 128, 24, 100) 1007100     input_182[0][0]                  \n",
            "__________________________________________________________________________________________________\n",
            "dropout_114 (Dropout)           (None, 128, 512)     0           bidirectional_234[0][0]          \n",
            "__________________________________________________________________________________________________\n",
            "time_distributed_215 (TimeDistr (None, 128, 20, 32)  16032       embedding_251[0][0]              \n",
            "__________________________________________________________________________________________________\n",
            "bidirectional_235 (Bidirectiona (None, 128, 256)     656384      dropout_114[0][0]                \n",
            "__________________________________________________________________________________________________\n",
            "time_distributed_216 (TimeDistr (None, 128, 640)     0           time_distributed_215[0][0]       \n",
            "__________________________________________________________________________________________________\n",
            "time_distributed_214 (TimeDistr (None, 128, 47)      12079       bidirectional_235[0][0]          \n",
            "__________________________________________________________________________________________________\n",
            "time_distributed_217 (TimeDistr (None, 128, 47)      30127       time_distributed_216[0][0]       \n",
            "__________________________________________________________________________________________________\n",
            "concatenate_55 (Concatenate)    (None, 128, 94)      0           time_distributed_214[0][0]       \n",
            "                                                                 time_distributed_217[0][0]       \n",
            "__________________________________________________________________________________________________\n",
            "dropout_115 (Dropout)           (None, 128, 94)      0           concatenate_55[0][0]             \n",
            "__________________________________________________________________________________________________\n",
            "bidirectional_236 (Bidirectiona (None, 128, 256)     228352      dropout_115[0][0]                \n",
            "__________________________________________________________________________________________________\n",
            "time_distributed_218 (TimeDistr (None, 128, 47)      12079       bidirectional_236[0][0]          \n",
            "==================================================================================================\n",
            "Total params: 3,700,389\n",
            "Trainable params: 3,700,389\n",
            "Non-trainable params: 0\n",
            "__________________________________________________________________________________________________\n"
          ],
          "name": "stdout"
        }
      ]
    },
    {
      "cell_type": "code",
      "metadata": {
        "id": "4MPWjypVsx5z",
        "colab_type": "code",
        "colab": {}
      },
      "source": [
        "model.fit(X_train,y_train, validation_data=(X_test, y_test), batch_size=128, epochs=10)"
      ],
      "execution_count": 0,
      "outputs": []
    }
  ]
}