{
  "nbformat": 4,
  "nbformat_minor": 0,
  "metadata": {
    "colab": {
      "name": "Untitled35.ipynb",
      "provenance": [],
      "authorship_tag": "ABX9TyPDVZswhUhHQOekV7M5kp+5",
      "include_colab_link": true
    },
    "kernelspec": {
      "name": "python3",
      "display_name": "Python 3"
    },
    "accelerator": "GPU"
  },
  "cells": [
    {
      "cell_type": "markdown",
      "metadata": {
        "id": "view-in-github",
        "colab_type": "text"
      },
      "source": [
        "<a href=\"https://colab.research.google.com/github/DmitryKutsev/ml_hw/blob/master/hw7.ipynb\" target=\"_parent\"><img src=\"https://colab.research.google.com/assets/colab-badge.svg\" alt=\"Open In Colab\"/></a>"
      ]
    },
    {
      "cell_type": "code",
      "metadata": {
        "id": "dVlNGq3pQ4wk",
        "colab_type": "code",
        "colab": {}
      },
      "source": [
        "#https://github.com/mannefedov/hse_ml_m1/blob/master/7_cnn/cnn.ipynb\n",
        "#7\n",
        "# https://docs.google.com/forms/d/e/1FAIpQLSee0e7Tis3EoPnxGqyb_vHuR-u9Dz2M85ajMd-m9uNX1bsepQ/viewform"
      ],
      "execution_count": 0,
      "outputs": []
    },
    {
      "cell_type": "code",
      "metadata": {
        "id": "bj5Hs34qCUtn",
        "colab_type": "code",
        "outputId": "4ae1d3df-2d46-4499-9762-7ba85b9d5c90",
        "colab": {
          "base_uri": "https://localhost:8080/",
          "height": 190
        }
      },
      "source": [
        "from google.colab import drive\n",
        "drive.mount('/content/drive')\n",
        "\n",
        "!unzip '/content/drive/My Drive/data.zip'"
      ],
      "execution_count": 1,
      "outputs": [
        {
          "output_type": "stream",
          "text": [
            "Go to this URL in a browser: https://accounts.google.com/o/oauth2/auth?client_id=947318989803-6bn6qk8qdgf4n4g3pfee6491hc0brc4i.apps.googleusercontent.com&redirect_uri=urn%3aietf%3awg%3aoauth%3a2.0%3aoob&response_type=code&scope=email%20https%3a%2f%2fwww.googleapis.com%2fauth%2fdocs.test%20https%3a%2f%2fwww.googleapis.com%2fauth%2fdrive%20https%3a%2f%2fwww.googleapis.com%2fauth%2fdrive.photos.readonly%20https%3a%2f%2fwww.googleapis.com%2fauth%2fpeopleapi.readonly\n",
            "\n",
            "Enter your authorization code:\n",
            "··········\n",
            "Mounted at /content/drive\n",
            "Archive:  /content/drive/My Drive/data.zip\n",
            "  inflating: avito_data.csv          \n",
            "  inflating: quora.csv               \n",
            "  inflating: __MACOSX/._quora.csv    \n"
          ],
          "name": "stdout"
        }
      ]
    },
    {
      "cell_type": "code",
      "metadata": {
        "id": "_8ZBG-P1pfxW",
        "colab_type": "code",
        "outputId": "7ffa73a6-d9c0-4856-816f-e271df49c01f",
        "colab": {
          "base_uri": "https://localhost:8080/",
          "height": 462
        }
      },
      "source": [
        "!pip install pandas scikit-learn gensim matplotlib"
      ],
      "execution_count": 2,
      "outputs": [
        {
          "output_type": "stream",
          "text": [
            "Requirement already satisfied: pandas in /usr/local/lib/python3.6/dist-packages (1.0.3)\n",
            "Requirement already satisfied: scikit-learn in /usr/local/lib/python3.6/dist-packages (0.22.2.post1)\n",
            "Requirement already satisfied: gensim in /usr/local/lib/python3.6/dist-packages (3.6.0)\n",
            "Requirement already satisfied: matplotlib in /usr/local/lib/python3.6/dist-packages (3.2.1)\n",
            "Requirement already satisfied: pytz>=2017.2 in /usr/local/lib/python3.6/dist-packages (from pandas) (2018.9)\n",
            "Requirement already satisfied: python-dateutil>=2.6.1 in /usr/local/lib/python3.6/dist-packages (from pandas) (2.8.1)\n",
            "Requirement already satisfied: numpy>=1.13.3 in /usr/local/lib/python3.6/dist-packages (from pandas) (1.18.4)\n",
            "Requirement already satisfied: scipy>=0.17.0 in /usr/local/lib/python3.6/dist-packages (from scikit-learn) (1.4.1)\n",
            "Requirement already satisfied: joblib>=0.11 in /usr/local/lib/python3.6/dist-packages (from scikit-learn) (0.14.1)\n",
            "Requirement already satisfied: six>=1.5.0 in /usr/local/lib/python3.6/dist-packages (from gensim) (1.12.0)\n",
            "Requirement already satisfied: smart-open>=1.2.1 in /usr/local/lib/python3.6/dist-packages (from gensim) (2.0.0)\n",
            "Requirement already satisfied: cycler>=0.10 in /usr/local/lib/python3.6/dist-packages (from matplotlib) (0.10.0)\n",
            "Requirement already satisfied: pyparsing!=2.0.4,!=2.1.2,!=2.1.6,>=2.0.1 in /usr/local/lib/python3.6/dist-packages (from matplotlib) (2.4.7)\n",
            "Requirement already satisfied: kiwisolver>=1.0.1 in /usr/local/lib/python3.6/dist-packages (from matplotlib) (1.2.0)\n",
            "Requirement already satisfied: boto3 in /usr/local/lib/python3.6/dist-packages (from smart-open>=1.2.1->gensim) (1.13.4)\n",
            "Requirement already satisfied: boto in /usr/local/lib/python3.6/dist-packages (from smart-open>=1.2.1->gensim) (2.49.0)\n",
            "Requirement already satisfied: requests in /usr/local/lib/python3.6/dist-packages (from smart-open>=1.2.1->gensim) (2.23.0)\n",
            "Requirement already satisfied: jmespath<1.0.0,>=0.7.1 in /usr/local/lib/python3.6/dist-packages (from boto3->smart-open>=1.2.1->gensim) (0.9.5)\n",
            "Requirement already satisfied: s3transfer<0.4.0,>=0.3.0 in /usr/local/lib/python3.6/dist-packages (from boto3->smart-open>=1.2.1->gensim) (0.3.3)\n",
            "Requirement already satisfied: botocore<1.17.0,>=1.16.4 in /usr/local/lib/python3.6/dist-packages (from boto3->smart-open>=1.2.1->gensim) (1.16.4)\n",
            "Requirement already satisfied: chardet<4,>=3.0.2 in /usr/local/lib/python3.6/dist-packages (from requests->smart-open>=1.2.1->gensim) (3.0.4)\n",
            "Requirement already satisfied: certifi>=2017.4.17 in /usr/local/lib/python3.6/dist-packages (from requests->smart-open>=1.2.1->gensim) (2020.4.5.1)\n",
            "Requirement already satisfied: idna<3,>=2.5 in /usr/local/lib/python3.6/dist-packages (from requests->smart-open>=1.2.1->gensim) (2.9)\n",
            "Requirement already satisfied: urllib3!=1.25.0,!=1.25.1,<1.26,>=1.21.1 in /usr/local/lib/python3.6/dist-packages (from requests->smart-open>=1.2.1->gensim) (1.24.3)\n",
            "Requirement already satisfied: docutils<0.16,>=0.10 in /usr/local/lib/python3.6/dist-packages (from botocore<1.17.0,>=1.16.4->boto3->smart-open>=1.2.1->gensim) (0.15.2)\n"
          ],
          "name": "stdout"
        }
      ]
    },
    {
      "cell_type": "code",
      "metadata": {
        "id": "JWLewr5Fp3lR",
        "colab_type": "code",
        "colab": {}
      },
      "source": [
        "import tensorflow as tf"
      ],
      "execution_count": 0,
      "outputs": []
    },
    {
      "cell_type": "code",
      "metadata": {
        "id": "9A9DvgNCp8OQ",
        "colab_type": "code",
        "colab": {}
      },
      "source": [
        "import pandas as pd\n",
        "import numpy as np\n",
        "from string import punctuation\n",
        "from sklearn.model_selection import train_test_split\n",
        "from collections import Counter\n",
        "import matplotlib.pyplot as plt\n",
        "%matplotlib inline"
      ],
      "execution_count": 0,
      "outputs": []
    },
    {
      "cell_type": "code",
      "metadata": {
        "id": "zd3MEKEhUUzw",
        "colab_type": "code",
        "colab": {}
      },
      "source": [
        "def preprocess(text):\n",
        "    tokens = text.lower().split()\n",
        "    tokens = [token.strip(punctuation) for token in tokens]\n",
        "    string = ''.join(tokens)\n",
        "    symbols = [i for i in string if i != \" \"]\n",
        "    return symbols"
      ],
      "execution_count": 0,
      "outputs": []
    },
    {
      "cell_type": "code",
      "metadata": {
        "id": "V-UVjmZRs42l",
        "colab_type": "code",
        "colab": {}
      },
      "source": [
        "from tensorflow.keras import backend as K\n",
        "def f1(y_true, y_pred):\n",
        "    def recall(y_true, y_pred):\n",
        "        \"\"\"Recall metric.\n",
        "\n",
        "        Only computes a batch-wise average of recall.\n",
        "\n",
        "        Computes the recall, a metric for multi-label classification of\n",
        "        how many relevant items are selected.\n",
        "        \"\"\"\n",
        "        true_positives = K.sum(K.round(K.clip(y_true * y_pred, 0, 1)))\n",
        "        possible_positives = K.sum(K.round(K.clip(y_true, 0, 1)))\n",
        "        recall = true_positives / (possible_positives + K.epsilon())\n",
        "        return recall\n",
        "\n",
        "    def precision(y_true, y_pred):\n",
        "        \"\"\"Precision metric.\n",
        "\n",
        "        Only computes a batch-wise average of precision.\n",
        "\n",
        "        Computes the precision, a metric for multi-label classification of\n",
        "        how many selected items are relevant.\n",
        "        \"\"\"\n",
        "        true_positives = K.sum(K.round(K.clip(y_true * y_pred, 0, 1)))\n",
        "        predicted_positives = K.sum(K.round(K.clip(y_pred, 0, 1)))\n",
        "        precision = true_positives / (predicted_positives + K.epsilon())\n",
        "        return precision\n",
        "    precision = precision(y_true, y_pred)\n",
        "    recall = recall(y_true, y_pred)\n",
        "    return 2*((precision*recall)/(precision+recall+K.epsilon()))"
      ],
      "execution_count": 0,
      "outputs": []
    },
    {
      "cell_type": "code",
      "metadata": {
        "id": "36GheOIKUHMO",
        "colab_type": "code",
        "colab": {}
      },
      "source": [
        "quora = pd.read_csv('quora.csv')"
      ],
      "execution_count": 0,
      "outputs": []
    },
    {
      "cell_type": "code",
      "metadata": {
        "id": "p7xpvuiCULGd",
        "colab_type": "code",
        "colab": {
          "base_uri": "https://localhost:8080/",
          "height": 419
        },
        "outputId": "f83cd60c-0cb2-4f49-aad9-fd39d814c542"
      },
      "source": [
        "quora"
      ],
      "execution_count": 8,
      "outputs": [
        {
          "output_type": "execute_result",
          "data": {
            "text/html": [
              "<div>\n",
              "<style scoped>\n",
              "    .dataframe tbody tr th:only-of-type {\n",
              "        vertical-align: middle;\n",
              "    }\n",
              "\n",
              "    .dataframe tbody tr th {\n",
              "        vertical-align: top;\n",
              "    }\n",
              "\n",
              "    .dataframe thead th {\n",
              "        text-align: right;\n",
              "    }\n",
              "</style>\n",
              "<table border=\"1\" class=\"dataframe\">\n",
              "  <thead>\n",
              "    <tr style=\"text-align: right;\">\n",
              "      <th></th>\n",
              "      <th>qid</th>\n",
              "      <th>question_text</th>\n",
              "      <th>target</th>\n",
              "    </tr>\n",
              "  </thead>\n",
              "  <tbody>\n",
              "    <tr>\n",
              "      <th>0</th>\n",
              "      <td>00002165364db923c7e6</td>\n",
              "      <td>How did Quebec nationalists see their province...</td>\n",
              "      <td>0</td>\n",
              "    </tr>\n",
              "    <tr>\n",
              "      <th>1</th>\n",
              "      <td>000032939017120e6e44</td>\n",
              "      <td>Do you have an adopted dog, how would you enco...</td>\n",
              "      <td>0</td>\n",
              "    </tr>\n",
              "    <tr>\n",
              "      <th>2</th>\n",
              "      <td>0000412ca6e4628ce2cf</td>\n",
              "      <td>Why does velocity affect time? Does velocity a...</td>\n",
              "      <td>0</td>\n",
              "    </tr>\n",
              "    <tr>\n",
              "      <th>3</th>\n",
              "      <td>000042bf85aa498cd78e</td>\n",
              "      <td>How did Otto von Guericke used the Magdeburg h...</td>\n",
              "      <td>0</td>\n",
              "    </tr>\n",
              "    <tr>\n",
              "      <th>4</th>\n",
              "      <td>0000455dfa3e01eae3af</td>\n",
              "      <td>Can I convert montra helicon D to a mountain b...</td>\n",
              "      <td>0</td>\n",
              "    </tr>\n",
              "    <tr>\n",
              "      <th>...</th>\n",
              "      <td>...</td>\n",
              "      <td>...</td>\n",
              "      <td>...</td>\n",
              "    </tr>\n",
              "    <tr>\n",
              "      <th>1306117</th>\n",
              "      <td>ffffcc4e2331aaf1e41e</td>\n",
              "      <td>What other technical skills do you need as a c...</td>\n",
              "      <td>0</td>\n",
              "    </tr>\n",
              "    <tr>\n",
              "      <th>1306118</th>\n",
              "      <td>ffffd431801e5a2f4861</td>\n",
              "      <td>Does MS in ECE have good job prospects in USA ...</td>\n",
              "      <td>0</td>\n",
              "    </tr>\n",
              "    <tr>\n",
              "      <th>1306119</th>\n",
              "      <td>ffffd48fb36b63db010c</td>\n",
              "      <td>Is foam insulation toxic?</td>\n",
              "      <td>0</td>\n",
              "    </tr>\n",
              "    <tr>\n",
              "      <th>1306120</th>\n",
              "      <td>ffffec519fa37cf60c78</td>\n",
              "      <td>How can one start a research project based on ...</td>\n",
              "      <td>0</td>\n",
              "    </tr>\n",
              "    <tr>\n",
              "      <th>1306121</th>\n",
              "      <td>ffffed09fedb5088744a</td>\n",
              "      <td>Who wins in a battle between a Wolverine and a...</td>\n",
              "      <td>0</td>\n",
              "    </tr>\n",
              "  </tbody>\n",
              "</table>\n",
              "<p>1306122 rows × 3 columns</p>\n",
              "</div>"
            ],
            "text/plain": [
              "                          qid  ... target\n",
              "0        00002165364db923c7e6  ...      0\n",
              "1        000032939017120e6e44  ...      0\n",
              "2        0000412ca6e4628ce2cf  ...      0\n",
              "3        000042bf85aa498cd78e  ...      0\n",
              "4        0000455dfa3e01eae3af  ...      0\n",
              "...                       ...  ...    ...\n",
              "1306117  ffffcc4e2331aaf1e41e  ...      0\n",
              "1306118  ffffd431801e5a2f4861  ...      0\n",
              "1306119  ffffd48fb36b63db010c  ...      0\n",
              "1306120  ffffec519fa37cf60c78  ...      0\n",
              "1306121  ffffed09fedb5088744a  ...      0\n",
              "\n",
              "[1306122 rows x 3 columns]"
            ]
          },
          "metadata": {
            "tags": []
          },
          "execution_count": 8
        }
      ]
    },
    {
      "cell_type": "code",
      "metadata": {
        "id": "dWO5beGFUM_o",
        "colab_type": "code",
        "colab": {}
      },
      "source": [
        "vocab = Counter()\n",
        "\n",
        "for text in quora.question_text:\n",
        "    vocab.update(preprocess(text))"
      ],
      "execution_count": 0,
      "outputs": []
    },
    {
      "cell_type": "code",
      "metadata": {
        "id": "wF2Xt-LpNHTh",
        "colab_type": "code",
        "colab": {
          "base_uri": "https://localhost:8080/",
          "height": 102
        },
        "outputId": "516c7b3a-b3af-4942-e8d8-b121dc4983f0"
      },
      "source": [
        "vocab.most_common(5)"
      ],
      "execution_count": 10,
      "outputs": [
        {
          "output_type": "execute_result",
          "data": {
            "text/plain": [
              "[('e', 8363288),\n",
              " ('a', 6388387),\n",
              " ('t', 6225943),\n",
              " ('o', 6026222),\n",
              " ('i', 5826579)]"
            ]
          },
          "metadata": {
            "tags": []
          },
          "execution_count": 10
        }
      ]
    },
    {
      "cell_type": "code",
      "metadata": {
        "id": "_EwFeXbsUQJu",
        "colab_type": "code",
        "colab": {}
      },
      "source": [
        "filtered_vocab = set()\n",
        "\n",
        "for word in vocab:\n",
        "    #if vocab[word] > 5:\n",
        "    filtered_vocab.add(word)"
      ],
      "execution_count": 0,
      "outputs": []
    },
    {
      "cell_type": "code",
      "metadata": {
        "id": "YVe09d8zYrP1",
        "colab_type": "code",
        "colab": {}
      },
      "source": [
        "word2id = {'UNK':1, 'PAD':0}\n",
        "\n",
        "for word in filtered_vocab:\n",
        "    word2id[word] = len(word2id)"
      ],
      "execution_count": 0,
      "outputs": []
    },
    {
      "cell_type": "code",
      "metadata": {
        "id": "fnLmxOs-Yt7z",
        "colab_type": "code",
        "colab": {}
      },
      "source": [
        "id2word = {i:word for word, i in word2id.items()}"
      ],
      "execution_count": 0,
      "outputs": []
    },
    {
      "cell_type": "code",
      "metadata": {
        "id": "RwQzxijkYvpm",
        "colab_type": "code",
        "colab": {}
      },
      "source": [
        "X = []\n",
        "\n",
        "for text in quora.question_text:\n",
        "    tokens = preprocess(text)\n",
        "    ids = [word2id.get(token, 1) for token in tokens]\n",
        "    X.append(ids)\n",
        "#X[:1]"
      ],
      "execution_count": 0,
      "outputs": []
    },
    {
      "cell_type": "code",
      "metadata": {
        "id": "THuSm-BnYxhN",
        "colab_type": "code",
        "colab": {}
      },
      "source": [
        "MAX_LEN = max(len(x) for x in X)\n",
        "MEAN_LEN = np.median([len(x) for x in X])\n",
        "MEAN_LEN = int(MEAN_LEN)"
      ],
      "execution_count": 0,
      "outputs": []
    },
    {
      "cell_type": "code",
      "metadata": {
        "id": "0ZWNcCA9IOtP",
        "colab_type": "code",
        "colab": {}
      },
      "source": [
        "X = tf.keras.preprocessing.sequence.pad_sequences(X, maxlen=MEAN_LEN)"
      ],
      "execution_count": 0,
      "outputs": []
    },
    {
      "cell_type": "code",
      "metadata": {
        "id": "CMfGNSiJIRfU",
        "colab_type": "code",
        "colab": {}
      },
      "source": [
        "y = quora.target.values"
      ],
      "execution_count": 0,
      "outputs": []
    },
    {
      "cell_type": "code",
      "metadata": {
        "id": "1HdIO-WeIvK-",
        "colab_type": "code",
        "colab": {}
      },
      "source": [
        "X_train, X_valid, y_train, y_valid = train_test_split(X, y, test_size=0.05, stratify=y)"
      ],
      "execution_count": 0,
      "outputs": []
    },
    {
      "cell_type": "code",
      "metadata": {
        "id": "rR4kvPjfJL1c",
        "colab_type": "code",
        "colab": {}
      },
      "source": [
        "#начну с капипаста куска кода с начала лекции\n",
        "inputs = tf.keras.layers.Input(shape=(MEAN_LEN,))\n",
        "embeddings = tf.keras.layers.Embedding(input_dim=len(word2id), output_dim=10)(inputs, )\n",
        "conv1 = tf.keras.layers.Conv1D(kernel_size=5, filters=32, strides=1)(embeddings)\n",
        "conv2 = tf.keras.layers.Conv1D(kernel_size=5, filters=32, strides=1, activation='relu')(conv1)\n",
        "concat = tf.keras.layers.Flatten()(conv2)\n",
        "dense = tf.keras.layers.Dense(64, activation='relu')(concat)\n",
        "outputs = tf.keras.layers.Dense(1, activation='sigmoid')(dense)\n",
        "\n",
        "model = tf.keras.Model(inputs=inputs, outputs=outputs)\n",
        "optimizer = tf.keras.optimizers.Adam(learning_rate=0.001)\n",
        "model.compile(optimizer=optimizer,\n",
        "              loss='binary_crossentropy',\n",
        "              metrics=[f1])"
      ],
      "execution_count": 0,
      "outputs": []
    },
    {
      "cell_type": "code",
      "metadata": {
        "id": "RmBiJqjl_WP9",
        "colab_type": "code",
        "colab": {
          "base_uri": "https://localhost:8080/",
          "height": 204
        },
        "outputId": "8ad1846a-4983-40e6-8bf9-7d0fb4a7452a"
      },
      "source": [
        "model.fit(X_train, y_train, \n",
        "          validation_data=(X_valid, y_valid),\n",
        "          batch_size=1500,\n",
        "         epochs=5)"
      ],
      "execution_count": 38,
      "outputs": [
        {
          "output_type": "stream",
          "text": [
            "Epoch 1/5\n",
            "828/828 [==============================] - 7s 8ms/step - loss: 0.2148 - f1: 3.0146e-04 - val_loss: 0.1976 - val_f1: 0.0000e+00\n",
            "Epoch 2/5\n",
            "828/828 [==============================] - 6s 7ms/step - loss: 0.1924 - f1: 0.0277 - val_loss: 0.1905 - val_f1: 0.1017\n",
            "Epoch 3/5\n",
            "828/828 [==============================] - 6s 7ms/step - loss: 0.1841 - f1: 0.0962 - val_loss: 0.1814 - val_f1: 0.1487\n",
            "Epoch 4/5\n",
            "828/828 [==============================] - 6s 7ms/step - loss: 0.1788 - f1: 0.1511 - val_loss: 0.1790 - val_f1: 0.1297\n",
            "Epoch 5/5\n",
            "828/828 [==============================] - 6s 7ms/step - loss: 0.1753 - f1: 0.1859 - val_loss: 0.1752 - val_f1: 0.1746\n"
          ],
          "name": "stdout"
        },
        {
          "output_type": "execute_result",
          "data": {
            "text/plain": [
              "<tensorflow.python.keras.callbacks.History at 0x7fa0300e5400>"
            ]
          },
          "metadata": {
            "tags": []
          },
          "execution_count": 38
        }
      ]
    },
    {
      "cell_type": "code",
      "metadata": {
        "id": "bXATw2EM_Tbb",
        "colab_type": "code",
        "colab": {
          "base_uri": "https://localhost:8080/",
          "height": 312
        },
        "outputId": "50f18dbd-9a53-496c-8e69-9fc859321198"
      },
      "source": [
        "print(model.history.history.keys())\n",
        "\n",
        "plt.plot(model.history.history['f1'])\n",
        "plt.plot(model.history.history['val_f1'])\n",
        "plt.title('model f1')\n",
        "plt.ylabel('f1')\n",
        "plt.xlabel('epoch')\n",
        "plt.legend(['train', 'val'], loc='upper left')\n",
        "plt.show()"
      ],
      "execution_count": 39,
      "outputs": [
        {
          "output_type": "stream",
          "text": [
            "dict_keys(['loss', 'f1', 'val_loss', 'val_f1'])\n"
          ],
          "name": "stdout"
        },
        {
          "output_type": "display_data",
          "data": {
            "image/png": "[encoded data removed]",
            "text/plain": [
              "<Figure size 432x288 with 1 Axes>"
            ]
          },
          "metadata": {
            "tags": [],
            "needs_background": "light"
          }
        }
      ]
    },
    {
      "cell_type": "code",
      "metadata": {
        "id": "_m2OdOhs_T5w",
        "colab_type": "code",
        "colab": {}
      },
      "source": [
        "#добавил padding слоев с разными параметрами, и несколько сверточных\n",
        "inputs = tf.keras.layers.Input(shape=(MEAN_LEN,))\n",
        "embeddings = tf.keras.layers.Embedding(input_dim=len(word2id), output_dim=100)(inputs, )\n",
        "convs = []\n",
        "\n",
        "\n",
        "pad1 = tf.keras.layers.Lambda(lambda x: tf.pad(x, \n",
        "                                               [[0,0], [1,1], [0, 0]], \n",
        "                                               mode='REFLECT'))(embeddings)\n",
        "\n",
        "conv1 = tf.keras.layers.Conv1D(kernel_size=3, filters=32, strides=1)(pad1)\n",
        "\n",
        "pad2 = tf.keras.layers.Lambda(lambda x: tf.pad(x, \n",
        "                                               [[0,0], [1,1], [0, 0]], \n",
        "                                               mode='REFLECT'))(conv1)\n",
        "\n",
        "conv2 = tf.keras.layers.Conv1D(kernel_size=3, filters=32,strides=1, \n",
        "                              kernel_regularizer='l2', activation='relu')(pad2)\n",
        "\n",
        "\n",
        "\n",
        "pad3 = tf.keras.layers.Lambda(lambda x: tf.pad(x, \n",
        "                                               [[0,0], [2,2], [0, 0]], \n",
        "                                               mode='REFLECT'))(embeddings)\n",
        "\n",
        "conv3 = tf.keras.layers.Conv1D(kernel_size=7, filters=32, strides=1)(pad3)\n",
        "\n",
        "pad4 = tf.keras.layers.Lambda(lambda x: tf.pad(x, \n",
        "                                               [[0,0], [3,3], [0, 0]], \n",
        "                                               mode='REFLECT'))(conv3)\n",
        "\n",
        "conv4 = tf.keras.layers.Conv1D(kernel_size=5, filters=32,strides=1, \n",
        "                              kernel_regularizer='l2', activation='relu')(pad4)\n",
        "\n",
        "\n",
        "\n",
        "concat = tf.keras.layers.concatenate([conv2, conv4])\n",
        "\n",
        "conv_global = tf.keras.layers.Conv1D(kernel_size=5, filters=32, strides=1)(concat)\n",
        "flatten = tf.keras.layers.Flatten()(conv_global)\n",
        "dense = tf.keras.layers.Dense(50, activation='relu')(flatten)\n",
        "outputs = tf.keras.layers.Dense(1, activation='sigmoid')(dense)\n",
        "\n",
        "model = tf.keras.Model(inputs=inputs, outputs=outputs)\n",
        "optimizer = tf.keras.optimizers.Adam(learning_rate=0.001)\n",
        "model.compile(optimizer=optimizer,\n",
        "              loss='binary_crossentropy',\n",
        "              metrics=[f1])"
      ],
      "execution_count": 0,
      "outputs": []
    },
    {
      "cell_type": "code",
      "metadata": {
        "id": "VXHDGDWyDWCE",
        "colab_type": "code",
        "colab": {
          "base_uri": "https://localhost:8080/",
          "height": 204
        },
        "outputId": "00c20be2-d97b-450e-feac-e6052f82e45b"
      },
      "source": [
        "model.fit(X_train, y_train, \n",
        "          validation_data=(X_valid, y_valid),\n",
        "          batch_size=1500,\n",
        "         epochs=5)"
      ],
      "execution_count": 65,
      "outputs": [
        {
          "output_type": "stream",
          "text": [
            "Epoch 1/5\n",
            "828/828 [==============================] - 23s 28ms/step - loss: 0.2508 - f1: 0.0012 - val_loss: 0.1938 - val_f1: 0.0115\n",
            "Epoch 2/5\n",
            "828/828 [==============================] - 23s 28ms/step - loss: 0.1875 - f1: 0.1205 - val_loss: 0.1809 - val_f1: 0.2439\n",
            "Epoch 3/5\n",
            "828/828 [==============================] - 23s 28ms/step - loss: 0.1775 - f1: 0.2197 - val_loss: 0.1794 - val_f1: 0.3276\n",
            "Epoch 4/5\n",
            "828/828 [==============================] - 23s 28ms/step - loss: 0.1733 - f1: 0.2500 - val_loss: 0.1810 - val_f1: 0.3589\n",
            "Epoch 5/5\n",
            "828/828 [==============================] - 23s 28ms/step - loss: 0.1706 - f1: 0.2665 - val_loss: 0.1743 - val_f1: 0.2159\n"
          ],
          "name": "stdout"
        },
        {
          "output_type": "execute_result",
          "data": {
            "text/plain": [
              "<tensorflow.python.keras.callbacks.History at 0x7f9e271ef278>"
            ]
          },
          "metadata": {
            "tags": []
          },
          "execution_count": 65
        }
      ]
    },
    {
      "cell_type": "code",
      "metadata": {
        "id": "jfs-BGhDDYjM",
        "colab_type": "code",
        "colab": {
          "base_uri": "https://localhost:8080/",
          "height": 312
        },
        "outputId": "65b9062c-bb7a-4e36-9432-0c8ccf83f16d"
      },
      "source": [
        "#вроде даже растет где-то\n",
        "print(model.history.history.keys())\n",
        "\n",
        "plt.plot(model.history.history['f1'])\n",
        "plt.plot(model.history.history['val_f1'])\n",
        "plt.title('model f1')\n",
        "plt.ylabel('f1')\n",
        "plt.xlabel('epoch')\n",
        "plt.legend(['train', 'val'], loc='upper left')\n",
        "plt.show()"
      ],
      "execution_count": 66,
      "outputs": [
        {
          "output_type": "stream",
          "text": [
            "dict_keys(['loss', 'f1', 'val_loss', 'val_f1'])\n"
          ],
          "name": "stdout"
        },
        {
          "output_type": "display_data",
          "data": {
            "image/png": "[encoded data removed]",
            "text/plain": [
              "<Figure size 432x288 with 1 Axes>"
            ]
          },
          "metadata": {
            "tags": [],
            "needs_background": "light"
          }
        }
      ]
    },
    {
      "cell_type": "code",
      "metadata": {
        "id": "cbj_3NM8Da0h",
        "colab_type": "code",
        "colab": {}
      },
      "source": [
        "# и теперь к этому еще pooling и поменяю kernel_size\n",
        "inputs = tf.keras.layers.Input(shape=(MEAN_LEN,))\n",
        "embeddings = tf.keras.layers.Embedding(input_dim=len(word2id), output_dim=100)(inputs, )\n",
        "convs = []\n",
        "\n",
        "\n",
        "pad1 = tf.keras.layers.Lambda(lambda x: tf.pad(x, \n",
        "                                               [[0,0], [1,1], [0, 0]], \n",
        "                                               mode='REFLECT'))(embeddings)\n",
        "\n",
        "conv1 = tf.keras.layers.Conv1D(kernel_size=7, filters=32, strides=1)(pad1)\n",
        "pool1 = tf.keras.layers.AveragePooling1D()(conv1)\n",
        "pad2 = tf.keras.layers.Lambda(lambda x: tf.pad(x, \n",
        "                                               [[0,0], [3,3], [0, 0]], \n",
        "                                               mode='REFLECT'))(pool1)\n",
        "\n",
        "conv2 = tf.keras.layers.Conv1D(kernel_size=3, filters=32,strides=1, \n",
        "                              kernel_regularizer='l2', activation='relu')(pad2)\n",
        "\n",
        "\n",
        "pad3 = tf.keras.layers.Lambda(lambda x: tf.pad(x, \n",
        "                                               [[0,0], [1,1], [0, 0]], \n",
        "                                               mode='REFLECT'))(embeddings)\n",
        "\n",
        "conv3 = tf.keras.layers.Conv1D(kernel_size=7, filters=32, strides=1)(pad3)\n",
        "pool2 = tf.keras.layers.AveragePooling1D()(conv3)\n",
        "\n",
        "pad4 = tf.keras.layers.Lambda(lambda x: tf.pad(x, \n",
        "                                               [[0,0], [3,3], [0, 0]], \n",
        "                                               mode='REFLECT'))(pool2)\n",
        "\n",
        "conv4 = tf.keras.layers.Conv1D(kernel_size=3, filters=32,strides=1, \n",
        "                              kernel_regularizer='l2', activation='relu')(pad4)\n",
        "\n",
        "\n",
        "\n",
        "concat = tf.keras.layers.concatenate([conv2, conv4])\n",
        "\n",
        "conv_global = tf.keras.layers.Conv1D(kernel_size=5, filters=32, strides=1)(concat)\n",
        "flatten = tf.keras.layers.Flatten()(conv_global)\n",
        "dense = tf.keras.layers.Dense(50, activation='relu')(flatten)\n",
        "outputs = tf.keras.layers.Dense(1, activation='sigmoid')(dense)\n",
        "\n",
        "model = tf.keras.Model(inputs=inputs, outputs=outputs)\n",
        "optimizer = tf.keras.optimizers.Adam(learning_rate=0.001)\n",
        "model.compile(optimizer=optimizer,\n",
        "              loss='binary_crossentropy',\n",
        "              metrics=[f1])"
      ],
      "execution_count": 0,
      "outputs": []
    },
    {
      "cell_type": "code",
      "metadata": {
        "id": "3QRD6qjlJ4If",
        "colab_type": "code",
        "colab": {
          "base_uri": "https://localhost:8080/",
          "height": 204
        },
        "outputId": "1be373d8-fa32-4186-b4f4-75ca21768991"
      },
      "source": [
        "model.fit(X_train, y_train, \n",
        "          validation_data=(X_valid, y_valid),\n",
        "          batch_size=2000,\n",
        "         epochs=5)"
      ],
      "execution_count": 111,
      "outputs": [
        {
          "output_type": "stream",
          "text": [
            "Epoch 1/5\n",
            "621/621 [==============================] - 22s 36ms/step - loss: 0.2823 - f1: 2.8961e-04 - val_loss: 0.2106 - val_f1: 0.0000e+00\n",
            "Epoch 2/5\n",
            "621/621 [==============================] - 22s 35ms/step - loss: 0.2089 - f1: 2.5560e-05 - val_loss: 0.2077 - val_f1: 0.0000e+00\n",
            "Epoch 3/5\n",
            "621/621 [==============================] - 22s 35ms/step - loss: 0.2002 - f1: 0.0152 - val_loss: 0.1942 - val_f1: 0.0593\n",
            "Epoch 4/5\n",
            "621/621 [==============================] - 22s 35ms/step - loss: 0.1900 - f1: 0.1108 - val_loss: 0.1883 - val_f1: 0.1065\n",
            "Epoch 5/5\n",
            "621/621 [==============================] - 22s 35ms/step - loss: 0.1848 - f1: 0.1614 - val_loss: 0.1848 - val_f1: 0.1363\n"
          ],
          "name": "stdout"
        },
        {
          "output_type": "execute_result",
          "data": {
            "text/plain": [
              "<tensorflow.python.keras.callbacks.History at 0x7f9e3285d3c8>"
            ]
          },
          "metadata": {
            "tags": []
          },
          "execution_count": 111
        }
      ]
    },
    {
      "cell_type": "code",
      "metadata": {
        "id": "4aZ7YtD4KsqZ",
        "colab_type": "code",
        "colab": {
          "base_uri": "https://localhost:8080/",
          "height": 312
        },
        "outputId": "84675ea0-dcaa-4989-bd57-20902a645a2b"
      },
      "source": [
        "print(model.history.history.keys())\n",
        "\n",
        "plt.plot(model.history.history['f1'])\n",
        "plt.plot(model.history.history['val_f1'])\n",
        "plt.title('model f1')\n",
        "plt.ylabel('f1')\n",
        "plt.xlabel('epoch')\n",
        "plt.legend(['train', 'val'], loc='upper left')\n",
        "plt.show()"
      ],
      "execution_count": 112,
      "outputs": [
        {
          "output_type": "stream",
          "text": [
            "dict_keys(['loss', 'f1', 'val_loss', 'val_f1'])\n"
          ],
          "name": "stdout"
        },
        {
          "output_type": "display_data",
          "data": {
            "image/png": "[encoded data removed]",
            "text/plain": [
              "<Figure size 432x288 with 1 Axes>"
            ]
          },
          "metadata": {
            "tags": [],
            "needs_background": "light"
          }
        }
      ]
    },
    {
      "cell_type": "code",
      "metadata": {
        "id": "X3yWE4S9KvPa",
        "colab_type": "code",
        "colab": {}
      },
      "source": [
        "#стало хуже, попробую добавить слоев \n",
        "inputs = tf.keras.layers.Input(shape=(MEAN_LEN,))\n",
        "embeddings = tf.keras.layers.Embedding(input_dim=len(word2id), output_dim=100)(inputs, )\n",
        "convs = []\n",
        "\n",
        "\n",
        "pad1 = tf.keras.layers.Lambda(lambda x: tf.pad(x, \n",
        "                                               [[0,0], [1,1], [0, 0]], \n",
        "                                               mode='REFLECT'))(embeddings)\n",
        "\n",
        "conv1 = tf.keras.layers.Conv1D(kernel_size=3, filters=32, strides=1)(pad1)\n",
        "pool1 = tf.keras.layers.AveragePooling1D()(conv1)\n",
        "pad2 = tf.keras.layers.Lambda(lambda x: tf.pad(x, \n",
        "                                               [[0,0], [1,1], [0, 0]], \n",
        "                                               mode='REFLECT'))(pool1)\n",
        "\n",
        "conv2 = tf.keras.layers.Conv1D(kernel_size=3, filters=32,strides=1, \n",
        "                              kernel_regularizer='l2', activation='relu')(pad2)\n",
        "\n",
        "\n",
        "pad3 = tf.keras.layers.Lambda(lambda x: tf.pad(x, \n",
        "                                               [[0,0], [2,2], [0, 0]], \n",
        "                                               mode='REFLECT'))(embeddings)\n",
        "\n",
        "conv3 = tf.keras.layers.Conv1D(kernel_size=5, filters=32, strides=1)(pad3)\n",
        "pool2 = tf.keras.layers.AveragePooling1D()(conv3)\n",
        "\n",
        "pad4 = tf.keras.layers.Lambda(lambda x: tf.pad(x, \n",
        "                                               [[0,0], [2,2], [0, 0]], \n",
        "                                               mode='REFLECT'))(pool2)\n",
        "\n",
        "conv4 = tf.keras.layers.Conv1D(kernel_size=5, filters=32,strides=1, \n",
        "                              kernel_regularizer='l2', activation='relu')(pad4)\n",
        "\n",
        "\n",
        "pad5 = tf.keras.layers.Lambda(lambda x: tf.pad(x, \n",
        "                                               [[0,0], [1,1], [0, 0]], \n",
        "                                               mode='REFLECT'))(embeddings)\n",
        "\n",
        "conv5 = tf.keras.layers.Conv1D(kernel_size=3, filters=32, strides=1)(pad5)\n",
        "pool5 = tf.keras.layers.AveragePooling1D()(conv5)\n",
        "pad6 = tf.keras.layers.Lambda(lambda x: tf.pad(x, \n",
        "                                               [[0,0], [1,1], [0, 0]], \n",
        "                                               mode='REFLECT'))(pool5)\n",
        "\n",
        "conv6 = tf.keras.layers.Conv1D(kernel_size=3, filters=32,strides=1, \n",
        "                              kernel_regularizer='l2', activation='relu')(pad6)\n",
        "\n",
        "\n",
        "\n",
        "concat1 = tf.keras.layers.concatenate([conv2, conv4])\n",
        "concat = tf.keras.layers.concatenate([concat1, conv6])\n",
        "\n",
        "\n",
        "conv_global = tf.keras.layers.Conv1D(kernel_size=5, filters=32, strides=1)(concat)\n",
        "flatten = tf.keras.layers.Flatten()(conv_global)\n",
        "dense = tf.keras.layers.Dense(50, activation='relu')(flatten)\n",
        "outputs = tf.keras.layers.Dense(1, activation='sigmoid')(dense)\n",
        "\n",
        "model = tf.keras.Model(inputs=inputs, outputs=outputs)\n",
        "optimizer = tf.keras.optimizers.Adam(learning_rate=0.001)\n",
        "model.compile(optimizer=optimizer,\n",
        "              loss='binary_crossentropy',\n",
        "              metrics=[f1])"
      ],
      "execution_count": 0,
      "outputs": []
    },
    {
      "cell_type": "code",
      "metadata": {
        "id": "xR0BRBeCbzva",
        "colab_type": "code",
        "colab": {}
      },
      "source": [
        ""
      ],
      "execution_count": 0,
      "outputs": []
    },
    {
      "cell_type": "code",
      "metadata": {
        "id": "1_jqgSDlRijP",
        "colab_type": "code",
        "colab": {
          "base_uri": "https://localhost:8080/",
          "height": 204
        },
        "outputId": "f8230528-871c-4fe1-8686-74ff895c9957"
      },
      "source": [
        "model.fit(X_train, y_train, \n",
        "          validation_data=(X_valid, y_valid),\n",
        "          batch_size=2000,\n",
        "         epochs=5)"
      ],
      "execution_count": 97,
      "outputs": [
        {
          "output_type": "stream",
          "text": [
            "Epoch 1/5\n",
            "621/621 [==============================] - 24s 38ms/step - loss: 0.3009 - f1: 2.0499e-04 - val_loss: 0.2095 - val_f1: 0.0000e+00\n",
            "Epoch 2/5\n",
            "621/621 [==============================] - 24s 38ms/step - loss: 0.2073 - f1: 0.0011 - val_loss: 0.2012 - val_f1: 9.5316e-04\n",
            "Epoch 3/5\n",
            "621/621 [==============================] - 24s 38ms/step - loss: 0.1976 - f1: 0.0163 - val_loss: 0.1921 - val_f1: 0.0523\n",
            "Epoch 4/5\n",
            "621/621 [==============================] - 24s 38ms/step - loss: 0.1897 - f1: 0.1000 - val_loss: 0.1871 - val_f1: 0.1811\n",
            "Epoch 5/5\n",
            "621/621 [==============================] - 23s 38ms/step - loss: 0.1848 - f1: 0.1539 - val_loss: 0.1836 - val_f1: 0.1885\n"
          ],
          "name": "stdout"
        },
        {
          "output_type": "execute_result",
          "data": {
            "text/plain": [
              "<tensorflow.python.keras.callbacks.History at 0x7f9e39659128>"
            ]
          },
          "metadata": {
            "tags": []
          },
          "execution_count": 97
        }
      ]
    },
    {
      "cell_type": "code",
      "metadata": {
        "id": "CkQVjmX-RZ4Z",
        "colab_type": "code",
        "colab": {
          "base_uri": "https://localhost:8080/",
          "height": 312
        },
        "outputId": "f267202b-91b5-444d-8f97-e6ca6b89e60d"
      },
      "source": [
        "print(model.history.history.keys())\n",
        "\n",
        "plt.plot(model.history.history['f1'])\n",
        "plt.plot(model.history.history['val_f1'])\n",
        "plt.title('model f1')\n",
        "plt.ylabel('f1')\n",
        "plt.xlabel('epoch')\n",
        "plt.legend(['train', 'val'], loc='upper left')\n",
        "plt.show()"
      ],
      "execution_count": 98,
      "outputs": [
        {
          "output_type": "stream",
          "text": [
            "dict_keys(['loss', 'f1', 'val_loss', 'val_f1'])\n"
          ],
          "name": "stdout"
        },
        {
          "output_type": "display_data",
          "data": {
            "image/png": "[encoded data removed]",
            "text/plain": [
              "<Figure size 432x288 with 1 Axes>"
            ]
          },
          "metadata": {
            "tags": [],
            "needs_background": "light"
          }
        }
      ]
    },
    {
      "cell_type": "code",
      "metadata": {
        "id": "fGk7DZS_RckV",
        "colab_type": "code",
        "colab": {
          "base_uri": "https://localhost:8080/",
          "height": 374
        },
        "outputId": "0118bdab-bbc0-41e9-d755-3c87c1f888e3"
      },
      "source": [
        "model.fit(X_train, y_train, \n",
        "          validation_data=(X_valid, y_valid),\n",
        "          batch_size=2000,\n",
        "         epochs=10)"
      ],
      "execution_count": 99,
      "outputs": [
        {
          "output_type": "stream",
          "text": [
            "Epoch 1/10\n",
            "621/621 [==============================] - 23s 38ms/step - loss: 0.1813 - f1: 0.1828 - val_loss: 0.1802 - val_f1: 0.2097\n",
            "Epoch 2/10\n",
            "621/621 [==============================] - 23s 38ms/step - loss: 0.1795 - f1: 0.1981 - val_loss: 0.1815 - val_f1: 0.2412\n",
            "Epoch 3/10\n",
            "621/621 [==============================] - 23s 38ms/step - loss: 0.1777 - f1: 0.2114 - val_loss: 0.1782 - val_f1: 0.1956\n",
            "Epoch 4/10\n",
            "621/621 [==============================] - 24s 38ms/step - loss: 0.1766 - f1: 0.2224 - val_loss: 0.1764 - val_f1: 0.2242\n",
            "Epoch 5/10\n",
            "621/621 [==============================] - 23s 38ms/step - loss: 0.1753 - f1: 0.2318 - val_loss: 0.1759 - val_f1: 0.2188\n",
            "Epoch 6/10\n",
            "621/621 [==============================] - 23s 38ms/step - loss: 0.1744 - f1: 0.2399 - val_loss: 0.1765 - val_f1: 0.2492\n",
            "Epoch 7/10\n",
            "621/621 [==============================] - 24s 38ms/step - loss: 0.1737 - f1: 0.2436 - val_loss: 0.1757 - val_f1: 0.2649\n",
            "Epoch 8/10\n",
            "621/621 [==============================] - 23s 38ms/step - loss: 0.1730 - f1: 0.2489 - val_loss: 0.1784 - val_f1: 0.3190\n",
            "Epoch 9/10\n",
            "621/621 [==============================] - 23s 38ms/step - loss: 0.1723 - f1: 0.2543 - val_loss: 0.1751 - val_f1: 0.2647\n",
            "Epoch 10/10\n",
            "621/621 [==============================] - 23s 38ms/step - loss: 0.1721 - f1: 0.2568 - val_loss: 0.1758 - val_f1: 0.2025\n"
          ],
          "name": "stdout"
        },
        {
          "output_type": "execute_result",
          "data": {
            "text/plain": [
              "<tensorflow.python.keras.callbacks.History at 0x7f9e3a16f3c8>"
            ]
          },
          "metadata": {
            "tags": []
          },
          "execution_count": 99
        }
      ]
    },
    {
      "cell_type": "code",
      "metadata": {
        "id": "zgAqPvUsSIiQ",
        "colab_type": "code",
        "colab": {
          "base_uri": "https://localhost:8080/",
          "height": 312
        },
        "outputId": "770b0005-47e6-4c16-ea64-94a461d16760"
      },
      "source": [
        "print(model.history.history.keys())\n",
        "\n",
        "plt.plot(model.history.history['f1'])\n",
        "plt.plot(model.history.history['val_f1'])\n",
        "plt.title('model f1')\n",
        "plt.ylabel('f1')\n",
        "plt.xlabel('epoch')\n",
        "plt.legend(['train', 'val'], loc='upper left')\n",
        "plt.show()"
      ],
      "execution_count": 100,
      "outputs": [
        {
          "output_type": "stream",
          "text": [
            "dict_keys(['loss', 'f1', 'val_loss', 'val_f1'])\n"
          ],
          "name": "stdout"
        },
        {
          "output_type": "display_data",
          "data": {
            "image/png": "[encoded data removed]",
            "text/plain": [
              "<Figure size 432x288 with 1 Axes>"
            ]
          },
          "metadata": {
            "tags": [],
            "needs_background": "light"
          }
        }
      ]
    },
    {
      "cell_type": "code",
      "metadata": {
        "id": "Z72NHNPfSKeh",
        "colab_type": "code",
        "colab": {}
      },
      "source": [
        "#вроде что-то иногда растет, попробую добавить дропаут и коллбэки\n",
        "inputs = tf.keras.layers.Input(shape=(MEAN_LEN,))\n",
        "embeddings = tf.keras.layers.Embedding(input_dim=len(word2id), output_dim=100)(inputs, )\n",
        "convs = []\n",
        "\n",
        "\n",
        "pad1 = tf.keras.layers.Lambda(lambda x: tf.pad(x, \n",
        "                                               [[0,0], [1,1], [0, 0]], \n",
        "                                               mode='REFLECT'))(embeddings)\n",
        "\n",
        "conv1 = tf.keras.layers.Conv1D(kernel_size=3, filters=32, strides=1)(pad1)\n",
        "pool1 = tf.keras.layers.AveragePooling1D()(conv1)\n",
        "pad2 = tf.keras.layers.Lambda(lambda x: tf.pad(x, \n",
        "                                               [[0,0], [1,1], [0, 0]], \n",
        "                                               mode='REFLECT'))(pool1)\n",
        "\n",
        "conv2 = tf.keras.layers.Conv1D(kernel_size=3, filters=32,strides=1, \n",
        "                              kernel_regularizer='l2', activation='relu')(pad2)\n",
        "\n",
        "\n",
        "drop1 = tf.keras.layers.Dropout(0.2)(embeddings)\n",
        "pad3 = tf.keras.layers.Lambda(lambda x: tf.pad(x, \n",
        "                                               [[0,0], [2,2], [0, 0]], \n",
        "                                               mode='REFLECT'))(embeddings)\n",
        "\n",
        "conv3 = tf.keras.layers.Conv1D(kernel_size=5, filters=32, strides=1)(pad3)\n",
        "pool2 = tf.keras.layers.AveragePooling1D()(conv3)\n",
        "\n",
        "pad4 = tf.keras.layers.Lambda(lambda x: tf.pad(x, \n",
        "                                               [[0,0], [2,2], [0, 0]], \n",
        "                                               mode='REFLECT'))(pool2)\n",
        "\n",
        "conv4 = tf.keras.layers.Conv1D(kernel_size=5, filters=32,strides=1, \n",
        "                              kernel_regularizer='l2', activation='relu')(pad4)\n",
        "\n",
        "\n",
        "pad5 = tf.keras.layers.Lambda(lambda x: tf.pad(x, \n",
        "                                               [[0,0], [1,1], [0, 0]], \n",
        "                                               mode='REFLECT'))(embeddings)\n",
        "\n",
        "conv5 = tf.keras.layers.Conv1D(kernel_size=3, filters=32, strides=1)(pad5)\n",
        "pool5 = tf.keras.layers.AveragePooling1D()(conv5)\n",
        "pad6 = tf.keras.layers.Lambda(lambda x: tf.pad(x, \n",
        "                                               [[0,0], [1,1], [0, 0]], \n",
        "                                               mode='REFLECT'))(pool5)\n",
        "\n",
        "conv6 = tf.keras.layers.Conv1D(kernel_size=3, filters=32,strides=1, \n",
        "                              kernel_regularizer='l2', activation='relu')(pad6)\n",
        "drop2 = tf.keras.layers.Dropout(0.2)(conv6)\n",
        "\n",
        "\n",
        "concat1 = tf.keras.layers.concatenate([conv2, conv4])\n",
        "concat = tf.keras.layers.concatenate([concat1, drop2])\n",
        "\n",
        "\n",
        "conv_global = tf.keras.layers.Conv1D(kernel_size=5, filters=32, strides=1)(concat)\n",
        "flatten = tf.keras.layers.Flatten()(conv_global)\n",
        "dense = tf.keras.layers.Dense(50, activation='relu')(flatten)\n",
        "outputs = tf.keras.layers.Dense(1, activation='sigmoid')(dense)\n",
        "\n",
        "model = tf.keras.Model(inputs=inputs, outputs=outputs)\n",
        "optimizer = tf.keras.optimizers.Adam(learning_rate=0.001)\n",
        "model.compile(optimizer=optimizer,\n",
        "              loss='binary_crossentropy',\n",
        "              metrics=[f1])"
      ],
      "execution_count": 0,
      "outputs": []
    },
    {
      "cell_type": "code",
      "metadata": {
        "id": "zpbUSQCfEYyg",
        "colab_type": "code",
        "colab": {}
      },
      "source": [
        "\n",
        "checkpoint = tf.keras.callbacks.ModelCheckpoint('model.weights',  \n",
        "                                                monitor='val_f1',\n",
        "                                                verbose=1, \n",
        "                                                save_weights_only=True,\n",
        "                                                save_best_only=True,\n",
        "                                                mode='max', \n",
        "                                                save_freq='epoch' \n",
        "                                               )\n",
        "\n",
        "\n",
        "early_stop = tf.keras.callbacks.EarlyStopping(monitor='val_f1', \n",
        "                                              min_delta=0.01,\n",
        "                                              patience=3, \n",
        "                                              verbose=1, \n",
        "                                              mode='max',\n",
        "                                              )"
      ],
      "execution_count": 0,
      "outputs": []
    },
    {
      "cell_type": "code",
      "metadata": {
        "id": "Wi_lPQ6phEAK",
        "colab_type": "code",
        "colab": {
          "base_uri": "https://localhost:8080/",
          "height": 663
        },
        "outputId": "31ef70d9-2326-45a6-d140-864a9a17d476"
      },
      "source": [
        "model.fit(X_train, y_train, \n",
        "          validation_data=(X_valid, y_valid),\n",
        "          batch_size=2000,\n",
        "         epochs=10,\n",
        "         callbacks=[checkpoint, early_stop])"
      ],
      "execution_count": 103,
      "outputs": [
        {
          "output_type": "stream",
          "text": [
            "Epoch 1/10\n",
            "621/621 [==============================] - ETA: 0s - loss: 0.2987 - f1: 1.9797e-04\n",
            "Epoch 00001: val_f1 improved from -inf to 0.00000, saving model to model.weights\n",
            "621/621 [==============================] - 24s 38ms/step - loss: 0.2987 - f1: 1.9797e-04 - val_loss: 0.2109 - val_f1: 0.0000e+00\n",
            "Epoch 2/10\n",
            "621/621 [==============================] - ETA: 0s - loss: 0.2062 - f1: 3.3773e-04\n",
            "Epoch 00002: val_f1 did not improve from 0.00000\n",
            "621/621 [==============================] - 23s 38ms/step - loss: 0.2062 - f1: 3.3773e-04 - val_loss: 0.2027 - val_f1: 0.0000e+00\n",
            "Epoch 3/10\n",
            "621/621 [==============================] - ETA: 0s - loss: 0.1990 - f1: 0.0069\n",
            "Epoch 00003: val_f1 improved from 0.00000 to 0.01195, saving model to model.weights\n",
            "621/621 [==============================] - 23s 38ms/step - loss: 0.1990 - f1: 0.0069 - val_loss: 0.1987 - val_f1: 0.0120\n",
            "Epoch 4/10\n",
            "621/621 [==============================] - ETA: 0s - loss: 0.1922 - f1: 0.0746\n",
            "Epoch 00004: val_f1 improved from 0.01195 to 0.12629, saving model to model.weights\n",
            "621/621 [==============================] - 24s 38ms/step - loss: 0.1922 - f1: 0.0746 - val_loss: 0.1880 - val_f1: 0.1263\n",
            "Epoch 5/10\n",
            "621/621 [==============================] - ETA: 0s - loss: 0.1864 - f1: 0.1489\n",
            "Epoch 00005: val_f1 improved from 0.12629 to 0.19132, saving model to model.weights\n",
            "621/621 [==============================] - 24s 38ms/step - loss: 0.1864 - f1: 0.1489 - val_loss: 0.1848 - val_f1: 0.1913\n",
            "Epoch 6/10\n",
            "621/621 [==============================] - ETA: 0s - loss: 0.1830 - f1: 0.1771\n",
            "Epoch 00006: val_f1 improved from 0.19132 to 0.21991, saving model to model.weights\n",
            "621/621 [==============================] - 24s 38ms/step - loss: 0.1830 - f1: 0.1771 - val_loss: 0.1825 - val_f1: 0.2199\n",
            "Epoch 7/10\n",
            "621/621 [==============================] - ETA: 0s - loss: 0.1809 - f1: 0.1927\n",
            "Epoch 00007: val_f1 did not improve from 0.21991\n",
            "621/621 [==============================] - 24s 38ms/step - loss: 0.1809 - f1: 0.1927 - val_loss: 0.1819 - val_f1: 0.1823\n",
            "Epoch 8/10\n",
            "621/621 [==============================] - ETA: 0s - loss: 0.1798 - f1: 0.2034\n",
            "Epoch 00008: val_f1 did not improve from 0.21991\n",
            "621/621 [==============================] - 23s 38ms/step - loss: 0.1798 - f1: 0.2034 - val_loss: 0.1817 - val_f1: 0.1510\n",
            "Epoch 9/10\n",
            "621/621 [==============================] - ETA: 0s - loss: 0.1784 - f1: 0.2115\n",
            "Epoch 00009: val_f1 did not improve from 0.21991\n",
            "621/621 [==============================] - 23s 38ms/step - loss: 0.1784 - f1: 0.2115 - val_loss: 0.1788 - val_f1: 0.2054\n",
            "Epoch 00009: early stopping\n"
          ],
          "name": "stdout"
        },
        {
          "output_type": "execute_result",
          "data": {
            "text/plain": [
              "<tensorflow.python.keras.callbacks.History at 0x7f9e389398d0>"
            ]
          },
          "metadata": {
            "tags": []
          },
          "execution_count": 103
        }
      ]
    },
    {
      "cell_type": "code",
      "metadata": {
        "id": "BqXyUu98hc5A",
        "colab_type": "code",
        "colab": {}
      },
      "source": [
        "#и еще немного слоев\n",
        "inputs = tf.keras.layers.Input(shape=(MEAN_LEN,))\n",
        "embeddings = tf.keras.layers.Embedding(input_dim=len(word2id), output_dim=100)(inputs, )\n",
        "convs = []\n",
        "\n",
        "\n",
        "# kernel_size = 3\n",
        "pad1 = tf.keras.layers.Lambda(lambda x: tf.pad(x, \n",
        "                                               [[0,0], [1,1], [0, 0]], \n",
        "                                               mode='REFLECT'))(embeddings)\n",
        "\n",
        "conv1 = tf.keras.layers.Conv1D(kernel_size=3, filters=32, strides=1)(pad1)\n",
        "pool1 = tf.keras.layers.AveragePooling1D()(conv1)\n",
        "pad2 = tf.keras.layers.Lambda(lambda x: tf.pad(x, \n",
        "                                               [[0,0], [1,1], [0, 0]], \n",
        "                                               mode='REFLECT'))(pool1)\n",
        "\n",
        "conv2 = tf.keras.layers.Conv1D(kernel_size=3, filters=32,strides=1, \n",
        "                              kernel_regularizer='l2', activation='relu')(pad2)\n",
        "\n",
        "\n",
        "drop1 = tf.keras.layers.Dropout(0.2)(embeddings)\n",
        "pad3 = tf.keras.layers.Lambda(lambda x: tf.pad(x, \n",
        "                                               [[0,0], [2,2], [0, 0]], \n",
        "                                               mode='REFLECT'))(embeddings)\n",
        "\n",
        "conv3 = tf.keras.layers.Conv1D(kernel_size=5, filters=32, strides=1)(pad3)\n",
        "pool2 = tf.keras.layers.AveragePooling1D()(conv3)\n",
        "\n",
        "pad4 = tf.keras.layers.Lambda(lambda x: tf.pad(x, \n",
        "                                               [[0,0], [2,2], [0, 0]], \n",
        "                                               mode='REFLECT'))(pool2)\n",
        "\n",
        "conv4 = tf.keras.layers.Conv1D(kernel_size=5, filters=32,strides=1, \n",
        "                              kernel_regularizer='l2', activation='relu')(pad4)\n",
        "\n",
        "\n",
        "pad5 = tf.keras.layers.Lambda(lambda x: tf.pad(x, \n",
        "                                               [[0,0], [1,1], [0, 0]], \n",
        "                                               mode='REFLECT'))(embeddings)\n",
        "\n",
        "conv5 = tf.keras.layers.Conv1D(kernel_size=3, filters=32, strides=1)(pad5)\n",
        "pool5 = tf.keras.layers.AveragePooling1D()(conv5)\n",
        "pad6 = tf.keras.layers.Lambda(lambda x: tf.pad(x, \n",
        "                                               [[0,0], [1,1], [0, 0]], \n",
        "                                               mode='REFLECT'))(pool5)\n",
        "\n",
        "conv6 = tf.keras.layers.Conv1D(kernel_size=3, filters=32,strides=1, \n",
        "                              kernel_regularizer='l2', activation='relu')(pad6)\n",
        "drop2 = tf.keras.layers.Dropout(0.2)(conv6)\n",
        "\n",
        "\n",
        "\n",
        "conv7 = tf.keras.layers.Conv1D(kernel_size=3, filters=32, strides=1)(pad5)\n",
        "pool7 = tf.keras.layers.AveragePooling1D()(conv5)\n",
        "pad7 = tf.keras.layers.Lambda(lambda x: tf.pad(x, \n",
        "                                               [[0,0], [1,1], [0, 0]], \n",
        "                                               mode='REFLECT'))(pool5)\n",
        "\n",
        "conv8 = tf.keras.layers.Conv1D(kernel_size=3, filters=32,strides=1, \n",
        "                              kernel_regularizer='l2', activation='relu')(pad6)\n",
        "drop3 = tf.keras.layers.Dropout(0.2)(conv8)\n",
        "\n",
        "concat1 = tf.keras.layers.concatenate([conv2, conv4])\n",
        "concat2 = tf.keras.layers.concatenate([concat1, drop2])\n",
        "concat = tf.keras.layers.concatenate([concat2, drop3])\n",
        "\n",
        "\n",
        "conv_global = tf.keras.layers.Conv1D(kernel_size=5, filters=32, strides=1)(concat)\n",
        "flatten = tf.keras.layers.Flatten()(conv_global)\n",
        "dense = tf.keras.layers.Dense(50, activation='relu')(flatten)\n",
        "outputs = tf.keras.layers.Dense(1, activation='sigmoid')(dense)\n",
        "\n",
        "model = tf.keras.Model(inputs=inputs, outputs=outputs)\n",
        "optimizer = tf.keras.optimizers.Adam(learning_rate=0.001)\n",
        "model.compile(optimizer=optimizer,\n",
        "              loss='binary_crossentropy',\n",
        "              metrics=[f1])"
      ],
      "execution_count": 0,
      "outputs": []
    },
    {
      "cell_type": "code",
      "metadata": {
        "id": "vGSANW9yjRnr",
        "colab_type": "code",
        "colab": {
          "base_uri": "https://localhost:8080/",
          "height": 595
        },
        "outputId": "d77e433b-3ea9-4f8c-ea51-b99b1409024b"
      },
      "source": [
        "model.fit(X_train, y_train, \n",
        "          validation_data=(X_valid, y_valid),\n",
        "          batch_size=2000,\n",
        "         epochs=10,\n",
        "         callbacks=[checkpoint, early_stop])"
      ],
      "execution_count": 105,
      "outputs": [
        {
          "output_type": "stream",
          "text": [
            "Epoch 1/10\n",
            "621/621 [==============================] - ETA: 0s - loss: 0.3251 - f1: 1.8802e-04\n",
            "Epoch 00001: val_f1 did not improve from 0.21991\n",
            "621/621 [==============================] - 25s 40ms/step - loss: 0.3251 - f1: 1.8802e-04 - val_loss: 0.2101 - val_f1: 0.0000e+00\n",
            "Epoch 2/10\n",
            "621/621 [==============================] - ETA: 0s - loss: 0.2036 - f1: 0.0034\n",
            "Epoch 00002: val_f1 did not improve from 0.21991\n",
            "621/621 [==============================] - 25s 40ms/step - loss: 0.2036 - f1: 0.0034 - val_loss: 0.1983 - val_f1: 0.0069\n",
            "Epoch 3/10\n",
            "621/621 [==============================] - ETA: 0s - loss: 0.1942 - f1: 0.0640\n",
            "Epoch 00003: val_f1 did not improve from 0.21991\n",
            "621/621 [==============================] - 25s 40ms/step - loss: 0.1942 - f1: 0.0640 - val_loss: 0.1903 - val_f1: 0.0667\n",
            "Epoch 4/10\n",
            "621/621 [==============================] - ETA: 0s - loss: 0.1878 - f1: 0.1363\n",
            "Epoch 00004: val_f1 did not improve from 0.21991\n",
            "621/621 [==============================] - 25s 40ms/step - loss: 0.1878 - f1: 0.1363 - val_loss: 0.1840 - val_f1: 0.1513\n",
            "Epoch 5/10\n",
            "621/621 [==============================] - ETA: 0s - loss: 0.1833 - f1: 0.1794\n",
            "Epoch 00005: val_f1 improved from 0.21991 to 0.25054, saving model to model.weights\n",
            "621/621 [==============================] - 25s 40ms/step - loss: 0.1833 - f1: 0.1794 - val_loss: 0.1831 - val_f1: 0.2505\n",
            "Epoch 6/10\n",
            "621/621 [==============================] - ETA: 0s - loss: 0.1811 - f1: 0.1954\n",
            "Epoch 00006: val_f1 did not improve from 0.25054\n",
            "621/621 [==============================] - 25s 40ms/step - loss: 0.1811 - f1: 0.1954 - val_loss: 0.1792 - val_f1: 0.1992\n",
            "Epoch 7/10\n",
            "620/621 [============================>.] - ETA: 0s - loss: 0.1793 - f1: 0.2090\n",
            "Epoch 00007: val_f1 did not improve from 0.25054\n",
            "621/621 [==============================] - 25s 40ms/step - loss: 0.1793 - f1: 0.2087 - val_loss: 0.1794 - val_f1: 0.2346\n",
            "Epoch 8/10\n",
            "621/621 [==============================] - ETA: 0s - loss: 0.1779 - f1: 0.2201\n",
            "Epoch 00008: val_f1 improved from 0.25054 to 0.25198, saving model to model.weights\n",
            "621/621 [==============================] - 25s 40ms/step - loss: 0.1779 - f1: 0.2201 - val_loss: 0.1771 - val_f1: 0.2520\n",
            "Epoch 00008: early stopping\n"
          ],
          "name": "stdout"
        },
        {
          "output_type": "execute_result",
          "data": {
            "text/plain": [
              "<tensorflow.python.keras.callbacks.History at 0x7f9e37327e80>"
            ]
          },
          "metadata": {
            "tags": []
          },
          "execution_count": 105
        }
      ]
    },
    {
      "cell_type": "code",
      "metadata": {
        "id": "KZbIpiqCjXgZ",
        "colab_type": "code",
        "colab": {}
      },
      "source": [
        "#и еще немного слоев и эпох\n",
        "inputs = tf.keras.layers.Input(shape=(MEAN_LEN,))\n",
        "embeddings = tf.keras.layers.Embedding(input_dim=len(word2id), output_dim=100)(inputs, )\n",
        "convs = []\n",
        "\n",
        "pad1 = tf.keras.layers.Lambda(lambda x: tf.pad(x, \n",
        "                                               [[0,0], [1,1], [0, 0]], \n",
        "                                               mode='REFLECT'))(embeddings)\n",
        "\n",
        "conv1 = tf.keras.layers.Conv1D(kernel_size=3, filters=32, strides=1)(pad1)\n",
        "pool1 = tf.keras.layers.AveragePooling1D()(conv1)\n",
        "pad2 = tf.keras.layers.Lambda(lambda x: tf.pad(x, \n",
        "                                               [[0,0], [1,1], [0, 0]], \n",
        "                                               mode='REFLECT'))(pool1)\n",
        "\n",
        "conv2 = tf.keras.layers.Conv1D(kernel_size=3, filters=32,strides=1, \n",
        "                              kernel_regularizer='l2', activation='relu')(pad2)\n",
        "\n",
        "\n",
        "drop1 = tf.keras.layers.Dropout(0.2)(embeddings)\n",
        "pad3 = tf.keras.layers.Lambda(lambda x: tf.pad(x, \n",
        "                                               [[0,0], [2,2], [0, 0]], \n",
        "                                               mode='REFLECT'))(embeddings)\n",
        "\n",
        "conv3 = tf.keras.layers.Conv1D(kernel_size=5, filters=32, strides=1)(pad3)\n",
        "pool2 = tf.keras.layers.AveragePooling1D()(conv3)\n",
        "\n",
        "pad4 = tf.keras.layers.Lambda(lambda x: tf.pad(x, \n",
        "                                               [[0,0], [2,2], [0, 0]], \n",
        "                                               mode='REFLECT'))(pool2)\n",
        "\n",
        "conv4 = tf.keras.layers.Conv1D(kernel_size=5, filters=32,strides=1, \n",
        "                              kernel_regularizer='l2', activation='relu')(pad4)\n",
        "\n",
        "\n",
        "pad5 = tf.keras.layers.Lambda(lambda x: tf.pad(x, \n",
        "                                               [[0,0], [1,1], [0, 0]], \n",
        "                                               mode='REFLECT'))(embeddings)\n",
        "\n",
        "conv5 = tf.keras.layers.Conv1D(kernel_size=3, filters=32, strides=1)(pad5)\n",
        "pool5 = tf.keras.layers.AveragePooling1D()(conv5)\n",
        "pad6 = tf.keras.layers.Lambda(lambda x: tf.pad(x, \n",
        "                                               [[0,0], [1,1], [0, 0]], \n",
        "                                               mode='REFLECT'))(pool5)\n",
        "\n",
        "conv6 = tf.keras.layers.Conv1D(kernel_size=3, filters=32,strides=1, \n",
        "                              kernel_regularizer='l2', activation='relu')(pad6)\n",
        "drop2 = tf.keras.layers.Dropout(0.2)(conv6)\n",
        "\n",
        "\n",
        "\n",
        "conv7 = tf.keras.layers.Conv1D(kernel_size=3, filters=32, strides=1)(pad5)\n",
        "pool7 = tf.keras.layers.AveragePooling1D()(conv5)\n",
        "pad7 = tf.keras.layers.Lambda(lambda x: tf.pad(x, \n",
        "                                               [[0,0], [1,1], [0, 0]], \n",
        "                                               mode='REFLECT'))(pool5)\n",
        "\n",
        "conv8 = tf.keras.layers.Conv1D(kernel_size=3, filters=32,strides=1, \n",
        "                              kernel_regularizer='l2', activation='relu')(pad6)\n",
        "drop3 = tf.keras.layers.Dropout(0.2)(conv8)\n",
        "\n",
        "conv9 = tf.keras.layers.Conv1D(kernel_size=5, filters=32, strides=1)(pad5)\n",
        "pool9 = tf.keras.layers.AveragePooling1D()(conv5)\n",
        "pad9 = tf.keras.layers.Lambda(lambda x: tf.pad(x, \n",
        "                                               [[0,0], [2,2], [0, 0]], \n",
        "                                               mode='REFLECT'))(pool5)\n",
        "\n",
        "conv10 = tf.keras.layers.Conv1D(kernel_size=3, filters=32,strides=1, \n",
        "                              kernel_regularizer='l2', activation='relu')(pad6)\n",
        "\n",
        "\n",
        "concat1 = tf.keras.layers.concatenate([conv2, conv4])\n",
        "concat2 = tf.keras.layers.concatenate([concat1, drop2])\n",
        "concat3 = tf.keras.layers.concatenate([concat2, drop3])\n",
        "concat = tf.keras.layers.concatenate([concat3, conv10])\n",
        "\n",
        "\n",
        "conv_global = tf.keras.layers.Conv1D(kernel_size=5, filters=32, strides=1)(concat)\n",
        "flatten = tf.keras.layers.Flatten()(conv_global)\n",
        "dense = tf.keras.layers.Dense(50, activation='relu')(flatten)\n",
        "outputs = tf.keras.layers.Dense(1, activation='sigmoid')(dense)\n",
        "\n",
        "model = tf.keras.Model(inputs=inputs, outputs=outputs)\n",
        "optimizer = tf.keras.optimizers.Adam(learning_rate=0.001)\n",
        "model.compile(optimizer=optimizer,\n",
        "              loss='binary_crossentropy',\n",
        "              metrics=[f1])"
      ],
      "execution_count": 0,
      "outputs": []
    },
    {
      "cell_type": "code",
      "metadata": {
        "id": "DhzK8Ru7kOuy",
        "colab_type": "code",
        "colab": {
          "base_uri": "https://localhost:8080/",
          "height": 663
        },
        "outputId": "2fb0849c-1c3a-42cd-c825-7227281f1878"
      },
      "source": [
        "model.fit(X_train, y_train, \n",
        "          validation_data=(X_valid, y_valid),\n",
        "          batch_size=2000,\n",
        "         epochs=15,\n",
        "         callbacks=[checkpoint, early_stop])"
      ],
      "execution_count": 107,
      "outputs": [
        {
          "output_type": "stream",
          "text": [
            "Epoch 1/15\n",
            "621/621 [==============================] - ETA: 0s - loss: 0.3491 - f1: 0.0015\n",
            "Epoch 00001: val_f1 did not improve from 0.25198\n",
            "621/621 [==============================] - 26s 42ms/step - loss: 0.3491 - f1: 0.0015 - val_loss: 0.2026 - val_f1: 5.0088e-04\n",
            "Epoch 2/15\n",
            "621/621 [==============================] - ETA: 0s - loss: 0.1988 - f1: 0.0285\n",
            "Epoch 00002: val_f1 did not improve from 0.25198\n",
            "621/621 [==============================] - 26s 41ms/step - loss: 0.1988 - f1: 0.0285 - val_loss: 0.1959 - val_f1: 0.1364\n",
            "Epoch 3/15\n",
            "621/621 [==============================] - ETA: 0s - loss: 0.1893 - f1: 0.1161\n",
            "Epoch 00003: val_f1 did not improve from 0.25198\n",
            "621/621 [==============================] - 26s 42ms/step - loss: 0.1893 - f1: 0.1161 - val_loss: 0.1858 - val_f1: 0.1364\n",
            "Epoch 4/15\n",
            "620/621 [============================>.] - ETA: 0s - loss: 0.1838 - f1: 0.1699\n",
            "Epoch 00004: val_f1 did not improve from 0.25198\n",
            "621/621 [==============================] - 26s 42ms/step - loss: 0.1839 - f1: 0.1699 - val_loss: 0.1827 - val_f1: 0.1680\n",
            "Epoch 5/15\n",
            "621/621 [==============================] - ETA: 0s - loss: 0.1806 - f1: 0.1968\n",
            "Epoch 00005: val_f1 did not improve from 0.25198\n",
            "621/621 [==============================] - 26s 42ms/step - loss: 0.1806 - f1: 0.1968 - val_loss: 0.1790 - val_f1: 0.2135\n",
            "Epoch 6/15\n",
            "621/621 [==============================] - ETA: 0s - loss: 0.1781 - f1: 0.2151\n",
            "Epoch 00006: val_f1 did not improve from 0.25198\n",
            "621/621 [==============================] - 26s 42ms/step - loss: 0.1781 - f1: 0.2151 - val_loss: 0.1776 - val_f1: 0.2428\n",
            "Epoch 7/15\n",
            "620/621 [============================>.] - ETA: 0s - loss: 0.1768 - f1: 0.2260\n",
            "Epoch 00007: val_f1 did not improve from 0.25198\n",
            "621/621 [==============================] - 26s 42ms/step - loss: 0.1768 - f1: 0.2259 - val_loss: 0.1779 - val_f1: 0.2258\n",
            "Epoch 8/15\n",
            "620/621 [============================>.] - ETA: 0s - loss: 0.1759 - f1: 0.2290\n",
            "Epoch 00008: val_f1 did not improve from 0.25198\n",
            "621/621 [==============================] - 26s 42ms/step - loss: 0.1759 - f1: 0.2291 - val_loss: 0.1768 - val_f1: 0.1946\n",
            "Epoch 9/15\n",
            "621/621 [==============================] - ETA: 0s - loss: 0.1747 - f1: 0.2366\n",
            "Epoch 00009: val_f1 did not improve from 0.25198\n",
            "621/621 [==============================] - 26s 42ms/step - loss: 0.1747 - f1: 0.2366 - val_loss: 0.1771 - val_f1: 0.2129\n",
            "Epoch 00009: early stopping\n"
          ],
          "name": "stdout"
        },
        {
          "output_type": "execute_result",
          "data": {
            "text/plain": [
              "<tensorflow.python.keras.callbacks.History at 0x7f9e36e712b0>"
            ]
          },
          "metadata": {
            "tags": []
          },
          "execution_count": 107
        }
      ]
    },
    {
      "cell_type": "code",
      "metadata": {
        "id": "7XQoCh1UkQIv",
        "colab_type": "code",
        "colab": {}
      },
      "source": [
        ""
      ],
      "execution_count": 0,
      "outputs": []
    }
  ]
}
