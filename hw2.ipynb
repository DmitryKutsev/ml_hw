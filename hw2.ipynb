{
 "cells": [
  {
   "cell_type": "code",
   "execution_count": 70,
   "metadata": {},
   "outputs": [],
   "source": [
    "from sklearn.linear_model import LinearRegression, Ridge, Lasso, ElasticNet\n",
    "from sklearn.svm import LinearSVR\n",
    "from sklearn.model_selection import train_test_split\n",
    "import pandas as pd\n"
   ]
  },
  {
   "cell_type": "code",
   "execution_count": 71,
   "metadata": {},
   "outputs": [],
   "source": [
    "data = pd.read_csv('data.csv')\n",
    "data.dropna(subset=['description'], inplace=True)\n",
    "data = pd.read_csv('data.csv')\n"
   ]
  },
  {
   "cell_type": "code",
   "execution_count": 72,
   "metadata": {},
   "outputs": [],
   "source": [
    "data = data.sample(frac=0.08)"
   ]
  },
  {
   "cell_type": "code",
   "execution_count": 73,
   "metadata": {},
   "outputs": [
    {
     "data": {
      "text/plain": [
       "(11097, 18)"
      ]
     },
     "execution_count": 73,
     "metadata": {},
     "output_type": "execute_result"
    }
   ],
   "source": [
    "data.shape"
   ]
  },
  {
   "cell_type": "code",
   "execution_count": 74,
   "metadata": {},
   "outputs": [
    {
     "data": {
      "text/html": [
       "<div>\n",
       "<style scoped>\n",
       "    .dataframe tbody tr th:only-of-type {\n",
       "        vertical-align: middle;\n",
       "    }\n",
       "\n",
       "    .dataframe tbody tr th {\n",
       "        vertical-align: top;\n",
       "    }\n",
       "\n",
       "    .dataframe thead th {\n",
       "        text-align: right;\n",
       "    }\n",
       "</style>\n",
       "<table border=\"1\" class=\"dataframe\">\n",
       "  <thead>\n",
       "    <tr style=\"text-align: right;\">\n",
       "      <th></th>\n",
       "      <th>item_id</th>\n",
       "      <th>user_id</th>\n",
       "      <th>region</th>\n",
       "      <th>city</th>\n",
       "      <th>parent_category_name</th>\n",
       "      <th>category_name</th>\n",
       "      <th>param_1</th>\n",
       "      <th>param_2</th>\n",
       "      <th>param_3</th>\n",
       "      <th>title</th>\n",
       "      <th>description</th>\n",
       "      <th>price</th>\n",
       "      <th>item_seq_number</th>\n",
       "      <th>activation_date</th>\n",
       "      <th>user_type</th>\n",
       "      <th>image</th>\n",
       "      <th>image_top_1</th>\n",
       "      <th>deal_probability</th>\n",
       "    </tr>\n",
       "  </thead>\n",
       "  <tbody>\n",
       "    <tr>\n",
       "      <th>114089</th>\n",
       "      <td>8d83779bb76f</td>\n",
       "      <td>eb246af312b1</td>\n",
       "      <td>Красноярский край</td>\n",
       "      <td>Красноярск</td>\n",
       "      <td>Личные вещи</td>\n",
       "      <td>Одежда, обувь, аксессуары</td>\n",
       "      <td>Женская одежда</td>\n",
       "      <td>Платья и юбки</td>\n",
       "      <td>40–42 (XS)</td>\n",
       "      <td>Платишко сарафан</td>\n",
       "      <td>Размер 40-42!сидит красиво!находимся на шумяцк...</td>\n",
       "      <td>700.0</td>\n",
       "      <td>135</td>\n",
       "      <td>2017-03-22</td>\n",
       "      <td>Private</td>\n",
       "      <td>ad397cdb48910a50709285b52814c23aa6df312daabd5f...</td>\n",
       "      <td>603.0</td>\n",
       "      <td>0.00000</td>\n",
       "    </tr>\n",
       "    <tr>\n",
       "      <th>13654</th>\n",
       "      <td>098cb46e4c91</td>\n",
       "      <td>976be4438d91</td>\n",
       "      <td>Самарская область</td>\n",
       "      <td>Самара</td>\n",
       "      <td>Бытовая электроника</td>\n",
       "      <td>Товары для компьютера</td>\n",
       "      <td>Клавиатуры и мыши</td>\n",
       "      <td>NaN</td>\n",
       "      <td>NaN</td>\n",
       "      <td>Игровая клавиатура GX Gaming genius</td>\n",
       "      <td>Профессиональная Игровая клавиатура Razer deat...</td>\n",
       "      <td>1500.0</td>\n",
       "      <td>10</td>\n",
       "      <td>2017-03-16</td>\n",
       "      <td>Private</td>\n",
       "      <td>042d2d9094c8d83e868e6c52a810f53fd02594bf73e33e...</td>\n",
       "      <td>2828.0</td>\n",
       "      <td>0.00000</td>\n",
       "    </tr>\n",
       "    <tr>\n",
       "      <th>36712</th>\n",
       "      <td>837545fc4727</td>\n",
       "      <td>108edfc3a39e</td>\n",
       "      <td>Пермский край</td>\n",
       "      <td>Пермь</td>\n",
       "      <td>Для дома и дачи</td>\n",
       "      <td>Бытовая техника</td>\n",
       "      <td>Для кухни</td>\n",
       "      <td>Холодильники и морозильные камеры</td>\n",
       "      <td>NaN</td>\n",
       "      <td>Бирюса6,Смоленск. Доставлю</td>\n",
       "      <td>Бирюса 2300/\\nСмоленск 1700</td>\n",
       "      <td>NaN</td>\n",
       "      <td>1423</td>\n",
       "      <td>2017-03-28</td>\n",
       "      <td>Company</td>\n",
       "      <td>NaN</td>\n",
       "      <td>NaN</td>\n",
       "      <td>0.00000</td>\n",
       "    </tr>\n",
       "    <tr>\n",
       "      <th>86557</th>\n",
       "      <td>c2e04a23fa2e</td>\n",
       "      <td>651223f8acaa</td>\n",
       "      <td>Челябинская область</td>\n",
       "      <td>Магнитогорск</td>\n",
       "      <td>Личные вещи</td>\n",
       "      <td>Детская одежда и обувь</td>\n",
       "      <td>Для девочек</td>\n",
       "      <td>Другое</td>\n",
       "      <td>NaN</td>\n",
       "      <td>Комплект, вельветовый комбез+кофточка</td>\n",
       "      <td>На девочку 1-1,5 года,цвет красивый бирюзовый</td>\n",
       "      <td>400.0</td>\n",
       "      <td>14</td>\n",
       "      <td>2017-03-16</td>\n",
       "      <td>Private</td>\n",
       "      <td>67c71956f77141017673c433d914752128a5656a7e9d68...</td>\n",
       "      <td>42.0</td>\n",
       "      <td>0.00000</td>\n",
       "    </tr>\n",
       "    <tr>\n",
       "      <th>45507</th>\n",
       "      <td>66c6ede6cf9c</td>\n",
       "      <td>45e1b43f2392</td>\n",
       "      <td>Башкортостан</td>\n",
       "      <td>Уфа</td>\n",
       "      <td>Личные вещи</td>\n",
       "      <td>Товары для детей и игрушки</td>\n",
       "      <td>Автомобильные кресла</td>\n",
       "      <td>NaN</td>\n",
       "      <td>NaN</td>\n",
       "      <td>Siger Прайм Isofix детское автокресло</td>\n",
       "      <td>Группа применения . . . . . . . . . . . . . . ...</td>\n",
       "      <td>4000.0</td>\n",
       "      <td>59</td>\n",
       "      <td>2017-03-17</td>\n",
       "      <td>Private</td>\n",
       "      <td>724af9a76f07bdb9bb3978d2edf3d227ceae765b27a740...</td>\n",
       "      <td>796.0</td>\n",
       "      <td>0.80323</td>\n",
       "    </tr>\n",
       "  </tbody>\n",
       "</table>\n",
       "</div>"
      ],
      "text/plain": [
       "             item_id       user_id               region          city  \\\n",
       "114089  8d83779bb76f  eb246af312b1    Красноярский край    Красноярск   \n",
       "13654   098cb46e4c91  976be4438d91    Самарская область        Самара   \n",
       "36712   837545fc4727  108edfc3a39e        Пермский край         Пермь   \n",
       "86557   c2e04a23fa2e  651223f8acaa  Челябинская область  Магнитогорск   \n",
       "45507   66c6ede6cf9c  45e1b43f2392         Башкортостан           Уфа   \n",
       "\n",
       "       parent_category_name               category_name               param_1  \\\n",
       "114089          Личные вещи   Одежда, обувь, аксессуары        Женская одежда   \n",
       "13654   Бытовая электроника       Товары для компьютера     Клавиатуры и мыши   \n",
       "36712       Для дома и дачи             Бытовая техника             Для кухни   \n",
       "86557           Личные вещи      Детская одежда и обувь           Для девочек   \n",
       "45507           Личные вещи  Товары для детей и игрушки  Автомобильные кресла   \n",
       "\n",
       "                                  param_2     param_3  \\\n",
       "114089                      Платья и юбки  40–42 (XS)   \n",
       "13654                                 NaN         NaN   \n",
       "36712   Холодильники и морозильные камеры         NaN   \n",
       "86557                              Другое         NaN   \n",
       "45507                                 NaN         NaN   \n",
       "\n",
       "                                        title  \\\n",
       "114089                       Платишко сарафан   \n",
       "13654     Игровая клавиатура GX Gaming genius   \n",
       "36712              Бирюса6,Смоленск. Доставлю   \n",
       "86557   Комплект, вельветовый комбез+кофточка   \n",
       "45507   Siger Прайм Isofix детское автокресло   \n",
       "\n",
       "                                              description   price  \\\n",
       "114089  Размер 40-42!сидит красиво!находимся на шумяцк...   700.0   \n",
       "13654   Профессиональная Игровая клавиатура Razer deat...  1500.0   \n",
       "36712                         Бирюса 2300/\\nСмоленск 1700     NaN   \n",
       "86557       На девочку 1-1,5 года,цвет красивый бирюзовый   400.0   \n",
       "45507   Группа применения . . . . . . . . . . . . . . ...  4000.0   \n",
       "\n",
       "        item_seq_number activation_date user_type  \\\n",
       "114089              135      2017-03-22   Private   \n",
       "13654                10      2017-03-16   Private   \n",
       "36712              1423      2017-03-28   Company   \n",
       "86557                14      2017-03-16   Private   \n",
       "45507                59      2017-03-17   Private   \n",
       "\n",
       "                                                    image  image_top_1  \\\n",
       "114089  ad397cdb48910a50709285b52814c23aa6df312daabd5f...        603.0   \n",
       "13654   042d2d9094c8d83e868e6c52a810f53fd02594bf73e33e...       2828.0   \n",
       "36712                                                 NaN          NaN   \n",
       "86557   67c71956f77141017673c433d914752128a5656a7e9d68...         42.0   \n",
       "45507   724af9a76f07bdb9bb3978d2edf3d227ceae765b27a740...        796.0   \n",
       "\n",
       "        deal_probability  \n",
       "114089           0.00000  \n",
       "13654            0.00000  \n",
       "36712            0.00000  \n",
       "86557            0.00000  \n",
       "45507            0.80323  "
      ]
     },
     "execution_count": 74,
     "metadata": {},
     "output_type": "execute_result"
    }
   ],
   "source": [
    "data.head(5)"
   ]
  },
  {
   "cell_type": "code",
   "execution_count": 75,
   "metadata": {},
   "outputs": [],
   "source": [
    "import numpy as np\n",
    "from sklearn.metrics import mean_squared_error\n",
    "import re"
   ]
  },
  {
   "cell_type": "code",
   "execution_count": 76,
   "metadata": {},
   "outputs": [],
   "source": [
    "y_train, y_test = train_test_split(data.deal_probability, random_state=42)"
   ]
  },
  {
   "cell_type": "code",
   "execution_count": 77,
   "metadata": {},
   "outputs": [
    {
     "data": {
      "text/plain": [
       "array([0.33683958, 0.87644133, 0.76810087, ..., 0.56879148, 0.76659776,\n",
       "       0.36533978])"
      ]
     },
     "execution_count": 77,
     "metadata": {},
     "output_type": "execute_result"
    }
   ],
   "source": [
    "np.random.rand(len(y_test))\n"
   ]
  },
  {
   "cell_type": "code",
   "execution_count": 78,
   "metadata": {},
   "outputs": [],
   "source": [
    "data['text_len'] = data['description'].apply(len)\n",
    "data['text_len_tokens'] = data['description'].apply(lambda x: len(x.split()))\n",
    "data['number_of_caps'] = data['description'].apply(lambda x: len([ch for ch in x if ch.isupper()]))\n",
    "data['number_of_nonalphanum'] = data['description'].apply(lambda x: len([ch for ch in x if not ch.isalnum()]))"
   ]
  },
  {
   "cell_type": "code",
   "execution_count": 100,
   "metadata": {},
   "outputs": [],
   "source": [
    "data['number_of_latins'] = data['description'].apply(lambda x: len(re.findall(\"[a-zA-Z]+\", x)))\n",
    "data['number_of_nums'] = data['description'].apply(lambda x: len([ch for ch in x if ch.isnumeric()]))\n",
    "list_of_words = ['новый', \"отличном\",\"хорошем\", \"супер\", \"рабочем\", \"гарантия\", \"гарантии\", \"новое\", \"новый\"]\n",
    "data['number_of_words'] = data['description'].apply(lambda x: \\\n",
    "                                                    len([ch for ch in x if ch in list_of_words]))\n",
    "data['number_of_signs'] = data['description'].apply(lambda x: \\\n",
    "                                                    len(re.findall(\"([^1-9]+)?[1-9]+?([^1-9]+)?\", x)))\n",
    "data['number_of_emo_words'] = data['description'].apply(lambda x: \\\n",
    "                                                          len([ch for ch in x if '!'in x or '?' in x]))"
   ]
  },
  {
   "cell_type": "code",
   "execution_count": 80,
   "metadata": {},
   "outputs": [],
   "source": [
    "# Добавил слова на латинице, потому что это может быть известный брэнд, \n",
    "# слова, которые содержат \"!\" или \"?\", как эмоциональные, слова из списка \n",
    "# хороших слов, слова с цифрами(какие-то известные модели чего-то) и просто\n",
    "#  цифры(год пр-ва, номер год гарантии, и тд..).\n",
    "\n"
   ]
  },
  {
   "cell_type": "code",
   "execution_count": 84,
   "metadata": {},
   "outputs": [],
   "source": [
    "from sklearn.feature_extraction.text import CountVectorizer, TfidfVectorizer"
   ]
  },
  {
   "cell_type": "code",
   "execution_count": 85,
   "metadata": {},
   "outputs": [],
   "source": [
    "cv = CountVectorizer(max_features=1000, min_df=5, max_df=0.4, ngram_range=(1,2))\n",
    "X = cv.fit_transform(data.description)\n",
    "y = data.deal_probability.values"
   ]
  },
  {
   "cell_type": "code",
   "execution_count": 86,
   "metadata": {},
   "outputs": [
    {
     "data": {
      "text/plain": [
       "(11097, 1000)"
      ]
     },
     "execution_count": 86,
     "metadata": {},
     "output_type": "execute_result"
    }
   ],
   "source": [
    "X.shape"
   ]
  },
  {
   "cell_type": "code",
   "execution_count": 87,
   "metadata": {},
   "outputs": [],
   "source": [
    "X_train, X_test, y_train, y_test = train_test_split(X, y, random_state=42)"
   ]
  },
  {
   "cell_type": "code",
   "execution_count": 88,
   "metadata": {},
   "outputs": [
    {
     "data": {
      "text/plain": [
       "0.26669839727857436"
      ]
     },
     "execution_count": 88,
     "metadata": {},
     "output_type": "execute_result"
    }
   ],
   "source": [
    "regressor = Ridge(alpha=10)\n",
    "regressor.fit(X_train, y_train)\n",
    "preds = regressor.predict(X_test)\n",
    "np.sqrt(mean_squared_error(y_test, preds))"
   ]
  },
  {
   "cell_type": "code",
   "execution_count": 116,
   "metadata": {},
   "outputs": [
    {
     "data": {
      "text/plain": [
       "0.2556208926562744"
      ]
     },
     "execution_count": 116,
     "metadata": {},
     "output_type": "execute_result"
    }
   ],
   "source": [
    "regressor = Ridge(alpha=15)\n",
    "regressor.fit(X_train, y_train)\n",
    "preds = regressor.predict(X_test)\n",
    "np.sqrt(mean_squared_error(y_test, preds))"
   ]
  },
  {
   "cell_type": "code",
   "execution_count": 113,
   "metadata": {},
   "outputs": [
    {
     "data": {
      "text/plain": [
       "0.2615575759930942"
      ]
     },
     "execution_count": 113,
     "metadata": {},
     "output_type": "execute_result"
    }
   ],
   "source": [
    "regressor = Ridge(alpha=1)\n",
    "regressor.fit(X_train, y_train)\n",
    "preds = regressor.predict(X_test)\n",
    "np.sqrt(mean_squared_error(y_test, preds))"
   ]
  },
  {
   "cell_type": "code",
   "execution_count": 136,
   "metadata": {},
   "outputs": [],
   "source": [
    "cv = TfidfVectorizer(max_features=500, min_df=5, max_df=0.4)\n",
    "X = cv.fit_transform(data.description)\n",
    "y = data.deal_probability.values\n",
    "\n"
   ]
  },
  {
   "cell_type": "code",
   "execution_count": 137,
   "metadata": {},
   "outputs": [],
   "source": [
    "X_train, X_test, y_train, y_test = train_test_split(X, y, random_state=42)"
   ]
  },
  {
   "cell_type": "code",
   "execution_count": 138,
   "metadata": {},
   "outputs": [
    {
     "data": {
      "text/plain": [
       "0.2587432881111921"
      ]
     },
     "execution_count": 138,
     "metadata": {},
     "output_type": "execute_result"
    }
   ],
   "source": [
    "regressor = Ridge(alpha=1)\n",
    "regressor.fit(X_train, y_train)\n",
    "preds = regressor.predict(X_test)\n",
    "np.sqrt(mean_squared_error(y_test, preds))"
   ]
  },
  {
   "cell_type": "code",
   "execution_count": 139,
   "metadata": {},
   "outputs": [
    {
     "data": {
      "text/plain": [
       "0.2601763997958872"
      ]
     },
     "execution_count": 139,
     "metadata": {},
     "output_type": "execute_result"
    }
   ],
   "source": [
    "regressor = Ridge(alpha=0.0001)\n",
    "regressor.fit(X_train, y_train)\n",
    "preds = regressor.predict(X_test)\n",
    "np.sqrt(mean_squared_error(y_test, preds))"
   ]
  },
  {
   "cell_type": "code",
   "execution_count": 140,
   "metadata": {},
   "outputs": [],
   "source": [
    "# В данном случае, оптимальный Alpha у меня получился в районе 10-15(если я все делаю правильно)\n",
    "# ниже и выше ошибка начинает расти"
   ]
  },
  {
   "cell_type": "code",
   "execution_count": 141,
   "metadata": {},
   "outputs": [],
   "source": [
    "from sklearn.linear_model import SGDRegressor"
   ]
  },
  {
   "cell_type": "code",
   "execution_count": 142,
   "metadata": {},
   "outputs": [
    {
     "data": {
      "text/plain": [
       "0.2660907517311499"
      ]
     },
     "execution_count": 142,
     "metadata": {},
     "output_type": "execute_result"
    }
   ],
   "source": [
    "regressor = SGDRegressor(max_iter=10, alpha=0.00001)\n",
    "regressor.fit(X_train, y_train)\n",
    "preds = regressor.predict(X_test)\n",
    "np.sqrt(mean_squared_error(y_test, preds))"
   ]
  },
  {
   "cell_type": "code",
   "execution_count": 143,
   "metadata": {},
   "outputs": [],
   "source": [
    "from scipy.sparse import hstack"
   ]
  },
  {
   "cell_type": "code",
   "execution_count": 201,
   "metadata": {},
   "outputs": [],
   "source": [
    "cv = CountVectorizer(max_features=500, min_df=5, max_df=0.4, ngram_range=(1,2))\n",
    "tfidf = TfidfVectorizer(max_features=500, min_df=5,analyzer='char', ngram_range=(3,3), max_df=0.4)\n",
    "\n",
    "X_cv = cv.fit_transform(data.description)\n",
    "X_tfidf = tfidf.fit_transform(data.description)\n",
    "\n",
    "X = hstack([X_cv, X_tfidf])"
   ]
  },
  {
   "cell_type": "code",
   "execution_count": 202,
   "metadata": {},
   "outputs": [
    {
     "data": {
      "text/plain": [
       "((11097, 500), (11097, 500))"
      ]
     },
     "execution_count": 202,
     "metadata": {},
     "output_type": "execute_result"
    }
   ],
   "source": [
    "X_cv.shape, X_tfidf.shape"
   ]
  },
  {
   "cell_type": "code",
   "execution_count": 203,
   "metadata": {},
   "outputs": [],
   "source": [
    "X_train, X_test, y_train, y_test = train_test_split(X, y, random_state=42)"
   ]
  },
  {
   "cell_type": "code",
   "execution_count": 209,
   "metadata": {},
   "outputs": [
    {
     "data": {
      "text/plain": [
       "0.2620503812821758"
      ]
     },
     "execution_count": 209,
     "metadata": {},
     "output_type": "execute_result"
    }
   ],
   "source": [
    "regressor = SGDRegressor(max_iter=10, alpha=0.00001)\n",
    "regressor.fit(X_train, y_train)\n",
    "preds = regressor.predict(X_test)\n",
    "np.sqrt(mean_squared_error(y_test, preds))"
   ]
  },
  {
   "cell_type": "code",
   "execution_count": 154,
   "metadata": {},
   "outputs": [
    {
     "data": {
      "text/plain": [
       "0.2766982802455855"
      ]
     },
     "execution_count": 154,
     "metadata": {},
     "output_type": "execute_result"
    }
   ],
   "source": [
    "regressor = SGDRegressor(max_iter=50, alpha=1)\n",
    "regressor.fit(X_train, y_train)\n",
    "preds = regressor.predict(X_test)\n",
    "np.sqrt(mean_squared_error(y_test, preds))"
   ]
  },
  {
   "cell_type": "code",
   "execution_count": 156,
   "metadata": {},
   "outputs": [
    {
     "data": {
      "text/plain": [
       "0.27941250764743997"
      ]
     },
     "execution_count": 156,
     "metadata": {},
     "output_type": "execute_result"
    }
   ],
   "source": [
    "regressor = SGDRegressor(max_iter=50, alpha=100)\n",
    "regressor.fit(X_train, y_train)\n",
    "preds = regressor.predict(X_test)\n",
    "np.sqrt(mean_squared_error(y_test, preds))"
   ]
  },
  {
   "cell_type": "code",
   "execution_count": 210,
   "metadata": {},
   "outputs": [],
   "source": [
    "# Я пробовал и другие разные варианты, \n",
    "# С низким параметром Alpha получилось гораздо хуже\n",
    "# и здесь наверное оптимальна более-менее единица.\n",
    "#  еще помогло сменить max_features на 500, и max_iter на 10. Но все равно хуже, чем в тетрадке из лекции.\n
    "# Возможно еще потому, что почему-то прогрузилось меньше данных, чем было на лекции.
   ]
  },
  {
   "cell_type": "code",
   "execution_count": 211,
   "metadata": {},
   "outputs": [],
   "source": [
    "from sklearn.metrics import r2_score"
   ]
  },
  {
   "cell_type": "code",
   "execution_count": 212,
   "metadata": {},
   "outputs": [
    {
     "data": {
      "text/plain": [
       "0.03626078699090718"
      ]
     },
     "execution_count": 212,
     "metadata": {},
     "output_type": "execute_result"
    }
   ],
   "source": [
    "r2_score(y_test, preds)"
   ]
  }
 ],
 "metadata": {
  "kernelspec": {
   "display_name": "Python 3",
   "language": "python",
   "name": "python3"
  },
  "language_info": {
   "codemirror_mode": {
    "name": "ipython",
    "version": 3
   },
   "file_extension": ".py",
   "mimetype": "text/x-python",
   "name": "python",
   "nbconvert_exporter": "python",
   "pygments_lexer": "ipython3",
   "version": "3.6.9"
  }
 },
 "nbformat": 4,
 "nbformat_minor": 4
}
