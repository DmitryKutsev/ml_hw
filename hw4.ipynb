{
  "nbformat": 4,
  "nbformat_minor": 0,
  "metadata": {
    "colab": {
      "name": "Untitled29.ipynb",
      "provenance": [],
      "authorship_tag": "ABX9TyNRWzYnroMeXdBcaL3AlMpw",
      "include_colab_link": true
    },
    "kernelspec": {
      "name": "python3",
      "display_name": "Python 3"
    }
  },
  "cells": [
    {
      "cell_type": "markdown",
      "metadata": {
        "id": "view-in-github",
        "colab_type": "text"
      },
      "source": [
        "<a href=\"https://colab.research.google.com/github/DmitryKutsev/ml_hw/blob/master/hw4.ipynb\" target=\"_parent\"><img src=\"https://colab.research.google.com/assets/colab-badge.svg\" alt=\"Open In Colab\"/></a>"
      ]
    },
    {
      "cell_type": "code",
      "metadata": {
        "id": "f-mQYZ5SV5Ik",
        "colab_type": "code",
        "outputId": "87c6b77e-99ff-45aa-cc9a-160fc26aaa72",
        "colab": {
          "base_uri": "https://localhost:8080/",
          "height": 204
        }
      },
      "source": [
        "!wget https://raw.githubusercontent.com/DmitryKutsev/ml_hw/master/small_data.csv\n"
      ],
      "execution_count": 103,
      "outputs": [
        {
          "output_type": "stream",
          "text": [
            "--2020-03-04 14:20:28--  https://raw.githubusercontent.com/DmitryKutsev/ml_hw/master/small_data.csv\n",
            "Resolving raw.githubusercontent.com (raw.githubusercontent.com)... 151.101.0.133, 151.101.64.133, 151.101.128.133, ...\n",
            "Connecting to raw.githubusercontent.com (raw.githubusercontent.com)|151.101.0.133|:443... connected.\n",
            "HTTP request sent, awaiting response... 200 OK\n",
            "Length: 24394136 (23M) [text/plain]\n",
            "Saving to: ‘small_data.csv.2’\n",
            "\n",
            "\rsmall_data.csv.2      0%[                    ]       0  --.-KB/s               \rsmall_data.csv.2     93%[=================>  ]  21.83M   109MB/s               \rsmall_data.csv.2    100%[===================>]  23.26M   113MB/s    in 0.2s    \n",
            "\n",
            "2020-03-04 14:20:28 (113 MB/s) - ‘small_data.csv.2’ saved [24394136/24394136]\n",
            "\n"
          ],
          "name": "stdout"
        }
      ]
    },
    {
      "cell_type": "code",
      "metadata": {
        "id": "qqiICcEeWA-7",
        "colab_type": "code",
        "colab": {}
      },
      "source": [
        "import pandas as pd\n",
        "from sklearn import cluster\n",
        "from sklearn import metrics\n",
        "from sklearn.feature_extraction.text import CountVectorizer\n",
        "from sklearn.cluster import AffinityPropagation, MeanShift, AgglomerativeClustering\n",
        "from sklearn.decomposition import TruncatedSVD"
      ],
      "execution_count": 0,
      "outputs": []
    },
    {
      "cell_type": "code",
      "metadata": {
        "id": "evQa_bwUoXFQ",
        "colab_type": "code",
        "colab": {}
      },
      "source": [
        "\n",
        "from sklearn.cluster import AffinityPropagation, AgglomerativeClustering, DBSCAN, \\\n",
        "                            KMeans, MiniBatchKMeans, Birch, MeanShift, SpectralClustering\n",
        "from sklearn.metrics import adjusted_rand_score, adjusted_mutual_info_score, \\\n",
        "                            silhouette_score\n",
        "\n",
        "from sklearn.feature_extraction.text import CountVectorizer\n",
        "from sklearn.decomposition import TruncatedSVD\n",
        "from sklearn import metrics\n",
        "from sklearn.datasets import make_blobs"
      ],
      "execution_count": 0,
      "outputs": []
    },
    {
      "cell_type": "code",
      "metadata": {
        "id": "6qnF2VDAXI5v",
        "colab_type": "code",
        "colab": {}
      },
      "source": [
        "data = pd.read_csv('small_data.csv')"
      ],
      "execution_count": 0,
      "outputs": []
    },
    {
      "cell_type": "code",
      "metadata": {
        "id": "muMQC4LqpA6T",
        "colab_type": "code",
        "outputId": "ebb22bdf-2553-494d-b8d5-4df973b56420",
        "colab": {
          "base_uri": "https://localhost:8080/",
          "height": 513
        }
      },
      "source": [
        "data.head(5)"
      ],
      "execution_count": 107,
      "outputs": [
        {
          "output_type": "execute_result",
          "data": {
            "text/html": [
              "<div>\n",
              "<style scoped>\n",
              "    .dataframe tbody tr th:only-of-type {\n",
              "        vertical-align: middle;\n",
              "    }\n",
              "\n",
              "    .dataframe tbody tr th {\n",
              "        vertical-align: top;\n",
              "    }\n",
              "\n",
              "    .dataframe thead th {\n",
              "        text-align: right;\n",
              "    }\n",
              "</style>\n",
              "<table border=\"1\" class=\"dataframe\">\n",
              "  <thead>\n",
              "    <tr style=\"text-align: right;\">\n",
              "      <th></th>\n",
              "      <th>item_id</th>\n",
              "      <th>user_id</th>\n",
              "      <th>region</th>\n",
              "      <th>city</th>\n",
              "      <th>parent_category_name</th>\n",
              "      <th>category_name</th>\n",
              "      <th>param_1</th>\n",
              "      <th>param_2</th>\n",
              "      <th>param_3</th>\n",
              "      <th>title</th>\n",
              "      <th>description</th>\n",
              "      <th>price</th>\n",
              "      <th>item_seq_number</th>\n",
              "      <th>activation_date</th>\n",
              "      <th>user_type</th>\n",
              "      <th>image</th>\n",
              "      <th>image_top_1</th>\n",
              "    </tr>\n",
              "  </thead>\n",
              "  <tbody>\n",
              "    <tr>\n",
              "      <th>0</th>\n",
              "      <td>793dd3d5f0f0</td>\n",
              "      <td>9467e0341c0e</td>\n",
              "      <td>Алтайский край</td>\n",
              "      <td>Барнаул</td>\n",
              "      <td>Личные вещи</td>\n",
              "      <td>Детская одежда и обувь</td>\n",
              "      <td>Для девочек</td>\n",
              "      <td>Платья и юбки</td>\n",
              "      <td>146-152 см (10-12 лет)</td>\n",
              "      <td>Платье праздничное для девочки</td>\n",
              "      <td>Очень красивое торг</td>\n",
              "      <td>1500.0</td>\n",
              "      <td>106</td>\n",
              "      <td>2017-04-12</td>\n",
              "      <td>Company</td>\n",
              "      <td>ace7b2b7f066a6b6ff244f90d030c2c1a1bf118dd0e1ac...</td>\n",
              "      <td>573.0</td>\n",
              "    </tr>\n",
              "    <tr>\n",
              "      <th>1</th>\n",
              "      <td>f8c965d9b668</td>\n",
              "      <td>1905516660f5</td>\n",
              "      <td>Свердловская область</td>\n",
              "      <td>Каменск-Уральский</td>\n",
              "      <td>Для дома и дачи</td>\n",
              "      <td>Мебель и интерьер</td>\n",
              "      <td>Кровати, диваны и кресла</td>\n",
              "      <td>NaN</td>\n",
              "      <td>NaN</td>\n",
              "      <td>Кровать двухспальная</td>\n",
              "      <td>Двуспальная кровать 140х200 с металлическим ка...</td>\n",
              "      <td>5700.0</td>\n",
              "      <td>10</td>\n",
              "      <td>2017-04-15</td>\n",
              "      <td>Private</td>\n",
              "      <td>b38ef24dd5b876ed626bd98241e228e4e19e4160d33abe...</td>\n",
              "      <td>1439.0</td>\n",
              "    </tr>\n",
              "    <tr>\n",
              "      <th>2</th>\n",
              "      <td>2f153c00d561</td>\n",
              "      <td>b4dc4849fdd4</td>\n",
              "      <td>Самарская область</td>\n",
              "      <td>Самара</td>\n",
              "      <td>Бытовая электроника</td>\n",
              "      <td>Телефоны</td>\n",
              "      <td>Samsung</td>\n",
              "      <td>NaN</td>\n",
              "      <td>NaN</td>\n",
              "      <td>Samsung S3 mini gt-i8190</td>\n",
              "      <td>Продам телефон самсунг 2 ядра, 1 гиг оперативн...</td>\n",
              "      <td>1500.0</td>\n",
              "      <td>6</td>\n",
              "      <td>2017-04-12</td>\n",
              "      <td>Private</td>\n",
              "      <td>8530cc0c8d5dc6d212497dffd610d89b92a7db952934db...</td>\n",
              "      <td>2932.0</td>\n",
              "    </tr>\n",
              "    <tr>\n",
              "      <th>3</th>\n",
              "      <td>7fc5eea56915</td>\n",
              "      <td>02c14d39fdb4</td>\n",
              "      <td>Саратовская область</td>\n",
              "      <td>Саратов</td>\n",
              "      <td>Личные вещи</td>\n",
              "      <td>Одежда, обувь, аксессуары</td>\n",
              "      <td>Женская одежда</td>\n",
              "      <td>Платья и юбки</td>\n",
              "      <td>44–46 (M)</td>\n",
              "      <td>Красивое платье на одно плечо, в идеале размер м</td>\n",
              "      <td>Заказывала в Сша, прекрасное качество, в деле ...</td>\n",
              "      <td>1000.0</td>\n",
              "      <td>1280</td>\n",
              "      <td>2017-04-13</td>\n",
              "      <td>Company</td>\n",
              "      <td>eb21745ba276d3b00b05856a58fe719e31a82419c0221a...</td>\n",
              "      <td>386.0</td>\n",
              "    </tr>\n",
              "    <tr>\n",
              "      <th>4</th>\n",
              "      <td>b01000d29ea3</td>\n",
              "      <td>b17f14110367</td>\n",
              "      <td>Удмуртия</td>\n",
              "      <td>Ижевск</td>\n",
              "      <td>Личные вещи</td>\n",
              "      <td>Детская одежда и обувь</td>\n",
              "      <td>Для мальчиков</td>\n",
              "      <td>Шапки, варежки, шарфы</td>\n",
              "      <td>NaN</td>\n",
              "      <td>Стильная панама</td>\n",
              "      <td>Состояние новой. Размер до года- полтора.  По ...</td>\n",
              "      <td>150.0</td>\n",
              "      <td>145</td>\n",
              "      <td>2017-04-14</td>\n",
              "      <td>Company</td>\n",
              "      <td>5bf1001fa681b96f121ad8047c85e3747f3dac37830dd0...</td>\n",
              "      <td>209.0</td>\n",
              "    </tr>\n",
              "  </tbody>\n",
              "</table>\n",
              "</div>"
            ],
            "text/plain": [
              "        item_id  ... image_top_1\n",
              "0  793dd3d5f0f0  ...       573.0\n",
              "1  f8c965d9b668  ...      1439.0\n",
              "2  2f153c00d561  ...      2932.0\n",
              "3  7fc5eea56915  ...       386.0\n",
              "4  b01000d29ea3  ...       209.0\n",
              "\n",
              "[5 rows x 17 columns]"
            ]
          },
          "metadata": {
            "tags": []
          },
          "execution_count": 107
        }
      ]
    },
    {
      "cell_type": "code",
      "metadata": {
        "id": "JO1BF_bApEYZ",
        "colab_type": "code",
        "colab": {}
      },
      "source": [
        "data = data[['category_name', 'title']]"
      ],
      "execution_count": 0,
      "outputs": []
    },
    {
      "cell_type": "code",
      "metadata": {
        "id": "JUpztKAdpTRr",
        "colab_type": "code",
        "colab": {
          "base_uri": "https://localhost:8080/",
          "height": 34
        },
        "outputId": "e3f68d00-ea64-4dce-deb8-718f5bc58cd4"
      },
      "source": [
        "data.shape"
      ],
      "execution_count": 109,
      "outputs": [
        {
          "output_type": "execute_result",
          "data": {
            "text/plain": [
              "(37339, 2)"
            ]
          },
          "metadata": {
            "tags": []
          },
          "execution_count": 109
        }
      ]
    },
    {
      "cell_type": "code",
      "metadata": {
        "id": "wZWi0G9ipWuI",
        "colab_type": "code",
        "colab": {}
      },
      "source": [
        "sample = data.sample(frac=0.1)"
      ],
      "execution_count": 0,
      "outputs": []
    },
    {
      "cell_type": "code",
      "metadata": {
        "id": "AG89Quw2pbBw",
        "colab_type": "code",
        "colab": {
          "base_uri": "https://localhost:8080/",
          "height": 34
        },
        "outputId": "e4a09dfc-8d9b-4469-e296-58a1c0427a47"
      },
      "source": [
        "sample.shape"
      ],
      "execution_count": 111,
      "outputs": [
        {
          "output_type": "execute_result",
          "data": {
            "text/plain": [
              "(3734, 2)"
            ]
          },
          "metadata": {
            "tags": []
          },
          "execution_count": 111
        }
      ]
    },
    {
      "cell_type": "code",
      "metadata": {
        "id": "Z42gZfMopeqx",
        "colab_type": "code",
        "colab": {}
      },
      "source": [
        "\n",
        "cv = CountVectorizer(max_features=500)\n",
        "X = cv.fit_transform(sample['title'])\n",
        "\n",
        "y = sample['category_name']"
      ],
      "execution_count": 0,
      "outputs": []
    },
    {
      "cell_type": "code",
      "metadata": {
        "id": "lfu_xm_VHzKo",
        "colab_type": "code",
        "colab": {
          "base_uri": "https://localhost:8080/",
          "height": 68
        },
        "outputId": "de6e3d10-1749-442c-be47-eac5ded8b34f"
      },
      "source": [
        "cluster = AffinityPropagation(damping=0.7, preference=-5, \n",
        "                              max_iter=400, verbose=2)\n",
        "cluster.fit(X)"
      ],
      "execution_count": 113,
      "outputs": [
        {
          "output_type": "stream",
          "text": [
            "Converged after 272 iterations.\n"
          ],
          "name": "stdout"
        },
        {
          "output_type": "execute_result",
          "data": {
            "text/plain": [
              "AffinityPropagation(affinity='euclidean', convergence_iter=15, copy=True,\n",
              "                    damping=0.7, max_iter=400, preference=-5, verbose=2)"
            ]
          },
          "metadata": {
            "tags": []
          },
          "execution_count": 113
        }
      ]
    },
    {
      "cell_type": "code",
      "metadata": {
        "id": "00gMMa6GpmUg",
        "colab_type": "code",
        "colab": {}
      },
      "source": [
        "labels = cluster.labels_"
      ],
      "execution_count": 0,
      "outputs": []
    },
    {
      "cell_type": "code",
      "metadata": {
        "id": "eY6JLCj_H0iq",
        "colab_type": "code",
        "colab": {
          "base_uri": "https://localhost:8080/",
          "height": 34
        },
        "outputId": "1db39658-77e6-4cd1-aa19-1d8ab90da9d5"
      },
      "source": [
        "n_clusters = len(set(labels))\n",
        "n_clusters"
      ],
      "execution_count": 115,
      "outputs": [
        {
          "output_type": "execute_result",
          "data": {
            "text/plain": [
              "224"
            ]
          },
          "metadata": {
            "tags": []
          },
          "execution_count": 115
        }
      ]
    },
    {
      "cell_type": "code",
      "metadata": {
        "id": "a6Q5oz5tH7wu",
        "colab_type": "code",
        "colab": {
          "base_uri": "https://localhost:8080/",
          "height": 34
        },
        "outputId": "5f3e8499-4aa5-4097-b7a1-3efcabc1f714"
      },
      "source": [
        "print(\"Silhouette Coefficient: %0.3f\"\n",
        "      % metrics.silhouette_score(X, labels))"
      ],
      "execution_count": 116,
      "outputs": [
        {
          "output_type": "stream",
          "text": [
            "Silhouette Coefficient: 0.360\n"
          ],
          "name": "stdout"
        }
      ]
    },
    {
      "cell_type": "code",
      "metadata": {
        "id": "gP19SL0qR-ge",
        "colab_type": "code",
        "colab": {
          "base_uri": "https://localhost:8080/",
          "height": 102
        },
        "outputId": "8be71836-c626-456e-eea8-e9c87b4ed771"
      },
      "source": [
        "# эти три метрки что-то вроде точности, полноты и ф-меры для кластеризации\n",
        "print(\"Homogeneity: %0.3f\" % metrics.homogeneity_score(y, labels)) # проверяет, что в кластере объекты одного класса\n",
        "print(\"Completeness: %0.3f\" % metrics.completeness_score(y, labels)) # проверяет, что объекты класса только в одном кластере\n",
        "print(\"V-measure: %0.3f\" % metrics.v_measure_score(y, labels)) # превращает обе метрики в одну \n",
        "\n",
        "print(\"Adjusted Rand Index: %0.3f\"\n",
        "      % metrics.adjusted_rand_score(y, labels))\n",
        "print(\"Adjusted Mutual Information: %0.3f\"\n",
        "      % metrics.adjusted_mutual_info_score(y, labels))"
      ],
      "execution_count": 117,
      "outputs": [
        {
          "output_type": "stream",
          "text": [
            "Homogeneity: 0.497\n",
            "Completeness: 0.380\n",
            "V-measure: 0.431\n",
            "Adjusted Rand Index: -0.007\n",
            "Adjusted Mutual Information: 0.303\n"
          ],
          "name": "stdout"
        }
      ]
    },
    {
      "cell_type": "code",
      "metadata": {
        "id": "xuWhsGEBTKjp",
        "colab_type": "code",
        "colab": {}
      },
      "source": [
        "sample['cluster'] = cluster.labels_"
      ],
      "execution_count": 0,
      "outputs": []
    },
    {
      "cell_type": "code",
      "metadata": {
        "id": "WZXJpLanlP3u",
        "colab_type": "code",
        "colab": {
          "base_uri": "https://localhost:8080/",
          "height": 204
        },
        "outputId": "477cee1f-238d-400d-d65c-b3aca4ce70e7"
      },
      "source": [
        "sample[sample.cluster==39].head(10)"
      ],
      "execution_count": 119,
      "outputs": [
        {
          "output_type": "execute_result",
          "data": {
            "text/html": [
              "<div>\n",
              "<style scoped>\n",
              "    .dataframe tbody tr th:only-of-type {\n",
              "        vertical-align: middle;\n",
              "    }\n",
              "\n",
              "    .dataframe tbody tr th {\n",
              "        vertical-align: top;\n",
              "    }\n",
              "\n",
              "    .dataframe thead th {\n",
              "        text-align: right;\n",
              "    }\n",
              "</style>\n",
              "<table border=\"1\" class=\"dataframe\">\n",
              "  <thead>\n",
              "    <tr style=\"text-align: right;\">\n",
              "      <th></th>\n",
              "      <th>category_name</th>\n",
              "      <th>title</th>\n",
              "      <th>cluster</th>\n",
              "    </tr>\n",
              "  </thead>\n",
              "  <tbody>\n",
              "    <tr>\n",
              "      <th>27691</th>\n",
              "      <td>Комнаты</td>\n",
              "      <td>Комната 29.6 м² в 2-к, 1/2 эт.</td>\n",
              "      <td>39</td>\n",
              "    </tr>\n",
              "    <tr>\n",
              "      <th>22099</th>\n",
              "      <td>Комнаты</td>\n",
              "      <td>Комната 13 м² в 1-к, 5/5 эт.</td>\n",
              "      <td>39</td>\n",
              "    </tr>\n",
              "    <tr>\n",
              "      <th>5473</th>\n",
              "      <td>Комнаты</td>\n",
              "      <td>Комната 13 м² в 4-к, 4/5 эт.</td>\n",
              "      <td>39</td>\n",
              "    </tr>\n",
              "    <tr>\n",
              "      <th>18523</th>\n",
              "      <td>Комнаты</td>\n",
              "      <td>Комната 13 м² в 1-к, 5/5 эт.</td>\n",
              "      <td>39</td>\n",
              "    </tr>\n",
              "    <tr>\n",
              "      <th>19147</th>\n",
              "      <td>Комнаты</td>\n",
              "      <td>Комната 13 м² в 1-к, 4/5 эт.</td>\n",
              "      <td>39</td>\n",
              "    </tr>\n",
              "  </tbody>\n",
              "</table>\n",
              "</div>"
            ],
            "text/plain": [
              "      category_name                           title  cluster\n",
              "27691       Комнаты  Комната 29.6 м² в 2-к, 1/2 эт.       39\n",
              "22099       Комнаты    Комната 13 м² в 1-к, 5/5 эт.       39\n",
              "5473        Комнаты    Комната 13 м² в 4-к, 4/5 эт.       39\n",
              "18523       Комнаты    Комната 13 м² в 1-к, 5/5 эт.       39\n",
              "19147       Комнаты    Комната 13 м² в 1-к, 4/5 эт.       39"
            ]
          },
          "metadata": {
            "tags": []
          },
          "execution_count": 119
        }
      ]
    },
    {
      "cell_type": "code",
      "metadata": {
        "id": "5MciAzoATQmG",
        "colab_type": "code",
        "colab": {
          "base_uri": "https://localhost:8080/",
          "height": 374
        },
        "outputId": "981b2b6d-779d-4158-b812-a71d106611ad"
      },
      "source": [
        "sample[sample.category_name=='Телефоны'].cluster.value_counts()"
      ],
      "execution_count": 120,
      "outputs": [
        {
          "output_type": "execute_result",
          "data": {
            "text/plain": [
              "0      43\n",
              "213    23\n",
              "90      8\n",
              "34      8\n",
              "112     8\n",
              "107     7\n",
              "68      7\n",
              "73      6\n",
              "158     5\n",
              "2       5\n",
              "176     5\n",
              "62      4\n",
              "19      4\n",
              "5       3\n",
              "193     2\n",
              "100     1\n",
              "96      1\n",
              "118     1\n",
              "140     1\n",
              "7       1\n",
              "Name: cluster, dtype: int64"
            ]
          },
          "metadata": {
            "tags": []
          },
          "execution_count": 120
        }
      ]
    },
    {
      "cell_type": "code",
      "metadata": {
        "id": "zruwycBJTSle",
        "colab_type": "code",
        "colab": {}
      },
      "source": [
        "#MS тоже не умеет работать с sparse матрицами"
      ],
      "execution_count": 0,
      "outputs": []
    },
    {
      "cell_type": "code",
      "metadata": {
        "id": "-IrGLt1aVVaC",
        "colab_type": "code",
        "colab": {}
      },
      "source": [
        "cv = CountVectorizer(max_features=2000)\n",
        "svd = TruncatedSVD(50)\n",
        "X = cv.fit_transform(sample['title'])\n",
        "X_svd = svd.fit_transform(X)\n",
        "\n",
        "y = sample['category_name']"
      ],
      "execution_count": 0,
      "outputs": []
    },
    {
      "cell_type": "code",
      "metadata": {
        "id": "v1dfLTAIV1ep",
        "colab_type": "code",
        "colab": {
          "base_uri": "https://localhost:8080/",
          "height": 163
        },
        "outputId": "8d4d8461-cf29-4be5-ee86-56642b9d4081"
      },
      "source": [
        "cluster.estimate_bandwidth(X_svd)"
      ],
      "execution_count": 123,
      "outputs": [
        {
          "output_type": "error",
          "ename": "AttributeError",
          "evalue": "ignored",
          "traceback": [
            "\u001b[0;31m---------------------------------------------------------------------------\u001b[0m",
            "\u001b[0;31mAttributeError\u001b[0m                            Traceback (most recent call last)",
            "\u001b[0;32m<ipython-input-123-03c906451d10>\u001b[0m in \u001b[0;36m<module>\u001b[0;34m()\u001b[0m\n\u001b[0;32m----> 1\u001b[0;31m \u001b[0mcluster\u001b[0m\u001b[0;34m.\u001b[0m\u001b[0mestimate_bandwidth\u001b[0m\u001b[0;34m(\u001b[0m\u001b[0mX_svd\u001b[0m\u001b[0;34m)\u001b[0m\u001b[0;34m\u001b[0m\u001b[0;34m\u001b[0m\u001b[0m\n\u001b[0m",
            "\u001b[0;31mAttributeError\u001b[0m: 'AffinityPropagation' object has no attribute 'estimate_bandwidth'"
          ]
        }
      ]
    },
    {
      "cell_type": "code",
      "metadata": {
        "id": "t2di_pR_jiql",
        "colab_type": "code",
        "colab": {}
      },
      "source": [
        "# cluster_all=False чтобы не записывать все объекты в кластеры\n",
        "cluster = MeanShift(cluster_all=False, bandwidth=0.5)\n",
        "cluster.fit(X_svd)"
      ],
      "execution_count": 0,
      "outputs": []
    },
    {
      "cell_type": "code",
      "metadata": {
        "id": "_clYOAIOkPc0",
        "colab_type": "code",
        "colab": {}
      },
      "source": [
        "sample = data.sample(frac=0.5)"
      ],
      "execution_count": 0,
      "outputs": []
    },
    {
      "cell_type": "code",
      "metadata": {
        "id": "_38psvIhmUd1",
        "colab_type": "code",
        "colab": {}
      },
      "source": [
        "sample.shape"
      ],
      "execution_count": 0,
      "outputs": []
    },
    {
      "cell_type": "code",
      "metadata": {
        "id": "FqUkQgQSmWcV",
        "colab_type": "code",
        "colab": {}
      },
      "source": [
        "\n",
        "cv = CountVectorizer(max_features=500)\n",
        "svd = TruncatedSVD(50)\n",
        "X = cv.fit_transform(sample['title'])\n",
        "X_svd = svd.fit_transform(X)\n",
        "\n",
        "y = sample['category_name']"
      ],
      "execution_count": 0,
      "outputs": []
    },
    {
      "cell_type": "code",
      "metadata": {
        "id": "Udg_wRy4mY01",
        "colab_type": "code",
        "colab": {}
      },
      "source": [
        "len(y.unique())"
      ],
      "execution_count": 0,
      "outputs": []
    },
    {
      "cell_type": "code",
      "metadata": {
        "id": "WMEyQZQKmbU9",
        "colab_type": "code",
        "colab": {}
      },
      "source": [
        "X.shape"
      ],
      "execution_count": 0,
      "outputs": []
    },
    {
      "cell_type": "code",
      "metadata": {
        "id": "ajBvRZfm7AZe",
        "colab_type": "code",
        "colab": {
          "base_uri": "https://localhost:8080/",
          "height": 34
        },
        "outputId": "1062872a-d462-4ab0-93bb-67e17fe4d3d3"
      },
      "source": [
        "import sklearn\n",
        "sklearn.cluster.estimate_bandwidth(X_svd)"
      ],
      "execution_count": 124,
      "outputs": [
        {
          "output_type": "execute_result",
          "data": {
            "text/plain": [
              "0.7324824749735146"
            ]
          },
          "metadata": {
            "tags": []
          },
          "execution_count": 124
        }
      ]
    },
    {
      "cell_type": "code",
      "metadata": {
        "id": "IZMgN9jZ7KCX",
        "colab_type": "code",
        "colab": {
          "base_uri": "https://localhost:8080/",
          "height": 51
        },
        "outputId": "6cea9517-d540-4b7a-a359-46b662cac1c3"
      },
      "source": [
        "# cluster_all=False чтобы не записывать все объекты в кластеры\n",
        "cluster = MeanShift(cluster_all=False, bandwidth=0.5)\n",
        "cluster.fit(X_svd)"
      ],
      "execution_count": 125,
      "outputs": [
        {
          "output_type": "execute_result",
          "data": {
            "text/plain": [
              "MeanShift(bandwidth=0.5, bin_seeding=False, cluster_all=False, max_iter=300,\n",
              "          min_bin_freq=1, n_jobs=None, seeds=None)"
            ]
          },
          "metadata": {
            "tags": []
          },
          "execution_count": 125
        }
      ]
    },
    {
      "cell_type": "code",
      "metadata": {
        "id": "9MQmeWoC7L2P",
        "colab_type": "code",
        "colab": {
          "base_uri": "https://localhost:8080/",
          "height": 34
        },
        "outputId": "30dac6dd-b40d-4926-c4ae-d66306abd879"
      },
      "source": [
        "len(set(cluster.labels_))"
      ],
      "execution_count": 126,
      "outputs": [
        {
          "output_type": "execute_result",
          "data": {
            "text/plain": [
              "346"
            ]
          },
          "metadata": {
            "tags": []
          },
          "execution_count": 126
        }
      ]
    },
    {
      "cell_type": "code",
      "metadata": {
        "id": "cP89cBIh7ToH",
        "colab_type": "code",
        "colab": {}
      },
      "source": [
        "labels = cluster.labels_"
      ],
      "execution_count": 0,
      "outputs": []
    },
    {
      "cell_type": "code",
      "metadata": {
        "id": "tbyHhtlz7U9H",
        "colab_type": "code",
        "colab": {
          "base_uri": "https://localhost:8080/",
          "height": 34
        },
        "outputId": "3d99f363-f432-467b-e2e5-98636409455e"
      },
      "source": [
        "print(\"Silhouette Coefficient: %0.3f\"\n",
        "      % metrics.silhouette_score(X, labels))"
      ],
      "execution_count": 128,
      "outputs": [
        {
          "output_type": "stream",
          "text": [
            "Silhouette Coefficient: 0.056\n"
          ],
          "name": "stdout"
        }
      ]
    },
    {
      "cell_type": "code",
      "metadata": {
        "id": "lY7gLyKr7XRQ",
        "colab_type": "code",
        "colab": {
          "base_uri": "https://localhost:8080/",
          "height": 102
        },
        "outputId": "eadbac6e-deea-4901-d5df-5344dbd19f5a"
      },
      "source": [
        "# эти три метрки что-то вроде точности, полноты и ф-меры для кластеризации\n",
        "print(\"Homogeneity: %0.3f\" % metrics.homogeneity_score(y, labels)) # проверяет, что в кластере объекты одного класса\n",
        "print(\"Completeness: %0.3f\" % metrics.completeness_score(y, labels)) # проверяет, что объекты класса только в одном кластере\n",
        "print(\"V-measure: %0.3f\" % metrics.v_measure_score(y, labels)) # превращает обе метрики в одну \n",
        "\n",
        "print(\"Adjusted Rand Index: %0.3f\"\n",
        "      % metrics.adjusted_rand_score(y, labels))\n",
        "print(\"Adjusted Mutual Information: %0.3f\"\n",
        "      % metrics.adjusted_mutual_info_score(y, labels))"
      ],
      "execution_count": 129,
      "outputs": [
        {
          "output_type": "stream",
          "text": [
            "Homogeneity: 0.376\n",
            "Completeness: 0.363\n",
            "V-measure: 0.369\n",
            "Adjusted Rand Index: -0.014\n",
            "Adjusted Mutual Information: 0.236\n"
          ],
          "name": "stdout"
        }
      ]
    },
    {
      "cell_type": "code",
      "metadata": {
        "id": "XF0NIdPC7cCP",
        "colab_type": "code",
        "colab": {}
      },
      "source": [
        "sample['cluster'] = cluster.labels_"
      ],
      "execution_count": 0,
      "outputs": []
    },
    {
      "cell_type": "code",
      "metadata": {
        "id": "_dCXp0b97d-P",
        "colab_type": "code",
        "colab": {
          "base_uri": "https://localhost:8080/",
          "height": 204
        },
        "outputId": "fdef53d3-187f-4dc9-cfea-5a8ec613f1ee"
      },
      "source": [
        "sample[sample.cluster==2].head()"
      ],
      "execution_count": 132,
      "outputs": [
        {
          "output_type": "execute_result",
          "data": {
            "text/html": [
              "<div>\n",
              "<style scoped>\n",
              "    .dataframe tbody tr th:only-of-type {\n",
              "        vertical-align: middle;\n",
              "    }\n",
              "\n",
              "    .dataframe tbody tr th {\n",
              "        vertical-align: top;\n",
              "    }\n",
              "\n",
              "    .dataframe thead th {\n",
              "        text-align: right;\n",
              "    }\n",
              "</style>\n",
              "<table border=\"1\" class=\"dataframe\">\n",
              "  <thead>\n",
              "    <tr style=\"text-align: right;\">\n",
              "      <th></th>\n",
              "      <th>category_name</th>\n",
              "      <th>title</th>\n",
              "      <th>cluster</th>\n",
              "    </tr>\n",
              "  </thead>\n",
              "  <tbody>\n",
              "    <tr>\n",
              "      <th>20877</th>\n",
              "      <td>Товары для детей и игрушки</td>\n",
              "      <td>Стерилизатор для бутылочек Philips Avent 3 в 1</td>\n",
              "      <td>2</td>\n",
              "    </tr>\n",
              "    <tr>\n",
              "      <th>20020</th>\n",
              "      <td>Оборудование для бизнеса</td>\n",
              "      <td>Помпа WW186 для Elit2840 TX/TSX 13</td>\n",
              "      <td>2</td>\n",
              "    </tr>\n",
              "    <tr>\n",
              "      <th>5382</th>\n",
              "      <td>Планшеты и электронные книги</td>\n",
              "      <td>Тачскрин ZJ-80032A для планшета BQ-8005G</td>\n",
              "      <td>2</td>\n",
              "    </tr>\n",
              "    <tr>\n",
              "      <th>23649</th>\n",
              "      <td>Мебель и интерьер</td>\n",
              "      <td>Рамка для фото</td>\n",
              "      <td>2</td>\n",
              "    </tr>\n",
              "    <tr>\n",
              "      <th>12586</th>\n",
              "      <td>Красота и здоровье</td>\n",
              "      <td>Шарики для стерилизатора</td>\n",
              "      <td>2</td>\n",
              "    </tr>\n",
              "  </tbody>\n",
              "</table>\n",
              "</div>"
            ],
            "text/plain": [
              "                      category_name  ... cluster\n",
              "20877    Товары для детей и игрушки  ...       2\n",
              "20020      Оборудование для бизнеса  ...       2\n",
              "5382   Планшеты и электронные книги  ...       2\n",
              "23649             Мебель и интерьер  ...       2\n",
              "12586            Красота и здоровье  ...       2\n",
              "\n",
              "[5 rows x 3 columns]"
            ]
          },
          "metadata": {
            "tags": []
          },
          "execution_count": 132
        }
      ]
    },
    {
      "cell_type": "code",
      "metadata": {
        "id": "bas_pbig7fxQ",
        "colab_type": "code",
        "colab": {}
      },
      "source": [
        "sample = data.sample(frac=0.01)"
      ],
      "execution_count": 0,
      "outputs": []
    },
    {
      "cell_type": "code",
      "metadata": {
        "id": "BtuH-zRS7xHp",
        "colab_type": "code",
        "colab": {
          "base_uri": "https://localhost:8080/",
          "height": 34
        },
        "outputId": "d0edfa02-bdf1-4862-f88d-28980509f8ac"
      },
      "source": [
        "sample.shape"
      ],
      "execution_count": 134,
      "outputs": [
        {
          "output_type": "execute_result",
          "data": {
            "text/plain": [
              "(373, 2)"
            ]
          },
          "metadata": {
            "tags": []
          },
          "execution_count": 134
        }
      ]
    },
    {
      "cell_type": "code",
      "metadata": {
        "id": "uS6_0bG17y-B",
        "colab_type": "code",
        "colab": {}
      },
      "source": [
        "cv = CountVectorizer(max_features=500)\n",
        "svd = TruncatedSVD(50)\n",
        "X = cv.fit_transform(sample['title'])\n",
        "X_svd = svd.fit_transform(X)\n",
        "\n",
        "y = sample['category_name']"
      ],
      "execution_count": 0,
      "outputs": []
    },
    {
      "cell_type": "code",
      "metadata": {
        "id": "AP19utUC9Xmo",
        "colab_type": "code",
        "colab": {
          "base_uri": "https://localhost:8080/",
          "height": 85
        },
        "outputId": "e7150cb8-4a75-4690-fd67-6c1e9b16b83e"
      },
      "source": [
        "cluster = SpectralClustering(n_clusters=47)\n",
        "cluster.fit(X_svd)"
      ],
      "execution_count": 141,
      "outputs": [
        {
          "output_type": "execute_result",
          "data": {
            "text/plain": [
              "SpectralClustering(affinity='rbf', assign_labels='kmeans', coef0=1, degree=3,\n",
              "                   eigen_solver=None, eigen_tol=0.0, gamma=1.0,\n",
              "                   kernel_params=None, n_clusters=47, n_components=None,\n",
              "                   n_init=10, n_jobs=None, n_neighbors=10, random_state=None)"
            ]
          },
          "metadata": {
            "tags": []
          },
          "execution_count": 141
        }
      ]
    },
    {
      "cell_type": "code",
      "metadata": {
        "id": "_Qn-syUW70-I",
        "colab_type": "code",
        "colab": {
          "base_uri": "https://localhost:8080/",
          "height": 34
        },
        "outputId": "4609f360-110e-4d81-92e4-060470ccdf1d"
      },
      "source": [
        "X.shape"
      ],
      "execution_count": 142,
      "outputs": [
        {
          "output_type": "execute_result",
          "data": {
            "text/plain": [
              "(373, 500)"
            ]
          },
          "metadata": {
            "tags": []
          },
          "execution_count": 142
        }
      ]
    },
    {
      "cell_type": "code",
      "metadata": {
        "id": "nOTFbZ9x72oR",
        "colab_type": "code",
        "colab": {
          "base_uri": "https://localhost:8080/",
          "height": 34
        },
        "outputId": "40c78c71-aa3d-4580-d244-0dd729f8a62b"
      },
      "source": [
        "labels = cluster.labels_\n",
        "print(\"Silhouette Coefficient: %0.3f\"\n",
        "      % metrics.silhouette_score(X, labels))"
      ],
      "execution_count": 143,
      "outputs": [
        {
          "output_type": "stream",
          "text": [
            "Silhouette Coefficient: 0.083\n"
          ],
          "name": "stdout"
        }
      ]
    },
    {
      "cell_type": "code",
      "metadata": {
        "id": "q1e949I59LQv",
        "colab_type": "code",
        "colab": {
          "base_uri": "https://localhost:8080/",
          "height": 102
        },
        "outputId": "f1be7276-1220-49f5-d0c1-25f70c93976a"
      },
      "source": [
        "print(\"Homogeneity: %0.3f\" % metrics.homogeneity_score(y, labels)) # проверяет, что в кластере объекты одного класса\n",
        "print(\"Completeness: %0.3f\" % metrics.completeness_score(y, labels)) # проверяет, что объекты класса только в одном кластере\n",
        "print(\"V-measure: %0.3f\" % metrics.v_measure_score(y, labels)) # превращает обе метрики в одну \n",
        "\n",
        "print(\"Adjusted Rand Index: %0.3f\"\n",
        "      % metrics.adjusted_rand_score(y, labels))\n",
        "print(\"Adjusted Mutual Information: %0.3f\"\n",
        "      % metrics.adjusted_mutual_info_score(y, labels))"
      ],
      "execution_count": 144,
      "outputs": [
        {
          "output_type": "stream",
          "text": [
            "Homogeneity: 0.329\n",
            "Completeness: 0.476\n",
            "V-measure: 0.389\n",
            "Adjusted Rand Index: 0.005\n",
            "Adjusted Mutual Information: 0.157\n"
          ],
          "name": "stdout"
        }
      ]
    },
    {
      "cell_type": "code",
      "metadata": {
        "id": "qaOMsxOp9mbI",
        "colab_type": "code",
        "colab": {}
      },
      "source": [
        "sample['cluster'] = cluster.labels_"
      ],
      "execution_count": 0,
      "outputs": []
    },
    {
      "cell_type": "code",
      "metadata": {
        "id": "zDYsNTgO9hFF",
        "colab_type": "code",
        "colab": {
          "base_uri": "https://localhost:8080/",
          "height": 80
        },
        "outputId": "b9dffafe-9094-4d54-e1a6-1ef784abc827"
      },
      "source": [
        "sample[sample.cluster==17]"
      ],
      "execution_count": 152,
      "outputs": [
        {
          "output_type": "execute_result",
          "data": {
            "text/html": [
              "<div>\n",
              "<style scoped>\n",
              "    .dataframe tbody tr th:only-of-type {\n",
              "        vertical-align: middle;\n",
              "    }\n",
              "\n",
              "    .dataframe tbody tr th {\n",
              "        vertical-align: top;\n",
              "    }\n",
              "\n",
              "    .dataframe thead th {\n",
              "        text-align: right;\n",
              "    }\n",
              "</style>\n",
              "<table border=\"1\" class=\"dataframe\">\n",
              "  <thead>\n",
              "    <tr style=\"text-align: right;\">\n",
              "      <th></th>\n",
              "      <th>category_name</th>\n",
              "      <th>title</th>\n",
              "      <th>cluster</th>\n",
              "    </tr>\n",
              "  </thead>\n",
              "  <tbody>\n",
              "    <tr>\n",
              "      <th>1026</th>\n",
              "      <td>Спорт и отдых</td>\n",
              "      <td>Комплект сноубордический (сноуборд, ботинки, к...</td>\n",
              "      <td>17</td>\n",
              "    </tr>\n",
              "  </tbody>\n",
              "</table>\n",
              "</div>"
            ],
            "text/plain": [
              "      category_name                                              title  cluster\n",
              "1026  Спорт и отдых  Комплект сноубордический (сноуборд, ботинки, к...       17"
            ]
          },
          "metadata": {
            "tags": []
          },
          "execution_count": 152
        }
      ]
    },
    {
      "cell_type": "code",
      "metadata": {
        "id": "IGnwGdV29jqm",
        "colab_type": "code",
        "colab": {}
      },
      "source": [
        "sample = data.sample(frac=0.5)"
      ],
      "execution_count": 0,
      "outputs": []
    },
    {
      "cell_type": "code",
      "metadata": {
        "id": "87ayl8cJ-CTP",
        "colab_type": "code",
        "colab": {
          "base_uri": "https://localhost:8080/",
          "height": 34
        },
        "outputId": "c1362260-520d-4c49-9f76-d2c3878623b8"
      },
      "source": [
        "sample.shape"
      ],
      "execution_count": 154,
      "outputs": [
        {
          "output_type": "execute_result",
          "data": {
            "text/plain": [
              "(18670, 2)"
            ]
          },
          "metadata": {
            "tags": []
          },
          "execution_count": 154
        }
      ]
    },
    {
      "cell_type": "code",
      "metadata": {
        "id": "7ph8sd17-FE_",
        "colab_type": "code",
        "colab": {}
      },
      "source": [
        "cv = CountVectorizer(max_features=2000)\n",
        "svd = TruncatedSVD(50)\n",
        "X = cv.fit_transform(sample['title'])\n",
        "X_svd = svd.fit_transform(X)\n",
        "\n",
        "y = sample['category_name']"
      ],
      "execution_count": 0,
      "outputs": []
    },
    {
      "cell_type": "code",
      "metadata": {
        "id": "4YtfxAFG-HE_",
        "colab_type": "code",
        "colab": {
          "base_uri": "https://localhost:8080/",
          "height": 34
        },
        "outputId": "4c7da684-6ac2-4c32-d656-e803f61aefe8"
      },
      "source": [
        "X.shape"
      ],
      "execution_count": 156,
      "outputs": [
        {
          "output_type": "execute_result",
          "data": {
            "text/plain": [
              "(18670, 2000)"
            ]
          },
          "metadata": {
            "tags": []
          },
          "execution_count": 156
        }
      ]
    },
    {
      "cell_type": "code",
      "metadata": {
        "id": "K09X8aSC-IsP",
        "colab_type": "code",
        "colab": {
          "base_uri": "https://localhost:8080/",
          "height": 51
        },
        "outputId": "a603cdf5-2858-41a7-9414-e1b13ddf990d"
      },
      "source": [
        "\n",
        "# eps - задает максимальную для объединения дистанцию между объектами == размер окрестности\n",
        "# min_samples - минимальное количество объектов в классе\n",
        "\n",
        "cluster = DBSCAN(min_samples=10, eps=0.3) \n",
        "cluster.fit(X_svd)"
      ],
      "execution_count": 157,
      "outputs": [
        {
          "output_type": "execute_result",
          "data": {
            "text/plain": [
              "DBSCAN(algorithm='auto', eps=0.3, leaf_size=30, metric='euclidean',\n",
              "       metric_params=None, min_samples=10, n_jobs=None, p=None)"
            ]
          },
          "metadata": {
            "tags": []
          },
          "execution_count": 157
        }
      ]
    },
    {
      "cell_type": "code",
      "metadata": {
        "id": "KFmpBFuo-KmH",
        "colab_type": "code",
        "colab": {}
      },
      "source": [
        "sample['cluster'] = cluster.labels_"
      ],
      "execution_count": 0,
      "outputs": []
    },
    {
      "cell_type": "code",
      "metadata": {
        "id": "QSzPNNp0-WOf",
        "colab_type": "code",
        "colab": {
          "base_uri": "https://localhost:8080/",
          "height": 204
        },
        "outputId": "f9b200d7-1169-4170-d3b1-6ca368fee1c4"
      },
      "source": [
        "sample[sample.cluster==1].head()"
      ],
      "execution_count": 163,
      "outputs": [
        {
          "output_type": "execute_result",
          "data": {
            "text/html": [
              "<div>\n",
              "<style scoped>\n",
              "    .dataframe tbody tr th:only-of-type {\n",
              "        vertical-align: middle;\n",
              "    }\n",
              "\n",
              "    .dataframe tbody tr th {\n",
              "        vertical-align: top;\n",
              "    }\n",
              "\n",
              "    .dataframe thead th {\n",
              "        text-align: right;\n",
              "    }\n",
              "</style>\n",
              "<table border=\"1\" class=\"dataframe\">\n",
              "  <thead>\n",
              "    <tr style=\"text-align: right;\">\n",
              "      <th></th>\n",
              "      <th>category_name</th>\n",
              "      <th>title</th>\n",
              "      <th>cluster</th>\n",
              "    </tr>\n",
              "  </thead>\n",
              "  <tbody>\n",
              "    <tr>\n",
              "      <th>10440</th>\n",
              "      <td>Охота и рыбалка</td>\n",
              "      <td>Стойка подставка держатель для удочки</td>\n",
              "      <td>1</td>\n",
              "    </tr>\n",
              "    <tr>\n",
              "      <th>20339</th>\n",
              "      <td>Красота и здоровье</td>\n",
              "      <td>Гидромасажная ванна для ног</td>\n",
              "      <td>1</td>\n",
              "    </tr>\n",
              "    <tr>\n",
              "      <th>22456</th>\n",
              "      <td>Телефоны</td>\n",
              "      <td>Чехлы для телефонов</td>\n",
              "      <td>1</td>\n",
              "    </tr>\n",
              "    <tr>\n",
              "      <th>5044</th>\n",
              "      <td>Товары для компьютера</td>\n",
              "      <td>DDR3L 2gb для ноутбука</td>\n",
              "      <td>1</td>\n",
              "    </tr>\n",
              "    <tr>\n",
              "      <th>29003</th>\n",
              "      <td>Спорт и отдых</td>\n",
              "      <td>Фильтр для очистки воды</td>\n",
              "      <td>1</td>\n",
              "    </tr>\n",
              "  </tbody>\n",
              "</table>\n",
              "</div>"
            ],
            "text/plain": [
              "               category_name                                  title  cluster\n",
              "10440        Охота и рыбалка  Стойка подставка держатель для удочки        1\n",
              "20339     Красота и здоровье            Гидромасажная ванна для ног        1\n",
              "22456               Телефоны                    Чехлы для телефонов        1\n",
              "5044   Товары для компьютера                 DDR3L 2gb для ноутбука        1\n",
              "29003          Спорт и отдых                Фильтр для очистки воды        1"
            ]
          },
          "metadata": {
            "tags": []
          },
          "execution_count": 163
        }
      ]
    },
    {
      "cell_type": "code",
      "metadata": {
        "id": "Xw4r0SI7-ZM_",
        "colab_type": "code",
        "colab": {}
      },
      "source": [
        "sample = data"
      ],
      "execution_count": 0,
      "outputs": []
    },
    {
      "cell_type": "code",
      "metadata": {
        "id": "mwq0_CDX_yDX",
        "colab_type": "code",
        "colab": {
          "base_uri": "https://localhost:8080/",
          "height": 34
        },
        "outputId": "c1293014-0945-4726-989b-65f0a2e97c64"
      },
      "source": [
        "sample.shape"
      ],
      "execution_count": 174,
      "outputs": [
        {
          "output_type": "execute_result",
          "data": {
            "text/plain": [
              "(37339, 2)"
            ]
          },
          "metadata": {
            "tags": []
          },
          "execution_count": 174
        }
      ]
    },
    {
      "cell_type": "code",
      "metadata": {
        "id": "8O3xAF-i_zpj",
        "colab_type": "code",
        "colab": {}
      },
      "source": [
        "cv = CountVectorizer(max_features=500)\n",
        "svd = TruncatedSVD(50)\n",
        "X = cv.fit_transform(sample['title'])\n",
        "X_svd = svd.fit_transform(X)\n",
        "\n",
        "y = sample['category_name']"
      ],
      "execution_count": 0,
      "outputs": []
    },
    {
      "cell_type": "code",
      "metadata": {
        "id": "LKz_5v4OADJD",
        "colab_type": "code",
        "colab": {
          "base_uri": "https://localhost:8080/",
          "height": 34
        },
        "outputId": "40745918-f000-49e0-9198-63f031a6aba2"
      },
      "source": [
        "X.shape"
      ],
      "execution_count": 176,
      "outputs": [
        {
          "output_type": "execute_result",
          "data": {
            "text/plain": [
              "(37339, 500)"
            ]
          },
          "metadata": {
            "tags": []
          },
          "execution_count": 176
        }
      ]
    },
    {
      "cell_type": "code",
      "metadata": {
        "id": "PEQAkerVAFRj",
        "colab_type": "code",
        "colab": {
          "base_uri": "https://localhost:8080/",
          "height": 68
        },
        "outputId": "f67d48a9-bda7-4fdf-b3c7-738a5a665708"
      },
      "source": [
        "\n",
        "cluster = KMeans(n_clusters=47)\n",
        "cluster.fit(X_svd)"
      ],
      "execution_count": 177,
      "outputs": [
        {
          "output_type": "execute_result",
          "data": {
            "text/plain": [
              "KMeans(algorithm='auto', copy_x=True, init='k-means++', max_iter=300,\n",
              "       n_clusters=47, n_init=10, n_jobs=None, precompute_distances='auto',\n",
              "       random_state=None, tol=0.0001, verbose=0)"
            ]
          },
          "metadata": {
            "tags": []
          },
          "execution_count": 177
        }
      ]
    },
    {
      "cell_type": "code",
      "metadata": {
        "id": "dzjSdh1uAG7L",
        "colab_type": "code",
        "colab": {}
      },
      "source": [
        "labels = cluster.labels_"
      ],
      "execution_count": 0,
      "outputs": []
    },
    {
      "cell_type": "code",
      "metadata": {
        "id": "urdfeV0-Awrl",
        "colab_type": "code",
        "colab": {
          "base_uri": "https://localhost:8080/",
          "height": 34
        },
        "outputId": "de9d8185-c8dd-42ce-d8b8-7fe0c8b55459"
      },
      "source": [
        "print(\"Silhouette Coefficient: %0.3f\"\n",
        "      % metrics.silhouette_score(X[:10000], labels[:10000]))"
      ],
      "execution_count": 179,
      "outputs": [
        {
          "output_type": "stream",
          "text": [
            "Silhouette Coefficient: 0.240\n"
          ],
          "name": "stdout"
        }
      ]
    },
    {
      "cell_type": "code",
      "metadata": {
        "id": "BIsbDZiFAyw2",
        "colab_type": "code",
        "colab": {
          "base_uri": "https://localhost:8080/",
          "height": 102
        },
        "outputId": "812091f9-e837-44c1-b23a-0932e1d44ab8"
      },
      "source": [
        "print(\"Homogeneity: %0.3f\" % metrics.homogeneity_score(y, labels)) # проверяет, что в кластере объекты одного класса\n",
        "print(\"Completeness: %0.3f\" % metrics.completeness_score(y, labels)) # проверяет, что объекты класса только в одном кластере\n",
        "print(\"V-measure: %0.3f\" % metrics.v_measure_score(y, labels)) # превращает обе метрики в одну \n",
        "\n",
        "print(\"Adjusted Rand Index: %0.3f\"\n",
        "      % metrics.adjusted_rand_score(y, labels))\n",
        "print(\"Adjusted Mutual Information: %0.3f\"\n",
        "      % metrics.adjusted_mutual_info_score(y, labels))"
      ],
      "execution_count": 180,
      "outputs": [
        {
          "output_type": "stream",
          "text": [
            "Homogeneity: 0.293\n",
            "Completeness: 0.376\n",
            "V-measure: 0.330\n",
            "Adjusted Rand Index: -0.003\n",
            "Adjusted Mutual Information: 0.322\n"
          ],
          "name": "stdout"
        }
      ]
    },
    {
      "cell_type": "code",
      "metadata": {
        "id": "ub-nbDiIA2Bu",
        "colab_type": "code",
        "colab": {}
      },
      "source": [
        "sample['cluster'] = cluster.labels_"
      ],
      "execution_count": 0,
      "outputs": []
    },
    {
      "cell_type": "code",
      "metadata": {
        "id": "9IkweBUDA4TW",
        "colab_type": "code",
        "colab": {
          "base_uri": "https://localhost:8080/",
          "height": 204
        },
        "outputId": "700637f8-6977-488d-94cc-d064d454d46b"
      },
      "source": [
        "sample[sample.cluster==13].head()"
      ],
      "execution_count": 182,
      "outputs": [
        {
          "output_type": "execute_result",
          "data": {
            "text/html": [
              "<div>\n",
              "<style scoped>\n",
              "    .dataframe tbody tr th:only-of-type {\n",
              "        vertical-align: middle;\n",
              "    }\n",
              "\n",
              "    .dataframe tbody tr th {\n",
              "        vertical-align: top;\n",
              "    }\n",
              "\n",
              "    .dataframe thead th {\n",
              "        text-align: right;\n",
              "    }\n",
              "</style>\n",
              "<table border=\"1\" class=\"dataframe\">\n",
              "  <thead>\n",
              "    <tr style=\"text-align: right;\">\n",
              "      <th></th>\n",
              "      <th>category_name</th>\n",
              "      <th>title</th>\n",
              "      <th>cluster</th>\n",
              "    </tr>\n",
              "  </thead>\n",
              "  <tbody>\n",
              "    <tr>\n",
              "      <th>71</th>\n",
              "      <td>Детская одежда и обувь</td>\n",
              "      <td>Комбинезон джинсовый</td>\n",
              "      <td>13</td>\n",
              "    </tr>\n",
              "    <tr>\n",
              "      <th>123</th>\n",
              "      <td>Детская одежда и обувь</td>\n",
              "      <td>Комбинезон-трансформер</td>\n",
              "      <td>13</td>\n",
              "    </tr>\n",
              "    <tr>\n",
              "      <th>154</th>\n",
              "      <td>Детская одежда и обувь</td>\n",
              "      <td>Комбинезон</td>\n",
              "      <td>13</td>\n",
              "    </tr>\n",
              "    <tr>\n",
              "      <th>321</th>\n",
              "      <td>Детская одежда и обувь</td>\n",
              "      <td>Комбинезон</td>\n",
              "      <td>13</td>\n",
              "    </tr>\n",
              "    <tr>\n",
              "      <th>331</th>\n",
              "      <td>Детская одежда и обувь</td>\n",
              "      <td>Комбинезон Arctiline</td>\n",
              "      <td>13</td>\n",
              "    </tr>\n",
              "  </tbody>\n",
              "</table>\n",
              "</div>"
            ],
            "text/plain": [
              "              category_name                   title  cluster\n",
              "71   Детская одежда и обувь    Комбинезон джинсовый       13\n",
              "123  Детская одежда и обувь  Комбинезон-трансформер       13\n",
              "154  Детская одежда и обувь              Комбинезон       13\n",
              "321  Детская одежда и обувь              Комбинезон       13\n",
              "331  Детская одежда и обувь    Комбинезон Arctiline       13"
            ]
          },
          "metadata": {
            "tags": []
          },
          "execution_count": 182
        }
      ]
    },
    {
      "cell_type": "code",
      "metadata": {
        "id": "hux9omOaA56m",
        "colab_type": "code",
        "colab": {}
      },
      "source": [
        "#MiniBatchKMeans"
      ],
      "execution_count": 0,
      "outputs": []
    },
    {
      "cell_type": "code",
      "metadata": {
        "id": "ZxmSP5USH8O-",
        "colab_type": "code",
        "colab": {}
      },
      "source": [
        "cv = CountVectorizer(max_features=5000)\n",
        "svd = TruncatedSVD(200)\n",
        "X = cv.fit_transform(data['title'])\n",
        "X_svd = svd.fit_transform(X)\n",
        "\n",
        "y = data['category_name']"
      ],
      "execution_count": 0,
      "outputs": []
    },
    {
      "cell_type": "code",
      "metadata": {
        "id": "vH8eGWx0IdG1",
        "colab_type": "code",
        "colab": {
          "base_uri": "https://localhost:8080/",
          "height": 34
        },
        "outputId": "b9e144ae-a4ad-478f-c797-e65eeb9decc8"
      },
      "source": [
        "X.shape"
      ],
      "execution_count": 185,
      "outputs": [
        {
          "output_type": "execute_result",
          "data": {
            "text/plain": [
              "(37339, 5000)"
            ]
          },
          "metadata": {
            "tags": []
          },
          "execution_count": 185
        }
      ]
    },
    {
      "cell_type": "code",
      "metadata": {
        "id": "iXd91x60IgVF",
        "colab_type": "code",
        "colab": {
          "base_uri": "https://localhost:8080/",
          "height": 1000
        },
        "outputId": "f43b27d2-78dc-4552-826e-15e9f6c7da1b"
      },
      "source": [
        "cluster = MiniBatchKMeans(n_clusters=1000, init_size=5000, verbose=1, max_iter=5000, \n",
        "                          max_no_improvement=100, reassignment_ratio=0.3)\n",
        "cluster.fit(X_svd)"
      ],
      "execution_count": 186,
      "outputs": [
        {
          "output_type": "stream",
          "text": [
            "Init 1/3 with method: k-means++\n",
            "Inertia for init 1/3: 732.103299\n",
            "Init 2/3 with method: k-means++\n",
            "Inertia for init 2/3: 736.306864\n",
            "Init 3/3 with method: k-means++\n",
            "Inertia for init 3/3: 739.362718\n",
            "Minibatch iteration 1/1870000: mean batch inertia: 0.252925, ewa inertia: 0.252925 \n",
            "Minibatch iteration 2/1870000: mean batch inertia: 0.236116, ewa inertia: 0.252835 \n",
            "Minibatch iteration 3/1870000: mean batch inertia: 0.161701, ewa inertia: 0.252346 \n",
            "Minibatch iteration 4/1870000: mean batch inertia: 0.170488, ewa inertia: 0.251908 \n",
            "Minibatch iteration 5/1870000: mean batch inertia: 0.182948, ewa inertia: 0.251539 \n",
            "Minibatch iteration 6/1870000: mean batch inertia: 0.220664, ewa inertia: 0.251373 \n",
            "Minibatch iteration 7/1870000: mean batch inertia: 0.216140, ewa inertia: 0.251185 \n",
            "Minibatch iteration 8/1870000: mean batch inertia: 0.220295, ewa inertia: 0.251019 \n",
            "Minibatch iteration 9/1870000: mean batch inertia: 0.139360, ewa inertia: 0.250421 \n",
            "[MiniBatchKMeans] Reassigning 50 cluster centers.\n",
            "Minibatch iteration 10/1870000: mean batch inertia: 0.203266, ewa inertia: 0.250169 \n",
            "Minibatch iteration 11/1870000: mean batch inertia: 0.241429, ewa inertia: 0.250122 \n",
            "Minibatch iteration 12/1870000: mean batch inertia: 0.240750, ewa inertia: 0.250072 \n",
            "Minibatch iteration 13/1870000: mean batch inertia: 0.205409, ewa inertia: 0.249832 \n",
            "Minibatch iteration 14/1870000: mean batch inertia: 0.209217, ewa inertia: 0.249615 \n",
            "Minibatch iteration 15/1870000: mean batch inertia: 0.215121, ewa inertia: 0.249430 \n",
            "Minibatch iteration 16/1870000: mean batch inertia: 0.190150, ewa inertia: 0.249112 \n",
            "Minibatch iteration 17/1870000: mean batch inertia: 0.252272, ewa inertia: 0.249129 \n",
            "Minibatch iteration 18/1870000: mean batch inertia: 0.118233, ewa inertia: 0.248428 \n",
            "Minibatch iteration 19/1870000: mean batch inertia: 0.260813, ewa inertia: 0.248495 \n",
            "[MiniBatchKMeans] Reassigning 50 cluster centers.\n",
            "Minibatch iteration 20/1870000: mean batch inertia: 0.184615, ewa inertia: 0.248152 \n",
            "Minibatch iteration 21/1870000: mean batch inertia: 0.182142, ewa inertia: 0.247799 \n",
            "Minibatch iteration 22/1870000: mean batch inertia: 0.218497, ewa inertia: 0.247642 \n",
            "Minibatch iteration 23/1870000: mean batch inertia: 0.222552, ewa inertia: 0.247508 \n",
            "Minibatch iteration 24/1870000: mean batch inertia: 0.199337, ewa inertia: 0.247250 \n",
            "Minibatch iteration 25/1870000: mean batch inertia: 0.260648, ewa inertia: 0.247321 \n",
            "Minibatch iteration 26/1870000: mean batch inertia: 0.199119, ewa inertia: 0.247063 \n",
            "Minibatch iteration 27/1870000: mean batch inertia: 0.192328, ewa inertia: 0.246770 \n",
            "Minibatch iteration 28/1870000: mean batch inertia: 0.211256, ewa inertia: 0.246580 \n",
            "Minibatch iteration 29/1870000: mean batch inertia: 0.153610, ewa inertia: 0.246082 \n",
            "[MiniBatchKMeans] Reassigning 50 cluster centers.\n",
            "Minibatch iteration 30/1870000: mean batch inertia: 0.287506, ewa inertia: 0.246304 \n",
            "Minibatch iteration 31/1870000: mean batch inertia: 0.153837, ewa inertia: 0.245808 \n",
            "Minibatch iteration 32/1870000: mean batch inertia: 0.202197, ewa inertia: 0.245575 \n",
            "Minibatch iteration 33/1870000: mean batch inertia: 0.195460, ewa inertia: 0.245306 \n",
            "Minibatch iteration 34/1870000: mean batch inertia: 0.173446, ewa inertia: 0.244921 \n",
            "Minibatch iteration 35/1870000: mean batch inertia: 0.192324, ewa inertia: 0.244640 \n",
            "Minibatch iteration 36/1870000: mean batch inertia: 0.206277, ewa inertia: 0.244434 \n",
            "Minibatch iteration 37/1870000: mean batch inertia: 0.304943, ewa inertia: 0.244758 \n",
            "Minibatch iteration 38/1870000: mean batch inertia: 0.229745, ewa inertia: 0.244678 \n",
            "Minibatch iteration 39/1870000: mean batch inertia: 0.232489, ewa inertia: 0.244613 \n",
            "[MiniBatchKMeans] Reassigning 50 cluster centers.\n",
            "Minibatch iteration 40/1870000: mean batch inertia: 0.335951, ewa inertia: 0.245102 \n",
            "Minibatch iteration 41/1870000: mean batch inertia: 0.166827, ewa inertia: 0.244683 \n",
            "Minibatch iteration 42/1870000: mean batch inertia: 0.258207, ewa inertia: 0.244755 \n",
            "Minibatch iteration 43/1870000: mean batch inertia: 0.174010, ewa inertia: 0.244376 \n",
            "Minibatch iteration 44/1870000: mean batch inertia: 0.198935, ewa inertia: 0.244133 \n",
            "Minibatch iteration 45/1870000: mean batch inertia: 0.210282, ewa inertia: 0.243951 \n",
            "Minibatch iteration 46/1870000: mean batch inertia: 0.177761, ewa inertia: 0.243597 \n",
            "Minibatch iteration 47/1870000: mean batch inertia: 0.180536, ewa inertia: 0.243259 \n",
            "Minibatch iteration 48/1870000: mean batch inertia: 0.268587, ewa inertia: 0.243395 \n",
            "Minibatch iteration 49/1870000: mean batch inertia: 0.214519, ewa inertia: 0.243240 \n",
            "[MiniBatchKMeans] Reassigning 50 cluster centers.\n",
            "Minibatch iteration 50/1870000: mean batch inertia: 0.156001, ewa inertia: 0.242773 \n",
            "Minibatch iteration 51/1870000: mean batch inertia: 0.277027, ewa inertia: 0.242956 \n",
            "Minibatch iteration 52/1870000: mean batch inertia: 0.204819, ewa inertia: 0.242752 \n",
            "Minibatch iteration 53/1870000: mean batch inertia: 0.188196, ewa inertia: 0.242460 \n",
            "Minibatch iteration 54/1870000: mean batch inertia: 0.186138, ewa inertia: 0.242158 \n",
            "Minibatch iteration 55/1870000: mean batch inertia: 0.146119, ewa inertia: 0.241644 \n",
            "Minibatch iteration 56/1870000: mean batch inertia: 0.304679, ewa inertia: 0.241981 \n",
            "Minibatch iteration 57/1870000: mean batch inertia: 0.192902, ewa inertia: 0.241719 \n",
            "Minibatch iteration 58/1870000: mean batch inertia: 0.187391, ewa inertia: 0.241428 \n",
            "Minibatch iteration 59/1870000: mean batch inertia: 0.260685, ewa inertia: 0.241531 \n",
            "[MiniBatchKMeans] Reassigning 50 cluster centers.\n",
            "Minibatch iteration 60/1870000: mean batch inertia: 0.206659, ewa inertia: 0.241344 \n",
            "Minibatch iteration 61/1870000: mean batch inertia: 0.195035, ewa inertia: 0.241096 \n",
            "Minibatch iteration 62/1870000: mean batch inertia: 0.195023, ewa inertia: 0.240849 \n",
            "Minibatch iteration 63/1870000: mean batch inertia: 0.205404, ewa inertia: 0.240659 \n",
            "Minibatch iteration 64/1870000: mean batch inertia: 0.252711, ewa inertia: 0.240724 \n",
            "Minibatch iteration 65/1870000: mean batch inertia: 0.200091, ewa inertia: 0.240506 \n",
            "Minibatch iteration 66/1870000: mean batch inertia: 0.243750, ewa inertia: 0.240524 \n",
            "Minibatch iteration 67/1870000: mean batch inertia: 0.229258, ewa inertia: 0.240463 \n",
            "Minibatch iteration 68/1870000: mean batch inertia: 0.177155, ewa inertia: 0.240124 \n",
            "Minibatch iteration 69/1870000: mean batch inertia: 0.217752, ewa inertia: 0.240004 \n",
            "[MiniBatchKMeans] Reassigning 50 cluster centers.\n",
            "Minibatch iteration 70/1870000: mean batch inertia: 0.129845, ewa inertia: 0.239414 \n",
            "Minibatch iteration 71/1870000: mean batch inertia: 0.174333, ewa inertia: 0.239066 \n",
            "Minibatch iteration 72/1870000: mean batch inertia: 0.128752, ewa inertia: 0.238475 \n",
            "Minibatch iteration 73/1870000: mean batch inertia: 0.197372, ewa inertia: 0.238255 \n",
            "Minibatch iteration 74/1870000: mean batch inertia: 0.219887, ewa inertia: 0.238156 \n",
            "Minibatch iteration 75/1870000: mean batch inertia: 0.168294, ewa inertia: 0.237782 \n",
            "Minibatch iteration 76/1870000: mean batch inertia: 0.154485, ewa inertia: 0.237336 \n",
            "Minibatch iteration 77/1870000: mean batch inertia: 0.227156, ewa inertia: 0.237281 \n",
            "Minibatch iteration 78/1870000: mean batch inertia: 0.233256, ewa inertia: 0.237260 \n",
            "Minibatch iteration 79/1870000: mean batch inertia: 0.157748, ewa inertia: 0.236834 \n",
            "[MiniBatchKMeans] Reassigning 50 cluster centers.\n",
            "Minibatch iteration 80/1870000: mean batch inertia: 0.245783, ewa inertia: 0.236882 \n",
            "Minibatch iteration 81/1870000: mean batch inertia: 0.266305, ewa inertia: 0.237039 \n",
            "Minibatch iteration 82/1870000: mean batch inertia: 0.165967, ewa inertia: 0.236659 \n",
            "Minibatch iteration 83/1870000: mean batch inertia: 0.159313, ewa inertia: 0.236245 \n",
            "Minibatch iteration 84/1870000: mean batch inertia: 0.203400, ewa inertia: 0.236069 \n",
            "Minibatch iteration 85/1870000: mean batch inertia: 0.236797, ewa inertia: 0.236073 \n",
            "Minibatch iteration 86/1870000: mean batch inertia: 0.242212, ewa inertia: 0.236105 \n",
            "Minibatch iteration 87/1870000: mean batch inertia: 0.182774, ewa inertia: 0.235820 \n",
            "Minibatch iteration 88/1870000: mean batch inertia: 0.154161, ewa inertia: 0.235382 \n",
            "Minibatch iteration 89/1870000: mean batch inertia: 0.234762, ewa inertia: 0.235379 \n",
            "[MiniBatchKMeans] Reassigning 50 cluster centers.\n",
            "Minibatch iteration 90/1870000: mean batch inertia: 0.212090, ewa inertia: 0.235254 \n",
            "Minibatch iteration 91/1870000: mean batch inertia: 0.200822, ewa inertia: 0.235070 \n",
            "Minibatch iteration 92/1870000: mean batch inertia: 0.208448, ewa inertia: 0.234927 \n",
            "Minibatch iteration 93/1870000: mean batch inertia: 0.161193, ewa inertia: 0.234532 \n",
            "Minibatch iteration 94/1870000: mean batch inertia: 0.169500, ewa inertia: 0.234184 \n",
            "Minibatch iteration 95/1870000: mean batch inertia: 0.171671, ewa inertia: 0.233849 \n",
            "Minibatch iteration 96/1870000: mean batch inertia: 0.189069, ewa inertia: 0.233609 \n",
            "Minibatch iteration 97/1870000: mean batch inertia: 0.293073, ewa inertia: 0.233928 \n",
            "Minibatch iteration 98/1870000: mean batch inertia: 0.209588, ewa inertia: 0.233797 \n",
            "[MiniBatchKMeans] Reassigning 50 cluster centers.\n",
            "Minibatch iteration 99/1870000: mean batch inertia: 0.287771, ewa inertia: 0.234087 \n",
            "Minibatch iteration 100/1870000: mean batch inertia: 0.171274, ewa inertia: 0.233750 \n",
            "Minibatch iteration 101/1870000: mean batch inertia: 0.172171, ewa inertia: 0.233420 \n",
            "Minibatch iteration 102/1870000: mean batch inertia: 0.202721, ewa inertia: 0.233256 \n",
            "Minibatch iteration 103/1870000: mean batch inertia: 0.273496, ewa inertia: 0.233471 \n",
            "Minibatch iteration 104/1870000: mean batch inertia: 0.209747, ewa inertia: 0.233344 \n",
            "Minibatch iteration 105/1870000: mean batch inertia: 0.170435, ewa inertia: 0.233007 \n",
            "Minibatch iteration 106/1870000: mean batch inertia: 0.202834, ewa inertia: 0.232846 \n",
            "Minibatch iteration 107/1870000: mean batch inertia: 0.143100, ewa inertia: 0.232365 \n",
            "Minibatch iteration 108/1870000: mean batch inertia: 0.237939, ewa inertia: 0.232395 \n",
            "Minibatch iteration 109/1870000: mean batch inertia: 0.261982, ewa inertia: 0.232553 \n",
            "[MiniBatchKMeans] Reassigning 50 cluster centers.\n",
            "Minibatch iteration 110/1870000: mean batch inertia: 0.133106, ewa inertia: 0.232021 \n",
            "Minibatch iteration 111/1870000: mean batch inertia: 0.177632, ewa inertia: 0.231729 \n",
            "Minibatch iteration 112/1870000: mean batch inertia: 0.217076, ewa inertia: 0.231651 \n",
            "Minibatch iteration 113/1870000: mean batch inertia: 0.161669, ewa inertia: 0.231276 \n",
            "Minibatch iteration 114/1870000: mean batch inertia: 0.152188, ewa inertia: 0.230852 \n",
            "Minibatch iteration 115/1870000: mean batch inertia: 0.241014, ewa inertia: 0.230907 \n",
            "Minibatch iteration 116/1870000: mean batch inertia: 0.187390, ewa inertia: 0.230674 \n",
            "Minibatch iteration 117/1870000: mean batch inertia: 0.198450, ewa inertia: 0.230501 \n",
            "Minibatch iteration 118/1870000: mean batch inertia: 0.228221, ewa inertia: 0.230489 \n",
            "Minibatch iteration 119/1870000: mean batch inertia: 0.345947, ewa inertia: 0.231107 \n",
            "Minibatch iteration 120/1870000: mean batch inertia: 0.181864, ewa inertia: 0.230844 \n",
            "[MiniBatchKMeans] Reassigning 50 cluster centers.\n",
            "Minibatch iteration 121/1870000: mean batch inertia: 0.171257, ewa inertia: 0.230525 \n",
            "Minibatch iteration 122/1870000: mean batch inertia: 0.211517, ewa inertia: 0.230423 \n",
            "Minibatch iteration 123/1870000: mean batch inertia: 0.239360, ewa inertia: 0.230471 \n",
            "Minibatch iteration 124/1870000: mean batch inertia: 0.229333, ewa inertia: 0.230464 \n",
            "Minibatch iteration 125/1870000: mean batch inertia: 0.160388, ewa inertia: 0.230089 \n",
            "Minibatch iteration 126/1870000: mean batch inertia: 0.195581, ewa inertia: 0.229904 \n",
            "Minibatch iteration 127/1870000: mean batch inertia: 0.149083, ewa inertia: 0.229471 \n",
            "Minibatch iteration 128/1870000: mean batch inertia: 0.276279, ewa inertia: 0.229722 \n",
            "Minibatch iteration 129/1870000: mean batch inertia: 0.202079, ewa inertia: 0.229574 \n",
            "Minibatch iteration 130/1870000: mean batch inertia: 0.169586, ewa inertia: 0.229253 \n",
            "Minibatch iteration 131/1870000: mean batch inertia: 0.193161, ewa inertia: 0.229059 \n",
            "[MiniBatchKMeans] Reassigning 50 cluster centers.\n",
            "Minibatch iteration 132/1870000: mean batch inertia: 0.220901, ewa inertia: 0.229016 \n",
            "Minibatch iteration 133/1870000: mean batch inertia: 0.228291, ewa inertia: 0.229012 \n",
            "Minibatch iteration 134/1870000: mean batch inertia: 0.207277, ewa inertia: 0.228895 \n",
            "Minibatch iteration 135/1870000: mean batch inertia: 0.265725, ewa inertia: 0.229093 \n",
            "Minibatch iteration 136/1870000: mean batch inertia: 0.251655, ewa inertia: 0.229214 \n",
            "Minibatch iteration 137/1870000: mean batch inertia: 0.173842, ewa inertia: 0.228917 \n",
            "Minibatch iteration 138/1870000: mean batch inertia: 0.259348, ewa inertia: 0.229080 \n",
            "Minibatch iteration 139/1870000: mean batch inertia: 0.202909, ewa inertia: 0.228940 \n",
            "Minibatch iteration 140/1870000: mean batch inertia: 0.178877, ewa inertia: 0.228672 \n",
            "Minibatch iteration 141/1870000: mean batch inertia: 0.244239, ewa inertia: 0.228755 \n",
            "Minibatch iteration 142/1870000: mean batch inertia: 0.196889, ewa inertia: 0.228584 \n",
            "Minibatch iteration 143/1870000: mean batch inertia: 0.195649, ewa inertia: 0.228408 \n",
            "[MiniBatchKMeans] Reassigning 50 cluster centers.\n",
            "Minibatch iteration 144/1870000: mean batch inertia: 0.326168, ewa inertia: 0.228932 \n",
            "Minibatch iteration 145/1870000: mean batch inertia: 0.221041, ewa inertia: 0.228889 \n",
            "Minibatch iteration 146/1870000: mean batch inertia: 0.259158, ewa inertia: 0.229051 \n",
            "Minibatch iteration 147/1870000: mean batch inertia: 0.161802, ewa inertia: 0.228691 \n",
            "Minibatch iteration 148/1870000: mean batch inertia: 0.195523, ewa inertia: 0.228514 \n",
            "Minibatch iteration 149/1870000: mean batch inertia: 0.214283, ewa inertia: 0.228437 \n",
            "Minibatch iteration 150/1870000: mean batch inertia: 0.252671, ewa inertia: 0.228567 \n",
            "Minibatch iteration 151/1870000: mean batch inertia: 0.158228, ewa inertia: 0.228190 \n",
            "Minibatch iteration 152/1870000: mean batch inertia: 0.196744, ewa inertia: 0.228022 \n",
            "Minibatch iteration 153/1870000: mean batch inertia: 0.239919, ewa inertia: 0.228086 \n",
            "Minibatch iteration 154/1870000: mean batch inertia: 0.191281, ewa inertia: 0.227889 \n",
            "Minibatch iteration 155/1870000: mean batch inertia: 0.126594, ewa inertia: 0.227346 \n",
            "[MiniBatchKMeans] Reassigning 50 cluster centers.\n",
            "Minibatch iteration 156/1870000: mean batch inertia: 0.308492, ewa inertia: 0.227781 \n",
            "Minibatch iteration 157/1870000: mean batch inertia: 0.266573, ewa inertia: 0.227988 \n",
            "Minibatch iteration 158/1870000: mean batch inertia: 0.166494, ewa inertia: 0.227659 \n",
            "Minibatch iteration 159/1870000: mean batch inertia: 0.179839, ewa inertia: 0.227403 \n",
            "Minibatch iteration 160/1870000: mean batch inertia: 0.164653, ewa inertia: 0.227067 \n",
            "Minibatch iteration 161/1870000: mean batch inertia: 0.210400, ewa inertia: 0.226978 \n",
            "Minibatch iteration 162/1870000: mean batch inertia: 0.216109, ewa inertia: 0.226919 \n",
            "Minibatch iteration 163/1870000: mean batch inertia: 0.206439, ewa inertia: 0.226810 \n",
            "Minibatch iteration 164/1870000: mean batch inertia: 0.183314, ewa inertia: 0.226577 \n",
            "Minibatch iteration 165/1870000: mean batch inertia: 0.190147, ewa inertia: 0.226382 \n",
            "Minibatch iteration 166/1870000: mean batch inertia: 0.176883, ewa inertia: 0.226116 \n",
            "Minibatch iteration 167/1870000: mean batch inertia: 0.201414, ewa inertia: 0.225984 \n",
            "[MiniBatchKMeans] Reassigning 50 cluster centers.\n",
            "Minibatch iteration 168/1870000: mean batch inertia: 0.164552, ewa inertia: 0.225655 \n",
            "[MiniBatchKMeans] Reassigning 50 cluster centers.\n",
            "Minibatch iteration 169/1870000: mean batch inertia: 0.202642, ewa inertia: 0.225532 \n",
            "Minibatch iteration 170/1870000: mean batch inertia: 0.315287, ewa inertia: 0.226013 \n",
            "Minibatch iteration 171/1870000: mean batch inertia: 0.180352, ewa inertia: 0.225768 \n",
            "Minibatch iteration 172/1870000: mean batch inertia: 0.136997, ewa inertia: 0.225292 \n",
            "Minibatch iteration 173/1870000: mean batch inertia: 0.224664, ewa inertia: 0.225289 \n",
            "Minibatch iteration 174/1870000: mean batch inertia: 0.156307, ewa inertia: 0.224920 \n",
            "Minibatch iteration 175/1870000: mean batch inertia: 0.158568, ewa inertia: 0.224564 \n",
            "Minibatch iteration 176/1870000: mean batch inertia: 0.219049, ewa inertia: 0.224535 \n",
            "Minibatch iteration 177/1870000: mean batch inertia: 0.247399, ewa inertia: 0.224657 \n",
            "Minibatch iteration 178/1870000: mean batch inertia: 0.221714, ewa inertia: 0.224641 \n",
            "Minibatch iteration 179/1870000: mean batch inertia: 0.216120, ewa inertia: 0.224596 \n",
            "Minibatch iteration 180/1870000: mean batch inertia: 0.276240, ewa inertia: 0.224872 \n",
            "Minibatch iteration 181/1870000: mean batch inertia: 0.210957, ewa inertia: 0.224798 \n",
            "[MiniBatchKMeans] Reassigning 50 cluster centers.\n",
            "Minibatch iteration 182/1870000: mean batch inertia: 0.224826, ewa inertia: 0.224798 \n",
            "Minibatch iteration 183/1870000: mean batch inertia: 0.278453, ewa inertia: 0.225085 \n",
            "Minibatch iteration 184/1870000: mean batch inertia: 0.262057, ewa inertia: 0.225283 \n",
            "Minibatch iteration 185/1870000: mean batch inertia: 0.236548, ewa inertia: 0.225344 \n",
            "Minibatch iteration 186/1870000: mean batch inertia: 0.279241, ewa inertia: 0.225632 \n",
            "Minibatch iteration 187/1870000: mean batch inertia: 0.189135, ewa inertia: 0.225437 \n",
            "Minibatch iteration 188/1870000: mean batch inertia: 0.146449, ewa inertia: 0.225014 \n",
            "Minibatch iteration 189/1870000: mean batch inertia: 0.184341, ewa inertia: 0.224796 \n",
            "Minibatch iteration 190/1870000: mean batch inertia: 0.208012, ewa inertia: 0.224706 \n",
            "Minibatch iteration 191/1870000: mean batch inertia: 0.213132, ewa inertia: 0.224644 \n",
            "Minibatch iteration 192/1870000: mean batch inertia: 0.140617, ewa inertia: 0.224194 \n",
            "Minibatch iteration 193/1870000: mean batch inertia: 0.128505, ewa inertia: 0.223682 \n",
            "Minibatch iteration 194/1870000: mean batch inertia: 0.151171, ewa inertia: 0.223293 \n",
            "[MiniBatchKMeans] Reassigning 50 cluster centers.\n",
            "Minibatch iteration 195/1870000: mean batch inertia: 0.205156, ewa inertia: 0.223196 \n",
            "Minibatch iteration 196/1870000: mean batch inertia: 0.106087, ewa inertia: 0.222569 \n",
            "Minibatch iteration 197/1870000: mean batch inertia: 0.262774, ewa inertia: 0.222784 \n",
            "Minibatch iteration 198/1870000: mean batch inertia: 0.265004, ewa inertia: 0.223010 \n",
            "Minibatch iteration 199/1870000: mean batch inertia: 0.207216, ewa inertia: 0.222926 \n",
            "Minibatch iteration 200/1870000: mean batch inertia: 0.227450, ewa inertia: 0.222950 \n",
            "Minibatch iteration 201/1870000: mean batch inertia: 0.206548, ewa inertia: 0.222862 \n",
            "Minibatch iteration 202/1870000: mean batch inertia: 0.230635, ewa inertia: 0.222904 \n",
            "Minibatch iteration 203/1870000: mean batch inertia: 0.249651, ewa inertia: 0.223047 \n",
            "Minibatch iteration 204/1870000: mean batch inertia: 0.207827, ewa inertia: 0.222965 \n",
            "Minibatch iteration 205/1870000: mean batch inertia: 0.219361, ewa inertia: 0.222946 \n",
            "Minibatch iteration 206/1870000: mean batch inertia: 0.233407, ewa inertia: 0.223002 \n",
            "Minibatch iteration 207/1870000: mean batch inertia: 0.183921, ewa inertia: 0.222793 \n",
            "[MiniBatchKMeans] Reassigning 50 cluster centers.\n",
            "Minibatch iteration 208/1870000: mean batch inertia: 0.239106, ewa inertia: 0.222880 \n",
            "Minibatch iteration 209/1870000: mean batch inertia: 0.187372, ewa inertia: 0.222690 \n",
            "[MiniBatchKMeans] Reassigning 50 cluster centers.\n",
            "Minibatch iteration 210/1870000: mean batch inertia: 0.202114, ewa inertia: 0.222580 \n",
            "Minibatch iteration 211/1870000: mean batch inertia: 0.229046, ewa inertia: 0.222614 \n",
            "Minibatch iteration 212/1870000: mean batch inertia: 0.210022, ewa inertia: 0.222547 \n",
            "Minibatch iteration 213/1870000: mean batch inertia: 0.113558, ewa inertia: 0.221963 \n",
            "Minibatch iteration 214/1870000: mean batch inertia: 0.107971, ewa inertia: 0.221353 \n",
            "Minibatch iteration 215/1870000: mean batch inertia: 0.215940, ewa inertia: 0.221324 \n",
            "Minibatch iteration 216/1870000: mean batch inertia: 0.272605, ewa inertia: 0.221598 \n",
            "Minibatch iteration 217/1870000: mean batch inertia: 0.199533, ewa inertia: 0.221480 \n",
            "Minibatch iteration 218/1870000: mean batch inertia: 0.303572, ewa inertia: 0.221920 \n",
            "Minibatch iteration 219/1870000: mean batch inertia: 0.201952, ewa inertia: 0.221813 \n",
            "Minibatch iteration 220/1870000: mean batch inertia: 0.231950, ewa inertia: 0.221867 \n",
            "Minibatch iteration 221/1870000: mean batch inertia: 0.164015, ewa inertia: 0.221557 \n",
            "Minibatch iteration 222/1870000: mean batch inertia: 0.196190, ewa inertia: 0.221421 \n",
            "Minibatch iteration 223/1870000: mean batch inertia: 0.173979, ewa inertia: 0.221167 \n",
            "[MiniBatchKMeans] Reassigning 50 cluster centers.\n",
            "Minibatch iteration 224/1870000: mean batch inertia: 0.306799, ewa inertia: 0.221626 \n",
            "Minibatch iteration 225/1870000: mean batch inertia: 0.180830, ewa inertia: 0.221407 \n",
            "Minibatch iteration 226/1870000: mean batch inertia: 0.197577, ewa inertia: 0.221280 \n",
            "Minibatch iteration 227/1870000: mean batch inertia: 0.237543, ewa inertia: 0.221367 \n",
            "Minibatch iteration 228/1870000: mean batch inertia: 0.212524, ewa inertia: 0.221320 \n",
            "Minibatch iteration 229/1870000: mean batch inertia: 0.181666, ewa inertia: 0.221107 \n",
            "Minibatch iteration 230/1870000: mean batch inertia: 0.246480, ewa inertia: 0.221243 \n",
            "Minibatch iteration 231/1870000: mean batch inertia: 0.234809, ewa inertia: 0.221316 \n",
            "Minibatch iteration 232/1870000: mean batch inertia: 0.263962, ewa inertia: 0.221544 \n",
            "Minibatch iteration 233/1870000: mean batch inertia: 0.198218, ewa inertia: 0.221419 \n",
            "Minibatch iteration 234/1870000: mean batch inertia: 0.227851, ewa inertia: 0.221454 \n",
            "Minibatch iteration 235/1870000: mean batch inertia: 0.200737, ewa inertia: 0.221343 \n",
            "Minibatch iteration 236/1870000: mean batch inertia: 0.268962, ewa inertia: 0.221598 \n",
            "Minibatch iteration 237/1870000: mean batch inertia: 0.196538, ewa inertia: 0.221464 \n",
            "[MiniBatchKMeans] Reassigning 50 cluster centers.\n",
            "Minibatch iteration 238/1870000: mean batch inertia: 0.178273, ewa inertia: 0.221232 \n",
            "Minibatch iteration 239/1870000: mean batch inertia: 0.273389, ewa inertia: 0.221512 \n",
            "[MiniBatchKMeans] Reassigning 50 cluster centers.\n",
            "Minibatch iteration 240/1870000: mean batch inertia: 0.199277, ewa inertia: 0.221392 \n",
            "Minibatch iteration 241/1870000: mean batch inertia: 0.183650, ewa inertia: 0.221190 \n",
            "Minibatch iteration 242/1870000: mean batch inertia: 0.173314, ewa inertia: 0.220934 \n",
            "Minibatch iteration 243/1870000: mean batch inertia: 0.159328, ewa inertia: 0.220604 \n",
            "Minibatch iteration 244/1870000: mean batch inertia: 0.186413, ewa inertia: 0.220421 \n",
            "Minibatch iteration 245/1870000: mean batch inertia: 0.179692, ewa inertia: 0.220203 \n",
            "Minibatch iteration 246/1870000: mean batch inertia: 0.216758, ewa inertia: 0.220184 \n",
            "Minibatch iteration 247/1870000: mean batch inertia: 0.192671, ewa inertia: 0.220037 \n",
            "Minibatch iteration 248/1870000: mean batch inertia: 0.156959, ewa inertia: 0.219699 \n",
            "Minibatch iteration 249/1870000: mean batch inertia: 0.226695, ewa inertia: 0.219736 \n",
            "Minibatch iteration 250/1870000: mean batch inertia: 0.167985, ewa inertia: 0.219459 \n",
            "Minibatch iteration 251/1870000: mean batch inertia: 0.201488, ewa inertia: 0.219363 \n",
            "Minibatch iteration 252/1870000: mean batch inertia: 0.204774, ewa inertia: 0.219285 \n",
            "Minibatch iteration 253/1870000: mean batch inertia: 0.184263, ewa inertia: 0.219097 \n",
            "Minibatch iteration 254/1870000: mean batch inertia: 0.186541, ewa inertia: 0.218923 \n",
            "[MiniBatchKMeans] Reassigning 50 cluster centers.\n",
            "Minibatch iteration 255/1870000: mean batch inertia: 0.304202, ewa inertia: 0.219380 \n",
            "Minibatch iteration 256/1870000: mean batch inertia: 0.237850, ewa inertia: 0.219479 \n",
            "Minibatch iteration 257/1870000: mean batch inertia: 0.151374, ewa inertia: 0.219114 \n",
            "Minibatch iteration 258/1870000: mean batch inertia: 0.251818, ewa inertia: 0.219289 \n",
            "Minibatch iteration 259/1870000: mean batch inertia: 0.225475, ewa inertia: 0.219322 \n",
            "Minibatch iteration 260/1870000: mean batch inertia: 0.217171, ewa inertia: 0.219311 \n",
            "Minibatch iteration 261/1870000: mean batch inertia: 0.311269, ewa inertia: 0.219803 \n",
            "Minibatch iteration 262/1870000: mean batch inertia: 0.255707, ewa inertia: 0.219995 \n",
            "Minibatch iteration 263/1870000: mean batch inertia: 0.157447, ewa inertia: 0.219660 \n",
            "Minibatch iteration 264/1870000: mean batch inertia: 0.251129, ewa inertia: 0.219829 \n",
            "Minibatch iteration 265/1870000: mean batch inertia: 0.243882, ewa inertia: 0.219958 \n",
            "Minibatch iteration 266/1870000: mean batch inertia: 0.157732, ewa inertia: 0.219625 \n",
            "Minibatch iteration 267/1870000: mean batch inertia: 0.164386, ewa inertia: 0.219329 \n",
            "Minibatch iteration 268/1870000: mean batch inertia: 0.308229, ewa inertia: 0.219805 \n",
            "Minibatch iteration 269/1870000: mean batch inertia: 0.227287, ewa inertia: 0.219845 \n",
            "[MiniBatchKMeans] Reassigning 50 cluster centers.\n",
            "Minibatch iteration 270/1870000: mean batch inertia: 0.210408, ewa inertia: 0.219794 \n",
            "Minibatch iteration 271/1870000: mean batch inertia: 0.185156, ewa inertia: 0.219609 \n",
            "[MiniBatchKMeans] Reassigning 50 cluster centers.\n",
            "Minibatch iteration 272/1870000: mean batch inertia: 0.286098, ewa inertia: 0.219965 \n",
            "Minibatch iteration 273/1870000: mean batch inertia: 0.158123, ewa inertia: 0.219634 \n",
            "Minibatch iteration 274/1870000: mean batch inertia: 0.171907, ewa inertia: 0.219378 \n",
            "Minibatch iteration 275/1870000: mean batch inertia: 0.252681, ewa inertia: 0.219556 \n",
            "Minibatch iteration 276/1870000: mean batch inertia: 0.294536, ewa inertia: 0.219958 \n",
            "Minibatch iteration 277/1870000: mean batch inertia: 0.209912, ewa inertia: 0.219904 \n",
            "Minibatch iteration 278/1870000: mean batch inertia: 0.203493, ewa inertia: 0.219816 \n",
            "Minibatch iteration 279/1870000: mean batch inertia: 0.198234, ewa inertia: 0.219701 \n",
            "Minibatch iteration 280/1870000: mean batch inertia: 0.205936, ewa inertia: 0.219627 \n",
            "Minibatch iteration 281/1870000: mean batch inertia: 0.193057, ewa inertia: 0.219485 \n",
            "Minibatch iteration 282/1870000: mean batch inertia: 0.223157, ewa inertia: 0.219504 \n",
            "Minibatch iteration 283/1870000: mean batch inertia: 0.124488, ewa inertia: 0.218995 \n",
            "Minibatch iteration 284/1870000: mean batch inertia: 0.240807, ewa inertia: 0.219112 \n",
            "Minibatch iteration 285/1870000: mean batch inertia: 0.207978, ewa inertia: 0.219053 \n",
            "Minibatch iteration 286/1870000: mean batch inertia: 0.119415, ewa inertia: 0.218519 \n",
            "Minibatch iteration 287/1870000: mean batch inertia: 0.173989, ewa inertia: 0.218280 \n",
            "[MiniBatchKMeans] Reassigning 50 cluster centers.\n",
            "Minibatch iteration 288/1870000: mean batch inertia: 0.288649, ewa inertia: 0.218657 \n",
            "[MiniBatchKMeans] Reassigning 50 cluster centers.\n",
            "Minibatch iteration 289/1870000: mean batch inertia: 0.130236, ewa inertia: 0.218184 \n",
            "Minibatch iteration 290/1870000: mean batch inertia: 0.238799, ewa inertia: 0.218294 \n",
            "Minibatch iteration 291/1870000: mean batch inertia: 0.177665, ewa inertia: 0.218077 \n",
            "Minibatch iteration 292/1870000: mean batch inertia: 0.242819, ewa inertia: 0.218209 \n",
            "Minibatch iteration 293/1870000: mean batch inertia: 0.166303, ewa inertia: 0.217931 \n",
            "Minibatch iteration 294/1870000: mean batch inertia: 0.174317, ewa inertia: 0.217697 \n",
            "Minibatch iteration 295/1870000: mean batch inertia: 0.135059, ewa inertia: 0.217255 \n",
            "Minibatch iteration 296/1870000: mean batch inertia: 0.236272, ewa inertia: 0.217357 \n",
            "Minibatch iteration 297/1870000: mean batch inertia: 0.173568, ewa inertia: 0.217122 \n",
            "Minibatch iteration 298/1870000: mean batch inertia: 0.220301, ewa inertia: 0.217139 \n",
            "Minibatch iteration 299/1870000: mean batch inertia: 0.239960, ewa inertia: 0.217261 \n",
            "Minibatch iteration 300/1870000: mean batch inertia: 0.192196, ewa inertia: 0.217127 \n",
            "Minibatch iteration 301/1870000: mean batch inertia: 0.210863, ewa inertia: 0.217094 \n",
            "Minibatch iteration 302/1870000: mean batch inertia: 0.177794, ewa inertia: 0.216883 \n",
            "Minibatch iteration 303/1870000: mean batch inertia: 0.127506, ewa inertia: 0.216404 \n",
            "Minibatch iteration 304/1870000: mean batch inertia: 0.192360, ewa inertia: 0.216276 \n",
            "Minibatch iteration 305/1870000: mean batch inertia: 0.179388, ewa inertia: 0.216078 \n",
            "[MiniBatchKMeans] Reassigning 50 cluster centers.\n",
            "Minibatch iteration 306/1870000: mean batch inertia: 0.218260, ewa inertia: 0.216090 \n",
            "Minibatch iteration 307/1870000: mean batch inertia: 0.210567, ewa inertia: 0.216060 \n",
            "Minibatch iteration 308/1870000: mean batch inertia: 0.175300, ewa inertia: 0.215842 \n",
            "Minibatch iteration 309/1870000: mean batch inertia: 0.262215, ewa inertia: 0.216090 \n",
            "Minibatch iteration 310/1870000: mean batch inertia: 0.280809, ewa inertia: 0.216437 \n",
            "Minibatch iteration 311/1870000: mean batch inertia: 0.347565, ewa inertia: 0.217139 \n",
            "Minibatch iteration 312/1870000: mean batch inertia: 0.314115, ewa inertia: 0.217659 \n",
            "Minibatch iteration 313/1870000: mean batch inertia: 0.156004, ewa inertia: 0.217328 \n",
            "Minibatch iteration 314/1870000: mean batch inertia: 0.240664, ewa inertia: 0.217453 \n",
            "Minibatch iteration 315/1870000: mean batch inertia: 0.263658, ewa inertia: 0.217701 \n",
            "Minibatch iteration 316/1870000: mean batch inertia: 0.188372, ewa inertia: 0.217544 \n",
            "Minibatch iteration 317/1870000: mean batch inertia: 0.180897, ewa inertia: 0.217347 \n",
            "Minibatch iteration 318/1870000: mean batch inertia: 0.183085, ewa inertia: 0.217164 \n",
            "Minibatch iteration 319/1870000: mean batch inertia: 0.234283, ewa inertia: 0.217256 \n",
            "Minibatch iteration 320/1870000: mean batch inertia: 0.226482, ewa inertia: 0.217305 \n",
            "Minibatch iteration 321/1870000: mean batch inertia: 0.187163, ewa inertia: 0.217144 \n",
            "Minibatch iteration 322/1870000: mean batch inertia: 0.119843, ewa inertia: 0.216622 \n",
            "[MiniBatchKMeans] Reassigning 50 cluster centers.\n",
            "Minibatch iteration 323/1870000: mean batch inertia: 0.188674, ewa inertia: 0.216473 \n",
            "[MiniBatchKMeans] Reassigning 50 cluster centers.\n",
            "Minibatch iteration 324/1870000: mean batch inertia: 0.224656, ewa inertia: 0.216517 \n",
            "Minibatch iteration 325/1870000: mean batch inertia: 0.209190, ewa inertia: 0.216477 \n",
            "Minibatch iteration 326/1870000: mean batch inertia: 0.216457, ewa inertia: 0.216477 \n",
            "Minibatch iteration 327/1870000: mean batch inertia: 0.225754, ewa inertia: 0.216527 \n",
            "Minibatch iteration 328/1870000: mean batch inertia: 0.213182, ewa inertia: 0.216509 \n",
            "Minibatch iteration 329/1870000: mean batch inertia: 0.247599, ewa inertia: 0.216676 \n",
            "Minibatch iteration 330/1870000: mean batch inertia: 0.126097, ewa inertia: 0.216190 \n",
            "Minibatch iteration 331/1870000: mean batch inertia: 0.212586, ewa inertia: 0.216171 \n",
            "Minibatch iteration 332/1870000: mean batch inertia: 0.275576, ewa inertia: 0.216489 \n",
            "Minibatch iteration 333/1870000: mean batch inertia: 0.172960, ewa inertia: 0.216256 \n",
            "Minibatch iteration 334/1870000: mean batch inertia: 0.205927, ewa inertia: 0.216201 \n",
            "Minibatch iteration 335/1870000: mean batch inertia: 0.186763, ewa inertia: 0.216043 \n",
            "Minibatch iteration 336/1870000: mean batch inertia: 0.196154, ewa inertia: 0.215937 \n",
            "Minibatch iteration 337/1870000: mean batch inertia: 0.157753, ewa inertia: 0.215625 \n",
            "Minibatch iteration 338/1870000: mean batch inertia: 0.211685, ewa inertia: 0.215604 \n",
            "Minibatch iteration 339/1870000: mean batch inertia: 0.138488, ewa inertia: 0.215191 \n",
            "Minibatch iteration 340/1870000: mean batch inertia: 0.234157, ewa inertia: 0.215292 \n",
            "Minibatch iteration 341/1870000: mean batch inertia: 0.231559, ewa inertia: 0.215380 \n",
            "[MiniBatchKMeans] Reassigning 50 cluster centers.\n",
            "Minibatch iteration 342/1870000: mean batch inertia: 0.261871, ewa inertia: 0.215629 \n",
            "Minibatch iteration 343/1870000: mean batch inertia: 0.164417, ewa inertia: 0.215354 \n",
            "Minibatch iteration 344/1870000: mean batch inertia: 0.246083, ewa inertia: 0.215519 \n",
            "Minibatch iteration 345/1870000: mean batch inertia: 0.176958, ewa inertia: 0.215312 \n",
            "Minibatch iteration 346/1870000: mean batch inertia: 0.224940, ewa inertia: 0.215364 \n",
            "Minibatch iteration 347/1870000: mean batch inertia: 0.215357, ewa inertia: 0.215364 \n",
            "Minibatch iteration 348/1870000: mean batch inertia: 0.160950, ewa inertia: 0.215072 \n",
            "Minibatch iteration 349/1870000: mean batch inertia: 0.175235, ewa inertia: 0.214859 \n",
            "Minibatch iteration 350/1870000: mean batch inertia: 0.103686, ewa inertia: 0.214264 \n",
            "Minibatch iteration 351/1870000: mean batch inertia: 0.194032, ewa inertia: 0.214155 \n",
            "Minibatch iteration 352/1870000: mean batch inertia: 0.210354, ewa inertia: 0.214135 \n",
            "Minibatch iteration 353/1870000: mean batch inertia: 0.230414, ewa inertia: 0.214222 \n",
            "Minibatch iteration 354/1870000: mean batch inertia: 0.158176, ewa inertia: 0.213922 \n",
            "Minibatch iteration 355/1870000: mean batch inertia: 0.191559, ewa inertia: 0.213802 \n",
            "Minibatch iteration 356/1870000: mean batch inertia: 0.275374, ewa inertia: 0.214132 \n",
            "Minibatch iteration 357/1870000: mean batch inertia: 0.147541, ewa inertia: 0.213775 \n",
            "Minibatch iteration 358/1870000: mean batch inertia: 0.319337, ewa inertia: 0.214341 \n",
            "Minibatch iteration 359/1870000: mean batch inertia: 0.245785, ewa inertia: 0.214509 \n",
            "Minibatch iteration 360/1870000: mean batch inertia: 0.283855, ewa inertia: 0.214880 \n",
            "[MiniBatchKMeans] Reassigning 50 cluster centers.\n",
            "Minibatch iteration 361/1870000: mean batch inertia: 0.204749, ewa inertia: 0.214826 \n",
            "Minibatch iteration 362/1870000: mean batch inertia: 0.223593, ewa inertia: 0.214873 \n",
            "Minibatch iteration 363/1870000: mean batch inertia: 0.136018, ewa inertia: 0.214451 \n",
            "Minibatch iteration 364/1870000: mean batch inertia: 0.146967, ewa inertia: 0.214089 \n",
            "Minibatch iteration 365/1870000: mean batch inertia: 0.237346, ewa inertia: 0.214214 \n",
            "Minibatch iteration 366/1870000: mean batch inertia: 0.258821, ewa inertia: 0.214453 \n",
            "Minibatch iteration 367/1870000: mean batch inertia: 0.200326, ewa inertia: 0.214377 \n",
            "Minibatch iteration 368/1870000: mean batch inertia: 0.176770, ewa inertia: 0.214176 \n",
            "Minibatch iteration 369/1870000: mean batch inertia: 0.245544, ewa inertia: 0.214344 \n",
            "Minibatch iteration 370/1870000: mean batch inertia: 0.237742, ewa inertia: 0.214469 \n",
            "Minibatch iteration 371/1870000: mean batch inertia: 0.201227, ewa inertia: 0.214398 \n",
            "Minibatch iteration 372/1870000: mean batch inertia: 0.308002, ewa inertia: 0.214899 \n",
            "Minibatch iteration 373/1870000: mean batch inertia: 0.213807, ewa inertia: 0.214894 \n",
            "Minibatch iteration 374/1870000: mean batch inertia: 0.121769, ewa inertia: 0.214395 \n",
            "Minibatch iteration 375/1870000: mean batch inertia: 0.210159, ewa inertia: 0.214372 \n",
            "Minibatch iteration 376/1870000: mean batch inertia: 0.201945, ewa inertia: 0.214306 \n",
            "Minibatch iteration 377/1870000: mean batch inertia: 0.234903, ewa inertia: 0.214416 \n",
            "Minibatch iteration 378/1870000: mean batch inertia: 0.175999, ewa inertia: 0.214210 \n",
            "Minibatch iteration 379/1870000: mean batch inertia: 0.112745, ewa inertia: 0.213667 \n",
            "[MiniBatchKMeans] Reassigning 50 cluster centers.\n",
            "Minibatch iteration 380/1870000: mean batch inertia: 0.251881, ewa inertia: 0.213871 \n",
            "Minibatch iteration 381/1870000: mean batch inertia: 0.199149, ewa inertia: 0.213792 \n",
            "Minibatch iteration 382/1870000: mean batch inertia: 0.224145, ewa inertia: 0.213848 \n",
            "Minibatch iteration 383/1870000: mean batch inertia: 0.217180, ewa inertia: 0.213866 \n",
            "Minibatch iteration 384/1870000: mean batch inertia: 0.150319, ewa inertia: 0.213525 \n",
            "Minibatch iteration 385/1870000: mean batch inertia: 0.227186, ewa inertia: 0.213599 \n",
            "Minibatch iteration 386/1870000: mean batch inertia: 0.247577, ewa inertia: 0.213781 \n",
            "Minibatch iteration 387/1870000: mean batch inertia: 0.237104, ewa inertia: 0.213905 \n",
            "Minibatch iteration 388/1870000: mean batch inertia: 0.186426, ewa inertia: 0.213758 \n",
            "Minibatch iteration 389/1870000: mean batch inertia: 0.254906, ewa inertia: 0.213979 \n",
            "Minibatch iteration 390/1870000: mean batch inertia: 0.175646, ewa inertia: 0.213773 \n",
            "Minibatch iteration 391/1870000: mean batch inertia: 0.202788, ewa inertia: 0.213715 \n",
            "Minibatch iteration 392/1870000: mean batch inertia: 0.268285, ewa inertia: 0.214007 \n",
            "Minibatch iteration 393/1870000: mean batch inertia: 0.196927, ewa inertia: 0.213915 \n",
            "Minibatch iteration 394/1870000: mean batch inertia: 0.272818, ewa inertia: 0.214231 \n",
            "Minibatch iteration 395/1870000: mean batch inertia: 0.177382, ewa inertia: 0.214033 \n",
            "Minibatch iteration 396/1870000: mean batch inertia: 0.283237, ewa inertia: 0.214404 \n",
            "Minibatch iteration 397/1870000: mean batch inertia: 0.266140, ewa inertia: 0.214681 \n",
            "Minibatch iteration 398/1870000: mean batch inertia: 0.167773, ewa inertia: 0.214430 \n",
            "Minibatch iteration 399/1870000: mean batch inertia: 0.170929, ewa inertia: 0.214197 \n",
            "[MiniBatchKMeans] Reassigning 50 cluster centers.\n",
            "Minibatch iteration 400/1870000: mean batch inertia: 0.206405, ewa inertia: 0.214155 \n",
            "Minibatch iteration 401/1870000: mean batch inertia: 0.284056, ewa inertia: 0.214530 \n",
            "Minibatch iteration 402/1870000: mean batch inertia: 0.165323, ewa inertia: 0.214266 \n",
            "Minibatch iteration 403/1870000: mean batch inertia: 0.188197, ewa inertia: 0.214126 \n",
            "Minibatch iteration 404/1870000: mean batch inertia: 0.154088, ewa inertia: 0.213805 \n",
            "Minibatch iteration 405/1870000: mean batch inertia: 0.185091, ewa inertia: 0.213651 \n",
            "Minibatch iteration 406/1870000: mean batch inertia: 0.286812, ewa inertia: 0.214043 \n",
            "Minibatch iteration 407/1870000: mean batch inertia: 0.176224, ewa inertia: 0.213840 \n",
            "Minibatch iteration 408/1870000: mean batch inertia: 0.118905, ewa inertia: 0.213332 \n",
            "Minibatch iteration 409/1870000: mean batch inertia: 0.227849, ewa inertia: 0.213410 \n",
            "Minibatch iteration 410/1870000: mean batch inertia: 0.236355, ewa inertia: 0.213533 \n",
            "Minibatch iteration 411/1870000: mean batch inertia: 0.176495, ewa inertia: 0.213334 \n",
            "Minibatch iteration 412/1870000: mean batch inertia: 0.202113, ewa inertia: 0.213274 \n",
            "Minibatch iteration 413/1870000: mean batch inertia: 0.237308, ewa inertia: 0.213403 \n",
            "Minibatch iteration 414/1870000: mean batch inertia: 0.151184, ewa inertia: 0.213070 \n",
            "Minibatch iteration 415/1870000: mean batch inertia: 0.264848, ewa inertia: 0.213347 \n",
            "Minibatch iteration 416/1870000: mean batch inertia: 0.238899, ewa inertia: 0.213484 \n",
            "Minibatch iteration 417/1870000: mean batch inertia: 0.226424, ewa inertia: 0.213553 \n",
            "Minibatch iteration 418/1870000: mean batch inertia: 0.285760, ewa inertia: 0.213940 \n",
            "Minibatch iteration 419/1870000: mean batch inertia: 0.150304, ewa inertia: 0.213599 \n",
            "[MiniBatchKMeans] Reassigning 50 cluster centers.\n",
            "Minibatch iteration 420/1870000: mean batch inertia: 0.194517, ewa inertia: 0.213497 \n",
            "Minibatch iteration 421/1870000: mean batch inertia: 0.255009, ewa inertia: 0.213719 \n",
            "Minibatch iteration 422/1870000: mean batch inertia: 0.293349, ewa inertia: 0.214146 \n",
            "Minibatch iteration 423/1870000: mean batch inertia: 0.239988, ewa inertia: 0.214284 \n",
            "Minibatch iteration 424/1870000: mean batch inertia: 0.151691, ewa inertia: 0.213949 \n",
            "Minibatch iteration 425/1870000: mean batch inertia: 0.276462, ewa inertia: 0.214284 \n",
            "Minibatch iteration 426/1870000: mean batch inertia: 0.180252, ewa inertia: 0.214101 \n",
            "Minibatch iteration 427/1870000: mean batch inertia: 0.204449, ewa inertia: 0.214050 \n",
            "Minibatch iteration 428/1870000: mean batch inertia: 0.261397, ewa inertia: 0.214303 \n",
            "Minibatch iteration 429/1870000: mean batch inertia: 0.191096, ewa inertia: 0.214179 \n",
            "Minibatch iteration 430/1870000: mean batch inertia: 0.185479, ewa inertia: 0.214025 \n",
            "Minibatch iteration 431/1870000: mean batch inertia: 0.199308, ewa inertia: 0.213946 \n",
            "Minibatch iteration 432/1870000: mean batch inertia: 0.265507, ewa inertia: 0.214223 \n",
            "Minibatch iteration 433/1870000: mean batch inertia: 0.203375, ewa inertia: 0.214164 \n",
            "Minibatch iteration 434/1870000: mean batch inertia: 0.326769, ewa inertia: 0.214768 \n",
            "Minibatch iteration 435/1870000: mean batch inertia: 0.256208, ewa inertia: 0.214990 \n",
            "Minibatch iteration 436/1870000: mean batch inertia: 0.196527, ewa inertia: 0.214891 \n",
            "Minibatch iteration 437/1870000: mean batch inertia: 0.254805, ewa inertia: 0.215104 \n",
            "Minibatch iteration 438/1870000: mean batch inertia: 0.300998, ewa inertia: 0.215564 \n",
            "Minibatch iteration 439/1870000: mean batch inertia: 0.207880, ewa inertia: 0.215523 \n",
            "[MiniBatchKMeans] Reassigning 50 cluster centers.\n",
            "Minibatch iteration 440/1870000: mean batch inertia: 0.276313, ewa inertia: 0.215849 \n",
            "Minibatch iteration 441/1870000: mean batch inertia: 0.333371, ewa inertia: 0.216478 \n",
            "Minibatch iteration 442/1870000: mean batch inertia: 0.215918, ewa inertia: 0.216475 \n",
            "Minibatch iteration 443/1870000: mean batch inertia: 0.242694, ewa inertia: 0.216616 \n",
            "Minibatch iteration 444/1870000: mean batch inertia: 0.150396, ewa inertia: 0.216261 \n",
            "Minibatch iteration 445/1870000: mean batch inertia: 0.173041, ewa inertia: 0.216030 \n",
            "Minibatch iteration 446/1870000: mean batch inertia: 0.171447, ewa inertia: 0.215791 \n",
            "Minibatch iteration 447/1870000: mean batch inertia: 0.208374, ewa inertia: 0.215751 \n",
            "Minibatch iteration 448/1870000: mean batch inertia: 0.201065, ewa inertia: 0.215672 \n",
            "Minibatch iteration 449/1870000: mean batch inertia: 0.221031, ewa inertia: 0.215701 \n",
            "Minibatch iteration 450/1870000: mean batch inertia: 0.193976, ewa inertia: 0.215585 \n",
            "Minibatch iteration 451/1870000: mean batch inertia: 0.187962, ewa inertia: 0.215437 \n",
            "Minibatch iteration 452/1870000: mean batch inertia: 0.178471, ewa inertia: 0.215239 \n",
            "Minibatch iteration 453/1870000: mean batch inertia: 0.132666, ewa inertia: 0.214797 \n",
            "Minibatch iteration 454/1870000: mean batch inertia: 0.234200, ewa inertia: 0.214901 \n",
            "Minibatch iteration 455/1870000: mean batch inertia: 0.151834, ewa inertia: 0.214563 \n",
            "Minibatch iteration 456/1870000: mean batch inertia: 0.317377, ewa inertia: 0.215113 \n",
            "Minibatch iteration 457/1870000: mean batch inertia: 0.275991, ewa inertia: 0.215439 \n",
            "Minibatch iteration 458/1870000: mean batch inertia: 0.273868, ewa inertia: 0.215752 \n",
            "Minibatch iteration 459/1870000: mean batch inertia: 0.232678, ewa inertia: 0.215843 \n",
            "[MiniBatchKMeans] Reassigning 50 cluster centers.\n",
            "Minibatch iteration 460/1870000: mean batch inertia: 0.272564, ewa inertia: 0.216147 \n",
            "Minibatch iteration 461/1870000: mean batch inertia: 0.194359, ewa inertia: 0.216030 \n",
            "Minibatch iteration 462/1870000: mean batch inertia: 0.203657, ewa inertia: 0.215964 \n",
            "Minibatch iteration 463/1870000: mean batch inertia: 0.173695, ewa inertia: 0.215738 \n",
            "Minibatch iteration 464/1870000: mean batch inertia: 0.230830, ewa inertia: 0.215818 \n",
            "Minibatch iteration 465/1870000: mean batch inertia: 0.256759, ewa inertia: 0.216038 \n",
            "Minibatch iteration 466/1870000: mean batch inertia: 0.223502, ewa inertia: 0.216078 \n",
            "Minibatch iteration 467/1870000: mean batch inertia: 0.221921, ewa inertia: 0.216109 \n",
            "Minibatch iteration 468/1870000: mean batch inertia: 0.227027, ewa inertia: 0.216167 \n",
            "Minibatch iteration 469/1870000: mean batch inertia: 0.200459, ewa inertia: 0.216083 \n",
            "Minibatch iteration 470/1870000: mean batch inertia: 0.234944, ewa inertia: 0.216184 \n",
            "Minibatch iteration 471/1870000: mean batch inertia: 0.165650, ewa inertia: 0.215914 \n",
            "Minibatch iteration 472/1870000: mean batch inertia: 0.230061, ewa inertia: 0.215989 \n",
            "Minibatch iteration 473/1870000: mean batch inertia: 0.223793, ewa inertia: 0.216031 \n",
            "Minibatch iteration 474/1870000: mean batch inertia: 0.165144, ewa inertia: 0.215759 \n",
            "Minibatch iteration 475/1870000: mean batch inertia: 0.251441, ewa inertia: 0.215950 \n",
            "Minibatch iteration 476/1870000: mean batch inertia: 0.210625, ewa inertia: 0.215921 \n",
            "Minibatch iteration 477/1870000: mean batch inertia: 0.204107, ewa inertia: 0.215858 \n",
            "Minibatch iteration 478/1870000: mean batch inertia: 0.175352, ewa inertia: 0.215641 \n",
            "Minibatch iteration 479/1870000: mean batch inertia: 0.272872, ewa inertia: 0.215948 \n",
            "[MiniBatchKMeans] Reassigning 50 cluster centers.\n",
            "Minibatch iteration 480/1870000: mean batch inertia: 0.273548, ewa inertia: 0.216256 \n",
            "Minibatch iteration 481/1870000: mean batch inertia: 0.252736, ewa inertia: 0.216451 \n",
            "Minibatch iteration 482/1870000: mean batch inertia: 0.192367, ewa inertia: 0.216322 \n",
            "Minibatch iteration 483/1870000: mean batch inertia: 0.163869, ewa inertia: 0.216041 \n",
            "Minibatch iteration 484/1870000: mean batch inertia: 0.233007, ewa inertia: 0.216132 \n",
            "Minibatch iteration 485/1870000: mean batch inertia: 0.241662, ewa inertia: 0.216269 \n",
            "Minibatch iteration 486/1870000: mean batch inertia: 0.234461, ewa inertia: 0.216367 \n",
            "Minibatch iteration 487/1870000: mean batch inertia: 0.217584, ewa inertia: 0.216373 \n",
            "Minibatch iteration 488/1870000: mean batch inertia: 0.123087, ewa inertia: 0.215873 \n",
            "Minibatch iteration 489/1870000: mean batch inertia: 0.146368, ewa inertia: 0.215501 \n",
            "Minibatch iteration 490/1870000: mean batch inertia: 0.212110, ewa inertia: 0.215483 \n",
            "Minibatch iteration 491/1870000: mean batch inertia: 0.155901, ewa inertia: 0.215164 \n",
            "Minibatch iteration 492/1870000: mean batch inertia: 0.282992, ewa inertia: 0.215527 \n",
            "Minibatch iteration 493/1870000: mean batch inertia: 0.207031, ewa inertia: 0.215482 \n",
            "Minibatch iteration 494/1870000: mean batch inertia: 0.150421, ewa inertia: 0.215133 \n",
            "Minibatch iteration 495/1870000: mean batch inertia: 0.231537, ewa inertia: 0.215221 \n",
            "Minibatch iteration 496/1870000: mean batch inertia: 0.137923, ewa inertia: 0.214807 \n",
            "Minibatch iteration 497/1870000: mean batch inertia: 0.287076, ewa inertia: 0.215194 \n",
            "Minibatch iteration 498/1870000: mean batch inertia: 0.170959, ewa inertia: 0.214957 \n",
            "Minibatch iteration 499/1870000: mean batch inertia: 0.168821, ewa inertia: 0.214710 \n",
            "[MiniBatchKMeans] Reassigning 50 cluster centers.\n",
            "Minibatch iteration 500/1870000: mean batch inertia: 0.332608, ewa inertia: 0.215342 \n",
            "Minibatch iteration 501/1870000: mean batch inertia: 0.224097, ewa inertia: 0.215388 \n",
            "Minibatch iteration 502/1870000: mean batch inertia: 0.261003, ewa inertia: 0.215633 \n",
            "Minibatch iteration 503/1870000: mean batch inertia: 0.187027, ewa inertia: 0.215480 \n",
            "Minibatch iteration 504/1870000: mean batch inertia: 0.244400, ewa inertia: 0.215634 \n",
            "Minibatch iteration 505/1870000: mean batch inertia: 0.199349, ewa inertia: 0.215547 \n",
            "Minibatch iteration 506/1870000: mean batch inertia: 0.205067, ewa inertia: 0.215491 \n",
            "Minibatch iteration 507/1870000: mean batch inertia: 0.135272, ewa inertia: 0.215061 \n",
            "Minibatch iteration 508/1870000: mean batch inertia: 0.170046, ewa inertia: 0.214820 \n",
            "Minibatch iteration 509/1870000: mean batch inertia: 0.277789, ewa inertia: 0.215158 \n",
            "Minibatch iteration 510/1870000: mean batch inertia: 0.187405, ewa inertia: 0.215009 \n",
            "Minibatch iteration 511/1870000: mean batch inertia: 0.290641, ewa inertia: 0.215414 \n",
            "Minibatch iteration 512/1870000: mean batch inertia: 0.297580, ewa inertia: 0.215854 \n",
            "Minibatch iteration 513/1870000: mean batch inertia: 0.217471, ewa inertia: 0.215863 \n",
            "Minibatch iteration 514/1870000: mean batch inertia: 0.225822, ewa inertia: 0.215916 \n",
            "Converged (lack of improvement in inertia) at iteration 514/1870000\n",
            "Computing label assignment and total inertia\n"
          ],
          "name": "stdout"
        },
        {
          "output_type": "execute_result",
          "data": {
            "text/plain": [
              "MiniBatchKMeans(batch_size=100, compute_labels=True, init='k-means++',\n",
              "                init_size=5000, max_iter=5000, max_no_improvement=100,\n",
              "                n_clusters=1000, n_init=3, random_state=None,\n",
              "                reassignment_ratio=0.3, tol=0.0, verbose=1)"
            ]
          },
          "metadata": {
            "tags": []
          },
          "execution_count": 186
        }
      ]
    },
    {
      "cell_type": "code",
      "metadata": {
        "id": "ygqHth0dIim9",
        "colab_type": "code",
        "colab": {}
      },
      "source": [
        "\n",
        "labels = cluster.labels_"
      ],
      "execution_count": 0,
      "outputs": []
    },
    {
      "cell_type": "code",
      "metadata": {
        "id": "7nvHBWmAIlLc",
        "colab_type": "code",
        "colab": {
          "base_uri": "https://localhost:8080/",
          "height": 34
        },
        "outputId": "11f587ba-97b8-41ad-b2f3-24c5f83619e8"
      },
      "source": [
        "\n",
        "print(\"Silhouette Coefficient: %0.3f\"\n",
        "      % metrics.silhouette_score(X[:10000], labels[:10000]))"
      ],
      "execution_count": 188,
      "outputs": [
        {
          "output_type": "stream",
          "text": [
            "Silhouette Coefficient: 0.098\n"
          ],
          "name": "stdout"
        }
      ]
    },
    {
      "cell_type": "code",
      "metadata": {
        "id": "pe3oZI_JInP8",
        "colab_type": "code",
        "colab": {
          "base_uri": "https://localhost:8080/",
          "height": 102
        },
        "outputId": "7dbf9bcd-35e4-4ad3-dfaf-cb7a24f37cbb"
      },
      "source": [
        "# эти три метрки что-то вроде точности, полноты и ф-меры для кластеризации\n",
        "print(\"Homogeneity: %0.3f\" % metrics.homogeneity_score(y, labels)) # проверяет, что в кластере объекты одного класса\n",
        "print(\"Completeness: %0.3f\" % metrics.completeness_score(y, labels)) # проверяет, что объекты класса только в одном кластере\n",
        "print(\"V-measure: %0.3f\" % metrics.v_measure_score(y, labels)) # превращает обе метрики в одну \n",
        "\n",
        "print(\"Adjusted Rand Index: %0.3f\"\n",
        "      % metrics.adjusted_rand_score(y, labels))\n",
        "print(\"Adjusted Mutual Information: %0.3f\"\n",
        "      % metrics.adjusted_mutual_info_score(y, labels))"
      ],
      "execution_count": 189,
      "outputs": [
        {
          "output_type": "stream",
          "text": [
            "Homogeneity: 0.618\n",
            "Completeness: 0.301\n",
            "V-measure: 0.405\n",
            "Adjusted Rand Index: 0.017\n",
            "Adjusted Mutual Information: 0.344\n"
          ],
          "name": "stdout"
        }
      ]
    },
    {
      "cell_type": "code",
      "metadata": {
        "id": "rI2lZZv2IpQ1",
        "colab_type": "code",
        "colab": {}
      },
      "source": [
        ""
      ],
      "execution_count": 0,
      "outputs": []
    }
  ]
}