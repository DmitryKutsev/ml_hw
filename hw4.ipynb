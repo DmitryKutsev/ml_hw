{
  "nbformat": 4,
  "nbformat_minor": 0,
  "metadata": {
    "colab": {
      "name": "Untitled29.ipynb",
      "provenance": [],
      "authorship_tag": "ABX9TyP3zk879zRUQIYcxnH7lJ7q",
      "include_colab_link": true
    },
    "kernelspec": {
      "name": "python3",
      "display_name": "Python 3"
    }
  },
  "cells": [
    {
      "cell_type": "markdown",
      "metadata": {
        "id": "view-in-github",
        "colab_type": "text"
      },
      "source": [
        "<a href=\"https://colab.research.google.com/github/DmitryKutsev/ml_hw/blob/master/hw4.ipynb\" target=\"_parent\"><img src=\"https://colab.research.google.com/assets/colab-badge.svg\" alt=\"Open In Colab\"/></a>"
      ]
    },
    {
      "cell_type": "code",
      "metadata": {
        "id": "f-mQYZ5SV5Ik",
        "colab_type": "code",
        "outputId": "73b09f2e-e5c2-4243-d0e3-4119e2b5b509",
        "colab": {
          "base_uri": "https://localhost:8080/",
          "height": 204
        }
      },
      "source": [
        "!wget https://raw.githubusercontent.com/DmitryKutsev/ml_hw/master/small_data.csv\n"
      ],
      "execution_count": 1,
      "outputs": [
        {
          "output_type": "stream",
          "text": [
            "--2020-03-04 16:28:45--  https://raw.githubusercontent.com/DmitryKutsev/ml_hw/master/small_data.csv\n",
            "Resolving raw.githubusercontent.com (raw.githubusercontent.com)... 151.101.0.133, 151.101.64.133, 151.101.128.133, ...\n",
            "Connecting to raw.githubusercontent.com (raw.githubusercontent.com)|151.101.0.133|:443... connected.\n",
            "HTTP request sent, awaiting response... 200 OK\n",
            "Length: 24394136 (23M) [text/plain]\n",
            "Saving to: ‘small_data.csv.3’\n",
            "\n",
            "small_data.csv.3    100%[===================>]  23.26M   115MB/s    in 0.2s    \n",
            "\n",
            "2020-03-04 16:28:46 (115 MB/s) - ‘small_data.csv.3’ saved [24394136/24394136]\n",
            "\n"
          ],
          "name": "stdout"
        }
      ]
    },
    {
      "cell_type": "code",
      "metadata": {
        "id": "qqiICcEeWA-7",
        "colab_type": "code",
        "colab": {}
      },
      "source": [
        "import pandas as pd\n",
        "from sklearn import cluster\n",
        "from sklearn import metrics\n",
        "from sklearn.feature_extraction.text import CountVectorizer\n",
        "from sklearn.feature_extraction.text import TfidfVectorizer\n",
        "from sklearn.cluster import AffinityPropagation, MeanShift, AgglomerativeClustering\n",
        "from sklearn.decomposition import TruncatedSVD, NMF"
      ],
      "execution_count": 0,
      "outputs": []
    },
    {
      "cell_type": "code",
      "metadata": {
        "id": "evQa_bwUoXFQ",
        "colab_type": "code",
        "colab": {}
      },
      "source": [
        "\n",
        "from sklearn.cluster import AffinityPropagation, AgglomerativeClustering, DBSCAN, \\\n",
        "                            KMeans, MiniBatchKMeans, Birch, MeanShift, SpectralClustering\n",
        "from sklearn.metrics import adjusted_rand_score, adjusted_mutual_info_score, \\\n",
        "                            silhouette_score\n",
        "\n",
        "from sklearn.feature_extraction.text import CountVectorizer\n",
        "from sklearn.decomposition import TruncatedSVD\n",
        "from sklearn import metrics\n",
        "from sklearn.datasets import make_blobs"
      ],
      "execution_count": 0,
      "outputs": []
    },
    {
      "cell_type": "code",
      "metadata": {
        "id": "6qnF2VDAXI5v",
        "colab_type": "code",
        "colab": {}
      },
      "source": [
        "data = pd.read_csv('small_data.csv')"
      ],
      "execution_count": 0,
      "outputs": []
    },
    {
      "cell_type": "code",
      "metadata": {
        "id": "muMQC4LqpA6T",
        "colab_type": "code",
        "outputId": "29f825a2-3dca-4f5a-a977-4ff74655614f",
        "colab": {
          "base_uri": "https://localhost:8080/",
          "height": 513
        }
      },
      "source": [
        "data.head(5)"
      ],
      "execution_count": 5,
      "outputs": [
        {
          "output_type": "execute_result",
          "data": {
            "text/html": [
              "<div>\n",
              "<style scoped>\n",
              "    .dataframe tbody tr th:only-of-type {\n",
              "        vertical-align: middle;\n",
              "    }\n",
              "\n",
              "    .dataframe tbody tr th {\n",
              "        vertical-align: top;\n",
              "    }\n",
              "\n",
              "    .dataframe thead th {\n",
              "        text-align: right;\n",
              "    }\n",
              "</style>\n",
              "<table border=\"1\" class=\"dataframe\">\n",
              "  <thead>\n",
              "    <tr style=\"text-align: right;\">\n",
              "      <th></th>\n",
              "      <th>item_id</th>\n",
              "      <th>user_id</th>\n",
              "      <th>region</th>\n",
              "      <th>city</th>\n",
              "      <th>parent_category_name</th>\n",
              "      <th>category_name</th>\n",
              "      <th>param_1</th>\n",
              "      <th>param_2</th>\n",
              "      <th>param_3</th>\n",
              "      <th>title</th>\n",
              "      <th>description</th>\n",
              "      <th>price</th>\n",
              "      <th>item_seq_number</th>\n",
              "      <th>activation_date</th>\n",
              "      <th>user_type</th>\n",
              "      <th>image</th>\n",
              "      <th>image_top_1</th>\n",
              "    </tr>\n",
              "  </thead>\n",
              "  <tbody>\n",
              "    <tr>\n",
              "      <th>0</th>\n",
              "      <td>793dd3d5f0f0</td>\n",
              "      <td>9467e0341c0e</td>\n",
              "      <td>Алтайский край</td>\n",
              "      <td>Барнаул</td>\n",
              "      <td>Личные вещи</td>\n",
              "      <td>Детская одежда и обувь</td>\n",
              "      <td>Для девочек</td>\n",
              "      <td>Платья и юбки</td>\n",
              "      <td>146-152 см (10-12 лет)</td>\n",
              "      <td>Платье праздничное для девочки</td>\n",
              "      <td>Очень красивое торг</td>\n",
              "      <td>1500.0</td>\n",
              "      <td>106</td>\n",
              "      <td>2017-04-12</td>\n",
              "      <td>Company</td>\n",
              "      <td>ace7b2b7f066a6b6ff244f90d030c2c1a1bf118dd0e1ac...</td>\n",
              "      <td>573.0</td>\n",
              "    </tr>\n",
              "    <tr>\n",
              "      <th>1</th>\n",
              "      <td>f8c965d9b668</td>\n",
              "      <td>1905516660f5</td>\n",
              "      <td>Свердловская область</td>\n",
              "      <td>Каменск-Уральский</td>\n",
              "      <td>Для дома и дачи</td>\n",
              "      <td>Мебель и интерьер</td>\n",
              "      <td>Кровати, диваны и кресла</td>\n",
              "      <td>NaN</td>\n",
              "      <td>NaN</td>\n",
              "      <td>Кровать двухспальная</td>\n",
              "      <td>Двуспальная кровать 140х200 с металлическим ка...</td>\n",
              "      <td>5700.0</td>\n",
              "      <td>10</td>\n",
              "      <td>2017-04-15</td>\n",
              "      <td>Private</td>\n",
              "      <td>b38ef24dd5b876ed626bd98241e228e4e19e4160d33abe...</td>\n",
              "      <td>1439.0</td>\n",
              "    </tr>\n",
              "    <tr>\n",
              "      <th>2</th>\n",
              "      <td>2f153c00d561</td>\n",
              "      <td>b4dc4849fdd4</td>\n",
              "      <td>Самарская область</td>\n",
              "      <td>Самара</td>\n",
              "      <td>Бытовая электроника</td>\n",
              "      <td>Телефоны</td>\n",
              "      <td>Samsung</td>\n",
              "      <td>NaN</td>\n",
              "      <td>NaN</td>\n",
              "      <td>Samsung S3 mini gt-i8190</td>\n",
              "      <td>Продам телефон самсунг 2 ядра, 1 гиг оперативн...</td>\n",
              "      <td>1500.0</td>\n",
              "      <td>6</td>\n",
              "      <td>2017-04-12</td>\n",
              "      <td>Private</td>\n",
              "      <td>8530cc0c8d5dc6d212497dffd610d89b92a7db952934db...</td>\n",
              "      <td>2932.0</td>\n",
              "    </tr>\n",
              "    <tr>\n",
              "      <th>3</th>\n",
              "      <td>7fc5eea56915</td>\n",
              "      <td>02c14d39fdb4</td>\n",
              "      <td>Саратовская область</td>\n",
              "      <td>Саратов</td>\n",
              "      <td>Личные вещи</td>\n",
              "      <td>Одежда, обувь, аксессуары</td>\n",
              "      <td>Женская одежда</td>\n",
              "      <td>Платья и юбки</td>\n",
              "      <td>44–46 (M)</td>\n",
              "      <td>Красивое платье на одно плечо, в идеале размер м</td>\n",
              "      <td>Заказывала в Сша, прекрасное качество, в деле ...</td>\n",
              "      <td>1000.0</td>\n",
              "      <td>1280</td>\n",
              "      <td>2017-04-13</td>\n",
              "      <td>Company</td>\n",
              "      <td>eb21745ba276d3b00b05856a58fe719e31a82419c0221a...</td>\n",
              "      <td>386.0</td>\n",
              "    </tr>\n",
              "    <tr>\n",
              "      <th>4</th>\n",
              "      <td>b01000d29ea3</td>\n",
              "      <td>b17f14110367</td>\n",
              "      <td>Удмуртия</td>\n",
              "      <td>Ижевск</td>\n",
              "      <td>Личные вещи</td>\n",
              "      <td>Детская одежда и обувь</td>\n",
              "      <td>Для мальчиков</td>\n",
              "      <td>Шапки, варежки, шарфы</td>\n",
              "      <td>NaN</td>\n",
              "      <td>Стильная панама</td>\n",
              "      <td>Состояние новой. Размер до года- полтора.  По ...</td>\n",
              "      <td>150.0</td>\n",
              "      <td>145</td>\n",
              "      <td>2017-04-14</td>\n",
              "      <td>Company</td>\n",
              "      <td>5bf1001fa681b96f121ad8047c85e3747f3dac37830dd0...</td>\n",
              "      <td>209.0</td>\n",
              "    </tr>\n",
              "  </tbody>\n",
              "</table>\n",
              "</div>"
            ],
            "text/plain": [
              "        item_id  ... image_top_1\n",
              "0  793dd3d5f0f0  ...       573.0\n",
              "1  f8c965d9b668  ...      1439.0\n",
              "2  2f153c00d561  ...      2932.0\n",
              "3  7fc5eea56915  ...       386.0\n",
              "4  b01000d29ea3  ...       209.0\n",
              "\n",
              "[5 rows x 17 columns]"
            ]
          },
          "metadata": {
            "tags": []
          },
          "execution_count": 5
        }
      ]
    },
    {
      "cell_type": "code",
      "metadata": {
        "id": "JO1BF_bApEYZ",
        "colab_type": "code",
        "colab": {}
      },
      "source": [
        "data = data[['category_name', 'title']]"
      ],
      "execution_count": 0,
      "outputs": []
    },
    {
      "cell_type": "code",
      "metadata": {
        "id": "JUpztKAdpTRr",
        "colab_type": "code",
        "colab": {
          "base_uri": "https://localhost:8080/",
          "height": 34
        },
        "outputId": "36a67a93-af0f-4fcf-b206-cc58ec96e66c"
      },
      "source": [
        "data.shape"
      ],
      "execution_count": 7,
      "outputs": [
        {
          "output_type": "execute_result",
          "data": {
            "text/plain": [
              "(37339, 2)"
            ]
          },
          "metadata": {
            "tags": []
          },
          "execution_count": 7
        }
      ]
    },
    {
      "cell_type": "code",
      "metadata": {
        "id": "wZWi0G9ipWuI",
        "colab_type": "code",
        "colab": {}
      },
      "source": [
        "sample = data.sample(frac=0.1)"
      ],
      "execution_count": 0,
      "outputs": []
    },
    {
      "cell_type": "code",
      "metadata": {
        "id": "AG89Quw2pbBw",
        "colab_type": "code",
        "colab": {
          "base_uri": "https://localhost:8080/",
          "height": 34
        },
        "outputId": "e4a09dfc-8d9b-4469-e296-58a1c0427a47"
      },
      "source": [
        "sample.shape"
      ],
      "execution_count": 111,
      "outputs": [
        {
          "output_type": "execute_result",
          "data": {
            "text/plain": [
              "(3734, 2)"
            ]
          },
          "metadata": {
            "tags": []
          },
          "execution_count": 111
        }
      ]
    },
    {
      "cell_type": "code",
      "metadata": {
        "id": "Z42gZfMopeqx",
        "colab_type": "code",
        "colab": {}
      },
      "source": [
        "\n",
        "cv = CountVectorizer(max_features=500)\n",
        "X = cv.fit_transform(sample['title'])\n",
        "\n",
        "y = sample['category_name']"
      ],
      "execution_count": 0,
      "outputs": []
    },
    {
      "cell_type": "code",
      "metadata": {
        "id": "lfu_xm_VHzKo",
        "colab_type": "code",
        "colab": {
          "base_uri": "https://localhost:8080/",
          "height": 68
        },
        "outputId": "de6e3d10-1749-442c-be47-eac5ded8b34f"
      },
      "source": [
        "cluster = AffinityPropagation(damping=0.7, preference=-5, \n",
        "                              max_iter=400, verbose=2)\n",
        "cluster.fit(X)"
      ],
      "execution_count": 113,
      "outputs": [
        {
          "output_type": "stream",
          "text": [
            "Converged after 272 iterations.\n"
          ],
          "name": "stdout"
        },
        {
          "output_type": "execute_result",
          "data": {
            "text/plain": [
              "AffinityPropagation(affinity='euclidean', convergence_iter=15, copy=True,\n",
              "                    damping=0.7, max_iter=400, preference=-5, verbose=2)"
            ]
          },
          "metadata": {
            "tags": []
          },
          "execution_count": 113
        }
      ]
    },
    {
      "cell_type": "code",
      "metadata": {
        "id": "00gMMa6GpmUg",
        "colab_type": "code",
        "colab": {}
      },
      "source": [
        "labels = cluster.labels_"
      ],
      "execution_count": 0,
      "outputs": []
    },
    {
      "cell_type": "code",
      "metadata": {
        "id": "eY6JLCj_H0iq",
        "colab_type": "code",
        "colab": {
          "base_uri": "https://localhost:8080/",
          "height": 34
        },
        "outputId": "1db39658-77e6-4cd1-aa19-1d8ab90da9d5"
      },
      "source": [
        "n_clusters = len(set(labels))\n",
        "n_clusters"
      ],
      "execution_count": 115,
      "outputs": [
        {
          "output_type": "execute_result",
          "data": {
            "text/plain": [
              "224"
            ]
          },
          "metadata": {
            "tags": []
          },
          "execution_count": 115
        }
      ]
    },
    {
      "cell_type": "code",
      "metadata": {
        "id": "a6Q5oz5tH7wu",
        "colab_type": "code",
        "colab": {
          "base_uri": "https://localhost:8080/",
          "height": 34
        },
        "outputId": "5f3e8499-4aa5-4097-b7a1-3efcabc1f714"
      },
      "source": [
        "print(\"Silhouette Coefficient: %0.3f\"\n",
        "      % metrics.silhouette_score(X, labels))"
      ],
      "execution_count": 116,
      "outputs": [
        {
          "output_type": "stream",
          "text": [
            "Silhouette Coefficient: 0.360\n"
          ],
          "name": "stdout"
        }
      ]
    },
    {
      "cell_type": "code",
      "metadata": {
        "id": "gP19SL0qR-ge",
        "colab_type": "code",
        "colab": {
          "base_uri": "https://localhost:8080/",
          "height": 102
        },
        "outputId": "8be71836-c626-456e-eea8-e9c87b4ed771"
      },
      "source": [
        "# эти три метрки что-то вроде точности, полноты и ф-меры для кластеризации\n",
        "print(\"Homogeneity: %0.3f\" % metrics.homogeneity_score(y, labels)) # проверяет, что в кластере объекты одного класса\n",
        "print(\"Completeness: %0.3f\" % metrics.completeness_score(y, labels)) # проверяет, что объекты класса только в одном кластере\n",
        "print(\"V-measure: %0.3f\" % metrics.v_measure_score(y, labels)) # превращает обе метрики в одну \n",
        "\n",
        "print(\"Adjusted Rand Index: %0.3f\"\n",
        "      % metrics.adjusted_rand_score(y, labels))\n",
        "print(\"Adjusted Mutual Information: %0.3f\"\n",
        "      % metrics.adjusted_mutual_info_score(y, labels))"
      ],
      "execution_count": 117,
      "outputs": [
        {
          "output_type": "stream",
          "text": [
            "Homogeneity: 0.497\n",
            "Completeness: 0.380\n",
            "V-measure: 0.431\n",
            "Adjusted Rand Index: -0.007\n",
            "Adjusted Mutual Information: 0.303\n"
          ],
          "name": "stdout"
        }
      ]
    },
    {
      "cell_type": "code",
      "metadata": {
        "id": "xuWhsGEBTKjp",
        "colab_type": "code",
        "colab": {}
      },
      "source": [
        "sample['cluster'] = cluster.labels_"
      ],
      "execution_count": 0,
      "outputs": []
    },
    {
      "cell_type": "code",
      "metadata": {
        "id": "WZXJpLanlP3u",
        "colab_type": "code",
        "colab": {
          "base_uri": "https://localhost:8080/",
          "height": 204
        },
        "outputId": "477cee1f-238d-400d-d65c-b3aca4ce70e7"
      },
      "source": [
        "sample[sample.cluster==39].head(10)"
      ],
      "execution_count": 119,
      "outputs": [
        {
          "output_type": "execute_result",
          "data": {
            "text/html": [
              "<div>\n",
              "<style scoped>\n",
              "    .dataframe tbody tr th:only-of-type {\n",
              "        vertical-align: middle;\n",
              "    }\n",
              "\n",
              "    .dataframe tbody tr th {\n",
              "        vertical-align: top;\n",
              "    }\n",
              "\n",
              "    .dataframe thead th {\n",
              "        text-align: right;\n",
              "    }\n",
              "</style>\n",
              "<table border=\"1\" class=\"dataframe\">\n",
              "  <thead>\n",
              "    <tr style=\"text-align: right;\">\n",
              "      <th></th>\n",
              "      <th>category_name</th>\n",
              "      <th>title</th>\n",
              "      <th>cluster</th>\n",
              "    </tr>\n",
              "  </thead>\n",
              "  <tbody>\n",
              "    <tr>\n",
              "      <th>27691</th>\n",
              "      <td>Комнаты</td>\n",
              "      <td>Комната 29.6 м² в 2-к, 1/2 эт.</td>\n",
              "      <td>39</td>\n",
              "    </tr>\n",
              "    <tr>\n",
              "      <th>22099</th>\n",
              "      <td>Комнаты</td>\n",
              "      <td>Комната 13 м² в 1-к, 5/5 эт.</td>\n",
              "      <td>39</td>\n",
              "    </tr>\n",
              "    <tr>\n",
              "      <th>5473</th>\n",
              "      <td>Комнаты</td>\n",
              "      <td>Комната 13 м² в 4-к, 4/5 эт.</td>\n",
              "      <td>39</td>\n",
              "    </tr>\n",
              "    <tr>\n",
              "      <th>18523</th>\n",
              "      <td>Комнаты</td>\n",
              "      <td>Комната 13 м² в 1-к, 5/5 эт.</td>\n",
              "      <td>39</td>\n",
              "    </tr>\n",
              "    <tr>\n",
              "      <th>19147</th>\n",
              "      <td>Комнаты</td>\n",
              "      <td>Комната 13 м² в 1-к, 4/5 эт.</td>\n",
              "      <td>39</td>\n",
              "    </tr>\n",
              "  </tbody>\n",
              "</table>\n",
              "</div>"
            ],
            "text/plain": [
              "      category_name                           title  cluster\n",
              "27691       Комнаты  Комната 29.6 м² в 2-к, 1/2 эт.       39\n",
              "22099       Комнаты    Комната 13 м² в 1-к, 5/5 эт.       39\n",
              "5473        Комнаты    Комната 13 м² в 4-к, 4/5 эт.       39\n",
              "18523       Комнаты    Комната 13 м² в 1-к, 5/5 эт.       39\n",
              "19147       Комнаты    Комната 13 м² в 1-к, 4/5 эт.       39"
            ]
          },
          "metadata": {
            "tags": []
          },
          "execution_count": 119
        }
      ]
    },
    {
      "cell_type": "code",
      "metadata": {
        "id": "5MciAzoATQmG",
        "colab_type": "code",
        "colab": {
          "base_uri": "https://localhost:8080/",
          "height": 374
        },
        "outputId": "981b2b6d-779d-4158-b812-a71d106611ad"
      },
      "source": [
        "sample[sample.category_name=='Телефоны'].cluster.value_counts()"
      ],
      "execution_count": 120,
      "outputs": [
        {
          "output_type": "execute_result",
          "data": {
            "text/plain": [
              "0      43\n",
              "213    23\n",
              "90      8\n",
              "34      8\n",
              "112     8\n",
              "107     7\n",
              "68      7\n",
              "73      6\n",
              "158     5\n",
              "2       5\n",
              "176     5\n",
              "62      4\n",
              "19      4\n",
              "5       3\n",
              "193     2\n",
              "100     1\n",
              "96      1\n",
              "118     1\n",
              "140     1\n",
              "7       1\n",
              "Name: cluster, dtype: int64"
            ]
          },
          "metadata": {
            "tags": []
          },
          "execution_count": 120
        }
      ]
    },
    {
      "cell_type": "code",
      "metadata": {
        "id": "zruwycBJTSle",
        "colab_type": "code",
        "colab": {}
      },
      "source": [
        "#MS тоже не умеет работать с sparse матрицами"
      ],
      "execution_count": 0,
      "outputs": []
    },
    {
      "cell_type": "code",
      "metadata": {
        "id": "-IrGLt1aVVaC",
        "colab_type": "code",
        "colab": {}
      },
      "source": [
        "cv = CountVectorizer(max_features=2000)\n",
        "svd = TruncatedSVD(50)\n",
        "X = cv.fit_transform(sample['title'])\n",
        "X_svd = svd.fit_transform(X)\n",
        "\n",
        "y = sample['category_name']"
      ],
      "execution_count": 0,
      "outputs": []
    },
    {
      "cell_type": "code",
      "metadata": {
        "id": "v1dfLTAIV1ep",
        "colab_type": "code",
        "colab": {
          "base_uri": "https://localhost:8080/",
          "height": 163
        },
        "outputId": "18cb714a-9f80-424b-a1e2-d6ff818c3f88"
      },
      "source": [
        "cluster.estimate_bandwidth(X_svd)"
      ],
      "execution_count": 196,
      "outputs": [
        {
          "output_type": "error",
          "ename": "AttributeError",
          "evalue": "ignored",
          "traceback": [
            "\u001b[0;31m---------------------------------------------------------------------------\u001b[0m",
            "\u001b[0;31mAttributeError\u001b[0m                            Traceback (most recent call last)",
            "\u001b[0;32m<ipython-input-196-03c906451d10>\u001b[0m in \u001b[0;36m<module>\u001b[0;34m()\u001b[0m\n\u001b[0;32m----> 1\u001b[0;31m \u001b[0mcluster\u001b[0m\u001b[0;34m.\u001b[0m\u001b[0mestimate_bandwidth\u001b[0m\u001b[0;34m(\u001b[0m\u001b[0mX_svd\u001b[0m\u001b[0;34m)\u001b[0m\u001b[0;34m\u001b[0m\u001b[0;34m\u001b[0m\u001b[0m\n\u001b[0m",
            "\u001b[0;31mAttributeError\u001b[0m: 'MiniBatchKMeans' object has no attribute 'estimate_bandwidth'"
          ]
        }
      ]
    },
    {
      "cell_type": "code",
      "metadata": {
        "id": "t2di_pR_jiql",
        "colab_type": "code",
        "colab": {
          "base_uri": "https://localhost:8080/",
          "height": 51
        },
        "outputId": "51a8b4ac-500d-4bdd-885c-a69fa1c812fa"
      },
      "source": [
        "# cluster_all=False чтобы не записывать все объекты в кластеры\n",
        "cluster = MeanShift(cluster_all=False, bandwidth=0.5)\n",
        "cluster.fit(X_svd)"
      ],
      "execution_count": 197,
      "outputs": [
        {
          "output_type": "execute_result",
          "data": {
            "text/plain": [
              "MeanShift(bandwidth=0.5, bin_seeding=False, cluster_all=False, max_iter=300,\n",
              "          min_bin_freq=1, n_jobs=None, seeds=None)"
            ]
          },
          "metadata": {
            "tags": []
          },
          "execution_count": 197
        }
      ]
    },
    {
      "cell_type": "code",
      "metadata": {
        "id": "_clYOAIOkPc0",
        "colab_type": "code",
        "colab": {}
      },
      "source": [
        "sample = data.sample(frac=0.5)"
      ],
      "execution_count": 0,
      "outputs": []
    },
    {
      "cell_type": "code",
      "metadata": {
        "id": "_38psvIhmUd1",
        "colab_type": "code",
        "colab": {
          "base_uri": "https://localhost:8080/",
          "height": 34
        },
        "outputId": "eeb8203f-e61b-4eb6-af9f-173483eaad28"
      },
      "source": [
        "sample.shape"
      ],
      "execution_count": 199,
      "outputs": [
        {
          "output_type": "execute_result",
          "data": {
            "text/plain": [
              "(18670, 3)"
            ]
          },
          "metadata": {
            "tags": []
          },
          "execution_count": 199
        }
      ]
    },
    {
      "cell_type": "code",
      "metadata": {
        "id": "FqUkQgQSmWcV",
        "colab_type": "code",
        "colab": {}
      },
      "source": [
        "\n",
        "cv = CountVectorizer(max_features=500)\n",
        "svd = TruncatedSVD(50)\n",
        "X = cv.fit_transform(sample['title'])\n",
        "X_svd = svd.fit_transform(X)\n",
        "\n",
        "y = sample['category_name']"
      ],
      "execution_count": 0,
      "outputs": []
    },
    {
      "cell_type": "code",
      "metadata": {
        "id": "Udg_wRy4mY01",
        "colab_type": "code",
        "colab": {
          "base_uri": "https://localhost:8080/",
          "height": 34
        },
        "outputId": "a0b73823-f3e2-4fca-b3eb-dbd8bf35b645"
      },
      "source": [
        "len(y.unique())"
      ],
      "execution_count": 201,
      "outputs": [
        {
          "output_type": "execute_result",
          "data": {
            "text/plain": [
              "47"
            ]
          },
          "metadata": {
            "tags": []
          },
          "execution_count": 201
        }
      ]
    },
    {
      "cell_type": "code",
      "metadata": {
        "id": "WMEyQZQKmbU9",
        "colab_type": "code",
        "colab": {
          "base_uri": "https://localhost:8080/",
          "height": 34
        },
        "outputId": "a0b05f2b-59a9-4f93-8778-a99b29388d79"
      },
      "source": [
        "X.shape"
      ],
      "execution_count": 202,
      "outputs": [
        {
          "output_type": "execute_result",
          "data": {
            "text/plain": [
              "(18670, 500)"
            ]
          },
          "metadata": {
            "tags": []
          },
          "execution_count": 202
        }
      ]
    },
    {
      "cell_type": "code",
      "metadata": {
        "id": "ajBvRZfm7AZe",
        "colab_type": "code",
        "colab": {
          "base_uri": "https://localhost:8080/",
          "height": 34
        },
        "outputId": "f1dc639d-bc59-4bbc-8b05-c764525125d3"
      },
      "source": [
        "import sklearn\n",
        "sklearn.cluster.estimate_bandwidth(X_svd)"
      ],
      "execution_count": 203,
      "outputs": [
        {
          "output_type": "execute_result",
          "data": {
            "text/plain": [
              "0.7140792571536527"
            ]
          },
          "metadata": {
            "tags": []
          },
          "execution_count": 203
        }
      ]
    },
    {
      "cell_type": "code",
      "metadata": {
        "id": "IZMgN9jZ7KCX",
        "colab_type": "code",
        "colab": {
          "base_uri": "https://localhost:8080/",
          "height": 357
        },
        "outputId": "5c14c48a-6ed1-441a-abeb-f224265ae0e1"
      },
      "source": [
        "# cluster_all=False чтобы не записывать все объекты в кластеры\n",
        "cluster = MeanShift(cluster_all=False, bandwidth=0.5)\n",
        "cluster.fit(X_svd)"
      ],
      "execution_count": 204,
      "outputs": [
        {
          "output_type": "error",
          "ename": "KeyboardInterrupt",
          "evalue": "ignored",
          "traceback": [
            "\u001b[0;31m---------------------------------------------------------------------------\u001b[0m",
            "\u001b[0;31mKeyboardInterrupt\u001b[0m                         Traceback (most recent call last)",
            "\u001b[0;32m<ipython-input-204-5e42e7866074>\u001b[0m in \u001b[0;36m<module>\u001b[0;34m()\u001b[0m\n\u001b[1;32m      1\u001b[0m \u001b[0mcluster\u001b[0m \u001b[0;34m=\u001b[0m \u001b[0mMeanShift\u001b[0m\u001b[0;34m(\u001b[0m\u001b[0mcluster_all\u001b[0m\u001b[0;34m=\u001b[0m\u001b[0;32mFalse\u001b[0m\u001b[0;34m,\u001b[0m \u001b[0mbandwidth\u001b[0m\u001b[0;34m=\u001b[0m\u001b[0;36m0.5\u001b[0m\u001b[0;34m)\u001b[0m\u001b[0;34m\u001b[0m\u001b[0;34m\u001b[0m\u001b[0m\n\u001b[0;32m----> 2\u001b[0;31m \u001b[0mcluster\u001b[0m\u001b[0;34m.\u001b[0m\u001b[0mfit\u001b[0m\u001b[0;34m(\u001b[0m\u001b[0mX_svd\u001b[0m\u001b[0;34m)\u001b[0m\u001b[0;34m\u001b[0m\u001b[0;34m\u001b[0m\u001b[0m\n\u001b[0m",
            "\u001b[0;32m/usr/local/lib/python3.6/dist-packages/sklearn/cluster/_mean_shift.py\u001b[0m in \u001b[0;36mfit\u001b[0;34m(self, X, y)\u001b[0m\n\u001b[1;32m    393\u001b[0m         all_res = Parallel(n_jobs=self.n_jobs)(\n\u001b[1;32m    394\u001b[0m             \u001b[0mdelayed\u001b[0m\u001b[0;34m(\u001b[0m\u001b[0m_mean_shift_single_seed\u001b[0m\u001b[0;34m)\u001b[0m\u001b[0;34m\u001b[0m\u001b[0;34m\u001b[0m\u001b[0m\n\u001b[0;32m--> 395\u001b[0;31m             (seed, X, nbrs, self.max_iter) for seed in seeds)\n\u001b[0m\u001b[1;32m    396\u001b[0m         \u001b[0;31m# copy results in a dictionary\u001b[0m\u001b[0;34m\u001b[0m\u001b[0;34m\u001b[0m\u001b[0;34m\u001b[0m\u001b[0m\n\u001b[1;32m    397\u001b[0m         \u001b[0;32mfor\u001b[0m \u001b[0mi\u001b[0m \u001b[0;32min\u001b[0m \u001b[0mrange\u001b[0m\u001b[0;34m(\u001b[0m\u001b[0mlen\u001b[0m\u001b[0;34m(\u001b[0m\u001b[0mseeds\u001b[0m\u001b[0;34m)\u001b[0m\u001b[0;34m)\u001b[0m\u001b[0;34m:\u001b[0m\u001b[0;34m\u001b[0m\u001b[0;34m\u001b[0m\u001b[0m\n",
            "\u001b[0;32m/usr/local/lib/python3.6/dist-packages/joblib/parallel.py\u001b[0m in \u001b[0;36m__call__\u001b[0;34m(self, iterable)\u001b[0m\n\u001b[1;32m   1005\u001b[0m                 \u001b[0mself\u001b[0m\u001b[0;34m.\u001b[0m\u001b[0m_iterating\u001b[0m \u001b[0;34m=\u001b[0m \u001b[0mself\u001b[0m\u001b[0;34m.\u001b[0m\u001b[0m_original_iterator\u001b[0m \u001b[0;32mis\u001b[0m \u001b[0;32mnot\u001b[0m \u001b[0;32mNone\u001b[0m\u001b[0;34m\u001b[0m\u001b[0;34m\u001b[0m\u001b[0m\n\u001b[1;32m   1006\u001b[0m \u001b[0;34m\u001b[0m\u001b[0m\n\u001b[0;32m-> 1007\u001b[0;31m             \u001b[0;32mwhile\u001b[0m \u001b[0mself\u001b[0m\u001b[0;34m.\u001b[0m\u001b[0mdispatch_one_batch\u001b[0m\u001b[0;34m(\u001b[0m\u001b[0miterator\u001b[0m\u001b[0;34m)\u001b[0m\u001b[0;34m:\u001b[0m\u001b[0;34m\u001b[0m\u001b[0;34m\u001b[0m\u001b[0m\n\u001b[0m\u001b[1;32m   1008\u001b[0m                 \u001b[0;32mpass\u001b[0m\u001b[0;34m\u001b[0m\u001b[0;34m\u001b[0m\u001b[0m\n\u001b[1;32m   1009\u001b[0m \u001b[0;34m\u001b[0m\u001b[0m\n",
            "\u001b[0;32m/usr/local/lib/python3.6/dist-packages/joblib/parallel.py\u001b[0m in \u001b[0;36mdispatch_one_batch\u001b[0;34m(self, iterator)\u001b[0m\n\u001b[1;32m    833\u001b[0m                 \u001b[0;32mreturn\u001b[0m \u001b[0;32mFalse\u001b[0m\u001b[0;34m\u001b[0m\u001b[0;34m\u001b[0m\u001b[0m\n\u001b[1;32m    834\u001b[0m             \u001b[0;32melse\u001b[0m\u001b[0;34m:\u001b[0m\u001b[0;34m\u001b[0m\u001b[0;34m\u001b[0m\u001b[0m\n\u001b[0;32m--> 835\u001b[0;31m                 \u001b[0mself\u001b[0m\u001b[0;34m.\u001b[0m\u001b[0m_dispatch\u001b[0m\u001b[0;34m(\u001b[0m\u001b[0mtasks\u001b[0m\u001b[0;34m)\u001b[0m\u001b[0;34m\u001b[0m\u001b[0;34m\u001b[0m\u001b[0m\n\u001b[0m\u001b[1;32m    836\u001b[0m                 \u001b[0;32mreturn\u001b[0m \u001b[0;32mTrue\u001b[0m\u001b[0;34m\u001b[0m\u001b[0;34m\u001b[0m\u001b[0m\n\u001b[1;32m    837\u001b[0m \u001b[0;34m\u001b[0m\u001b[0m\n",
            "\u001b[0;32m/usr/local/lib/python3.6/dist-packages/joblib/parallel.py\u001b[0m in \u001b[0;36m_dispatch\u001b[0;34m(self, batch)\u001b[0m\n\u001b[1;32m    752\u001b[0m         \u001b[0;32mwith\u001b[0m \u001b[0mself\u001b[0m\u001b[0;34m.\u001b[0m\u001b[0m_lock\u001b[0m\u001b[0;34m:\u001b[0m\u001b[0;34m\u001b[0m\u001b[0;34m\u001b[0m\u001b[0m\n\u001b[1;32m    753\u001b[0m             \u001b[0mjob_idx\u001b[0m \u001b[0;34m=\u001b[0m \u001b[0mlen\u001b[0m\u001b[0;34m(\u001b[0m\u001b[0mself\u001b[0m\u001b[0;34m.\u001b[0m\u001b[0m_jobs\u001b[0m\u001b[0;34m)\u001b[0m\u001b[0;34m\u001b[0m\u001b[0;34m\u001b[0m\u001b[0m\n\u001b[0;32m--> 754\u001b[0;31m             \u001b[0mjob\u001b[0m \u001b[0;34m=\u001b[0m \u001b[0mself\u001b[0m\u001b[0;34m.\u001b[0m\u001b[0m_backend\u001b[0m\u001b[0;34m.\u001b[0m\u001b[0mapply_async\u001b[0m\u001b[0;34m(\u001b[0m\u001b[0mbatch\u001b[0m\u001b[0;34m,\u001b[0m \u001b[0mcallback\u001b[0m\u001b[0;34m=\u001b[0m\u001b[0mcb\u001b[0m\u001b[0;34m)\u001b[0m\u001b[0;34m\u001b[0m\u001b[0;34m\u001b[0m\u001b[0m\n\u001b[0m\u001b[1;32m    755\u001b[0m             \u001b[0;31m# A job can complete so quickly than its callback is\u001b[0m\u001b[0;34m\u001b[0m\u001b[0;34m\u001b[0m\u001b[0;34m\u001b[0m\u001b[0m\n\u001b[1;32m    756\u001b[0m             \u001b[0;31m# called before we get here, causing self._jobs to\u001b[0m\u001b[0;34m\u001b[0m\u001b[0;34m\u001b[0m\u001b[0;34m\u001b[0m\u001b[0m\n",
            "\u001b[0;32m/usr/local/lib/python3.6/dist-packages/joblib/_parallel_backends.py\u001b[0m in \u001b[0;36mapply_async\u001b[0;34m(self, func, callback)\u001b[0m\n\u001b[1;32m    207\u001b[0m     \u001b[0;32mdef\u001b[0m \u001b[0mapply_async\u001b[0m\u001b[0;34m(\u001b[0m\u001b[0mself\u001b[0m\u001b[0;34m,\u001b[0m \u001b[0mfunc\u001b[0m\u001b[0;34m,\u001b[0m \u001b[0mcallback\u001b[0m\u001b[0;34m=\u001b[0m\u001b[0;32mNone\u001b[0m\u001b[0;34m)\u001b[0m\u001b[0;34m:\u001b[0m\u001b[0;34m\u001b[0m\u001b[0;34m\u001b[0m\u001b[0m\n\u001b[1;32m    208\u001b[0m         \u001b[0;34m\"\"\"Schedule a func to be run\"\"\"\u001b[0m\u001b[0;34m\u001b[0m\u001b[0;34m\u001b[0m\u001b[0m\n\u001b[0;32m--> 209\u001b[0;31m         \u001b[0mresult\u001b[0m \u001b[0;34m=\u001b[0m \u001b[0mImmediateResult\u001b[0m\u001b[0;34m(\u001b[0m\u001b[0mfunc\u001b[0m\u001b[0;34m)\u001b[0m\u001b[0;34m\u001b[0m\u001b[0;34m\u001b[0m\u001b[0m\n\u001b[0m\u001b[1;32m    210\u001b[0m         \u001b[0;32mif\u001b[0m \u001b[0mcallback\u001b[0m\u001b[0;34m:\u001b[0m\u001b[0;34m\u001b[0m\u001b[0;34m\u001b[0m\u001b[0m\n\u001b[1;32m    211\u001b[0m             \u001b[0mcallback\u001b[0m\u001b[0;34m(\u001b[0m\u001b[0mresult\u001b[0m\u001b[0;34m)\u001b[0m\u001b[0;34m\u001b[0m\u001b[0;34m\u001b[0m\u001b[0m\n",
            "\u001b[0;32m/usr/local/lib/python3.6/dist-packages/joblib/_parallel_backends.py\u001b[0m in \u001b[0;36m__init__\u001b[0;34m(self, batch)\u001b[0m\n\u001b[1;32m    588\u001b[0m         \u001b[0;31m# Don't delay the application, to avoid keeping the input\u001b[0m\u001b[0;34m\u001b[0m\u001b[0;34m\u001b[0m\u001b[0;34m\u001b[0m\u001b[0m\n\u001b[1;32m    589\u001b[0m         \u001b[0;31m# arguments in memory\u001b[0m\u001b[0;34m\u001b[0m\u001b[0;34m\u001b[0m\u001b[0;34m\u001b[0m\u001b[0m\n\u001b[0;32m--> 590\u001b[0;31m         \u001b[0mself\u001b[0m\u001b[0;34m.\u001b[0m\u001b[0mresults\u001b[0m \u001b[0;34m=\u001b[0m \u001b[0mbatch\u001b[0m\u001b[0;34m(\u001b[0m\u001b[0;34m)\u001b[0m\u001b[0;34m\u001b[0m\u001b[0;34m\u001b[0m\u001b[0m\n\u001b[0m\u001b[1;32m    591\u001b[0m \u001b[0;34m\u001b[0m\u001b[0m\n\u001b[1;32m    592\u001b[0m     \u001b[0;32mdef\u001b[0m \u001b[0mget\u001b[0m\u001b[0;34m(\u001b[0m\u001b[0mself\u001b[0m\u001b[0;34m)\u001b[0m\u001b[0;34m:\u001b[0m\u001b[0;34m\u001b[0m\u001b[0;34m\u001b[0m\u001b[0m\n",
            "\u001b[0;32m/usr/local/lib/python3.6/dist-packages/joblib/parallel.py\u001b[0m in \u001b[0;36m__call__\u001b[0;34m(self)\u001b[0m\n\u001b[1;32m    254\u001b[0m         \u001b[0;32mwith\u001b[0m \u001b[0mparallel_backend\u001b[0m\u001b[0;34m(\u001b[0m\u001b[0mself\u001b[0m\u001b[0;34m.\u001b[0m\u001b[0m_backend\u001b[0m\u001b[0;34m,\u001b[0m \u001b[0mn_jobs\u001b[0m\u001b[0;34m=\u001b[0m\u001b[0mself\u001b[0m\u001b[0;34m.\u001b[0m\u001b[0m_n_jobs\u001b[0m\u001b[0;34m)\u001b[0m\u001b[0;34m:\u001b[0m\u001b[0;34m\u001b[0m\u001b[0;34m\u001b[0m\u001b[0m\n\u001b[1;32m    255\u001b[0m             return [func(*args, **kwargs)\n\u001b[0;32m--> 256\u001b[0;31m                     for func, args, kwargs in self.items]\n\u001b[0m\u001b[1;32m    257\u001b[0m \u001b[0;34m\u001b[0m\u001b[0m\n\u001b[1;32m    258\u001b[0m     \u001b[0;32mdef\u001b[0m \u001b[0m__len__\u001b[0m\u001b[0;34m(\u001b[0m\u001b[0mself\u001b[0m\u001b[0;34m)\u001b[0m\u001b[0;34m:\u001b[0m\u001b[0;34m\u001b[0m\u001b[0;34m\u001b[0m\u001b[0m\n",
            "\u001b[0;32m/usr/local/lib/python3.6/dist-packages/joblib/parallel.py\u001b[0m in \u001b[0;36m<listcomp>\u001b[0;34m(.0)\u001b[0m\n\u001b[1;32m    254\u001b[0m         \u001b[0;32mwith\u001b[0m \u001b[0mparallel_backend\u001b[0m\u001b[0;34m(\u001b[0m\u001b[0mself\u001b[0m\u001b[0;34m.\u001b[0m\u001b[0m_backend\u001b[0m\u001b[0;34m,\u001b[0m \u001b[0mn_jobs\u001b[0m\u001b[0;34m=\u001b[0m\u001b[0mself\u001b[0m\u001b[0;34m.\u001b[0m\u001b[0m_n_jobs\u001b[0m\u001b[0;34m)\u001b[0m\u001b[0;34m:\u001b[0m\u001b[0;34m\u001b[0m\u001b[0;34m\u001b[0m\u001b[0m\n\u001b[1;32m    255\u001b[0m             return [func(*args, **kwargs)\n\u001b[0;32m--> 256\u001b[0;31m                     for func, args, kwargs in self.items]\n\u001b[0m\u001b[1;32m    257\u001b[0m \u001b[0;34m\u001b[0m\u001b[0m\n\u001b[1;32m    258\u001b[0m     \u001b[0;32mdef\u001b[0m \u001b[0m__len__\u001b[0m\u001b[0;34m(\u001b[0m\u001b[0mself\u001b[0m\u001b[0;34m)\u001b[0m\u001b[0;34m:\u001b[0m\u001b[0;34m\u001b[0m\u001b[0;34m\u001b[0m\u001b[0m\n",
            "\u001b[0;32m/usr/local/lib/python3.6/dist-packages/sklearn/cluster/_mean_shift.py\u001b[0m in \u001b[0;36m_mean_shift_single_seed\u001b[0;34m(my_mean, X, nbrs, max_iter)\u001b[0m\n\u001b[1;32m     98\u001b[0m             \u001b[0;32mbreak\u001b[0m  \u001b[0;31m# Depending on seeding strategy this condition may occur\u001b[0m\u001b[0;34m\u001b[0m\u001b[0;34m\u001b[0m\u001b[0m\n\u001b[1;32m     99\u001b[0m         \u001b[0mmy_old_mean\u001b[0m \u001b[0;34m=\u001b[0m \u001b[0mmy_mean\u001b[0m  \u001b[0;31m# save the old mean\u001b[0m\u001b[0;34m\u001b[0m\u001b[0;34m\u001b[0m\u001b[0m\n\u001b[0;32m--> 100\u001b[0;31m         \u001b[0mmy_mean\u001b[0m \u001b[0;34m=\u001b[0m \u001b[0mnp\u001b[0m\u001b[0;34m.\u001b[0m\u001b[0mmean\u001b[0m\u001b[0;34m(\u001b[0m\u001b[0mpoints_within\u001b[0m\u001b[0;34m,\u001b[0m \u001b[0maxis\u001b[0m\u001b[0;34m=\u001b[0m\u001b[0;36m0\u001b[0m\u001b[0;34m)\u001b[0m\u001b[0;34m\u001b[0m\u001b[0;34m\u001b[0m\u001b[0m\n\u001b[0m\u001b[1;32m    101\u001b[0m         \u001b[0;31m# If converged or at max_iter, adds the cluster\u001b[0m\u001b[0;34m\u001b[0m\u001b[0;34m\u001b[0m\u001b[0;34m\u001b[0m\u001b[0m\n\u001b[1;32m    102\u001b[0m         if (np.linalg.norm(my_mean - my_old_mean) < stop_thresh or\n",
            "\u001b[0;32m<__array_function__ internals>\u001b[0m in \u001b[0;36mmean\u001b[0;34m(*args, **kwargs)\u001b[0m\n",
            "\u001b[0;32m/usr/local/lib/python3.6/dist-packages/numpy/core/fromnumeric.py\u001b[0m in \u001b[0;36mmean\u001b[0;34m(a, axis, dtype, out, keepdims)\u001b[0m\n\u001b[1;32m   3255\u001b[0m \u001b[0;34m\u001b[0m\u001b[0m\n\u001b[1;32m   3256\u001b[0m     return _methods._mean(a, axis=axis, dtype=dtype,\n\u001b[0;32m-> 3257\u001b[0;31m                           out=out, **kwargs)\n\u001b[0m\u001b[1;32m   3258\u001b[0m \u001b[0;34m\u001b[0m\u001b[0m\n\u001b[1;32m   3259\u001b[0m \u001b[0;34m\u001b[0m\u001b[0m\n",
            "\u001b[0;32m/usr/local/lib/python3.6/dist-packages/numpy/core/_methods.py\u001b[0m in \u001b[0;36m_mean\u001b[0;34m(a, axis, dtype, out, keepdims)\u001b[0m\n\u001b[1;32m    149\u001b[0m             \u001b[0mis_float16_result\u001b[0m \u001b[0;34m=\u001b[0m \u001b[0;32mTrue\u001b[0m\u001b[0;34m\u001b[0m\u001b[0;34m\u001b[0m\u001b[0m\n\u001b[1;32m    150\u001b[0m \u001b[0;34m\u001b[0m\u001b[0m\n\u001b[0;32m--> 151\u001b[0;31m     \u001b[0mret\u001b[0m \u001b[0;34m=\u001b[0m \u001b[0mumr_sum\u001b[0m\u001b[0;34m(\u001b[0m\u001b[0marr\u001b[0m\u001b[0;34m,\u001b[0m \u001b[0maxis\u001b[0m\u001b[0;34m,\u001b[0m \u001b[0mdtype\u001b[0m\u001b[0;34m,\u001b[0m \u001b[0mout\u001b[0m\u001b[0;34m,\u001b[0m \u001b[0mkeepdims\u001b[0m\u001b[0;34m)\u001b[0m\u001b[0;34m\u001b[0m\u001b[0;34m\u001b[0m\u001b[0m\n\u001b[0m\u001b[1;32m    152\u001b[0m     \u001b[0;32mif\u001b[0m \u001b[0misinstance\u001b[0m\u001b[0;34m(\u001b[0m\u001b[0mret\u001b[0m\u001b[0;34m,\u001b[0m \u001b[0mmu\u001b[0m\u001b[0;34m.\u001b[0m\u001b[0mndarray\u001b[0m\u001b[0;34m)\u001b[0m\u001b[0;34m:\u001b[0m\u001b[0;34m\u001b[0m\u001b[0;34m\u001b[0m\u001b[0m\n\u001b[1;32m    153\u001b[0m         ret = um.true_divide(\n",
            "\u001b[0;31mKeyboardInterrupt\u001b[0m: "
          ]
        }
      ]
    },
    {
      "cell_type": "code",
      "metadata": {
        "id": "9MQmeWoC7L2P",
        "colab_type": "code",
        "colab": {}
      },
      "source": [
        "len(set(cluster.labels_))"
      ],
      "execution_count": 0,
      "outputs": []
    },
    {
      "cell_type": "code",
      "metadata": {
        "id": "cP89cBIh7ToH",
        "colab_type": "code",
        "colab": {}
      },
      "source": [
        "labels = cluster.labels_"
      ],
      "execution_count": 0,
      "outputs": []
    },
    {
      "cell_type": "code",
      "metadata": {
        "id": "tbyHhtlz7U9H",
        "colab_type": "code",
        "colab": {}
      },
      "source": [
        "print(\"Silhouette Coefficient: %0.3f\"\n",
        "      % metrics.silhouette_score(X, labels))"
      ],
      "execution_count": 0,
      "outputs": []
    },
    {
      "cell_type": "code",
      "metadata": {
        "id": "lY7gLyKr7XRQ",
        "colab_type": "code",
        "colab": {}
      },
      "source": [
        "# эти три метрки что-то вроде точности, полноты и ф-меры для кластеризации\n",
        "print(\"Homogeneity: %0.3f\" % metrics.homogeneity_score(y, labels)) # проверяет, что в кластере объекты одного класса\n",
        "print(\"Completeness: %0.3f\" % metrics.completeness_score(y, labels)) # проверяет, что объекты класса только в одном кластере\n",
        "print(\"V-measure: %0.3f\" % metrics.v_measure_score(y, labels)) # превращает обе метрики в одну \n",
        "\n",
        "print(\"Adjusted Rand Index: %0.3f\"\n",
        "      % metrics.adjusted_rand_score(y, labels))\n",
        "print(\"Adjusted Mutual Information: %0.3f\"\n",
        "      % metrics.adjusted_mutual_info_score(y, labels))"
      ],
      "execution_count": 0,
      "outputs": []
    },
    {
      "cell_type": "code",
      "metadata": {
        "id": "XF0NIdPC7cCP",
        "colab_type": "code",
        "colab": {}
      },
      "source": [
        "sample['cluster'] = cluster.labels_"
      ],
      "execution_count": 0,
      "outputs": []
    },
    {
      "cell_type": "code",
      "metadata": {
        "id": "_dCXp0b97d-P",
        "colab_type": "code",
        "colab": {}
      },
      "source": [
        "sample[sample.cluster==2].head()"
      ],
      "execution_count": 0,
      "outputs": []
    },
    {
      "cell_type": "code",
      "metadata": {
        "id": "bas_pbig7fxQ",
        "colab_type": "code",
        "colab": {}
      },
      "source": [
        "sample = data.sample(frac=0.01)"
      ],
      "execution_count": 0,
      "outputs": []
    },
    {
      "cell_type": "code",
      "metadata": {
        "id": "BtuH-zRS7xHp",
        "colab_type": "code",
        "colab": {}
      },
      "source": [
        "sample.shape"
      ],
      "execution_count": 0,
      "outputs": []
    },
    {
      "cell_type": "code",
      "metadata": {
        "id": "uS6_0bG17y-B",
        "colab_type": "code",
        "colab": {}
      },
      "source": [
        "cv = CountVectorizer(max_features=500)\n",
        "svd = TruncatedSVD(50)\n",
        "X = cv.fit_transform(sample['title'])\n",
        "X_svd = svd.fit_transform(X)\n",
        "\n",
        "y = sample['category_name']"
      ],
      "execution_count": 0,
      "outputs": []
    },
    {
      "cell_type": "code",
      "metadata": {
        "id": "AP19utUC9Xmo",
        "colab_type": "code",
        "colab": {}
      },
      "source": [
        "cluster = SpectralClustering(n_clusters=47)\n",
        "cluster.fit(X_svd)"
      ],
      "execution_count": 0,
      "outputs": []
    },
    {
      "cell_type": "code",
      "metadata": {
        "id": "_Qn-syUW70-I",
        "colab_type": "code",
        "colab": {}
      },
      "source": [
        "X.shape"
      ],
      "execution_count": 0,
      "outputs": []
    },
    {
      "cell_type": "code",
      "metadata": {
        "id": "nOTFbZ9x72oR",
        "colab_type": "code",
        "colab": {}
      },
      "source": [
        "labels = cluster.labels_\n",
        "print(\"Silhouette Coefficient: %0.3f\"\n",
        "      % metrics.silhouette_score(X, labels))"
      ],
      "execution_count": 0,
      "outputs": []
    },
    {
      "cell_type": "code",
      "metadata": {
        "id": "q1e949I59LQv",
        "colab_type": "code",
        "colab": {}
      },
      "source": [
        "print(\"Homogeneity: %0.3f\" % metrics.homogeneity_score(y, labels)) # проверяет, что в кластере объекты одного класса\n",
        "print(\"Completeness: %0.3f\" % metrics.completeness_score(y, labels)) # проверяет, что объекты класса только в одном кластере\n",
        "print(\"V-measure: %0.3f\" % metrics.v_measure_score(y, labels)) # превращает обе метрики в одну \n",
        "\n",
        "print(\"Adjusted Rand Index: %0.3f\"\n",
        "      % metrics.adjusted_rand_score(y, labels))\n",
        "print(\"Adjusted Mutual Information: %0.3f\"\n",
        "      % metrics.adjusted_mutual_info_score(y, labels))"
      ],
      "execution_count": 0,
      "outputs": []
    },
    {
      "cell_type": "code",
      "metadata": {
        "id": "qaOMsxOp9mbI",
        "colab_type": "code",
        "colab": {}
      },
      "source": [
        "sample['cluster'] = cluster.labels_"
      ],
      "execution_count": 0,
      "outputs": []
    },
    {
      "cell_type": "code",
      "metadata": {
        "id": "zDYsNTgO9hFF",
        "colab_type": "code",
        "colab": {}
      },
      "source": [
        "sample[sample.cluster==17]"
      ],
      "execution_count": 0,
      "outputs": []
    },
    {
      "cell_type": "code",
      "metadata": {
        "id": "IGnwGdV29jqm",
        "colab_type": "code",
        "colab": {}
      },
      "source": [
        "sample = data.sample(frac=0.5)"
      ],
      "execution_count": 0,
      "outputs": []
    },
    {
      "cell_type": "code",
      "metadata": {
        "id": "87ayl8cJ-CTP",
        "colab_type": "code",
        "colab": {}
      },
      "source": [
        "sample.shape"
      ],
      "execution_count": 0,
      "outputs": []
    },
    {
      "cell_type": "code",
      "metadata": {
        "id": "7ph8sd17-FE_",
        "colab_type": "code",
        "colab": {}
      },
      "source": [
        "cv = CountVectorizer(max_features=2000)\n",
        "svd = TruncatedSVD(50)\n",
        "X = cv.fit_transform(sample['title'])\n",
        "X_svd = svd.fit_transform(X)\n",
        "\n",
        "y = sample['category_name']"
      ],
      "execution_count": 0,
      "outputs": []
    },
    {
      "cell_type": "code",
      "metadata": {
        "id": "4YtfxAFG-HE_",
        "colab_type": "code",
        "colab": {}
      },
      "source": [
        "X.shape"
      ],
      "execution_count": 0,
      "outputs": []
    },
    {
      "cell_type": "code",
      "metadata": {
        "id": "K09X8aSC-IsP",
        "colab_type": "code",
        "colab": {}
      },
      "source": [
        "\n",
        "# eps - задает максимальную для объединения дистанцию между объектами == размер окрестности\n",
        "# min_samples - минимальное количество объектов в классе\n",
        "\n",
        "cluster = DBSCAN(min_samples=10, eps=0.3) \n",
        "cluster.fit(X_svd)"
      ],
      "execution_count": 0,
      "outputs": []
    },
    {
      "cell_type": "code",
      "metadata": {
        "id": "KFmpBFuo-KmH",
        "colab_type": "code",
        "colab": {}
      },
      "source": [
        "sample['cluster'] = cluster.labels_"
      ],
      "execution_count": 0,
      "outputs": []
    },
    {
      "cell_type": "code",
      "metadata": {
        "id": "QSzPNNp0-WOf",
        "colab_type": "code",
        "colab": {}
      },
      "source": [
        "sample[sample.cluster==1].head()"
      ],
      "execution_count": 0,
      "outputs": []
    },
    {
      "cell_type": "code",
      "metadata": {
        "id": "Xw4r0SI7-ZM_",
        "colab_type": "code",
        "colab": {}
      },
      "source": [
        "sample = data"
      ],
      "execution_count": 0,
      "outputs": []
    },
    {
      "cell_type": "code",
      "metadata": {
        "id": "mwq0_CDX_yDX",
        "colab_type": "code",
        "colab": {}
      },
      "source": [
        "sample.shape"
      ],
      "execution_count": 0,
      "outputs": []
    },
    {
      "cell_type": "code",
      "metadata": {
        "id": "8O3xAF-i_zpj",
        "colab_type": "code",
        "colab": {}
      },
      "source": [
        "cv = CountVectorizer(max_features=500)\n",
        "svd = TruncatedSVD(50)\n",
        "X = cv.fit_transform(sample['title'])\n",
        "X_svd = svd.fit_transform(X)\n",
        "\n",
        "y = sample['category_name']"
      ],
      "execution_count": 0,
      "outputs": []
    },
    {
      "cell_type": "code",
      "metadata": {
        "id": "LKz_5v4OADJD",
        "colab_type": "code",
        "colab": {}
      },
      "source": [
        "X.shape"
      ],
      "execution_count": 0,
      "outputs": []
    },
    {
      "cell_type": "code",
      "metadata": {
        "id": "PEQAkerVAFRj",
        "colab_type": "code",
        "colab": {}
      },
      "source": [
        "\n",
        "cluster = KMeans(n_clusters=47)\n",
        "cluster.fit(X_svd)"
      ],
      "execution_count": 0,
      "outputs": []
    },
    {
      "cell_type": "code",
      "metadata": {
        "id": "dzjSdh1uAG7L",
        "colab_type": "code",
        "colab": {}
      },
      "source": [
        "labels = cluster.labels_"
      ],
      "execution_count": 0,
      "outputs": []
    },
    {
      "cell_type": "code",
      "metadata": {
        "id": "urdfeV0-Awrl",
        "colab_type": "code",
        "colab": {}
      },
      "source": [
        "print(\"Silhouette Coefficient: %0.3f\"\n",
        "      % metrics.silhouette_score(X[:10000], labels[:10000]))"
      ],
      "execution_count": 0,
      "outputs": []
    },
    {
      "cell_type": "code",
      "metadata": {
        "id": "BIsbDZiFAyw2",
        "colab_type": "code",
        "colab": {}
      },
      "source": [
        "print(\"Homogeneity: %0.3f\" % metrics.homogeneity_score(y, labels)) # проверяет, что в кластере объекты одного класса\n",
        "print(\"Completeness: %0.3f\" % metrics.completeness_score(y, labels)) # проверяет, что объекты класса только в одном кластере\n",
        "print(\"V-measure: %0.3f\" % metrics.v_measure_score(y, labels)) # превращает обе метрики в одну \n",
        "\n",
        "print(\"Adjusted Rand Index: %0.3f\"\n",
        "      % metrics.adjusted_rand_score(y, labels))\n",
        "print(\"Adjusted Mutual Information: %0.3f\"\n",
        "      % metrics.adjusted_mutual_info_score(y, labels))"
      ],
      "execution_count": 0,
      "outputs": []
    },
    {
      "cell_type": "code",
      "metadata": {
        "id": "ub-nbDiIA2Bu",
        "colab_type": "code",
        "colab": {}
      },
      "source": [
        "sample['cluster'] = cluster.labels_\n",
        "sample[sample.cluster==13].head()"
      ],
      "execution_count": 0,
      "outputs": []
    },
    {
      "cell_type": "code",
      "metadata": {
        "id": "hux9omOaA56m",
        "colab_type": "code",
        "colab": {}
      },
      "source": [
        "#MiniBatchKMeans"
      ],
      "execution_count": 0,
      "outputs": []
    },
    {
      "cell_type": "code",
      "metadata": {
        "id": "ZxmSP5USH8O-",
        "colab_type": "code",
        "colab": {}
      },
      "source": [
        "cv = CountVectorizer(max_features=5000)\n",
        "svd = TruncatedSVD(200)\n",
        "X = cv.fit_transform(data['title'])\n",
        "X_svd = svd.fit_transform(X)\n",
        "\n",
        "y = data['category_name']"
      ],
      "execution_count": 0,
      "outputs": []
    },
    {
      "cell_type": "code",
      "metadata": {
        "id": "vH8eGWx0IdG1",
        "colab_type": "code",
        "colab": {}
      },
      "source": [
        "X.shape"
      ],
      "execution_count": 0,
      "outputs": []
    },
    {
      "cell_type": "code",
      "metadata": {
        "id": "iXd91x60IgVF",
        "colab_type": "code",
        "colab": {}
      },
      "source": [
        "cluster = MiniBatchKMeans(n_clusters=1000, init_size=5000, verbose=1, max_iter=5000, \n",
        "                          max_no_improvement=100, reassignment_ratio=0.3)\n",
        "cluster.fit(X_svd)"
      ],
      "execution_count": 0,
      "outputs": []
    },
    {
      "cell_type": "code",
      "metadata": {
        "id": "ygqHth0dIim9",
        "colab_type": "code",
        "colab": {}
      },
      "source": [
        "\n",
        "labels = cluster.labels_"
      ],
      "execution_count": 0,
      "outputs": []
    },
    {
      "cell_type": "code",
      "metadata": {
        "id": "7nvHBWmAIlLc",
        "colab_type": "code",
        "colab": {}
      },
      "source": [
        "\n",
        "print(\"Silhouette Coefficient: %0.3f\"\n",
        "      % metrics.silhouette_score(X[:10000], labels[:10000]))"
      ],
      "execution_count": 0,
      "outputs": []
    },
    {
      "cell_type": "code",
      "metadata": {
        "id": "pe3oZI_JInP8",
        "colab_type": "code",
        "colab": {}
      },
      "source": [
        "# эти три метрки что-то вроде точности, полноты и ф-меры для кластеризации\n",
        "print(\"Homogeneity: %0.3f\" % metrics.homogeneity_score(y, labels)) # проверяет, что в кластере объекты одного класса\n",
        "print(\"Completeness: %0.3f\" % metrics.completeness_score(y, labels)) # проверяет, что объекты класса только в одном кластере\n",
        "print(\"V-measure: %0.3f\" % metrics.v_measure_score(y, labels)) # превращает обе метрики в одну \n",
        "\n",
        "print(\"Adjusted Rand Index: %0.3f\"\n",
        "      % metrics.adjusted_rand_score(y, labels))\n",
        "print(\"Adjusted Mutual Information: %0.3f\"\n",
        "      % metrics.adjusted_mutual_info_score(y, labels))"
      ],
      "execution_count": 0,
      "outputs": []
    },
    {
      "cell_type": "code",
      "metadata": {
        "id": "rI2lZZv2IpQ1",
        "colab_type": "code",
        "colab": {}
      },
      "source": [
        "sample['cluster'] = cluster.labels_\n",
        "sample[sample.cluster==13].head()"
      ],
      "execution_count": 0,
      "outputs": []
    },
    {
      "cell_type": "code",
      "metadata": {
        "id": "CjxDGRJQUIQD",
        "colab_type": "code",
        "colab": {}
      },
      "source": [
        "########################"
      ],
      "execution_count": 0,
      "outputs": []
    },
    {
      "cell_type": "code",
      "metadata": {
        "id": "oyRA0i35Krtp",
        "colab_type": "code",
        "colab": {}
      },
      "source": [
        "def cluster_metrics(cluster, sample, cluster_num, X, y):\n",
        "  labels = cluster.labels_\n",
        "\n",
        "  print(\"Silhouette Coefficient: %0.3f\"\n",
        "      % metrics.silhouette_score(X[:10000], labels[:10000]))\n",
        "  \n",
        "  # эти три метрки что-то вроде точности, полноты и ф-меры для кластеризации\n",
        "  print(\"Homogeneity: %0.3f\" % metrics.homogeneity_score(y, labels)) # проверяет, что в кластере объекты одного класса\n",
        "  print(\"Completeness: %0.3f\" % metrics.completeness_score(y, labels)) # проверяет, что объекты класса только в одном кластере\n",
        "  print(\"V-measure: %0.3f\" % metrics.v_measure_score(y, labels)) # превращает обе метрики в одну \n",
        "\n",
        "  print(\"Adjusted Rand Index: %0.3f\"\n",
        "        % metrics.adjusted_rand_score(y, labels))\n",
        "  print(\"Adjusted Mutual Information: %0.3f\"\n",
        "        % metrics.adjusted_mutual_info_score(y, labels))\n",
        "  \n",
        "  sample['cluster'] = cluster.labels_\n",
        "  print(sample[sample.cluster==cluster_num].head(7)) \n"
      ],
      "execution_count": 0,
      "outputs": []
    },
    {
      "cell_type": "code",
      "metadata": {
        "id": "y69XuDHgUISh",
        "colab_type": "code",
        "colab": {}
      },
      "source": [
        ""
      ],
      "execution_count": 0,
      "outputs": []
    },
    {
      "cell_type": "code",
      "metadata": {
        "id": "k_a63D25UIVR",
        "colab_type": "code",
        "colab": {}
      },
      "source": [
        "sample1 = data.sample(frac=0.01)\n"
      ],
      "execution_count": 0,
      "outputs": []
    },
    {
      "cell_type": "code",
      "metadata": {
        "id": "MY_2CISNLL2s",
        "colab_type": "code",
        "colab": {}
      },
      "source": [
        "cv = CountVectorizer(max_features=500)\n",
        "X_cv = cv.fit_transform(sample1['title'])\n",
        "\n",
        "y_cv = sample1['category_name']"
      ],
      "execution_count": 0,
      "outputs": []
    },
    {
      "cell_type": "code",
      "metadata": {
        "id": "NsBOFx7kRmbp",
        "colab_type": "code",
        "colab": {}
      },
      "source": [
        "tfidf = TfidfVectorizer(max_features=500)\n",
        "X_tf = tfidf.fit_transform(sample1['title'])\n",
        "y_tf = sample1['category_name']\n"
      ],
      "execution_count": 0,
      "outputs": []
    },
    {
      "cell_type": "code",
      "metadata": {
        "id": "RoMqc4x4UMLu",
        "colab_type": "code",
        "colab": {
          "base_uri": "https://localhost:8080/",
          "height": 34
        },
        "outputId": "cd1a4c49-f1bf-4576-df83-7d6e35bc315c"
      },
      "source": [
        "cluster1_cv = AffinityPropagation(damping=0.7, preference=-5, \n",
        "                              max_iter=400, verbose=2)\n",
        "cluster1_cv.fit(X_cv)\n",
        "labels1_cv = cluster1_cv.labels_"
      ],
      "execution_count": 62,
      "outputs": [
        {
          "output_type": "stream",
          "text": [
            "Converged after 173 iterations.\n"
          ],
          "name": "stdout"
        }
      ]
    },
    {
      "cell_type": "code",
      "metadata": {
        "id": "k8vExSizUtNc",
        "colab_type": "code",
        "colab": {
          "base_uri": "https://localhost:8080/",
          "height": 34
        },
        "outputId": "c53467ce-ab07-4a5b-ba97-93360c645861"
      },
      "source": [
        "cluster1_tf = AffinityPropagation(damping=0.7, preference=-5, \n",
        "                              max_iter=400, verbose=2)\n",
        "cluster1_tf.fit(X_tf)\n",
        "labels1_tf = cluster1_tf.labels_"
      ],
      "execution_count": 63,
      "outputs": [
        {
          "output_type": "stream",
          "text": [
            "Converged after 15 iterations.\n"
          ],
          "name": "stdout"
        }
      ]
    },
    {
      "cell_type": "code",
      "metadata": {
        "id": "I0BDIQZGX3uA",
        "colab_type": "code",
        "colab": {
          "base_uri": "https://localhost:8080/",
          "height": 153
        },
        "outputId": "242aa97b-2e39-47b2-eeb6-39d3ed2677ea"
      },
      "source": [
        "cluster_metrics(cluster1_cv, sample1, 11, X_cv, y_cv)"
      ],
      "execution_count": 64,
      "outputs": [
        {
          "output_type": "stream",
          "text": [
            "Silhouette Coefficient: 0.060\n",
            "Homogeneity: 0.229\n",
            "Completeness: 0.497\n",
            "V-measure: 0.313\n",
            "Adjusted Rand Index: -0.021\n",
            "Adjusted Mutual Information: 0.138\n",
            "          category_name                                  title  cluster\n",
            "7016  Мебель и интерьер  84 Диван книжка - Эко кожа.От фабрики       11\n"
          ],
          "name": "stdout"
        }
      ]
    },
    {
      "cell_type": "code",
      "metadata": {
        "id": "t4TeUYGcX3wV",
        "colab_type": "code",
        "colab": {
          "base_uri": "https://localhost:8080/",
          "height": 255
        },
        "outputId": "3e797064-f16f-437b-d408-9a3e0b4322be"
      },
      "source": [
        "cluster_metrics(cluster1_tf, sample1, 11, X_tf, y_tf)"
      ],
      "execution_count": 65,
      "outputs": [
        {
          "output_type": "stream",
          "text": [
            "Silhouette Coefficient: -0.021\n",
            "Homogeneity: 0.192\n",
            "Completeness: 0.227\n",
            "V-measure: 0.208\n",
            "Adjusted Rand Index: 0.004\n",
            "Adjusted Mutual Information: -0.002\n",
            "                    category_name                              title  cluster\n",
            "36516   Одежда, обувь, аксессуары      Блузка с шифоновыми вставками       11\n",
            "7331    Одежда, обувь, аксессуары                              Горка       11\n",
            "14041      Детская одежда и обувь                             Платье       11\n",
            "3330           Коллекционирование  Самовар электрический новый 99г/в       11\n",
            "23524  Товары для детей и игрушки                      Пелёнка-кокон       11\n",
            "27494        Дома, дачи, коттеджи      Дом 186 м² на участке 16 сот.       11\n",
            "27766      Детская одежда и обувь            Кроссовки с динозаврами       11\n"
          ],
          "name": "stdout"
        }
      ]
    },
    {
      "cell_type": "code",
      "metadata": {
        "id": "ksPeZdcfX3y2",
        "colab_type": "code",
        "colab": {}
      },
      "source": [
        ""
      ],
      "execution_count": 0,
      "outputs": []
    },
    {
      "cell_type": "code",
      "metadata": {
        "id": "SdoVSadDVVfL",
        "colab_type": "code",
        "colab": {}
      },
      "source": [
        "sample = data.sample(frac=0.01)\n",
        "cv = CountVectorizer(max_features=500)\n",
        "tfidf = TfidfVectorizer(max_features=500)\n",
        "svd = TruncatedSVD(50)\n",
        "nmf = NMF(50)\n",
        "X_cv = cv.fit_transform(sample['title'])\n",
        "X_cv = tfidf.fit_transform(sample['title'])\n",
        "y_cv = sample1['category_name']\n",
        "\n",
        "X_svd_cv = svd.fit_transform(X_cv)\n",
        "X_svd_tf = svd.fit_transform(X_tf)\n",
        "\n",
        "X_nmf_cv = svd.fit_transform(X_cv)\n",
        "X_nmf_tf = svd.fit_transform(X_tf)\n",
        "\n",
        "\n",
        "y = sample['category_name']"
      ],
      "execution_count": 0,
      "outputs": []
    },
    {
      "cell_type": "code",
      "metadata": {
        "id": "Q_0mcJI1gwYx",
        "colab_type": "code",
        "colab": {
          "base_uri": "https://localhost:8080/",
          "height": 68
        },
        "outputId": "4c94ab77-ee3e-4292-f204-41b699075c31"
      },
      "source": [
        "# cluster2 = AgglomerativeClustering(n_clusters=170)\n",
        "# cluster2_svd_cv.fit(X_svd_cv)\n",
        "\n",
        "cluster2_svd_cv = AgglomerativeClustering(n_clusters=170)\n",
        "cluster2_svd_cv.fit(X_svd_cv)\n",
        "\n",
        "cluster2_svd_tf = AgglomerativeClustering(n_clusters=170)\n",
        "cluster2_svd_tf.fit(X_svd_tf)\n",
        "\n",
        "cluster2_nmf_cv = AgglomerativeClustering(n_clusters=170)\n",
        "cluster2_nmf_cv.fit(X_nmf_cv)\n",
        "\n",
        "cluster2_nmf_tf = AgglomerativeClustering(n_clusters=170)\n",
        "cluster2_nmf_tf.fit(X_nmf_tf)\n"
      ],
      "execution_count": 72,
      "outputs": [
        {
          "output_type": "execute_result",
          "data": {
            "text/plain": [
              "AgglomerativeClustering(affinity='euclidean', compute_full_tree='auto',\n",
              "                        connectivity=None, distance_threshold=None,\n",
              "                        linkage='ward', memory=None, n_clusters=170)"
            ]
          },
          "metadata": {
            "tags": []
          },
          "execution_count": 72
        }
      ]
    },
    {
      "cell_type": "code",
      "metadata": {
        "id": "eRBIyqXDh0xH",
        "colab_type": "code",
        "colab": {
          "base_uri": "https://localhost:8080/",
          "height": 187
        },
        "outputId": "1673bb0b-2438-4953-b8e9-724d242ca6fb"
      },
      "source": [
        "cluster_metrics(cluster2_svd_cv, sample1, 11, X_svd_cv, y_cv)"
      ],
      "execution_count": 73,
      "outputs": [
        {
          "output_type": "stream",
          "text": [
            "Silhouette Coefficient: 0.385\n",
            "Homogeneity: 0.633\n",
            "Completeness: 0.436\n",
            "V-measure: 0.516\n",
            "Adjusted Rand Index: -0.005\n",
            "Adjusted Mutual Information: 0.004\n",
            "                 category_name             title  cluster\n",
            "20457     Гаражи и машиноместа       Куплю гараж       11\n",
            "11539  Грузовики и спецтехника             Krone       11\n",
            "14093               Автомобили  Opel Astra, 2010       11\n"
          ],
          "name": "stdout"
        }
      ]
    },
    {
      "cell_type": "code",
      "metadata": {
        "id": "r022mUmch_JJ",
        "colab_type": "code",
        "colab": {
          "base_uri": "https://localhost:8080/",
          "height": 170
        },
        "outputId": "75f5ab2d-c666-4291-f575-3cfb9d083da2"
      },
      "source": [
        "cluster_metrics(cluster2_svd_tf, sample1, 11, X_svd_tf, y_cv)"
      ],
      "execution_count": 74,
      "outputs": [
        {
          "output_type": "stream",
          "text": [
            "Silhouette Coefficient: 0.377\n",
            "Homogeneity: 0.717\n",
            "Completeness: 0.469\n",
            "V-measure: 0.567\n",
            "Adjusted Rand Index: 0.018\n",
            "Adjusted Mutual Information: 0.093\n",
            "                   category_name                     title  cluster\n",
            "6457   Одежда, обувь, аксессуары  Ярко-синее летнее платье       11\n",
            "13936     Детская одежда и обувь             Летнее платье       11\n"
          ],
          "name": "stdout"
        }
      ]
    },
    {
      "cell_type": "code",
      "metadata": {
        "id": "JIRS1U_Sh_QW",
        "colab_type": "code",
        "colab": {
          "base_uri": "https://localhost:8080/",
          "height": 187
        },
        "outputId": "2ac12515-7a2d-47b7-8945-2018e348c643"
      },
      "source": [
        "cluster_metrics(cluster2_nmf_cv, sample1, 11, X_nmf_cv, y_cv)"
      ],
      "execution_count": 75,
      "outputs": [
        {
          "output_type": "stream",
          "text": [
            "Silhouette Coefficient: 0.371\n",
            "Homogeneity: 0.630\n",
            "Completeness: 0.432\n",
            "V-measure: 0.512\n",
            "Adjusted Rand Index: -0.005\n",
            "Adjusted Mutual Information: -0.004\n",
            "                 category_name             title  cluster\n",
            "20457     Гаражи и машиноместа       Куплю гараж       11\n",
            "11539  Грузовики и спецтехника             Krone       11\n",
            "14093               Автомобили  Opel Astra, 2010       11\n"
          ],
          "name": "stdout"
        }
      ]
    },
    {
      "cell_type": "code",
      "metadata": {
        "id": "_PE6iUr1h_XL",
        "colab_type": "code",
        "colab": {
          "base_uri": "https://localhost:8080/",
          "height": 289
        },
        "outputId": "1c8250a3-4b9a-4068-d38b-9e834074628d"
      },
      "source": [
        "cluster_metrics(cluster2_nmf_tf, sample1, 11, X_nmf_tf, y_cv)"
      ],
      "execution_count": 76,
      "outputs": [
        {
          "output_type": "stream",
          "text": [
            "Silhouette Coefficient: 0.382\n",
            "Homogeneity: 0.719\n",
            "Completeness: 0.470\n",
            "V-measure: 0.569\n",
            "Adjusted Rand Index: 0.021\n",
            "Adjusted Mutual Information: 0.098\n",
            "                    category_name  ... cluster\n",
            "16754  Товары для детей и игрушки  ...      11\n",
            "624                      Телефоны  ...      11\n",
            "20435           Предложение услуг  ...      11\n",
            "4092                   Автомобили  ...      11\n",
            "15898          Красота и здоровье  ...      11\n",
            "18153                 Фототехника  ...      11\n",
            "8403           Красота и здоровье  ...      11\n",
            "\n",
            "[7 rows x 3 columns]\n"
          ],
          "name": "stdout"
        }
      ]
    },
    {
      "cell_type": "code",
      "metadata": {
        "id": "QFHLytedivJk",
        "colab_type": "code",
        "colab": {}
      },
      "source": [
        ""
      ],
      "execution_count": 0,
      "outputs": []
    }
  ]
}