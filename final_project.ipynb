{
  "nbformat": 4,
  "nbformat_minor": 0,
  "metadata": {
    "colab": {
      "name": "Untitled38.ipynb",
      "provenance": [],
      "authorship_tag": "ABX9TyNvQ3XPCNbN9L6PQvvxfGn4",
      "include_colab_link": true
    },
    "kernelspec": {
      "name": "python3",
      "display_name": "Python 3"
    }
  },
  "cells": [
    {
      "cell_type": "markdown",
      "metadata": {
        "id": "view-in-github",
        "colab_type": "text"
      },
      "source": [
        "<a href=\"https://colab.research.google.com/github/DmitryKutsev/ml_hw/blob/master/final_project.ipynb\" target=\"_parent\"><img src=\"https://colab.research.google.com/assets/colab-badge.svg\" alt=\"Open In Colab\"/></a>"
      ]
    },
    {
      "cell_type": "code",
      "metadata": {
        "id": "3mcnl3d4t16E",
        "colab_type": "code",
        "colab": {
          "base_uri": "https://localhost:8080/",
          "height": 122
        },
        "outputId": "46b70056-3ac5-45df-aa0b-9d68dd5503d1"
      },
      "source": [
        "from google.colab import drive\n",
        "drive.mount('/content/drive')"
      ],
      "execution_count": 1,
      "outputs": [
        {
          "output_type": "stream",
          "text": [
            "Go to this URL in a browser: https://accounts.google.com/o/oauth2/auth?client_id=947318989803-6bn6qk8qdgf4n4g3pfee6491hc0brc4i.apps.googleusercontent.com&redirect_uri=urn%3aietf%3awg%3aoauth%3a2.0%3aoob&response_type=code&scope=email%20https%3a%2f%2fwww.googleapis.com%2fauth%2fdocs.test%20https%3a%2f%2fwww.googleapis.com%2fauth%2fdrive%20https%3a%2f%2fwww.googleapis.com%2fauth%2fdrive.photos.readonly%20https%3a%2f%2fwww.googleapis.com%2fauth%2fpeopleapi.readonly\n",
            "\n",
            "Enter your authorization code:\n",
            "··········\n",
            "Mounted at /content/drive\n"
          ],
          "name": "stdout"
        }
      ]
    },
    {
      "cell_type": "code",
      "metadata": {
        "id": "ktBc033kvgpn",
        "colab_type": "code",
        "colab": {
          "base_uri": "https://localhost:8080/",
          "height": 51
        },
        "outputId": "0d8b88a3-4439-4cb7-8422-6096a91c442a"
      },
      "source": [
        "!unzip '/content/drive/My Drive/jigsaw-toxic-comment-train.csv.zip'"
      ],
      "execution_count": 123,
      "outputs": [
        {
          "output_type": "stream",
          "text": [
            "Archive:  /content/drive/My Drive/jigsaw-toxic-comment-train.csv.zip\n",
            "replace jigsaw-toxic-comment-train.csv? [y]es, [n]o, [A]ll, [N]one, [r]ename: n\n"
          ],
          "name": "stdout"
        }
      ]
    },
    {
      "cell_type": "code",
      "metadata": {
        "id": "49azZAoIwKS5",
        "colab_type": "code",
        "colab": {}
      },
      "source": [
        "import pandas as pd\n",
        "import numpy as np\n",
        "import matplotlib.pyplot as plt \n",
        "from statsmodels.graphics.mosaicplot import mosaic\n",
        "import statistics \n",
        "import re\n",
        "from nltk.tokenize import word_tokenize\n",
        "from nltk.corpus import stopwords\n",
        "import string\n",
        "from collections import Counter\n",
        "import seaborn as sns"
      ],
      "execution_count": 176,
      "outputs": []
    },
    {
      "cell_type": "code",
      "metadata": {
        "id": "p01Q0kQYTjgi",
        "colab_type": "code",
        "colab": {
          "base_uri": "https://localhost:8080/",
          "height": 51
        },
        "outputId": "b356c303-36c8-4ebd-ffbd-3de031e1f503"
      },
      "source": [
        "import nltk\n",
        "nltk.download('stopwords')\n",
        "from nltk.corpus import stopwords\n",
        "#print(stopwords.words('english'))\n"
      ],
      "execution_count": 125,
      "outputs": [
        {
          "output_type": "stream",
          "text": [
            "[nltk_data] Downloading package stopwords to /root/nltk_data...\n",
            "[nltk_data]   Package stopwords is already up-to-date!\n"
          ],
          "name": "stdout"
        }
      ]
    },
    {
      "cell_type": "code",
      "metadata": {
        "id": "wyK6JPXbSPYI",
        "colab_type": "code",
        "colab": {}
      },
      "source": [
        "my_train = pd.read_csv('jigsaw-toxic-comment-train.csv')"
      ],
      "execution_count": 126,
      "outputs": []
    },
    {
      "cell_type": "code",
      "metadata": {
        "id": "32Wuig06p16B",
        "colab_type": "code",
        "colab": {
          "base_uri": "https://localhost:8080/",
          "height": 272
        },
        "outputId": "02f0c9d8-b924-41a2-c40d-99099b02eae3"
      },
      "source": [
        "my_train.info()"
      ],
      "execution_count": 166,
      "outputs": [
        {
          "output_type": "stream",
          "text": [
            "<class 'pandas.core.frame.DataFrame'>\n",
            "RangeIndex: 223549 entries, 0 to 223548\n",
            "Data columns (total 8 columns):\n",
            " #   Column         Non-Null Count   Dtype \n",
            "---  ------         --------------   ----- \n",
            " 0   id             223549 non-null  object\n",
            " 1   comment_text   223549 non-null  object\n",
            " 2   toxic          223549 non-null  int64 \n",
            " 3   severe_toxic   223549 non-null  int64 \n",
            " 4   obscene        223549 non-null  int64 \n",
            " 5   threat         223549 non-null  int64 \n",
            " 6   insult         223549 non-null  int64 \n",
            " 7   identity_hate  223549 non-null  int64 \n",
            "dtypes: int64(6), object(2)\n",
            "memory usage: 13.6+ MB\n"
          ],
          "name": "stdout"
        }
      ]
    },
    {
      "cell_type": "code",
      "metadata": {
        "id": "ML57pGG1T3d1",
        "colab_type": "code",
        "colab": {
          "base_uri": "https://localhost:8080/",
          "height": 736
        },
        "outputId": "7f8d565a-0acf-4efe-a3a5-9a8f5ad15dd2"
      },
      "source": [
        "pd.set_option('display.max_rows', None)\n",
        "pd.set_option('display.max_columns', None)\n",
        "pd.set_option('display.width', None)\n",
        "pd.set_option('display.max_colwidth', -1)\n",
        "my_train.head(10)"
      ],
      "execution_count": 127,
      "outputs": [
        {
          "output_type": "stream",
          "text": [
            "/usr/local/lib/python3.6/dist-packages/ipykernel_launcher.py:4: FutureWarning: Passing a negative integer is deprecated in version 1.0 and will not be supported in future version. Instead, use None to not limit the column width.\n",
            "  after removing the cwd from sys.path.\n"
          ],
          "name": "stderr"
        },
        {
          "output_type": "execute_result",
          "data": {
            "text/html": [
              "<div>\n",
              "<style scoped>\n",
              "    .dataframe tbody tr th:only-of-type {\n",
              "        vertical-align: middle;\n",
              "    }\n",
              "\n",
              "    .dataframe tbody tr th {\n",
              "        vertical-align: top;\n",
              "    }\n",
              "\n",
              "    .dataframe thead th {\n",
              "        text-align: right;\n",
              "    }\n",
              "</style>\n",
              "<table border=\"1\" class=\"dataframe\">\n",
              "  <thead>\n",
              "    <tr style=\"text-align: right;\">\n",
              "      <th></th>\n",
              "      <th>id</th>\n",
              "      <th>comment_text</th>\n",
              "      <th>toxic</th>\n",
              "      <th>severe_toxic</th>\n",
              "      <th>obscene</th>\n",
              "      <th>threat</th>\n",
              "      <th>insult</th>\n",
              "      <th>identity_hate</th>\n",
              "    </tr>\n",
              "  </thead>\n",
              "  <tbody>\n",
              "    <tr>\n",
              "      <th>0</th>\n",
              "      <td>0000997932d777bf</td>\n",
              "      <td>Explanation\\nWhy the edits made under my username Hardcore Metallica Fan were reverted? They weren't vandalisms, just closure on some GAs after I voted at New York Dolls FAC. And please don't remove the template from the talk page since I'm retired now.89.205.38.27</td>\n",
              "      <td>0</td>\n",
              "      <td>0</td>\n",
              "      <td>0</td>\n",
              "      <td>0</td>\n",
              "      <td>0</td>\n",
              "      <td>0</td>\n",
              "    </tr>\n",
              "    <tr>\n",
              "      <th>1</th>\n",
              "      <td>000103f0d9cfb60f</td>\n",
              "      <td>D'aww! He matches this background colour I'm seemingly stuck with. Thanks.  (talk) 21:51, January 11, 2016 (UTC)</td>\n",
              "      <td>0</td>\n",
              "      <td>0</td>\n",
              "      <td>0</td>\n",
              "      <td>0</td>\n",
              "      <td>0</td>\n",
              "      <td>0</td>\n",
              "    </tr>\n",
              "    <tr>\n",
              "      <th>2</th>\n",
              "      <td>000113f07ec002fd</td>\n",
              "      <td>Hey man, I'm really not trying to edit war. It's just that this guy is constantly removing relevant information and talking to me through edits instead of my talk page. He seems to care more about the formatting than the actual info.</td>\n",
              "      <td>0</td>\n",
              "      <td>0</td>\n",
              "      <td>0</td>\n",
              "      <td>0</td>\n",
              "      <td>0</td>\n",
              "      <td>0</td>\n",
              "    </tr>\n",
              "    <tr>\n",
              "      <th>3</th>\n",
              "      <td>0001b41b1c6bb37e</td>\n",
              "      <td>\"\\nMore\\nI can't make any real suggestions on improvement - I wondered if the section statistics should be later on, or a subsection of \"\"types of accidents\"\"  -I think the references may need tidying so that they are all in the exact same format ie date format etc. I can do that later on, if no-one else does first - if you have any preferences for formatting style on references or want to do it yourself please let me know.\\n\\nThere appears to be a backlog on articles for review so I guess there may be a delay until a reviewer turns up. It's listed in the relevant form eg Wikipedia:Good_article_nominations#Transport  \"</td>\n",
              "      <td>0</td>\n",
              "      <td>0</td>\n",
              "      <td>0</td>\n",
              "      <td>0</td>\n",
              "      <td>0</td>\n",
              "      <td>0</td>\n",
              "    </tr>\n",
              "    <tr>\n",
              "      <th>4</th>\n",
              "      <td>0001d958c54c6e35</td>\n",
              "      <td>You, sir, are my hero. Any chance you remember what page that's on?</td>\n",
              "      <td>0</td>\n",
              "      <td>0</td>\n",
              "      <td>0</td>\n",
              "      <td>0</td>\n",
              "      <td>0</td>\n",
              "      <td>0</td>\n",
              "    </tr>\n",
              "    <tr>\n",
              "      <th>5</th>\n",
              "      <td>00025465d4725e87</td>\n",
              "      <td>\"\\n\\nCongratulations from me as well, use the tools well.  · talk \"</td>\n",
              "      <td>0</td>\n",
              "      <td>0</td>\n",
              "      <td>0</td>\n",
              "      <td>0</td>\n",
              "      <td>0</td>\n",
              "      <td>0</td>\n",
              "    </tr>\n",
              "    <tr>\n",
              "      <th>6</th>\n",
              "      <td>0002bcb3da6cb337</td>\n",
              "      <td>COCKSUCKER BEFORE YOU PISS AROUND ON MY WORK</td>\n",
              "      <td>1</td>\n",
              "      <td>1</td>\n",
              "      <td>1</td>\n",
              "      <td>0</td>\n",
              "      <td>1</td>\n",
              "      <td>0</td>\n",
              "    </tr>\n",
              "    <tr>\n",
              "      <th>7</th>\n",
              "      <td>00031b1e95af7921</td>\n",
              "      <td>Your vandalism to the Matt Shirvington article has been reverted.  Please don't do it again, or you will be banned.</td>\n",
              "      <td>0</td>\n",
              "      <td>0</td>\n",
              "      <td>0</td>\n",
              "      <td>0</td>\n",
              "      <td>0</td>\n",
              "      <td>0</td>\n",
              "    </tr>\n",
              "    <tr>\n",
              "      <th>8</th>\n",
              "      <td>00037261f536c51d</td>\n",
              "      <td>Sorry if the word 'nonsense' was offensive to you. Anyway, I'm not intending to write anything in the article(wow they would jump on me for vandalism), I'm merely requesting that it be more encyclopedic so one can use it for school as a reference. I have been to the selective breeding page but it's almost a stub. It points to 'animal breeding' which is a short messy article that gives you no info. There must be someone around with expertise in eugenics? 93.161.107.169</td>\n",
              "      <td>0</td>\n",
              "      <td>0</td>\n",
              "      <td>0</td>\n",
              "      <td>0</td>\n",
              "      <td>0</td>\n",
              "      <td>0</td>\n",
              "    </tr>\n",
              "    <tr>\n",
              "      <th>9</th>\n",
              "      <td>00040093b2687caa</td>\n",
              "      <td>alignment on this subject and which are contrary to those of DuLithgow</td>\n",
              "      <td>0</td>\n",
              "      <td>0</td>\n",
              "      <td>0</td>\n",
              "      <td>0</td>\n",
              "      <td>0</td>\n",
              "      <td>0</td>\n",
              "    </tr>\n",
              "  </tbody>\n",
              "</table>\n",
              "</div>"
            ],
            "text/plain": [
              "                 id  \\\n",
              "0  0000997932d777bf   \n",
              "1  000103f0d9cfb60f   \n",
              "2  000113f07ec002fd   \n",
              "3  0001b41b1c6bb37e   \n",
              "4  0001d958c54c6e35   \n",
              "5  00025465d4725e87   \n",
              "6  0002bcb3da6cb337   \n",
              "7  00031b1e95af7921   \n",
              "8  00037261f536c51d   \n",
              "9  00040093b2687caa   \n",
              "\n",
              "                                                                                                                                                                                                                                                                                                                                                                                                                                                                                                                                                                                                                                         comment_text  \\\n",
              "0  Explanation\\nWhy the edits made under my username Hardcore Metallica Fan were reverted? They weren't vandalisms, just closure on some GAs after I voted at New York Dolls FAC. And please don't remove the template from the talk page since I'm retired now.89.205.38.27                                                                                                                                                                                                                                                                                                                                                                            \n",
              "1  D'aww! He matches this background colour I'm seemingly stuck with. Thanks.  (talk) 21:51, January 11, 2016 (UTC)                                                                                                                                                                                                                                                                                                                                                                                                                                                                                                                                     \n",
              "2  Hey man, I'm really not trying to edit war. It's just that this guy is constantly removing relevant information and talking to me through edits instead of my talk page. He seems to care more about the formatting than the actual info.                                                                                                                                                                                                                                                                                                                                                                                                            \n",
              "3  \"\\nMore\\nI can't make any real suggestions on improvement - I wondered if the section statistics should be later on, or a subsection of \"\"types of accidents\"\"  -I think the references may need tidying so that they are all in the exact same format ie date format etc. I can do that later on, if no-one else does first - if you have any preferences for formatting style on references or want to do it yourself please let me know.\\n\\nThere appears to be a backlog on articles for review so I guess there may be a delay until a reviewer turns up. It's listed in the relevant form eg Wikipedia:Good_article_nominations#Transport  \"   \n",
              "4  You, sir, are my hero. Any chance you remember what page that's on?                                                                                                                                                                                                                                                                                                                                                                                                                                                                                                                                                                                  \n",
              "5  \"\\n\\nCongratulations from me as well, use the tools well.  · talk \"                                                                                                                                                                                                                                                                                                                                                                                                                                                                                                                                                                                  \n",
              "6  COCKSUCKER BEFORE YOU PISS AROUND ON MY WORK                                                                                                                                                                                                                                                                                                                                                                                                                                                                                                                                                                                                         \n",
              "7  Your vandalism to the Matt Shirvington article has been reverted.  Please don't do it again, or you will be banned.                                                                                                                                                                                                                                                                                                                                                                                                                                                                                                                                  \n",
              "8  Sorry if the word 'nonsense' was offensive to you. Anyway, I'm not intending to write anything in the article(wow they would jump on me for vandalism), I'm merely requesting that it be more encyclopedic so one can use it for school as a reference. I have been to the selective breeding page but it's almost a stub. It points to 'animal breeding' which is a short messy article that gives you no info. There must be someone around with expertise in eugenics? 93.161.107.169                                                                                                                                                             \n",
              "9  alignment on this subject and which are contrary to those of DuLithgow                                                                                                                                                                                                                                                                                                                                                                                                                                                                                                                                                                               \n",
              "\n",
              "   toxic  severe_toxic  obscene  threat  insult  identity_hate  \n",
              "0  0      0             0        0       0       0              \n",
              "1  0      0             0        0       0       0              \n",
              "2  0      0             0        0       0       0              \n",
              "3  0      0             0        0       0       0              \n",
              "4  0      0             0        0       0       0              \n",
              "5  0      0             0        0       0       0              \n",
              "6  1      1             1        0       1       0              \n",
              "7  0      0             0        0       0       0              \n",
              "8  0      0             0        0       0       0              \n",
              "9  0      0             0        0       0       0              "
            ]
          },
          "metadata": {
            "tags": []
          },
          "execution_count": 127
        }
      ]
    },
    {
      "cell_type": "markdown",
      "metadata": {
        "id": "m7JFUmTqu6Nh",
        "colab_type": "text"
      },
      "source": [
        "### **Анализ всех дополнительных колонок тональности (как проявляется тот или иной тип токсичности, как в данных это представлено, какие есть пограничные случаи)**"
      ]
    },
    {
      "cell_type": "code",
      "metadata": {
        "id": "5pAWFlW2wR0J",
        "colab_type": "code",
        "colab": {
          "base_uri": "https://localhost:8080/",
          "height": 34
        },
        "outputId": "4f7562e2-cd07-4897-84a9-19a07894a730"
      },
      "source": [
        "len(my_train.loc[my_train['toxic']==1])"
      ],
      "execution_count": 128,
      "outputs": [
        {
          "output_type": "execute_result",
          "data": {
            "text/plain": [
              "21384"
            ]
          },
          "metadata": {
            "tags": []
          },
          "execution_count": 128
        }
      ]
    },
    {
      "cell_type": "code",
      "metadata": {
        "id": "ZXeHxzTh8vS6",
        "colab_type": "code",
        "colab": {
          "base_uri": "https://localhost:8080/",
          "height": 119
        },
        "outputId": "5dca08cf-9f5f-4515-9b02-3281070993ea"
      },
      "source": [
        "def max_tox_len(toxic_type):\n",
        "  toxic_type_df = my_train.loc[my_train[toxic_type] == 1]\n",
        "  len_list = [len(sent) for sent in toxic_type_df['comment_text']]\n",
        "  return max(len_list)\n",
        "\n",
        "\n",
        "print('toxic', max_tox_len('toxic'))\n",
        "print('severe_toxic', max_tox_len('severe_toxic'))\n",
        "print('obscene', max_tox_len('obscene'))\n",
        "print('threat', max_tox_len('threat'))\n",
        "print('insult', max_tox_len('insult'))\n",
        "print('identity_hate', max_tox_len('identity_hate'))\n"
      ],
      "execution_count": 129,
      "outputs": [
        {
          "output_type": "stream",
          "text": [
            "toxic 5000\n",
            "severe_toxic 5000\n",
            "obscene 5000\n",
            "threat 5000\n",
            "insult 5000\n",
            "identity_hate 5000\n"
          ],
          "name": "stdout"
        }
      ]
    },
    {
      "cell_type": "code",
      "metadata": {
        "id": "HicLvCes-oBO",
        "colab_type": "code",
        "colab": {
          "base_uri": "https://localhost:8080/",
          "height": 119
        },
        "outputId": "506f6799-048f-4997-f48b-64c83fcb5fd4"
      },
      "source": [
        "def max_none_tox_len(none_toxic_type):\n",
        "  toxic_type_df = my_train.loc[my_train[none_toxic_type] == 0]\n",
        "  len_list = [len(sent) for sent in toxic_type_df['comment_text']]\n",
        "  return max(len_list)\n",
        "\n",
        "\n",
        "print('toxic', max_none_tox_len('toxic'))\n",
        "print('severe_toxic', max_none_tox_len('severe_toxic'))\n",
        "print('obscene', max_none_tox_len('obscene'))\n",
        "print('threat', max_none_tox_len('threat'))\n",
        "print('insult', max_none_tox_len('insult'))\n",
        "print('identity_hate', max_none_tox_len('identity_hate'))"
      ],
      "execution_count": 130,
      "outputs": [
        {
          "output_type": "stream",
          "text": [
            "toxic 5000\n",
            "severe_toxic 5000\n",
            "obscene 5000\n",
            "threat 5000\n",
            "insult 5000\n",
            "identity_hate 5000\n"
          ],
          "name": "stdout"
        }
      ]
    },
    {
      "cell_type": "code",
      "metadata": {
        "id": "T5sZjo68YfTJ",
        "colab_type": "code",
        "colab": {}
      },
      "source": [
        "#Получается совсем не информативно, попробую измерить среднее"
      ],
      "execution_count": 131,
      "outputs": []
    },
    {
      "cell_type": "code",
      "metadata": {
        "id": "izVxpJ3Xe0IC",
        "colab_type": "code",
        "colab": {
          "base_uri": "https://localhost:8080/",
          "height": 119
        },
        "outputId": "6a2386d0-1d30-4631-fc81-e274781fb132"
      },
      "source": [
        "def mean_tox_len(toxic_type):\n",
        "  toxic_type_df = my_train.loc[my_train[toxic_type] == 1]\n",
        "  len_list = [len(sent) for sent in toxic_type_df['comment_text']]\n",
        "  return statistics.mean(len_list)\n",
        "\n",
        "\n",
        "print('toxic', mean_tox_len('toxic'))\n",
        "print('severe_toxic', mean_tox_len('severe_toxic'))\n",
        "print('obscene', mean_tox_len('obscene'))\n",
        "print('threat', mean_tox_len('threat'))\n",
        "print('insult', mean_tox_len('insult'))\n",
        "print('identity_hate', mean_tox_len('identity_hate'))"
      ],
      "execution_count": 132,
      "outputs": [
        {
          "output_type": "stream",
          "text": [
            "toxic 280.60409652076316\n",
            "severe_toxic 505.4566768603466\n",
            "obscene 280.9517298187809\n",
            "threat 316.9100145137881\n",
            "insult 272.2064755838641\n",
            "identity_hate 314.43882853094\n"
          ],
          "name": "stdout"
        }
      ]
    },
    {
      "cell_type": "code",
      "metadata": {
        "id": "9zSBef7Lgwso",
        "colab_type": "code",
        "colab": {}
      },
      "source": [
        "#тут немного более информативно, severe_toxic явно выделяется, например. Попробую взять не-токсичные:"
      ],
      "execution_count": 133,
      "outputs": []
    },
    {
      "cell_type": "code",
      "metadata": {
        "id": "4Ra9G1EIf73p",
        "colab_type": "code",
        "colab": {
          "base_uri": "https://localhost:8080/",
          "height": 119
        },
        "outputId": "b03bec46-8991-4b77-b1dc-56115c76d27a"
      },
      "source": [
        "def mean_none_tox_len(none_toxic_type):\n",
        "  toxic_type_df = my_train.loc[my_train[none_toxic_type] == 0]\n",
        "  len_list = [len(sent) for sent in toxic_type_df['comment_text']]\n",
        "  return statistics.mean(len_list)\n",
        "\n",
        "\n",
        "print('toxic', mean_none_tox_len('toxic'))\n",
        "print('severe_toxic', mean_none_tox_len('severe_toxic'))\n",
        "print('obscene', mean_none_tox_len('obscene'))\n",
        "print('threat', mean_none_tox_len('threat'))\n",
        "print('insult', mean_none_tox_len('insult'))\n",
        "print('identity_hate', mean_none_tox_len('identity_hate'))"
      ],
      "execution_count": 134,
      "outputs": [
        {
          "output_type": "stream",
          "text": [
            "toxic 402.6911779981698\n",
            "severe_toxic 389.999386245583\n",
            "obscene 397.33287608379965\n",
            "threat 391.2418065153011\n",
            "insult 397.34023416334895\n",
            "identity_hate 391.7447929838506\n"
          ],
          "name": "stdout"
        }
      ]
    },
    {
      "cell_type": "code",
      "metadata": {
        "id": "07pp06YKgprO",
        "colab_type": "code",
        "colab": {}
      },
      "source": [
        "#Попробую выделить списки слов, характерных для конкретных типов."
      ],
      "execution_count": 135,
      "outputs": []
    },
    {
      "cell_type": "code",
      "metadata": {
        "id": "FCMOhy-TwqM2",
        "colab_type": "code",
        "colab": {}
      },
      "source": [
        "def tokenize(sents):\n",
        "    words = []\n",
        "    for sent in sents:\n",
        "      for word in sent.split():\n",
        "        words.append(word.strip(string.punctuation))\n",
        "    words = [word for word in words if word]\n",
        "    \n",
        "    return words"
      ],
      "execution_count": 136,
      "outputs": []
    },
    {
      "cell_type": "code",
      "metadata": {
        "id": "flIuKI4t2uBc",
        "colab_type": "code",
        "colab": {}
      },
      "source": [
        "#  это просто на будущее более удобное разделение данных по типам\n",
        "toxic_df = my_train.loc[my_train['toxic'] == 1]\n",
        "severe_toxic_df = my_train.loc[my_train['severe_toxic'] == 1]\n",
        "obscene_df =  my_train.loc[my_train['obscene'] == 1]\n",
        "threat_df = my_train.loc[my_train['threat'] == 1]\n",
        "insult_df = my_train.loc[my_train['insult'] == 1]\n",
        "identity_hate_df = my_train.loc[my_train['identity_hate'] == 1]"
      ],
      "execution_count": 137,
      "outputs": []
    },
    {
      "cell_type": "code",
      "metadata": {
        "id": "_nsmMW4uWTML",
        "colab_type": "code",
        "colab": {
          "base_uri": "https://localhost:8080/",
          "height": 34
        },
        "outputId": "68d56cbb-309f-470b-f08f-0dd927627b66"
      },
      "source": [
        "stoplist = stopwords.words('english')\n",
        "for w in ['would', 'page', 'wikipedia', 'want', 'think', 'time']:\n",
        "  stoplist.append(w)\n",
        "'would' in stoplist"
      ],
      "execution_count": 138,
      "outputs": [
        {
          "output_type": "execute_result",
          "data": {
            "text/plain": [
              "True"
            ]
          },
          "metadata": {
            "tags": []
          },
          "execution_count": 138
        }
      ]
    },
    {
      "cell_type": "code",
      "metadata": {
        "id": "9dQKD5Xkv_uZ",
        "colab_type": "code",
        "colab": {}
      },
      "source": [
        "def freq_words(toxic_type, n):\n",
        "  toxic_type_df = my_train.loc[my_train[toxic_type] == 1]\n",
        "  length = len(toxic_type_df)\n",
        "  counter = Counter(tokenize(toxic_type_df['comment_text']))\n",
        "  frequent_dict = {key:val for key, val in counter.items() if val > length*n and \\\n",
        "                   key.lower() not in stoplist}\n",
        "\n",
        "  return frequent_dict"
      ],
      "execution_count": 139,
      "outputs": []
    },
    {
      "cell_type": "code",
      "metadata": {
        "id": "7_xII2Ra1sOR",
        "colab_type": "code",
        "colab": {
          "base_uri": "https://localhost:8080/",
          "height": 204
        },
        "outputId": "89a5c119-487b-440d-9b52-4515a4b114fb"
      },
      "source": [
        "freq_words('toxic', 0.1)\n"
      ],
      "execution_count": 140,
      "outputs": [
        {
          "output_type": "execute_result",
          "data": {
            "text/plain": [
              "{'DIE': 2760,\n",
              " 'FUCK': 5952,\n",
              " 'NIGGER': 3397,\n",
              " 'SUCK': 2675,\n",
              " 'ass': 2240,\n",
              " 'fuck': 6151,\n",
              " 'fucking': 2766,\n",
              " 'gay': 2192,\n",
              " 'know': 2523,\n",
              " 'like': 4149,\n",
              " 'shit': 2971}"
            ]
          },
          "metadata": {
            "tags": []
          },
          "execution_count": 140
        }
      ]
    },
    {
      "cell_type": "code",
      "metadata": {
        "id": "h3cOSDDX18zt",
        "colab_type": "code",
        "colab": {
          "base_uri": "https://localhost:8080/",
          "height": 1000
        },
        "outputId": "3878f67d-cc1f-4d08-c59b-a36e088cd553"
      },
      "source": [
        "freq_words('severe_toxic', 0.1)"
      ],
      "execution_count": 141,
      "outputs": [
        {
          "output_type": "execute_result",
          "data": {
            "text/plain": [
              "{'ADMINS': 200,\n",
              " 'ANAL': 342,\n",
              " 'ASS': 762,\n",
              " 'Ass': 271,\n",
              " 'BASTARD': 205,\n",
              " 'BITCH': 644,\n",
              " 'BITCH!!FUCK': 310,\n",
              " 'BLOCK': 266,\n",
              " 'BOT': 217,\n",
              " 'Bitch': 293,\n",
              " 'BunkSteve': 278,\n",
              " 'COCK': 442,\n",
              " 'COCKSUCKER': 494,\n",
              " 'COCKSUCKING': 267,\n",
              " 'CUNT': 819,\n",
              " 'CUNTS': 241,\n",
              " 'Chester': 261,\n",
              " 'CriminalWar': 279,\n",
              " 'DAMN': 377,\n",
              " 'DICK': 331,\n",
              " 'DIE': 1565,\n",
              " 'DIE!FUK': 402,\n",
              " 'DOG': 363,\n",
              " 'EAT': 204,\n",
              " 'FACK': 232,\n",
              " 'FAGGOT': 605,\n",
              " 'FAGS': 207,\n",
              " 'FAT': 243,\n",
              " 'FUCK': 3088,\n",
              " 'FUCKER': 523,\n",
              " 'FUCKING': 1084,\n",
              " 'Fuck': 1051,\n",
              " 'Fucking': 212,\n",
              " 'GAY': 250,\n",
              " 'GO': 223,\n",
              " 'Go': 924,\n",
              " 'HOMELAND': 229,\n",
              " 'HUGE': 421,\n",
              " 'KILL': 630,\n",
              " 'MEXICANS': 358,\n",
              " 'MOTHERFUCKER': 253,\n",
              " 'MOTHERFUCKERDIE': 287,\n",
              " 'MOTHJER': 489,\n",
              " 'MUST': 562,\n",
              " 'MarcolFuck': 260,\n",
              " 'NIGGER': 808,\n",
              " 'NIGGERJEW': 424,\n",
              " 'NIGGERS': 393,\n",
              " 'Nigger': 367,\n",
              " 'Notrhbysouthbanof': 228,\n",
              " 'OFFFUCK': 360,\n",
              " \"Pro-Assad.Hanibal911You're\": 345,\n",
              " 'RAPE': 362,\n",
              " 'SECURITYFUCK': 227,\n",
              " 'SHIT': 1508,\n",
              " 'SHUT': 364,\n",
              " 'SUCK': 2253,\n",
              " 'TRAITOR': 405,\n",
              " 'U': 939,\n",
              " 'USELESS': 224,\n",
              " 'VANDAL': 406,\n",
              " \"YOU!!'FUCK\": 312,\n",
              " 'ancestryFuck-off-Jewish': 207,\n",
              " 'ass': 1299,\n",
              " 'ass!Fuck': 277,\n",
              " 'asshole': 320,\n",
              " 'bastard': 407,\n",
              " 'bitch': 780,\n",
              " 'bitches.fuck': 333,\n",
              " 'cock': 366,\n",
              " 'cocks': 235,\n",
              " 'cunt': 321,\n",
              " 'dick': 290,\n",
              " 'dickhead': 330,\n",
              " 'faggot': 1237,\n",
              " 'fat': 296,\n",
              " 'fuck': 3279,\n",
              " 'fucked': 199,\n",
              " 'fucking': 750,\n",
              " 'fucksex': 624,\n",
              " 'gay': 484,\n",
              " 'get': 228,\n",
              " 'going': 344,\n",
              " 'hi': 201,\n",
              " 'know': 222,\n",
              " 'like': 501,\n",
              " 'little': 292,\n",
              " 'mother': 413,\n",
              " 'niggas': 340,\n",
              " 'nigger': 599,\n",
              " 'nigger!Dumbass': 215,\n",
              " 'penis/////Small': 249,\n",
              " 'piece': 363,\n",
              " 'pussy': 303,\n",
              " 'shit': 900,\n",
              " 'stupid': 374,\n",
              " 'suck': 521,\n",
              " 'sucks': 698,\n",
              " 'u': 733,\n",
              " 'veggietales': 212,\n",
              " 'yourselfgo': 621}"
            ]
          },
          "metadata": {
            "tags": []
          },
          "execution_count": 141
        }
      ]
    },
    {
      "cell_type": "code",
      "metadata": {
        "id": "MP0s_SL4T0EJ",
        "colab_type": "code",
        "colab": {
          "base_uri": "https://localhost:8080/",
          "height": 374
        },
        "outputId": "0c70314e-126c-4c93-d7b7-8b2dc24bd931"
      },
      "source": [
        "freq_words('obscene', 0.1)"
      ],
      "execution_count": 142,
      "outputs": [
        {
          "output_type": "execute_result",
          "data": {
            "text/plain": [
              "{'CUNT': 1440,\n",
              " 'DICKS': 1223,\n",
              " 'DIE': 1468,\n",
              " 'FUCK': 5940,\n",
              " 'FUCKING': 1592,\n",
              " 'Fuck': 1961,\n",
              " 'Go': 1240,\n",
              " 'NIGGER': 2990,\n",
              " 'SHIT': 1688,\n",
              " 'SUCK': 2535,\n",
              " 'U': 1319,\n",
              " 'ass': 2121,\n",
              " 'bitch': 1511,\n",
              " 'fuck': 6073,\n",
              " 'fucking': 2651,\n",
              " 'get': 1248,\n",
              " 'know': 1376,\n",
              " 'like': 2061,\n",
              " 'shit': 2623,\n",
              " 'stupid': 1264,\n",
              " 'u': 1599}"
            ]
          },
          "metadata": {
            "tags": []
          },
          "execution_count": 142
        }
      ]
    },
    {
      "cell_type": "code",
      "metadata": {
        "id": "-vg61H3MVd0q",
        "colab_type": "code",
        "colab": {
          "base_uri": "https://localhost:8080/",
          "height": 748
        },
        "outputId": "4e42c81c-a0c3-4c5f-affb-9fb1012ec719"
      },
      "source": [
        "freq_words('threat', 0.1)"
      ],
      "execution_count": 143,
      "outputs": [
        {
          "output_type": "execute_result",
          "data": {
            "text/plain": [
              "{'BAN': 131,\n",
              " 'BLANK': 94,\n",
              " 'BLOCK': 150,\n",
              " 'DI': 90,\n",
              " 'DIE': 1055,\n",
              " 'DIE!FUK': 310,\n",
              " 'Die': 89,\n",
              " 'EDIE': 90,\n",
              " 'FUCKIN': 82,\n",
              " 'FUCKING': 74,\n",
              " 'FoReVeR': 76,\n",
              " 'FooL': 73,\n",
              " \"I'm\": 73,\n",
              " 'JIM': 157,\n",
              " 'KILL': 526,\n",
              " 'LiVe': 76,\n",
              " 'MUST': 478,\n",
              " 'NIGGGERS': 123,\n",
              " 'PaTHeTiC': 76,\n",
              " 'RVV': 96,\n",
              " 'ReSPeCT': 76,\n",
              " 'SuPeRTR0LL': 149,\n",
              " 'TALK': 101,\n",
              " 'TRAITOR': 313,\n",
              " 'VANDAL': 314,\n",
              " 'WALES': 156,\n",
              " 'ass': 753,\n",
              " 'balls': 92,\n",
              " 'bitch': 81,\n",
              " 'decapitate': 84,\n",
              " 'die': 120,\n",
              " 'fuck': 102,\n",
              " 'fucking': 176,\n",
              " 'get': 84,\n",
              " 'going': 383,\n",
              " 'kill': 275,\n",
              " 'like': 69,\n",
              " 'murder': 109,\n",
              " 'rip': 87,\n",
              " 'shit': 96,\n",
              " 'tiny': 83,\n",
              " 'u': 70,\n",
              " 'you.I': 81}"
            ]
          },
          "metadata": {
            "tags": []
          },
          "execution_count": 143
        }
      ]
    },
    {
      "cell_type": "code",
      "metadata": {
        "id": "IIHKCzQpaM6K",
        "colab_type": "code",
        "colab": {
          "base_uri": "https://localhost:8080/",
          "height": 442
        },
        "outputId": "53c932b6-ca1b-4ccb-f4b5-8ee47bcb90df"
      },
      "source": [
        "freq_words('insult', 0.1)"
      ],
      "execution_count": 144,
      "outputs": [
        {
          "output_type": "execute_result",
          "data": {
            "text/plain": [
              "{'CUNT': 1134,\n",
              " 'DIE': 1465,\n",
              " 'FAT': 1565,\n",
              " 'FUCK': 4238,\n",
              " 'FUCKING': 1516,\n",
              " 'Fuck': 1179,\n",
              " 'Go': 1235,\n",
              " 'JEW': 1246,\n",
              " 'NIGGER': 3033,\n",
              " 'SUCK': 2380,\n",
              " 'U': 1279,\n",
              " 'ass': 1882,\n",
              " 'bitch': 1458,\n",
              " 'faggot': 1718,\n",
              " 'fuck': 4670,\n",
              " 'fucking': 2252,\n",
              " 'gay': 1154,\n",
              " 'hi': 1345,\n",
              " 'know': 1361,\n",
              " 'like': 2052,\n",
              " 'moron': 1474,\n",
              " 'nigger': 1593,\n",
              " 'shit': 2025,\n",
              " 'stupid': 1447,\n",
              " 'u': 1525}"
            ]
          },
          "metadata": {
            "tags": []
          },
          "execution_count": 144
        }
      ]
    },
    {
      "cell_type": "code",
      "metadata": {
        "id": "M9fnKqkka0Yb",
        "colab_type": "code",
        "colab": {
          "base_uri": "https://localhost:8080/",
          "height": 680
        },
        "outputId": "24d83496-887e-4a46-f918-a64f4ae819a5"
      },
      "source": [
        "freq_words('identity_hate', 0.1)"
      ],
      "execution_count": 145,
      "outputs": [
        {
          "output_type": "execute_result",
          "data": {
            "text/plain": [
              "{'Ass': 271,\n",
              " 'Bitch': 286,\n",
              " 'BunkSteve': 278,\n",
              " 'CUNT': 595,\n",
              " 'DIE': 772,\n",
              " 'FAGGOT': 555,\n",
              " 'FAT': 1314,\n",
              " 'FRANCE': 217,\n",
              " 'FUCK': 696,\n",
              " 'FUCKING': 449,\n",
              " 'GAY': 681,\n",
              " 'HATE': 228,\n",
              " 'HUGE': 422,\n",
              " 'JEW': 1245,\n",
              " 'KILL': 313,\n",
              " 'MEXICANS': 358,\n",
              " 'NIGGER': 3098,\n",
              " 'NIGGERJEW': 424,\n",
              " 'NIGGERS': 1113,\n",
              " 'Nigger': 507,\n",
              " 'Please!Nigga': 383,\n",
              " 'SUCK': 551,\n",
              " 'TOMMY2010': 227,\n",
              " 'ass': 327,\n",
              " 'bitch': 324,\n",
              " 'fag': 246,\n",
              " 'faggot': 724,\n",
              " 'fuck': 751,\n",
              " 'fucking': 499,\n",
              " 'gay': 1334,\n",
              " 'like': 451,\n",
              " 'nigga': 227,\n",
              " 'niggas': 359,\n",
              " 'nigger': 1594,\n",
              " 'nigger!Dumbass': 215,\n",
              " 'shit': 358,\n",
              " 'stupid': 425,\n",
              " 'sucks!!!!!!!!!!!U.S.A': 223,\n",
              " 'u': 302}"
            ]
          },
          "metadata": {
            "tags": []
          },
          "execution_count": 145
        }
      ]
    },
    {
      "cell_type": "code",
      "metadata": {
        "id": "Hx5Hi0P17Q64",
        "colab_type": "code",
        "colab": {}
      },
      "source": [
        "#посмотрим, сколько частотных слов вообще в каком типе получилось"
      ],
      "execution_count": 146,
      "outputs": []
    },
    {
      "cell_type": "code",
      "metadata": {
        "id": "hFrX4pbwbAdd",
        "colab_type": "code",
        "colab": {
          "base_uri": "https://localhost:8080/",
          "height": 119
        },
        "outputId": "d6b63bbe-e952-4886-f105-785ebd9368a9"
      },
      "source": [
        "print('severe_toxic', len(freq_words('severe_toxic', 0.1)))\n",
        "print('toxic', len(freq_words('toxic', 0.1)))\n",
        "print('obscene', len(freq_words('obscene', 0.1)))\n",
        "print('threat', len(freq_words('threat', 0.1)))\n",
        "print('insult', len(freq_words('insult', 0.1)))\n",
        "print('identity_hate', len(freq_words('identity_hate', 0.1)))"
      ],
      "execution_count": 147,
      "outputs": [
        {
          "output_type": "stream",
          "text": [
            "severe_toxic 101\n",
            "toxic 11\n",
            "obscene 21\n",
            "threat 43\n",
            "insult 25\n",
            "identity_hate 39\n"
          ],
          "name": "stdout"
        }
      ]
    },
    {
      "cell_type": "code",
      "metadata": {
        "id": "XjUy93M_7afl",
        "colab_type": "code",
        "colab": {}
      },
      "source": [
        "#и как они пересекаются между собой. Я полагаю, что uppercase так же несет в себе информацию о тональности, \n",
        "# и полагаю upper-lowercase разными словами."
      ],
      "execution_count": 148,
      "outputs": []
    },
    {
      "cell_type": "code",
      "metadata": {
        "id": "xhM_Rl807fU9",
        "colab_type": "code",
        "colab": {}
      },
      "source": [
        "toxic_set = set(freq_words('toxic', 0.1).keys())\n",
        "severe_toxic_set = set(freq_words('severe_toxic', 0.1).keys())\n",
        "obscene_set = set(freq_words('obscene', 0.1).keys())\n",
        "threat_set = set(freq_words('threat', 0.1).keys())\n",
        "insult_set = set(freq_words('insult', 0.1).keys())\n",
        "identity_hate_set = set(freq_words('identity_hate', 0.1).keys())                                                 \n",
        "# как toxic пересекается с остальными"
      ],
      "execution_count": 149,
      "outputs": []
    },
    {
      "cell_type": "code",
      "metadata": {
        "id": "n3odf-0l_SQU",
        "colab_type": "code",
        "colab": {
          "base_uri": "https://localhost:8080/",
          "height": 34
        },
        "outputId": "6555d12c-ec53-44c1-f5ce-ddcd3d1d64f0"
      },
      "source": [
        "toxic_set.intersection(severe_toxic_set, obscene_set, threat_set, insult_set, identity_hate_set)"
      ],
      "execution_count": 150,
      "outputs": [
        {
          "output_type": "execute_result",
          "data": {
            "text/plain": [
              "{'DIE', 'ass', 'fuck', 'fucking', 'like', 'shit'}"
            ]
          },
          "metadata": {
            "tags": []
          },
          "execution_count": 150
        }
      ]
    },
    {
      "cell_type": "code",
      "metadata": {
        "id": "c5GzRxOXA_rI",
        "colab_type": "code",
        "colab": {}
      },
      "source": [
        "#И посмотрим, как они выделяются"
      ],
      "execution_count": 151,
      "outputs": []
    },
    {
      "cell_type": "code",
      "metadata": {
        "id": "flu9s25dBC-F",
        "colab_type": "code",
        "colab": {
          "base_uri": "https://localhost:8080/",
          "height": 139
        },
        "outputId": "3a275094-d420-46dc-eef7-b9bc1bdb2cf3"
      },
      "source": [
        "print('severe_toxic_set', severe_toxic_set.difference(toxic_set, obscene_set, threat_set, insult_set, identity_hate_set))\n",
        "print('toxic_set', toxic_set.difference(severe_toxic_set, obscene_set, threat_set, insult_set, identity_hate_set))\n",
        "print('threat_set', threat_set.difference(toxic_set, severe_toxic_set, obscene_set, insult_set, identity_hate_set))\n",
        "print('insult_set', insult_set.difference(toxic_set, obscene_set, threat_set, severe_toxic_set, identity_hate_set))\n",
        "print('identity_hate_set', identity_hate_set.difference(toxic_set, obscene_set, threat_set, insult_set, identity_hate_set))\n",
        "print('obscene_set', obscene_set.difference(toxic_set, identity_hate_set, threat_set, insult_set, identity_hate_set))\n"
      ],
      "execution_count": 152,
      "outputs": [
        {
          "output_type": "stream",
          "text": [
            "severe_toxic_set {'fat', 'fucked', 'COCKSUCKER', 'cunt', 'FACK', 'bitches.fuck', 'veggietales', 'dick', 'ancestryFuck-off-Jewish', 'BITCH', 'MOTHERFUCKER', 'MarcolFuck', 'Notrhbysouthbanof', 'BOT', 'asshole', 'BASTARD', 'bastard', 'sucks', 'GO', 'ASS', 'cock', 'ass!Fuck', 'COCKSUCKING', 'FAGS', 'EAT', 'COCK', 'suck', 'piece', \"Pro-Assad.Hanibal911You're\", 'MOTHJER', 'cocks', 'RAPE', 'CUNTS', \"YOU!!'FUCK\", 'dickhead', 'HOMELAND', 'little', 'DOG', 'BITCH!!FUCK', 'CriminalWar', 'DICK', 'yourselfgo', 'ADMINS', 'DAMN', 'OFFFUCK', 'Chester', 'pussy', 'USELESS', 'SECURITYFUCK', 'ANAL', 'FUCKER', 'fucksex', 'SHUT', 'Fucking', 'penis/////Small', 'MOTHERFUCKERDIE', 'mother'}\n",
            "toxic_set set()\n",
            "threat_set {'SuPeRTR0LL', 'decapitate', 'FooL', 'PaTHeTiC', 'RVV', 'die', 'you.I', 'EDIE', 'FoReVeR', 'LiVe', 'WALES', 'BLANK', 'NIGGGERS', 'TALK', 'DI', 'BAN', 'kill', 'FUCKIN', \"I'm\", 'ReSPeCT', 'murder', 'rip', 'JIM', 'Die', 'balls', 'tiny'}\n",
            "insult_set {'moron'}\n",
            "identity_hate_set set()\n",
            "obscene_set {'DICKS', 'SHIT'}\n"
          ],
          "name": "stdout"
        }
      ]
    },
    {
      "cell_type": "code",
      "metadata": {
        "id": "OtejghhMDO7p",
        "colab_type": "code",
        "colab": {}
      },
      "source": [
        "#в severe_toxic просто больше слов, а вот threat можно заметить слова с верхним и нижним регистром в одном.\n",
        "# Попробую их тоже рассматривать как признак  и посчитать."
      ],
      "execution_count": 153,
      "outputs": []
    },
    {
      "cell_type": "code",
      "metadata": {
        "id": "tKI8I2FmDokr",
        "colab_type": "code",
        "colab": {
          "base_uri": "https://localhost:8080/",
          "height": 34
        },
        "outputId": "6bbb99a9-21b5-46f5-a1b3-a7c4ac09b8ee"
      },
      "source": [
        "re.findall(r'([A-Z]+[a-z]+[A-Z]+)|([a-z]+[A-Z]+[a-z]+)', 'HellO')"
      ],
      "execution_count": 154,
      "outputs": [
        {
          "output_type": "execute_result",
          "data": {
            "text/plain": [
              "[('HellO', '')]"
            ]
          },
          "metadata": {
            "tags": []
          },
          "execution_count": 154
        }
      ]
    },
    {
      "cell_type": "code",
      "metadata": {
        "id": "N6YHn5ZOUMmP",
        "colab_type": "code",
        "colab": {}
      },
      "source": [
        "def upper_lower_words(toxic_type):\n",
        "  len_list = []\n",
        "  token_list = []\n",
        "  toxic_type_df = my_train.loc[my_train[toxic_type] == 1]\n",
        "  length = len(toxic_type_df)\n",
        "  df_tokens = tokenize(toxic_type_df['comment_text'])\n",
        "  for token in df_tokens:\n",
        "    if len(re.findall(r'([A-Z]+[a-z]+[A-Z]+)|([a-z]+[A-Z]+[a-z]+)', token)) > 0:\n",
        "      len_list.append(len(token))\n",
        "      token_list.append(token)\n",
        "  return len_list"
      ],
      "execution_count": 155,
      "outputs": []
    },
    {
      "cell_type": "code",
      "metadata": {
        "id": "adPwloKv4rXg",
        "colab_type": "code",
        "colab": {}
      },
      "source": [
        "#еще потом придумаю, но минималка какая-то вроде есть.\n",
        "# len_list = [len(sents) for sents in my_train['comment_text']]\n",
        "# punkt_len_list = [len(re.findall(r'[\\.,?!)\\\";}\\]\\*:@\\'\\({\\[]+', sents)) for sents in my_train['comment_text']]\n",
        "# upper_len_list = [len(re.findall(r'[A-Z]+', sents)) for sents in my_train['comment_text']]"
      ],
      "execution_count": 156,
      "outputs": []
    },
    {
      "cell_type": "code",
      "metadata": {
        "id": "-8xF8DgxR_by",
        "colab_type": "code",
        "colab": {}
      },
      "source": [
        "all_toxic = \" \".join(my_train.loc[my_train['toxic'] == 1]['comment_text'])\n",
        "all_severe_toxic = \" \".join(my_train.loc[my_train['severe_toxic'] == 1]['comment_text'])\n",
        "all_obscene = \" \".join(my_train.loc[my_train['obscene'] == 1]['comment_text'])\n",
        "all_threat = \" \".join(my_train.loc[my_train['threat'] == 1]['comment_text'])\n",
        "all_insult = \" \".join(my_train.loc[my_train['insult'] == 1]['comment_text'])\n",
        "all_identity_hate = \" \".join(my_train.loc[my_train['identity_hate'] == 1]['comment_text'])                                  "
      ],
      "execution_count": 157,
      "outputs": []
    },
    {
      "cell_type": "code",
      "metadata": {
        "id": "HxE7aGhlarfl",
        "colab_type": "code",
        "colab": {
          "base_uri": "https://localhost:8080/",
          "height": 119
        },
        "outputId": "889a9f80-9f9b-4c2c-edfa-27b798f2f8ba"
      },
      "source": [
        "print('severe_toxic', sum(upper_lower_words('severe_toxic')))\n",
        "print('toxic', sum(upper_lower_words('toxic')))\n",
        "print('obscene', sum(upper_lower_words('obscene')))\n",
        "print('threat', sum(upper_lower_words('threat')))\n",
        "print('insult', sum(upper_lower_words('insult')))\n",
        "print('identity_hate', sum(upper_lower_words('identity_hate')))"
      ],
      "execution_count": 158,
      "outputs": [
        {
          "output_type": "stream",
          "text": [
            "severe_toxic 19582\n",
            "toxic 56533\n",
            "obscene 36456\n",
            "threat 5047\n",
            "insult 31223\n",
            "identity_hate 9179\n"
          ],
          "name": "stdout"
        }
      ]
    },
    {
      "cell_type": "code",
      "metadata": {
        "id": "nmOssIrf54i3",
        "colab_type": "code",
        "colab": {
          "base_uri": "https://localhost:8080/",
          "height": 119
        },
        "outputId": "e3f5893d-493c-4222-93da-7997f37cebc2"
      },
      "source": [
        "print('severe_toxic', sum(upper_lower_words('severe_toxic'))/len(all_severe_toxic))\n",
        "print('toxic', sum(upper_lower_words('toxic'))/len(all_toxic))\n",
        "print('obscene', sum(upper_lower_words('obscene'))/len(all_obscene))\n",
        "print('threat', sum(upper_lower_words('threat'))/len(all_threat))\n",
        "print('insult', sum(upper_lower_words('insult'))/len(all_insult))\n",
        "print('identity_hate', sum(upper_lower_words('identity_hate'))/len(all_identity_hate))"
      ],
      "execution_count": 159,
      "outputs": [
        {
          "output_type": "stream",
          "text": [
            "severe_toxic 0.01970680318456787\n",
            "toxic 0.009388023988092638\n",
            "obscene 0.01065063967819035\n",
            "threat 0.02304155880916184\n",
            "insult 0.010110011090154048\n",
            "identity_hate 0.013745483188401023\n"
          ],
          "name": "stdout"
        }
      ]
    },
    {
      "cell_type": "code",
      "metadata": {
        "id": "sAK8K0ecbINN",
        "colab_type": "code",
        "colab": {}
      },
      "source": [
        "# И так же стоит посмотреть на пунктуацию"
      ],
      "execution_count": 160,
      "outputs": []
    },
    {
      "cell_type": "code",
      "metadata": {
        "id": "RPeIIITfcdxS",
        "colab_type": "code",
        "colab": {}
      },
      "source": [
        "def punkt_len(toxic_type):\n",
        "  final_len = 0\n",
        "  all_text = \" \".join(my_train.loc[my_train[toxic_type] == 1]['comment_text'])\n",
        "  all_punkt = re.findall(r'[\\.,?!)\\\";}\\]\\*:@\\'\\({\\[]+', all_text)\n",
        "  for punkt_peace in all_punkt:\n",
        "    final_len += len(punkt_peace)\n",
        "  return final_len\n"
      ],
      "execution_count": 161,
      "outputs": []
    },
    {
      "cell_type": "code",
      "metadata": {
        "id": "TUNgzEvX6tUl",
        "colab_type": "code",
        "colab": {
          "base_uri": "https://localhost:8080/",
          "height": 119
        },
        "outputId": "c6240db6-a74f-4da9-830f-ba432bbad3be"
      },
      "source": [
        "print('toxic', punkt_len('toxic'))\n",
        "print('severe_toxic', punkt_len('severe_toxic'))\n",
        "print('obscene', punkt_len('obscene'))\n",
        "print('threat', punkt_len('threat'))\n",
        "print('insult', punkt_len('insult'))\n",
        "print('identity_hate', punkt_len('identity_hate'))"
      ],
      "execution_count": 162,
      "outputs": [
        {
          "output_type": "stream",
          "text": [
            "toxic 269048\n",
            "severe_toxic 51662\n",
            "obscene 151698\n",
            "threat 16543\n",
            "insult 134153\n",
            "identity_hate 25735\n"
          ],
          "name": "stdout"
        }
      ]
    },
    {
      "cell_type": "code",
      "metadata": {
        "id": "QRmR78XGeF10",
        "colab_type": "code",
        "colab": {
          "base_uri": "https://localhost:8080/",
          "height": 119
        },
        "outputId": "9bc869b0-7660-4b64-ffa1-f971758ad8fc"
      },
      "source": [
        "print('toxic', punkt_len('toxic')/len(all_toxic))\n",
        "print('severe_toxic', punkt_len('severe_toxic')/len(all_severe_toxic))\n",
        "print('obscene', punkt_len('obscene')/len(all_obscene))\n",
        "print('threat', punkt_len('threat')/len(all_threat))\n",
        "print('insult', punkt_len('insult')/len(all_insult))\n",
        "print('identity_hate', punkt_len('identity_hate')/len(all_identity_hate))"
      ],
      "execution_count": 163,
      "outputs": [
        {
          "output_type": "stream",
          "text": [
            "toxic 0.04467884382481645\n",
            "severe_toxic 0.051991260653720006\n",
            "obscene 0.0443186509189741\n",
            "threat 0.07552536306319879\n",
            "insult 0.0434387572551464\n",
            "identity_hate 0.03853796817229549\n"
          ],
          "name": "stdout"
        }
      ]
    },
    {
      "cell_type": "code",
      "metadata": {
        "id": "4Dbw_FC5abNn",
        "colab_type": "code",
        "colab": {}
      },
      "source": [
        ""
      ],
      "execution_count": 163,
      "outputs": []
    },
    {
      "cell_type": "markdown",
      "metadata": {
        "id": "DgB5D9f0bGVt",
        "colab_type": "text"
      },
      "source": [
        "## **Бейзлайн модель из sklearn (векторайзер + модель) с отбором признаков (через l1 регуляризацию, на глаз через анализ важных параметров или через permutation importance)**"
      ]
    },
    {
      "cell_type": "code",
      "metadata": {
        "id": "ybnTY8INbJwT",
        "colab_type": "code",
        "colab": {}
      },
      "source": [
        "#https://github.com/mannefedov/hse_ml_m1/blob/master/1_intro_regression/pandas_regression.ipynb - регуляризация\n",
        "# тут и статистики есть!!\n",
        "\n",
        "#https://github.com/mannefedov/hse_ml_m1/blob/master/3_overfitting_validation/overfitting_validation.ipynb - permutation importance\n",
        "\n",
        "\n",
        "#ансамбли - https://github.com/DmitryKutsev/ml_hw/blob/master/hw5.ipynb\n",
        "\n",
        "#ох.."
      ],
      "execution_count": 164,
      "outputs": []
    },
    {
      "cell_type": "code",
      "metadata": {
        "id": "bdgGDcyuFNe4",
        "colab_type": "code",
        "colab": {
          "base_uri": "https://localhost:8080/",
          "height": 292
        },
        "outputId": "c7ae46c2-eb8c-48f9-87c7-39f6f6468bcc"
      },
      "source": [
        "!pip install eli5"
      ],
      "execution_count": 189,
      "outputs": [
        {
          "output_type": "stream",
          "text": [
            "Collecting eli5\n",
            "\u001b[?25l  Downloading https://files.pythonhosted.org/packages/97/2f/c85c7d8f8548e460829971785347e14e45fa5c6617da374711dec8cb38cc/eli5-0.10.1-py2.py3-none-any.whl (105kB)\n",
            "\r\u001b[K     |███                             | 10kB 18.6MB/s eta 0:00:01\r\u001b[K     |██████▏                         | 20kB 1.7MB/s eta 0:00:01\r\u001b[K     |█████████▎                      | 30kB 2.3MB/s eta 0:00:01\r\u001b[K     |████████████▍                   | 40kB 2.6MB/s eta 0:00:01\r\u001b[K     |███████████████▌                | 51kB 2.0MB/s eta 0:00:01\r\u001b[K     |██████████████████▋             | 61kB 2.3MB/s eta 0:00:01\r\u001b[K     |█████████████████████▊          | 71kB 2.5MB/s eta 0:00:01\r\u001b[K     |████████████████████████▊       | 81kB 2.7MB/s eta 0:00:01\r\u001b[K     |███████████████████████████▉    | 92kB 2.9MB/s eta 0:00:01\r\u001b[K     |███████████████████████████████ | 102kB 2.8MB/s eta 0:00:01\r\u001b[K     |████████████████████████████████| 112kB 2.8MB/s \n",
            "\u001b[?25hRequirement already satisfied: tabulate>=0.7.7 in /usr/local/lib/python3.6/dist-packages (from eli5) (0.8.7)\n",
            "Requirement already satisfied: attrs>16.0.0 in /usr/local/lib/python3.6/dist-packages (from eli5) (19.3.0)\n",
            "Requirement already satisfied: graphviz in /usr/local/lib/python3.6/dist-packages (from eli5) (0.10.1)\n",
            "Requirement already satisfied: jinja2 in /usr/local/lib/python3.6/dist-packages (from eli5) (2.11.2)\n",
            "Requirement already satisfied: scipy in /usr/local/lib/python3.6/dist-packages (from eli5) (1.4.1)\n",
            "Requirement already satisfied: scikit-learn>=0.18 in /usr/local/lib/python3.6/dist-packages (from eli5) (0.22.2.post1)\n",
            "Requirement already satisfied: numpy>=1.9.0 in /usr/local/lib/python3.6/dist-packages (from eli5) (1.18.5)\n",
            "Requirement already satisfied: six in /usr/local/lib/python3.6/dist-packages (from eli5) (1.12.0)\n",
            "Requirement already satisfied: MarkupSafe>=0.23 in /usr/local/lib/python3.6/dist-packages (from jinja2->eli5) (1.1.1)\n",
            "Requirement already satisfied: joblib>=0.11 in /usr/local/lib/python3.6/dist-packages (from scikit-learn>=0.18->eli5) (0.15.1)\n",
            "Installing collected packages: eli5\n",
            "Successfully installed eli5-0.10.1\n"
          ],
          "name": "stdout"
        }
      ]
    },
    {
      "cell_type": "code",
      "metadata": {
        "id": "ZLV9twVjhQkO",
        "colab_type": "code",
        "colab": {}
      },
      "source": [
        "from sklearn.model_selection import train_test_split\n",
        "from sklearn.linear_model import LinearRegression, Ridge, Lasso, ElasticNet\n",
        "from sklearn.svm import LinearSVR\n",
        "from sklearn.feature_extraction.text import CountVectorizer, TfidfVectorizer\n",
        "from sklearn.metrics import mean_absolute_error\n",
        "from sklearn.metrics import roc_auc_score, roc_curve\n",
        "from matplotlib import pyplot\n",
        "from sklearn.model_selection import GridSearchCV\n",
        "from sklearn.linear_model import LogisticRegression\n",
        "import eli5\n",
        "from eli5.sklearn import PermutationImportance\n",
        "import warnings"
      ],
      "execution_count": 191,
      "outputs": []
    },
    {
      "cell_type": "code",
      "metadata": {
        "id": "4it8RakKr7WS",
        "colab_type": "code",
        "colab": {}
      },
      "source": [
        "cv = CountVectorizer(max_features=1000, min_df=5, max_df=0.4, ngram_range=(1,2))\n",
        "X = cv.fit_transform(my_train['comment_text'])\n",
        "y = my_train['toxic']\n",
        "miniX = cv.fit_transform(my_train['comment_text'][:100])\n",
        "miniy = my_train['toxic'][:100]"
      ],
      "execution_count": 206,
      "outputs": []
    },
    {
      "cell_type": "code",
      "metadata": {
        "id": "NgV8rzdEqicK",
        "colab_type": "code",
        "colab": {}
      },
      "source": [
        "# X = my_train['comment_text']\n",
        "# y = my_train['toxic']"
      ],
      "execution_count": 169,
      "outputs": []
    },
    {
      "cell_type": "code",
      "metadata": {
        "id": "WL1OaPx4EgC7",
        "colab_type": "code",
        "colab": {}
      },
      "source": [
        "\n",
        "def scores(model):\n",
        "  ''' Функция для оценки моделей на тесте'''\n",
        "  \n",
        "  predicted = model.predict(X_test)\n",
        "  acc = accuracy_score(predicted, twenty_test.target)\n",
        "  micro_f1 = f1_score(predicted, twenty_test.target, average = 'micro')\n",
        "  micro_p = precision_score(predicted, twenty_test.target, average = 'micro')\n",
        "  micro_r = recall_score(predicted, twenty_test.target, average = 'micro')\n",
        "  macro_f1 = f1_score(predicted, twenty_test.target, average = 'macro')\n",
        "  macro_p = precision_score(predicted, twenty_test.target, average = 'macro')\n",
        "  macro_r = recall_score(predicted, twenty_test.target, average = 'macro')\n",
        "  print('acc={0:1.4f}'.format(acc))\n",
        "  print('micro F1={0:1.4f}, micro P={1:1.4f}, micro R={2:1.4f}'.format(micro_f1, micro_p, micro_r))\n",
        "  print('macro F1={0:1.4f}, macro P={1:1.4f}, macro R={2:1.4f}\\n'.format(macro_f1, macro_p, macro_r))"
      ],
      "execution_count": 187,
      "outputs": []
    },
    {
      "cell_type": "code",
      "metadata": {
        "id": "NZc7E2GXqunD",
        "colab_type": "code",
        "colab": {}
      },
      "source": [
        "X_train, X_test, y_train, y_test = train_test_split(X, y, random_state=42)\n",
        "miniX_train, miniX_test, miniy_train, miniy_test = train_test_split(miniX, miniy, random_state=42)"
      ],
      "execution_count": 207,
      "outputs": []
    },
    {
      "cell_type": "code",
      "metadata": {
        "id": "5HepjStmrHds",
        "colab_type": "code",
        "colab": {
          "base_uri": "https://localhost:8080/",
          "height": 34
        },
        "outputId": "49aa6fd1-50fa-4fb4-b868-971259df9370"
      },
      "source": [
        "regressor = Lasso(alpha=1)\n",
        "regressor.fit(X_train, y_train)\n",
        "preds = regressor.predict(X_test)\n",
        "mean_absolute_error(y_test, preds)"
      ],
      "execution_count": 181,
      "outputs": [
        {
          "output_type": "execute_result",
          "data": {
            "text/plain": [
              "0.17290650702074034"
            ]
          },
          "metadata": {
            "tags": []
          },
          "execution_count": 181
        }
      ]
    },
    {
      "cell_type": "code",
      "metadata": {
        "id": "Ab3G07SA0B6E",
        "colab_type": "code",
        "colab": {}
      },
      "source": [
        "lr = LogisticRegression()"
      ],
      "execution_count": 200,
      "outputs": []
    },
    {
      "cell_type": "code",
      "metadata": {
        "id": "mNAg481k1OTs",
        "colab_type": "code",
        "colab": {
          "base_uri": "https://localhost:8080/",
          "height": 51
        },
        "outputId": "7564e3ee-7288-4859-a28a-0d5014c35445"
      },
      "source": [
        "print(\"tuned hpyerparameters :(best parameters) \",logreg_cv.best_params_)\n",
        "print(\"accuracy :\",logreg_cv.best_score_)"
      ],
      "execution_count": 186,
      "outputs": [
        {
          "output_type": "stream",
          "text": [
            "tuned hpyerparameters :(best parameters)  {'C': 100.0, 'penalty': 'l2'}\n",
            "accuracy : 0.9367891240100217\n"
          ],
          "name": "stdout"
        }
      ]
    },
    {
      "cell_type": "code",
      "metadata": {
        "id": "43R-qfiiinj6",
        "colab_type": "code",
        "colab": {}
      },
      "source": [
        "# если использовать много параметров, то грид обучается слишком долго, оставил самый минимум \n",
        "# для экономии времени\n",
        "parameter_grid = {'class_weight' : ['balanced', None],\n",
        "                  'penalty' : ['l2', 'l1'],\n",
        "                  'solver' : ['liblinear', 'saga'],\n",
        "                  'C' : [0.001, 0.01, 0.08, 0.1, 0.15, 1.0, 10.0, 100.0],\n",
        "                  'max_iter': [2,10,50,100,1000],\n",
        "                  'multi_class' : ['auto', 'ovr', 'multinomial'],\n",
        "                  'tol':[0.0001, 0.001],\n",
        "                  'l1_ratio': [0, 1],\n",
        "                  'verbose': [0, 1],\n",
        "                  'intercept_scaling': [1, 2]\n",
        "                 }\n",
        "\n",
        "grid_search = GridSearchCV(lr, param_grid=parameter_grid, cv=10, scoring='roc_auc')\n",
        "grid_search.fit(miniX_train, miniy_train)\n",
        "print('Best score: {}'.format(grid_search.best_score_))\n",
        "print('Best parameters: {}'.format(grid_search.best_params_))"
      ],
      "execution_count": null,
      "outputs": []
    },
    {
      "cell_type": "code",
      "metadata": {
        "id": "J2WBPSERHv6v",
        "colab_type": "code",
        "colab": {
          "base_uri": "https://localhost:8080/"
        },
        "outputId": "f9af9932-d45a-45ee-bdf1-7d02fd4d6e61"
      },
      "source": [
        "print('Best score: {}'.format(grid_search.best_score_))\n",
        "print('Best parameters: {}'.format(grid_search.best_params_))"
      ],
      "execution_count": 209,
      "outputs": [
        {
          "output_type": "stream",
          "text": [
            "Best score: 0.9857142857142858\n",
            "Best parameters: {'C': 1.0, 'class_weight': 'balanced', 'intercept_scaling': 1, 'l1_ratio': 1, 'max_iter': 2, 'multi_class': 'ovr', 'penalty': 'l1', 'solver': 'liblinear', 'tol': 0.001, 'verbose': 0}\n"
          ],
          "name": "stdout"
        }
      ]
    },
    {
      "cell_type": "code",
      "metadata": {
        "id": "ZieNpk3kK_u7",
        "colab_type": "code",
        "colab": {}
      },
      "source": [
        ""
      ],
      "execution_count": null,
      "outputs": []
    }
  ]
}