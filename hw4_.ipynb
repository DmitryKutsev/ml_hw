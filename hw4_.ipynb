{
  "nbformat": 4,
  "nbformat_minor": 0,
  "metadata": {
    "colab": {
      "name": "Untitled29.ipynb",
      "provenance": [],
      "authorship_tag": "ABX9TyN4lz48JzFBLf4UuOlDI55c",
      "include_colab_link": true
    },
    "kernelspec": {
      "name": "python3",
      "display_name": "Python 3"
    }
  },
  "cells": [
    {
      "cell_type": "markdown",
      "metadata": {
        "id": "view-in-github",
        "colab_type": "text"
      },
      "source": [
        "<a href=\"https://colab.research.google.com/github/DmitryKutsev/ml_hw/blob/master/hw4_.ipynb\" target=\"_parent\"><img src=\"https://colab.research.google.com/assets/colab-badge.svg\" alt=\"Open In Colab\"/></a>"
      ]
    },
    {
      "cell_type": "code",
      "metadata": {
        "id": "f-mQYZ5SV5Ik",
        "colab_type": "code",
        "outputId": "53df000d-a653-4ac1-e493-41ddfea750f9",
        "colab": {
          "base_uri": "https://localhost:8080/",
          "height": 204
        }
      },
      "source": [
        "!wget https://raw.githubusercontent.com/DmitryKutsev/ml_hw/master/small_data.csv\n"
      ],
      "execution_count": 76,
      "outputs": [
        {
          "output_type": "stream",
          "text": [
            "--2020-03-16 13:18:03--  https://raw.githubusercontent.com/DmitryKutsev/ml_hw/master/small_data.csv\n",
            "Resolving raw.githubusercontent.com (raw.githubusercontent.com)... 151.101.0.133, 151.101.64.133, 151.101.128.133, ...\n",
            "Connecting to raw.githubusercontent.com (raw.githubusercontent.com)|151.101.0.133|:443... connected.\n",
            "HTTP request sent, awaiting response... 200 OK\n",
            "Length: 24394136 (23M) [text/plain]\n",
            "Saving to: ‘small_data.csv.3’\n",
            "\n",
            "small_data.csv.3    100%[===================>]  23.26M  69.6MB/s    in 0.3s    \n",
            "\n",
            "2020-03-16 13:18:04 (69.6 MB/s) - ‘small_data.csv.3’ saved [24394136/24394136]\n",
            "\n"
          ],
          "name": "stdout"
        }
      ]
    },
    {
      "cell_type": "code",
      "metadata": {
        "id": "qqiICcEeWA-7",
        "colab_type": "code",
        "colab": {}
      },
      "source": [
        "import pandas as pd\n",
        "from sklearn import cluster\n",
        "from sklearn import metrics\n",
        "from sklearn.feature_extraction.text import CountVectorizer\n",
        "from sklearn.feature_extraction.text import TfidfVectorizer\n",
        "from sklearn.cluster import AffinityPropagation, MeanShift, AgglomerativeClustering\n",
        "from sklearn.decomposition import TruncatedSVD, NMF"
      ],
      "execution_count": 0,
      "outputs": []
    },
    {
      "cell_type": "code",
      "metadata": {
        "id": "evQa_bwUoXFQ",
        "colab_type": "code",
        "colab": {}
      },
      "source": [
        "\n",
        "from sklearn.cluster import AffinityPropagation, AgglomerativeClustering, DBSCAN, \\\n",
        "                            KMeans, MiniBatchKMeans, Birch, MeanShift, SpectralClustering\n",
        "from sklearn.metrics import adjusted_rand_score, adjusted_mutual_info_score, \\\n",
        "                            silhouette_score\n",
        "\n",
        "from sklearn.feature_extraction.text import CountVectorizer\n",
        "from sklearn.decomposition import TruncatedSVD\n",
        "from sklearn import metrics\n",
        "from sklearn.datasets import make_blobs"
      ],
      "execution_count": 0,
      "outputs": []
    },
    {
      "cell_type": "code",
      "metadata": {
        "id": "6qnF2VDAXI5v",
        "colab_type": "code",
        "colab": {}
      },
      "source": [
        "data = pd.read_csv('small_data.csv')"
      ],
      "execution_count": 0,
      "outputs": []
    },
    {
      "cell_type": "code",
      "metadata": {
        "id": "muMQC4LqpA6T",
        "colab_type": "code",
        "outputId": "bcb6f2bd-4383-429f-d534-2ef8780ae86e",
        "colab": {
          "base_uri": "https://localhost:8080/",
          "height": 513
        }
      },
      "source": [
        "data.head(5)"
      ],
      "execution_count": 80,
      "outputs": [
        {
          "output_type": "execute_result",
          "data": {
            "text/html": [
              "<div>\n",
              "<style scoped>\n",
              "    .dataframe tbody tr th:only-of-type {\n",
              "        vertical-align: middle;\n",
              "    }\n",
              "\n",
              "    .dataframe tbody tr th {\n",
              "        vertical-align: top;\n",
              "    }\n",
              "\n",
              "    .dataframe thead th {\n",
              "        text-align: right;\n",
              "    }\n",
              "</style>\n",
              "<table border=\"1\" class=\"dataframe\">\n",
              "  <thead>\n",
              "    <tr style=\"text-align: right;\">\n",
              "      <th></th>\n",
              "      <th>item_id</th>\n",
              "      <th>user_id</th>\n",
              "      <th>region</th>\n",
              "      <th>city</th>\n",
              "      <th>parent_category_name</th>\n",
              "      <th>category_name</th>\n",
              "      <th>param_1</th>\n",
              "      <th>param_2</th>\n",
              "      <th>param_3</th>\n",
              "      <th>title</th>\n",
              "      <th>description</th>\n",
              "      <th>price</th>\n",
              "      <th>item_seq_number</th>\n",
              "      <th>activation_date</th>\n",
              "      <th>user_type</th>\n",
              "      <th>image</th>\n",
              "      <th>image_top_1</th>\n",
              "    </tr>\n",
              "  </thead>\n",
              "  <tbody>\n",
              "    <tr>\n",
              "      <th>0</th>\n",
              "      <td>793dd3d5f0f0</td>\n",
              "      <td>9467e0341c0e</td>\n",
              "      <td>Алтайский край</td>\n",
              "      <td>Барнаул</td>\n",
              "      <td>Личные вещи</td>\n",
              "      <td>Детская одежда и обувь</td>\n",
              "      <td>Для девочек</td>\n",
              "      <td>Платья и юбки</td>\n",
              "      <td>146-152 см (10-12 лет)</td>\n",
              "      <td>Платье праздничное для девочки</td>\n",
              "      <td>Очень красивое торг</td>\n",
              "      <td>1500.0</td>\n",
              "      <td>106</td>\n",
              "      <td>2017-04-12</td>\n",
              "      <td>Company</td>\n",
              "      <td>ace7b2b7f066a6b6ff244f90d030c2c1a1bf118dd0e1ac...</td>\n",
              "      <td>573.0</td>\n",
              "    </tr>\n",
              "    <tr>\n",
              "      <th>1</th>\n",
              "      <td>f8c965d9b668</td>\n",
              "      <td>1905516660f5</td>\n",
              "      <td>Свердловская область</td>\n",
              "      <td>Каменск-Уральский</td>\n",
              "      <td>Для дома и дачи</td>\n",
              "      <td>Мебель и интерьер</td>\n",
              "      <td>Кровати, диваны и кресла</td>\n",
              "      <td>NaN</td>\n",
              "      <td>NaN</td>\n",
              "      <td>Кровать двухспальная</td>\n",
              "      <td>Двуспальная кровать 140х200 с металлическим ка...</td>\n",
              "      <td>5700.0</td>\n",
              "      <td>10</td>\n",
              "      <td>2017-04-15</td>\n",
              "      <td>Private</td>\n",
              "      <td>b38ef24dd5b876ed626bd98241e228e4e19e4160d33abe...</td>\n",
              "      <td>1439.0</td>\n",
              "    </tr>\n",
              "    <tr>\n",
              "      <th>2</th>\n",
              "      <td>2f153c00d561</td>\n",
              "      <td>b4dc4849fdd4</td>\n",
              "      <td>Самарская область</td>\n",
              "      <td>Самара</td>\n",
              "      <td>Бытовая электроника</td>\n",
              "      <td>Телефоны</td>\n",
              "      <td>Samsung</td>\n",
              "      <td>NaN</td>\n",
              "      <td>NaN</td>\n",
              "      <td>Samsung S3 mini gt-i8190</td>\n",
              "      <td>Продам телефон самсунг 2 ядра, 1 гиг оперативн...</td>\n",
              "      <td>1500.0</td>\n",
              "      <td>6</td>\n",
              "      <td>2017-04-12</td>\n",
              "      <td>Private</td>\n",
              "      <td>8530cc0c8d5dc6d212497dffd610d89b92a7db952934db...</td>\n",
              "      <td>2932.0</td>\n",
              "    </tr>\n",
              "    <tr>\n",
              "      <th>3</th>\n",
              "      <td>7fc5eea56915</td>\n",
              "      <td>02c14d39fdb4</td>\n",
              "      <td>Саратовская область</td>\n",
              "      <td>Саратов</td>\n",
              "      <td>Личные вещи</td>\n",
              "      <td>Одежда, обувь, аксессуары</td>\n",
              "      <td>Женская одежда</td>\n",
              "      <td>Платья и юбки</td>\n",
              "      <td>44–46 (M)</td>\n",
              "      <td>Красивое платье на одно плечо, в идеале размер м</td>\n",
              "      <td>Заказывала в Сша, прекрасное качество, в деле ...</td>\n",
              "      <td>1000.0</td>\n",
              "      <td>1280</td>\n",
              "      <td>2017-04-13</td>\n",
              "      <td>Company</td>\n",
              "      <td>eb21745ba276d3b00b05856a58fe719e31a82419c0221a...</td>\n",
              "      <td>386.0</td>\n",
              "    </tr>\n",
              "    <tr>\n",
              "      <th>4</th>\n",
              "      <td>b01000d29ea3</td>\n",
              "      <td>b17f14110367</td>\n",
              "      <td>Удмуртия</td>\n",
              "      <td>Ижевск</td>\n",
              "      <td>Личные вещи</td>\n",
              "      <td>Детская одежда и обувь</td>\n",
              "      <td>Для мальчиков</td>\n",
              "      <td>Шапки, варежки, шарфы</td>\n",
              "      <td>NaN</td>\n",
              "      <td>Стильная панама</td>\n",
              "      <td>Состояние новой. Размер до года- полтора.  По ...</td>\n",
              "      <td>150.0</td>\n",
              "      <td>145</td>\n",
              "      <td>2017-04-14</td>\n",
              "      <td>Company</td>\n",
              "      <td>5bf1001fa681b96f121ad8047c85e3747f3dac37830dd0...</td>\n",
              "      <td>209.0</td>\n",
              "    </tr>\n",
              "  </tbody>\n",
              "</table>\n",
              "</div>"
            ],
            "text/plain": [
              "        item_id  ... image_top_1\n",
              "0  793dd3d5f0f0  ...       573.0\n",
              "1  f8c965d9b668  ...      1439.0\n",
              "2  2f153c00d561  ...      2932.0\n",
              "3  7fc5eea56915  ...       386.0\n",
              "4  b01000d29ea3  ...       209.0\n",
              "\n",
              "[5 rows x 17 columns]"
            ]
          },
          "metadata": {
            "tags": []
          },
          "execution_count": 80
        }
      ]
    },
    {
      "cell_type": "code",
      "metadata": {
        "id": "JO1BF_bApEYZ",
        "colab_type": "code",
        "colab": {}
      },
      "source": [
        "data = data[['category_name', 'title']]"
      ],
      "execution_count": 0,
      "outputs": []
    },
    {
      "cell_type": "code",
      "metadata": {
        "id": "JUpztKAdpTRr",
        "colab_type": "code",
        "outputId": "9452500e-f9ab-4bda-dc4e-1c4dd200f302",
        "colab": {
          "base_uri": "https://localhost:8080/",
          "height": 34
        }
      },
      "source": [
        "data.shape"
      ],
      "execution_count": 82,
      "outputs": [
        {
          "output_type": "execute_result",
          "data": {
            "text/plain": [
              "(37339, 2)"
            ]
          },
          "metadata": {
            "tags": []
          },
          "execution_count": 82
        }
      ]
    },
    {
      "cell_type": "code",
      "metadata": {
        "id": "wZWi0G9ipWuI",
        "colab_type": "code",
        "colab": {}
      },
      "source": [
        "sample = data.sample(frac=0.1)"
      ],
      "execution_count": 0,
      "outputs": []
    },
    {
      "cell_type": "code",
      "metadata": {
        "id": "AG89Quw2pbBw",
        "colab_type": "code",
        "outputId": "5d019c5f-40c7-4ea4-9afc-21fe7e5a0dfd",
        "colab": {
          "base_uri": "https://localhost:8080/",
          "height": 34
        }
      },
      "source": [
        "sample.shape"
      ],
      "execution_count": 84,
      "outputs": [
        {
          "output_type": "execute_result",
          "data": {
            "text/plain": [
              "(3734, 2)"
            ]
          },
          "metadata": {
            "tags": []
          },
          "execution_count": 84
        }
      ]
    },
    {
      "cell_type": "code",
      "metadata": {
        "id": "L9qW0qLqFupm",
        "colab_type": "code",
        "colab": {}
      },
      "source": [
        "#################################################"
      ],
      "execution_count": 0,
      "outputs": []
    },
    {
      "cell_type": "code",
      "metadata": {
        "id": "Z42gZfMopeqx",
        "colab_type": "code",
        "colab": {}
      },
      "source": [
        "\n",
        "cv = CountVectorizer(max_features=500)\n",
        "X = cv.fit_transform(sample['title'])\n",
        "\n",
        "y = sample['category_name']"
      ],
      "execution_count": 0,
      "outputs": []
    },
    {
      "cell_type": "code",
      "metadata": {
        "id": "lfu_xm_VHzKo",
        "colab_type": "code",
        "outputId": "0f885ee5-4cfc-49b2-d4bb-b044fbd48b35",
        "colab": {
          "base_uri": "https://localhost:8080/",
          "height": 68
        }
      },
      "source": [
        "cluster = AffinityPropagation(damping=0.7, preference=-5, \n",
        "                              max_iter=400, verbose=2)\n",
        "cluster.fit(X)"
      ],
      "execution_count": 87,
      "outputs": [
        {
          "output_type": "stream",
          "text": [
            "Converged after 227 iterations.\n"
          ],
          "name": "stdout"
        },
        {
          "output_type": "execute_result",
          "data": {
            "text/plain": [
              "AffinityPropagation(affinity='euclidean', convergence_iter=15, copy=True,\n",
              "                    damping=0.7, max_iter=400, preference=-5, verbose=2)"
            ]
          },
          "metadata": {
            "tags": []
          },
          "execution_count": 87
        }
      ]
    },
    {
      "cell_type": "code",
      "metadata": {
        "id": "00gMMa6GpmUg",
        "colab_type": "code",
        "colab": {}
      },
      "source": [
        "labels = cluster.labels_"
      ],
      "execution_count": 0,
      "outputs": []
    },
    {
      "cell_type": "code",
      "metadata": {
        "id": "eY6JLCj_H0iq",
        "colab_type": "code",
        "outputId": "81fe20cb-0f5d-43bb-9f55-93618c0d18a8",
        "colab": {
          "base_uri": "https://localhost:8080/",
          "height": 34
        }
      },
      "source": [
        "n_clusters = len(set(labels))\n",
        "n_clusters"
      ],
      "execution_count": 89,
      "outputs": [
        {
          "output_type": "execute_result",
          "data": {
            "text/plain": [
              "207"
            ]
          },
          "metadata": {
            "tags": []
          },
          "execution_count": 89
        }
      ]
    },
    {
      "cell_type": "code",
      "metadata": {
        "id": "a6Q5oz5tH7wu",
        "colab_type": "code",
        "outputId": "7f484ba3-283f-478a-ef38-ed2f69051a05",
        "colab": {
          "base_uri": "https://localhost:8080/",
          "height": 34
        }
      },
      "source": [
        "print(\"Silhouette Coefficient: %0.3f\"\n",
        "      % metrics.silhouette_score(X, labels))"
      ],
      "execution_count": 90,
      "outputs": [
        {
          "output_type": "stream",
          "text": [
            "Silhouette Coefficient: 0.340\n"
          ],
          "name": "stdout"
        }
      ]
    },
    {
      "cell_type": "code",
      "metadata": {
        "id": "gP19SL0qR-ge",
        "colab_type": "code",
        "outputId": "a5c677e5-c1a7-40e9-a7a0-65ef03af8131",
        "colab": {
          "base_uri": "https://localhost:8080/",
          "height": 102
        }
      },
      "source": [
        "# эти три метрки что-то вроде точности, полноты и ф-меры для кластеризации\n",
        "print(\"Homogeneity: %0.3f\" % metrics.homogeneity_score(y, labels)) # проверяет, что в кластере объекты одного класса\n",
        "print(\"Completeness: %0.3f\" % metrics.completeness_score(y, labels)) # проверяет, что объекты класса только в одном кластере\n",
        "print(\"V-measure: %0.3f\" % metrics.v_measure_score(y, labels)) # превращает обе метрики в одну \n",
        "\n",
        "print(\"Adjusted Rand Index: %0.3f\"\n",
        "      % metrics.adjusted_rand_score(y, labels))\n",
        "print(\"Adjusted Mutual Information: %0.3f\"\n",
        "      % metrics.adjusted_mutual_info_score(y, labels))"
      ],
      "execution_count": 91,
      "outputs": [
        {
          "output_type": "stream",
          "text": [
            "Homogeneity: 0.505\n",
            "Completeness: 0.389\n",
            "V-measure: 0.439\n",
            "Adjusted Rand Index: 0.001\n",
            "Adjusted Mutual Information: 0.319\n"
          ],
          "name": "stdout"
        }
      ]
    },
    {
      "cell_type": "code",
      "metadata": {
        "id": "xuWhsGEBTKjp",
        "colab_type": "code",
        "colab": {}
      },
      "source": [
        "sample['cluster'] = cluster.labels_"
      ],
      "execution_count": 0,
      "outputs": []
    },
    {
      "cell_type": "code",
      "metadata": {
        "id": "WZXJpLanlP3u",
        "colab_type": "code",
        "outputId": "ac91f6fb-bda9-4dca-f911-f5717f482bac",
        "colab": {
          "base_uri": "https://localhost:8080/",
          "height": 235
        }
      },
      "source": [
        "sample[sample.cluster==19].head(10)"
      ],
      "execution_count": 105,
      "outputs": [
        {
          "output_type": "execute_result",
          "data": {
            "text/html": [
              "<div>\n",
              "<style scoped>\n",
              "    .dataframe tbody tr th:only-of-type {\n",
              "        vertical-align: middle;\n",
              "    }\n",
              "\n",
              "    .dataframe tbody tr th {\n",
              "        vertical-align: top;\n",
              "    }\n",
              "\n",
              "    .dataframe thead th {\n",
              "        text-align: right;\n",
              "    }\n",
              "</style>\n",
              "<table border=\"1\" class=\"dataframe\">\n",
              "  <thead>\n",
              "    <tr style=\"text-align: right;\">\n",
              "      <th></th>\n",
              "      <th>category_name</th>\n",
              "      <th>title</th>\n",
              "      <th>cluster</th>\n",
              "    </tr>\n",
              "  </thead>\n",
              "  <tbody>\n",
              "    <tr>\n",
              "      <th>31728</th>\n",
              "      <td>Оргтехника и расходники</td>\n",
              "      <td>Оболочка магнитного вала Delacamp HP 1005/1102</td>\n",
              "      <td>19</td>\n",
              "    </tr>\n",
              "    <tr>\n",
              "      <th>2863</th>\n",
              "      <td>Оргтехника и расходники</td>\n",
              "      <td>HP DeskJet 2130</td>\n",
              "      <td>19</td>\n",
              "    </tr>\n",
              "    <tr>\n",
              "      <th>2251</th>\n",
              "      <td>Ноутбуки</td>\n",
              "      <td>HP</td>\n",
              "      <td>19</td>\n",
              "    </tr>\n",
              "    <tr>\n",
              "      <th>19724</th>\n",
              "      <td>Оргтехника и расходники</td>\n",
              "      <td>Неисправный лазерный принтер HP LJ 1200</td>\n",
              "      <td>19</td>\n",
              "    </tr>\n",
              "    <tr>\n",
              "      <th>30656</th>\n",
              "      <td>Ноутбуки</td>\n",
              "      <td>Игровой HP c i7, гарантия</td>\n",
              "      <td>19</td>\n",
              "    </tr>\n",
              "    <tr>\n",
              "      <th>24574</th>\n",
              "      <td>Товары для компьютера</td>\n",
              "      <td>Клавиатура для ноутбука HP Model LX8</td>\n",
              "      <td>19</td>\n",
              "    </tr>\n",
              "  </tbody>\n",
              "</table>\n",
              "</div>"
            ],
            "text/plain": [
              "                 category_name  ... cluster\n",
              "31728  Оргтехника и расходники  ...      19\n",
              "2863   Оргтехника и расходники  ...      19\n",
              "2251                  Ноутбуки  ...      19\n",
              "19724  Оргтехника и расходники  ...      19\n",
              "30656                 Ноутбуки  ...      19\n",
              "24574    Товары для компьютера  ...      19\n",
              "\n",
              "[6 rows x 3 columns]"
            ]
          },
          "metadata": {
            "tags": []
          },
          "execution_count": 105
        }
      ]
    },
    {
      "cell_type": "code",
      "metadata": {
        "id": "5MciAzoATQmG",
        "colab_type": "code",
        "outputId": "570b82f3-6329-4679-80f8-d4e576a4e5ac",
        "colab": {
          "base_uri": "https://localhost:8080/",
          "height": 442
        }
      },
      "source": [
        "sample[sample.category_name=='Телефоны'].cluster.value_counts()"
      ],
      "execution_count": 94,
      "outputs": [
        {
          "output_type": "execute_result",
          "data": {
            "text/plain": [
              "0      45\n",
              "38     18\n",
              "113    14\n",
              "202    10\n",
              "197     9\n",
              "151     8\n",
              "47      8\n",
              "92      8\n",
              "7       7\n",
              "58      7\n",
              "189     6\n",
              "72      6\n",
              "205     5\n",
              "117     5\n",
              "84      5\n",
              "60      4\n",
              "80      3\n",
              "107     3\n",
              "81      1\n",
              "94      1\n",
              "52      1\n",
              "115     1\n",
              "35      1\n",
              "146     1\n",
              "Name: cluster, dtype: int64"
            ]
          },
          "metadata": {
            "tags": []
          },
          "execution_count": 94
        }
      ]
    },
    {
      "cell_type": "code",
      "metadata": {
        "id": "CjxDGRJQUIQD",
        "colab_type": "code",
        "colab": {}
      },
      "source": [
        "########################"
      ],
      "execution_count": 0,
      "outputs": []
    },
    {
      "cell_type": "code",
      "metadata": {
        "id": "oyRA0i35Krtp",
        "colab_type": "code",
        "colab": {}
      },
      "source": [
        "def cluster_metrics(cluster, sample, cluster_num, X, y):\n",
        "  labels = cluster.labels_\n",
        "\n",
        "  print(\"Silhouette Coefficient: %0.3f\"\n",
        "      % metrics.silhouette_score(X[:10000], labels[:10000]))\n",
        "  \n",
        "  # эти три метрки что-то вроде точности, полноты и ф-меры для кластеризации\n",
        "  print(\"Homogeneity: %0.3f\" % metrics.homogeneity_score(y, labels)) # проверяет, что в кластере объекты одного класса\n",
        "  print(\"Completeness: %0.3f\" % metrics.completeness_score(y, labels)) # проверяет, что объекты класса только в одном кластере\n",
        "  print(\"V-measure: %0.3f\" % metrics.v_measure_score(y, labels)) # превращает обе метрики в одну \n",
        "\n",
        "  print(\"Adjusted Rand Index: %0.3f\"\n",
        "        % metrics.adjusted_rand_score(y, labels))\n",
        "  print(\"Adjusted Mutual Information: %0.3f\"\n",
        "        % metrics.adjusted_mutual_info_score(y, labels))\n",
        "  \n",
        "  sample['cluster'] = cluster.labels_\n",
        "  print(sample[sample.cluster==cluster_num].head(7)) \n"
      ],
      "execution_count": 0,
      "outputs": []
    },
    {
      "cell_type": "code",
      "metadata": {
        "id": "y69XuDHgUISh",
        "colab_type": "code",
        "colab": {}
      },
      "source": [
        ""
      ],
      "execution_count": 0,
      "outputs": []
    },
    {
      "cell_type": "code",
      "metadata": {
        "id": "k_a63D25UIVR",
        "colab_type": "code",
        "colab": {}
      },
      "source": [
        "sample1 = data.sample(frac=0.01)\n"
      ],
      "execution_count": 0,
      "outputs": []
    },
    {
      "cell_type": "code",
      "metadata": {
        "id": "MY_2CISNLL2s",
        "colab_type": "code",
        "colab": {}
      },
      "source": [
        "cv = CountVectorizer(max_features=500)\n",
        "X_cv = cv.fit_transform(sample1['title'])\n",
        "\n",
        "y_cv = sample1['category_name']"
      ],
      "execution_count": 0,
      "outputs": []
    },
    {
      "cell_type": "code",
      "metadata": {
        "id": "NsBOFx7kRmbp",
        "colab_type": "code",
        "colab": {}
      },
      "source": [
        "tfidf = TfidfVectorizer(max_features=500)\n",
        "X_tf = tfidf.fit_transform(sample1['title'])\n",
        "y_tf = sample1['category_name']\n"
      ],
      "execution_count": 0,
      "outputs": []
    },
    {
      "cell_type": "code",
      "metadata": {
        "id": "RoMqc4x4UMLu",
        "colab_type": "code",
        "outputId": "d381c5c2-3bcf-496e-d1f9-174364f87e7a",
        "colab": {
          "base_uri": "https://localhost:8080/",
          "height": 34
        }
      },
      "source": [
        "cluster1_cv = AffinityPropagation(damping=0.7, preference=-5, \n",
        "                              max_iter=400, verbose=2)\n",
        "cluster1_cv.fit(X_cv)\n",
        "labels1_cv = cluster1_cv.labels_"
      ],
      "execution_count": 100,
      "outputs": [
        {
          "output_type": "stream",
          "text": [
            "Converged after 104 iterations.\n"
          ],
          "name": "stdout"
        }
      ]
    },
    {
      "cell_type": "code",
      "metadata": {
        "id": "k8vExSizUtNc",
        "colab_type": "code",
        "outputId": "2fd507d8-6617-4199-9ec8-634a544472ed",
        "colab": {
          "base_uri": "https://localhost:8080/",
          "height": 34
        }
      },
      "source": [
        "cluster1_tf = AffinityPropagation(damping=0.7, preference=-5, \n",
        "                              max_iter=400, verbose=2)\n",
        "cluster1_tf.fit(X_tf)\n",
        "labels1_tf = cluster1_tf.labels_"
      ],
      "execution_count": 101,
      "outputs": [
        {
          "output_type": "stream",
          "text": [
            "Converged after 17 iterations.\n"
          ],
          "name": "stdout"
        }
      ]
    },
    {
      "cell_type": "code",
      "metadata": {
        "id": "I0BDIQZGX3uA",
        "colab_type": "code",
        "outputId": "4f79ec40-a712-485a-fff9-5ce83e05a940",
        "colab": {
          "base_uri": "https://localhost:8080/",
          "height": 238
        }
      },
      "source": [
        "cluster_metrics(cluster1_cv, sample1, 11, X_cv, y_cv)"
      ],
      "execution_count": 102,
      "outputs": [
        {
          "output_type": "stream",
          "text": [
            "Silhouette Coefficient: -0.023\n",
            "Homogeneity: 0.462\n",
            "Completeness: 0.399\n",
            "V-measure: 0.428\n",
            "Adjusted Rand Index: 0.066\n",
            "Adjusted Mutual Information: 0.129\n",
            "      category_name                             title  cluster\n",
            "2757       Квартиры  3-к квартира, 88.7 м², 10/16 эт.       11\n",
            "35998      Квартиры     1-к квартира, 36 м², 3/10 эт.       11\n",
            "33552      Квартиры     2-к квартира, 54 м², 2/10 эт.       11\n",
            "32390      Квартиры     1-к квартира, 42 м², 9/10 эт.       11\n",
            "28453      Квартиры     1-к квартира, 38 м², 5/10 эт.       11\n",
            "16688      Квартиры     1-к квартира, 37 м², 5/10 эт.       11\n"
          ],
          "name": "stdout"
        }
      ]
    },
    {
      "cell_type": "code",
      "metadata": {
        "id": "t4TeUYGcX3wV",
        "colab_type": "code",
        "outputId": "2ae1002e-786b-47f5-e426-7aba9f0aeec2",
        "colab": {
          "base_uri": "https://localhost:8080/",
          "height": 255
        }
      },
      "source": [
        "cluster_metrics(cluster1_tf, sample1, 11, X_tf, y_tf)"
      ],
      "execution_count": 103,
      "outputs": [
        {
          "output_type": "stream",
          "text": [
            "Silhouette Coefficient: -0.026\n",
            "Homogeneity: 0.331\n",
            "Completeness: 0.332\n",
            "V-measure: 0.331\n",
            "Adjusted Rand Index: 0.065\n",
            "Adjusted Mutual Information: 0.088\n",
            "                    category_name                           title  cluster\n",
            "35020                    Телефоны  Чехол для телефона Alcatel c 7       11\n",
            "26312                 Фототехника                       Смена 8 М       11\n",
            "8820   Товары для детей и игрушки               Мобиль в кроватку       11\n",
            "11631      Детская одежда и обувь                        Колготки       11\n",
            "10874      Детская одежда и обувь                         Жилетка       11\n",
            "880                      Телефоны            LG K8 LTE (Гарантия)       11\n",
            "8329         Билеты и путешествия              Италия в Июне 2017       11\n"
          ],
          "name": "stdout"
        }
      ]
    },
    {
      "cell_type": "code",
      "metadata": {
        "id": "ksPeZdcfX3y2",
        "colab_type": "code",
        "colab": {}
      },
      "source": [
        "cv = CountVectorizer(max_features=500)\n",
        "X_cv = cv.fit_transform(sample1['title'])\n",
        "\n",
        "y_cv = sample1['category_name']"
      ],
      "execution_count": 0,
      "outputs": []
    },
    {
      "cell_type": "code",
      "metadata": {
        "id": "XkXsEKv7aDHq",
        "colab_type": "code",
        "colab": {}
      },
      "source": [
        ""
      ],
      "execution_count": 0,
      "outputs": []
    },
    {
      "cell_type": "code",
      "metadata": {
        "id": "o3RiqZTSaDKF",
        "colab_type": "code",
        "colab": {}
      },
      "source": [
        ""
      ],
      "execution_count": 0,
      "outputs": []
    },
    {
      "cell_type": "code",
      "metadata": {
        "id": "e15SSeP5aDMa",
        "colab_type": "code",
        "colab": {}
      },
      "source": [
        ""
      ],
      "execution_count": 0,
      "outputs": []
    },
    {
      "cell_type": "code",
      "metadata": {
        "id": "faUQd5imaDPI",
        "colab_type": "code",
        "colab": {}
      },
      "source": [
        ""
      ],
      "execution_count": 0,
      "outputs": []
    },
    {
      "cell_type": "code",
      "metadata": {
        "id": "JIq11vt0aFs5",
        "colab_type": "code",
        "colab": {}
      },
      "source": [
        ""
      ],
      "execution_count": 0,
      "outputs": []
    },
    {
      "cell_type": "code",
      "metadata": {
        "id": "RnKSaY6DaFvO",
        "colab_type": "code",
        "colab": {}
      },
      "source": [
        ""
      ],
      "execution_count": 0,
      "outputs": []
    },
    {
      "cell_type": "code",
      "metadata": {
        "id": "SdoVSadDVVfL",
        "colab_type": "code",
        "colab": {}
      },
      "source": [
        "sample = data.sample(frac=0.01)\n",
        "cv = CountVectorizer(max_features=500)\n",
        "tfidf = TfidfVectorizer(max_features=500)\n",
        "svd = TruncatedSVD(50)\n",
        "nmf = NMF(50)\n",
        "X_cv = cv.fit_transform(sample['title'])\n",
        "X_cv = tfidf.fit_transform(sample['title'])\n",
        "y_cv = sample1['category_name']\n",
        "\n",
        "X_svd_cv = svd.fit_transform(X_cv)\n",
        "X_svd_tf = svd.fit_transform(X_tf)\n",
        "\n",
        "X_nmf_cv = svd.fit_transform(X_cv)\n",
        "X_nmf_tf = svd.fit_transform(X_tf)\n",
        "\n",
        "\n",
        "y = sample['category_name']"
      ],
      "execution_count": 0,
      "outputs": []
    },
    {
      "cell_type": "code",
      "metadata": {
        "id": "Q_0mcJI1gwYx",
        "colab_type": "code",
        "outputId": "6cd9e665-d581-4f6d-908a-90c0417911f1",
        "colab": {
          "base_uri": "https://localhost:8080/",
          "height": 68
        }
      },
      "source": [
        "# cluster2 = AgglomerativeClustering(n_clusters=170)\n",
        "# cluster2_svd_cv.fit(X_svd_cv)\n",
        "\n",
        "cluster2_svd_cv = AgglomerativeClustering(n_clusters=170)\n",
        "cluster2_svd_cv.fit(X_svd_cv)\n",
        "\n",
        "cluster2_svd_tf = AgglomerativeClustering(n_clusters=170)\n",
        "cluster2_svd_tf.fit(X_svd_tf)\n",
        "\n",
        "cluster2_nmf_cv = AgglomerativeClustering(n_clusters=170)\n",
        "cluster2_nmf_cv.fit(X_nmf_cv)\n",
        "\n",
        "cluster2_nmf_tf = AgglomerativeClustering(n_clusters=170)\n",
        "cluster2_nmf_tf.fit(X_nmf_tf)\n"
      ],
      "execution_count": 71,
      "outputs": [
        {
          "output_type": "execute_result",
          "data": {
            "text/plain": [
              "AgglomerativeClustering(affinity='euclidean', compute_full_tree='auto',\n",
              "                        connectivity=None, distance_threshold=None,\n",
              "                        linkage='ward', memory=None, n_clusters=170)"
            ]
          },
          "metadata": {
            "tags": []
          },
          "execution_count": 71
        }
      ]
    },
    {
      "cell_type": "code",
      "metadata": {
        "id": "eRBIyqXDh0xH",
        "colab_type": "code",
        "outputId": "7c12265c-60a4-480f-fbe7-003781c2477d",
        "colab": {
          "base_uri": "https://localhost:8080/",
          "height": 204
        }
      },
      "source": [
        "cluster_metrics(cluster2_svd_cv, sample1, 11, X_svd_cv, y_cv)"
      ],
      "execution_count": 72,
      "outputs": [
        {
          "output_type": "stream",
          "text": [
            "Silhouette Coefficient: 0.375\n",
            "Homogeneity: 0.642\n",
            "Completeness: 0.421\n",
            "V-measure: 0.508\n",
            "Adjusted Rand Index: 0.005\n",
            "Adjusted Mutual Information: 0.012\n",
            "            item_id       user_id  ... image_top_1 cluster\n",
            "4156   e5d721e713d8  33e16cf248c0  ...       386.0      11\n",
            "21064  a3e29296dda1  0c3b1f60f933  ...        86.0      11\n",
            "\n",
            "[2 rows x 18 columns]\n"
          ],
          "name": "stdout"
        }
      ]
    },
    {
      "cell_type": "code",
      "metadata": {
        "id": "r022mUmch_JJ",
        "colab_type": "code",
        "outputId": "1018dae4-28f5-4601-831b-96897d929aaa",
        "colab": {
          "base_uri": "https://localhost:8080/",
          "height": 221
        }
      },
      "source": [
        "cluster_metrics(cluster2_svd_tf, sample1, 11, X_svd_tf, y_cv)"
      ],
      "execution_count": 73,
      "outputs": [
        {
          "output_type": "stream",
          "text": [
            "Silhouette Coefficient: 0.383\n",
            "Homogeneity: 0.681\n",
            "Completeness: 0.458\n",
            "V-measure: 0.548\n",
            "Adjusted Rand Index: 0.008\n",
            "Adjusted Mutual Information: 0.097\n",
            "            item_id       user_id  ... image_top_1 cluster\n",
            "13407  b5bfff80e18a  77254bec9263  ...      2857.0      11\n",
            "2848   cae2e42bb22a  607b268b57bb  ...         NaN      11\n",
            "32303  852eb9650fad  cbb084e04b30  ...      2828.0      11\n",
            "\n",
            "[3 rows x 18 columns]\n"
          ],
          "name": "stdout"
        }
      ]
    },
    {
      "cell_type": "code",
      "metadata": {
        "id": "JIRS1U_Sh_QW",
        "colab_type": "code",
        "outputId": "40d8d859-c35a-47f7-8a49-71e178d07f82",
        "colab": {
          "base_uri": "https://localhost:8080/",
          "height": 204
        }
      },
      "source": [
        "cluster_metrics(cluster2_nmf_cv, sample1, 11, X_nmf_cv, y_cv)"
      ],
      "execution_count": 74,
      "outputs": [
        {
          "output_type": "stream",
          "text": [
            "Silhouette Coefficient: 0.352\n",
            "Homogeneity: 0.651\n",
            "Completeness: 0.422\n",
            "V-measure: 0.512\n",
            "Adjusted Rand Index: 0.004\n",
            "Adjusted Mutual Information: 0.018\n",
            "            item_id       user_id  ... image_top_1 cluster\n",
            "23745  469e00166404  6308f528ff7f  ...         NaN      11\n",
            "5822   2af4ecb68fc5  b37b4fdd738a  ...      2742.0      11\n",
            "\n",
            "[2 rows x 18 columns]\n"
          ],
          "name": "stdout"
        }
      ]
    },
    {
      "cell_type": "code",
      "metadata": {
        "id": "_PE6iUr1h_XL",
        "colab_type": "code",
        "outputId": "f71c45c4-9d01-49f4-cfa5-76f6de4375e2",
        "colab": {
          "base_uri": "https://localhost:8080/",
          "height": 204
        }
      },
      "source": [
        "cluster_metrics(cluster2_nmf_tf, sample1, 1, X_nmf_tf, y_cv)"
      ],
      "execution_count": 75,
      "outputs": [
        {
          "output_type": "stream",
          "text": [
            "Silhouette Coefficient: 0.400\n",
            "Homogeneity: 0.671\n",
            "Completeness: 0.455\n",
            "V-measure: 0.542\n",
            "Adjusted Rand Index: -0.000\n",
            "Adjusted Mutual Information: 0.084\n",
            "            item_id       user_id  ... image_top_1 cluster\n",
            "32368  cd7a51709ffc  4ba882ce8421  ...        88.0       1\n",
            "21726  d5d3a304b543  624f1cf11df0  ...       639.0       1\n",
            "\n",
            "[2 rows x 18 columns]\n"
          ],
          "name": "stdout"
        }
      ]
    },
    {
      "cell_type": "code",
      "metadata": {
        "id": "QFHLytedivJk",
        "colab_type": "code",
        "colab": {}
      },
      "source": [
        "Самый неплохой результат показала пара "
      ],
      "execution_count": 0,
      "outputs": []
    }
  ]
}