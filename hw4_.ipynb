{
  "nbformat": 4,
  "nbformat_minor": 0,
  "metadata": {
    "colab": {
      "name": "Untitled29.ipynb",
      "provenance": [],
      "authorship_tag": "ABX9TyNKE6d5qmT+mIHjOdKihk98",
      "include_colab_link": true
    },
    "kernelspec": {
      "name": "python3",
      "display_name": "Python 3"
    }
  },
  "cells": [
    {
      "cell_type": "markdown",
      "metadata": {
        "id": "view-in-github",
        "colab_type": "text"
      },
      "source": [
        "<a href=\"https://colab.research.google.com/github/DmitryKutsev/ml_hw/blob/master/hw4_.ipynb\" target=\"_parent\"><img src=\"https://colab.research.google.com/assets/colab-badge.svg\" alt=\"Open In Colab\"/></a>"
      ]
    },
    {
      "cell_type": "code",
      "metadata": {
        "id": "f-mQYZ5SV5Ik",
        "colab_type": "code",
        "outputId": "e4567baf-be8a-4148-f539-65604267b1e3",
        "colab": {
          "base_uri": "https://localhost:8080/",
          "height": 217
        }
      },
      "source": [
        "!wget https://raw.githubusercontent.com/DmitryKutsev/ml_hw/master/small_data.csv\n"
      ],
      "execution_count": 1,
      "outputs": [
        {
          "output_type": "stream",
          "text": [
            "--2020-03-24 11:14:17--  https://raw.githubusercontent.com/DmitryKutsev/ml_hw/master/small_data.csv\n",
            "Resolving raw.githubusercontent.com (raw.githubusercontent.com)... 151.101.0.133, 151.101.64.133, 151.101.128.133, ...\n",
            "Connecting to raw.githubusercontent.com (raw.githubusercontent.com)|151.101.0.133|:443... connected.\n",
            "HTTP request sent, awaiting response... 200 OK\n",
            "Length: 24394136 (23M) [text/plain]\n",
            "Saving to: ‘small_data.csv’\n",
            "\n",
            "small_data.csv      100%[===================>]  23.26M  40.8MB/s    in 0.6s    \n",
            "\n",
            "2020-03-24 11:14:17 (40.8 MB/s) - ‘small_data.csv’ saved [24394136/24394136]\n",
            "\n"
          ],
          "name": "stdout"
        }
      ]
    },
    {
      "cell_type": "code",
      "metadata": {
        "id": "qqiICcEeWA-7",
        "colab_type": "code",
        "colab": {}
      },
      "source": [
        "import pandas as pd\n",
        "from sklearn import cluster\n",
        "from sklearn import metrics\n",
        "from sklearn.feature_extraction.text import CountVectorizer\n",
        "from sklearn.feature_extraction.text import TfidfVectorizer\n",
        "from sklearn.cluster import AffinityPropagation, MeanShift, AgglomerativeClustering\n",
        "from sklearn.decomposition import TruncatedSVD, NMF"
      ],
      "execution_count": 0,
      "outputs": []
    },
    {
      "cell_type": "code",
      "metadata": {
        "id": "evQa_bwUoXFQ",
        "colab_type": "code",
        "colab": {}
      },
      "source": [
        "\n",
        "from sklearn.cluster import AffinityPropagation, AgglomerativeClustering, DBSCAN, \\\n",
        "                            KMeans, MiniBatchKMeans, Birch, MeanShift, SpectralClustering\n",
        "from sklearn.metrics import adjusted_rand_score, adjusted_mutual_info_score, \\\n",
        "                            silhouette_score\n",
        "\n",
        "from sklearn.feature_extraction.text import CountVectorizer\n",
        "from sklearn.decomposition import TruncatedSVD, NMF\n",
        "from sklearn import metrics\n",
        "from sklearn.datasets import make_blobs"
      ],
      "execution_count": 0,
      "outputs": []
    },
    {
      "cell_type": "code",
      "metadata": {
        "id": "6qnF2VDAXI5v",
        "colab_type": "code",
        "colab": {}
      },
      "source": [
        "data = pd.read_csv('small_data.csv')"
      ],
      "execution_count": 0,
      "outputs": []
    },
    {
      "cell_type": "code",
      "metadata": {
        "id": "muMQC4LqpA6T",
        "colab_type": "code",
        "outputId": "e5d40691-ece2-4a9e-9a1b-a52c080de91e",
        "colab": {
          "base_uri": "https://localhost:8080/",
          "height": 512
        }
      },
      "source": [
        "data.head(5)"
      ],
      "execution_count": 5,
      "outputs": [
        {
          "output_type": "execute_result",
          "data": {
            "text/html": [
              "<div>\n",
              "<style scoped>\n",
              "    .dataframe tbody tr th:only-of-type {\n",
              "        vertical-align: middle;\n",
              "    }\n",
              "\n",
              "    .dataframe tbody tr th {\n",
              "        vertical-align: top;\n",
              "    }\n",
              "\n",
              "    .dataframe thead th {\n",
              "        text-align: right;\n",
              "    }\n",
              "</style>\n",
              "<table border=\"1\" class=\"dataframe\">\n",
              "  <thead>\n",
              "    <tr style=\"text-align: right;\">\n",
              "      <th></th>\n",
              "      <th>item_id</th>\n",
              "      <th>user_id</th>\n",
              "      <th>region</th>\n",
              "      <th>city</th>\n",
              "      <th>parent_category_name</th>\n",
              "      <th>category_name</th>\n",
              "      <th>param_1</th>\n",
              "      <th>param_2</th>\n",
              "      <th>param_3</th>\n",
              "      <th>title</th>\n",
              "      <th>description</th>\n",
              "      <th>price</th>\n",
              "      <th>item_seq_number</th>\n",
              "      <th>activation_date</th>\n",
              "      <th>user_type</th>\n",
              "      <th>image</th>\n",
              "      <th>image_top_1</th>\n",
              "    </tr>\n",
              "  </thead>\n",
              "  <tbody>\n",
              "    <tr>\n",
              "      <th>0</th>\n",
              "      <td>793dd3d5f0f0</td>\n",
              "      <td>9467e0341c0e</td>\n",
              "      <td>Алтайский край</td>\n",
              "      <td>Барнаул</td>\n",
              "      <td>Личные вещи</td>\n",
              "      <td>Детская одежда и обувь</td>\n",
              "      <td>Для девочек</td>\n",
              "      <td>Платья и юбки</td>\n",
              "      <td>146-152 см (10-12 лет)</td>\n",
              "      <td>Платье праздничное для девочки</td>\n",
              "      <td>Очень красивое торг</td>\n",
              "      <td>1500.0</td>\n",
              "      <td>106</td>\n",
              "      <td>2017-04-12</td>\n",
              "      <td>Company</td>\n",
              "      <td>ace7b2b7f066a6b6ff244f90d030c2c1a1bf118dd0e1ac...</td>\n",
              "      <td>573.0</td>\n",
              "    </tr>\n",
              "    <tr>\n",
              "      <th>1</th>\n",
              "      <td>f8c965d9b668</td>\n",
              "      <td>1905516660f5</td>\n",
              "      <td>Свердловская область</td>\n",
              "      <td>Каменск-Уральский</td>\n",
              "      <td>Для дома и дачи</td>\n",
              "      <td>Мебель и интерьер</td>\n",
              "      <td>Кровати, диваны и кресла</td>\n",
              "      <td>NaN</td>\n",
              "      <td>NaN</td>\n",
              "      <td>Кровать двухспальная</td>\n",
              "      <td>Двуспальная кровать 140х200 с металлическим ка...</td>\n",
              "      <td>5700.0</td>\n",
              "      <td>10</td>\n",
              "      <td>2017-04-15</td>\n",
              "      <td>Private</td>\n",
              "      <td>b38ef24dd5b876ed626bd98241e228e4e19e4160d33abe...</td>\n",
              "      <td>1439.0</td>\n",
              "    </tr>\n",
              "    <tr>\n",
              "      <th>2</th>\n",
              "      <td>2f153c00d561</td>\n",
              "      <td>b4dc4849fdd4</td>\n",
              "      <td>Самарская область</td>\n",
              "      <td>Самара</td>\n",
              "      <td>Бытовая электроника</td>\n",
              "      <td>Телефоны</td>\n",
              "      <td>Samsung</td>\n",
              "      <td>NaN</td>\n",
              "      <td>NaN</td>\n",
              "      <td>Samsung S3 mini gt-i8190</td>\n",
              "      <td>Продам телефон самсунг 2 ядра, 1 гиг оперативн...</td>\n",
              "      <td>1500.0</td>\n",
              "      <td>6</td>\n",
              "      <td>2017-04-12</td>\n",
              "      <td>Private</td>\n",
              "      <td>8530cc0c8d5dc6d212497dffd610d89b92a7db952934db...</td>\n",
              "      <td>2932.0</td>\n",
              "    </tr>\n",
              "    <tr>\n",
              "      <th>3</th>\n",
              "      <td>7fc5eea56915</td>\n",
              "      <td>02c14d39fdb4</td>\n",
              "      <td>Саратовская область</td>\n",
              "      <td>Саратов</td>\n",
              "      <td>Личные вещи</td>\n",
              "      <td>Одежда, обувь, аксессуары</td>\n",
              "      <td>Женская одежда</td>\n",
              "      <td>Платья и юбки</td>\n",
              "      <td>44–46 (M)</td>\n",
              "      <td>Красивое платье на одно плечо, в идеале размер м</td>\n",
              "      <td>Заказывала в Сша, прекрасное качество, в деле ...</td>\n",
              "      <td>1000.0</td>\n",
              "      <td>1280</td>\n",
              "      <td>2017-04-13</td>\n",
              "      <td>Company</td>\n",
              "      <td>eb21745ba276d3b00b05856a58fe719e31a82419c0221a...</td>\n",
              "      <td>386.0</td>\n",
              "    </tr>\n",
              "    <tr>\n",
              "      <th>4</th>\n",
              "      <td>b01000d29ea3</td>\n",
              "      <td>b17f14110367</td>\n",
              "      <td>Удмуртия</td>\n",
              "      <td>Ижевск</td>\n",
              "      <td>Личные вещи</td>\n",
              "      <td>Детская одежда и обувь</td>\n",
              "      <td>Для мальчиков</td>\n",
              "      <td>Шапки, варежки, шарфы</td>\n",
              "      <td>NaN</td>\n",
              "      <td>Стильная панама</td>\n",
              "      <td>Состояние новой. Размер до года- полтора.  По ...</td>\n",
              "      <td>150.0</td>\n",
              "      <td>145</td>\n",
              "      <td>2017-04-14</td>\n",
              "      <td>Company</td>\n",
              "      <td>5bf1001fa681b96f121ad8047c85e3747f3dac37830dd0...</td>\n",
              "      <td>209.0</td>\n",
              "    </tr>\n",
              "  </tbody>\n",
              "</table>\n",
              "</div>"
            ],
            "text/plain": [
              "        item_id  ... image_top_1\n",
              "0  793dd3d5f0f0  ...       573.0\n",
              "1  f8c965d9b668  ...      1439.0\n",
              "2  2f153c00d561  ...      2932.0\n",
              "3  7fc5eea56915  ...       386.0\n",
              "4  b01000d29ea3  ...       209.0\n",
              "\n",
              "[5 rows x 17 columns]"
            ]
          },
          "metadata": {
            "tags": []
          },
          "execution_count": 5
        }
      ]
    },
    {
      "cell_type": "code",
      "metadata": {
        "id": "JO1BF_bApEYZ",
        "colab_type": "code",
        "colab": {}
      },
      "source": [
        "data = data[['category_name', 'title']]"
      ],
      "execution_count": 0,
      "outputs": []
    },
    {
      "cell_type": "code",
      "metadata": {
        "id": "JUpztKAdpTRr",
        "colab_type": "code",
        "outputId": "8b14b7d1-d5b3-4016-8dd0-55f43d58090f",
        "colab": {
          "base_uri": "https://localhost:8080/",
          "height": 35
        }
      },
      "source": [
        "data.shape"
      ],
      "execution_count": 7,
      "outputs": [
        {
          "output_type": "execute_result",
          "data": {
            "text/plain": [
              "(37339, 2)"
            ]
          },
          "metadata": {
            "tags": []
          },
          "execution_count": 7
        }
      ]
    },
    {
      "cell_type": "code",
      "metadata": {
        "id": "wZWi0G9ipWuI",
        "colab_type": "code",
        "colab": {}
      },
      "source": [
        "sample = data.sample(frac=0.1)"
      ],
      "execution_count": 0,
      "outputs": []
    },
    {
      "cell_type": "code",
      "metadata": {
        "id": "AG89Quw2pbBw",
        "colab_type": "code",
        "outputId": "62390798-8b65-4441-ce7e-2a3e794e1ec4",
        "colab": {
          "base_uri": "https://localhost:8080/",
          "height": 35
        }
      },
      "source": [
        "sample.shape"
      ],
      "execution_count": 9,
      "outputs": [
        {
          "output_type": "execute_result",
          "data": {
            "text/plain": [
              "(3734, 2)"
            ]
          },
          "metadata": {
            "tags": []
          },
          "execution_count": 9
        }
      ]
    },
    {
      "cell_type": "code",
      "metadata": {
        "id": "L9qW0qLqFupm",
        "colab_type": "code",
        "colab": {}
      },
      "source": [
        "#################################################"
      ],
      "execution_count": 0,
      "outputs": []
    },
    {
      "cell_type": "code",
      "metadata": {
        "id": "Z42gZfMopeqx",
        "colab_type": "code",
        "colab": {}
      },
      "source": [
        "\n",
        "cv = CountVectorizer(max_features=500)\n",
        "X = cv.fit_transform(sample['title'])\n",
        "\n",
        "y = sample['category_name']"
      ],
      "execution_count": 0,
      "outputs": []
    },
    {
      "cell_type": "code",
      "metadata": {
        "id": "lfu_xm_VHzKo",
        "colab_type": "code",
        "outputId": "11bd122f-ba62-43b5-b0e3-3ccd21116f47",
        "colab": {
          "base_uri": "https://localhost:8080/",
          "height": 72
        }
      },
      "source": [
        "cluster = AffinityPropagation(damping=0.7, preference=-5, \n",
        "                              max_iter=400, verbose=2)\n",
        "cluster.fit(X)"
      ],
      "execution_count": 12,
      "outputs": [
        {
          "output_type": "stream",
          "text": [
            "Converged after 195 iterations.\n"
          ],
          "name": "stdout"
        },
        {
          "output_type": "execute_result",
          "data": {
            "text/plain": [
              "AffinityPropagation(affinity='euclidean', convergence_iter=15, copy=True,\n",
              "                    damping=0.7, max_iter=400, preference=-5, verbose=2)"
            ]
          },
          "metadata": {
            "tags": []
          },
          "execution_count": 12
        }
      ]
    },
    {
      "cell_type": "code",
      "metadata": {
        "id": "00gMMa6GpmUg",
        "colab_type": "code",
        "colab": {}
      },
      "source": [
        "labels = cluster.labels_"
      ],
      "execution_count": 0,
      "outputs": []
    },
    {
      "cell_type": "code",
      "metadata": {
        "id": "eY6JLCj_H0iq",
        "colab_type": "code",
        "outputId": "8fe81294-a4e0-484c-fdf8-2ba379917f14",
        "colab": {
          "base_uri": "https://localhost:8080/",
          "height": 35
        }
      },
      "source": [
        "n_clusters = len(set(labels))\n",
        "n_clusters"
      ],
      "execution_count": 14,
      "outputs": [
        {
          "output_type": "execute_result",
          "data": {
            "text/plain": [
              "210"
            ]
          },
          "metadata": {
            "tags": []
          },
          "execution_count": 14
        }
      ]
    },
    {
      "cell_type": "code",
      "metadata": {
        "id": "a6Q5oz5tH7wu",
        "colab_type": "code",
        "outputId": "f6e09040-4c75-42c8-aad2-d16776cf5b91",
        "colab": {
          "base_uri": "https://localhost:8080/",
          "height": 35
        }
      },
      "source": [
        "print(\"Silhouette Coefficient: %0.3f\"\n",
        "      % metrics.silhouette_score(X, labels))"
      ],
      "execution_count": 15,
      "outputs": [
        {
          "output_type": "stream",
          "text": [
            "Silhouette Coefficient: 0.344\n"
          ],
          "name": "stdout"
        }
      ]
    },
    {
      "cell_type": "code",
      "metadata": {
        "id": "gP19SL0qR-ge",
        "colab_type": "code",
        "outputId": "ad94899a-9e0c-4345-97ed-a9ed696adcbb",
        "colab": {
          "base_uri": "https://localhost:8080/",
          "height": 108
        }
      },
      "source": [
        "# эти три метрки что-то вроде точности, полноты и ф-меры для кластеризации\n",
        "print(\"Homogeneity: %0.3f\" % metrics.homogeneity_score(y, labels)) # проверяет, что в кластере объекты одного класса\n",
        "print(\"Completeness: %0.3f\" % metrics.completeness_score(y, labels)) # проверяет, что объекты класса только в одном кластере\n",
        "print(\"V-measure: %0.3f\" % metrics.v_measure_score(y, labels)) # превращает обе метрики в одну \n",
        "\n",
        "print(\"Adjusted Rand Index: %0.3f\"\n",
        "      % metrics.adjusted_rand_score(y, labels))\n",
        "print(\"Adjusted Mutual Information: %0.3f\"\n",
        "      % metrics.adjusted_mutual_info_score(y, labels))"
      ],
      "execution_count": 16,
      "outputs": [
        {
          "output_type": "stream",
          "text": [
            "Homogeneity: 0.513\n",
            "Completeness: 0.384\n",
            "V-measure: 0.439\n",
            "Adjusted Rand Index: 0.002\n",
            "Adjusted Mutual Information: 0.318\n"
          ],
          "name": "stdout"
        }
      ]
    },
    {
      "cell_type": "code",
      "metadata": {
        "id": "xuWhsGEBTKjp",
        "colab_type": "code",
        "colab": {}
      },
      "source": [
        "sample['cluster'] = cluster.labels_"
      ],
      "execution_count": 0,
      "outputs": []
    },
    {
      "cell_type": "code",
      "metadata": {
        "id": "WZXJpLanlP3u",
        "colab_type": "code",
        "outputId": "e2cb7371-3c86-4db2-9f09-c20e297b19cc",
        "colab": {
          "base_uri": "https://localhost:8080/",
          "height": 348
        }
      },
      "source": [
        "sample[sample.cluster==19].head(10)"
      ],
      "execution_count": 18,
      "outputs": [
        {
          "output_type": "execute_result",
          "data": {
            "text/html": [
              "<div>\n",
              "<style scoped>\n",
              "    .dataframe tbody tr th:only-of-type {\n",
              "        vertical-align: middle;\n",
              "    }\n",
              "\n",
              "    .dataframe tbody tr th {\n",
              "        vertical-align: top;\n",
              "    }\n",
              "\n",
              "    .dataframe thead th {\n",
              "        text-align: right;\n",
              "    }\n",
              "</style>\n",
              "<table border=\"1\" class=\"dataframe\">\n",
              "  <thead>\n",
              "    <tr style=\"text-align: right;\">\n",
              "      <th></th>\n",
              "      <th>category_name</th>\n",
              "      <th>title</th>\n",
              "      <th>cluster</th>\n",
              "    </tr>\n",
              "  </thead>\n",
              "  <tbody>\n",
              "    <tr>\n",
              "      <th>35577</th>\n",
              "      <td>Одежда, обувь, аксессуары</td>\n",
              "      <td>Рубашка</td>\n",
              "      <td>19</td>\n",
              "    </tr>\n",
              "    <tr>\n",
              "      <th>31873</th>\n",
              "      <td>Одежда, обувь, аксессуары</td>\n",
              "      <td>Рубашка love republik</td>\n",
              "      <td>19</td>\n",
              "    </tr>\n",
              "    <tr>\n",
              "      <th>20384</th>\n",
              "      <td>Одежда, обувь, аксессуары</td>\n",
              "      <td>Рубашка</td>\n",
              "      <td>19</td>\n",
              "    </tr>\n",
              "    <tr>\n",
              "      <th>34205</th>\n",
              "      <td>Детская одежда и обувь</td>\n",
              "      <td>Рубашка школьная</td>\n",
              "      <td>19</td>\n",
              "    </tr>\n",
              "    <tr>\n",
              "      <th>25228</th>\n",
              "      <td>Одежда, обувь, аксессуары</td>\n",
              "      <td>Белая рубашка savage 42 р-р</td>\n",
              "      <td>19</td>\n",
              "    </tr>\n",
              "    <tr>\n",
              "      <th>18599</th>\n",
              "      <td>Детская одежда и обувь</td>\n",
              "      <td>Рубашка на мальчика, фирменная</td>\n",
              "      <td>19</td>\n",
              "    </tr>\n",
              "    <tr>\n",
              "      <th>7567</th>\n",
              "      <td>Одежда, обувь, аксессуары</td>\n",
              "      <td>Рубашка терракотовая</td>\n",
              "      <td>19</td>\n",
              "    </tr>\n",
              "    <tr>\n",
              "      <th>10863</th>\n",
              "      <td>Одежда, обувь, аксессуары</td>\n",
              "      <td>Рубашка</td>\n",
              "      <td>19</td>\n",
              "    </tr>\n",
              "    <tr>\n",
              "      <th>17595</th>\n",
              "      <td>Одежда, обувь, аксессуары</td>\n",
              "      <td>Рубашка Ostin</td>\n",
              "      <td>19</td>\n",
              "    </tr>\n",
              "    <tr>\n",
              "      <th>7225</th>\n",
              "      <td>Одежда, обувь, аксессуары</td>\n",
              "      <td>Рубашка и джинсы</td>\n",
              "      <td>19</td>\n",
              "    </tr>\n",
              "  </tbody>\n",
              "</table>\n",
              "</div>"
            ],
            "text/plain": [
              "                   category_name                           title  cluster\n",
              "35577  Одежда, обувь, аксессуары                         Рубашка       19\n",
              "31873  Одежда, обувь, аксессуары           Рубашка love republik       19\n",
              "20384  Одежда, обувь, аксессуары                         Рубашка       19\n",
              "34205     Детская одежда и обувь                Рубашка школьная       19\n",
              "25228  Одежда, обувь, аксессуары     Белая рубашка savage 42 р-р       19\n",
              "18599     Детская одежда и обувь  Рубашка на мальчика, фирменная       19\n",
              "7567   Одежда, обувь, аксессуары            Рубашка терракотовая       19\n",
              "10863  Одежда, обувь, аксессуары                         Рубашка       19\n",
              "17595  Одежда, обувь, аксессуары                   Рубашка Ostin       19\n",
              "7225   Одежда, обувь, аксессуары                Рубашка и джинсы       19"
            ]
          },
          "metadata": {
            "tags": []
          },
          "execution_count": 18
        }
      ]
    },
    {
      "cell_type": "code",
      "metadata": {
        "id": "5MciAzoATQmG",
        "colab_type": "code",
        "outputId": "8270d7b0-3625-4765-f1b4-c6ee2f798ef3",
        "colab": {
          "base_uri": "https://localhost:8080/",
          "height": 454
        }
      },
      "source": [
        "sample[sample.category_name=='Телефоны'].cluster.value_counts()"
      ],
      "execution_count": 19,
      "outputs": [
        {
          "output_type": "execute_result",
          "data": {
            "text/plain": [
              "1      45\n",
              "178    16\n",
              "113    12\n",
              "123     9\n",
              "100     9\n",
              "7       8\n",
              "138     7\n",
              "173     6\n",
              "153     6\n",
              "47      5\n",
              "4       5\n",
              "90      5\n",
              "34      5\n",
              "2       4\n",
              "99      4\n",
              "180     4\n",
              "149     3\n",
              "181     3\n",
              "54      2\n",
              "70      2\n",
              "8       2\n",
              "53      1\n",
              "130     1\n",
              "Name: cluster, dtype: int64"
            ]
          },
          "metadata": {
            "tags": []
          },
          "execution_count": 19
        }
      ]
    },
    {
      "cell_type": "code",
      "metadata": {
        "id": "CjxDGRJQUIQD",
        "colab_type": "code",
        "colab": {}
      },
      "source": [
        "########################"
      ],
      "execution_count": 0,
      "outputs": []
    },
    {
      "cell_type": "code",
      "metadata": {
        "id": "oyRA0i35Krtp",
        "colab_type": "code",
        "colab": {}
      },
      "source": [
        "def cluster_metrics(cluster, sample, cluster_num, X, y):\n",
        "  labels = cluster.labels_\n",
        "\n",
        "  print(\"Silhouette Coefficient: %0.3f\"\n",
        "      % metrics.silhouette_score(X[:10000], labels[:10000]))\n",
        "  \n",
        " \n",
        "  print(\"Homogeneity: %0.3f\" % metrics.homogeneity_score(y, labels)) \n",
        "  print(\"Completeness: %0.3f\" % metrics.completeness_score(y, labels))\n",
        "  print(\"V-measure: %0.3f\" % metrics.v_measure_score(y, labels)) \n",
        "\n",
        "  print(\"Adjusted Rand Index: %0.3f\"\n",
        "        % metrics.adjusted_rand_score(y, labels))\n",
        "  print(\"Adjusted Mutual Information: %0.3f\"\n",
        "        % metrics.adjusted_mutual_info_score(y, labels))\n",
        "  \n",
        "  sample['cluster'] = cluster.labels_\n",
        "  print(sample[sample.cluster==cluster_num].head(7)) \n"
      ],
      "execution_count": 0,
      "outputs": []
    },
    {
      "cell_type": "code",
      "metadata": {
        "id": "y69XuDHgUISh",
        "colab_type": "code",
        "colab": {}
      },
      "source": [
        ""
      ],
      "execution_count": 0,
      "outputs": []
    },
    {
      "cell_type": "code",
      "metadata": {
        "id": "k_a63D25UIVR",
        "colab_type": "code",
        "colab": {}
      },
      "source": [
        "sample1 = data.sample(frac=0.01)\n"
      ],
      "execution_count": 0,
      "outputs": []
    },
    {
      "cell_type": "code",
      "metadata": {
        "id": "MY_2CISNLL2s",
        "colab_type": "code",
        "colab": {}
      },
      "source": [
        "cv = CountVectorizer(max_features=500)\n",
        "X_cv = cv.fit_transform(sample1['title'])\n",
        "\n",
        "y_cv = sample1['category_name']"
      ],
      "execution_count": 0,
      "outputs": []
    },
    {
      "cell_type": "code",
      "metadata": {
        "id": "NsBOFx7kRmbp",
        "colab_type": "code",
        "colab": {}
      },
      "source": [
        "tfidf = TfidfVectorizer(max_features=500)\n",
        "X_tf = tfidf.fit_transform(sample1['title'])\n",
        "y_tf = sample1['category_name']\n"
      ],
      "execution_count": 0,
      "outputs": []
    },
    {
      "cell_type": "code",
      "metadata": {
        "id": "RoMqc4x4UMLu",
        "colab_type": "code",
        "outputId": "df0aaf85-55a5-4515-f6e6-45218be5e13b",
        "colab": {
          "base_uri": "https://localhost:8080/",
          "height": 90
        }
      },
      "source": [
        "cluster1_cv = AffinityPropagation(damping=0.7, preference=-5, \n",
        "                              max_iter=400, verbose=2)\n",
        "cluster1_cv.fit(X_cv)\n",
        "labels1_cv = cluster1_cv.labels_\n",
        "\n",
        "cluster2_cv = KMeans(n_clusters=40, max_iter=300, n_init=10)\n",
        "cluster2_cv.fit(X_cv)"
      ],
      "execution_count": 53,
      "outputs": [
        {
          "output_type": "stream",
          "text": [
            "Converged after 128 iterations.\n"
          ],
          "name": "stdout"
        },
        {
          "output_type": "execute_result",
          "data": {
            "text/plain": [
              "KMeans(algorithm='auto', copy_x=True, init='k-means++', max_iter=300,\n",
              "       n_clusters=40, n_init=10, n_jobs=None, precompute_distances='auto',\n",
              "       random_state=None, tol=0.0001, verbose=0)"
            ]
          },
          "metadata": {
            "tags": []
          },
          "execution_count": 53
        }
      ]
    },
    {
      "cell_type": "code",
      "metadata": {
        "id": "k8vExSizUtNc",
        "colab_type": "code",
        "outputId": "35b14e86-9191-4dcf-fea8-0e59678bcff9",
        "colab": {
          "base_uri": "https://localhost:8080/",
          "height": 35
        }
      },
      "source": [
        "cluster1_tf = AffinityPropagation(damping=0.7, preference=-5, \n",
        "                              max_iter=400, verbose=2)\n",
        "\n",
        "cluster2_tf = KMeans(n_clusters=40, max_iter=300, n_init=10)\n",
        "\n",
        "cluster2_tf.fit(X_tf)\n",
        "labels2_tf = cluster2_tf.labels_\n",
        "\n",
        "cluster1_tf.fit(X_tf)\n",
        "labels1_tf = cluster1_tf.labels_"
      ],
      "execution_count": 59,
      "outputs": [
        {
          "output_type": "stream",
          "text": [
            "Converged after 82 iterations.\n"
          ],
          "name": "stdout"
        }
      ]
    },
    {
      "cell_type": "code",
      "metadata": {
        "id": "I0BDIQZGX3uA",
        "colab_type": "code",
        "outputId": "75050332-32c7-41b6-fa27-31f98b968c71",
        "colab": {
          "base_uri": "https://localhost:8080/",
          "height": 199
        }
      },
      "source": [
        "cluster_metrics(cluster1_cv, sample1, 11, X_cv, y_cv)"
      ],
      "execution_count": 60,
      "outputs": [
        {
          "output_type": "stream",
          "text": [
            "Silhouette Coefficient: 0.078\n",
            "Homogeneity: 0.289\n",
            "Completeness: 0.524\n",
            "V-measure: 0.372\n",
            "Adjusted Rand Index: 0.029\n",
            "Adjusted Mutual Information: 0.206\n",
            "                      category_name  ... cluster\n",
            "18552  Планшеты и электронные книги  ...      11\n",
            "\n",
            "[1 rows x 3 columns]\n"
          ],
          "name": "stdout"
        }
      ]
    },
    {
      "cell_type": "code",
      "metadata": {
        "id": "kTvSJtMFS3m6",
        "colab_type": "code",
        "colab": {
          "base_uri": "https://localhost:8080/",
          "height": 308
        },
        "outputId": "d765d089-21fd-4f85-e38d-a8ff09a18599"
      },
      "source": [
        "cluster_metrics(cluster2_cv, sample1, 11, X_cv, y_cv)"
      ],
      "execution_count": 61,
      "outputs": [
        {
          "output_type": "stream",
          "text": [
            "Silhouette Coefficient: 0.020\n",
            "Homogeneity: 0.362\n",
            "Completeness: 0.495\n",
            "V-measure: 0.418\n",
            "Adjusted Rand Index: 0.024\n",
            "Adjusted Mutual Information: 0.212\n",
            "                  category_name  ... cluster\n",
            "17018   Музыкальные инструменты  ...      11\n",
            "11014        Красота и здоровье  ...      11\n",
            "8235   Оборудование для бизнеса  ...      11\n",
            "10821         Мебель и интерьер  ...      11\n",
            "35791             Аудио и видео  ...      11\n",
            "26850  Оборудование для бизнеса  ...      11\n",
            "32325           Бытовая техника  ...      11\n",
            "\n",
            "[7 rows x 3 columns]\n"
          ],
          "name": "stdout"
        }
      ]
    },
    {
      "cell_type": "code",
      "metadata": {
        "id": "t4TeUYGcX3wV",
        "colab_type": "code",
        "outputId": "4c8ca4fe-7d56-4d9c-90d3-7bdaadb47641",
        "colab": {
          "base_uri": "https://localhost:8080/",
          "height": 308
        }
      },
      "source": [
        "cluster_metrics(cluster1_tf, sample1, 11, X_tf, y_tf)"
      ],
      "execution_count": 62,
      "outputs": [
        {
          "output_type": "stream",
          "text": [
            "Silhouette Coefficient: 0.021\n",
            "Homogeneity: 0.309\n",
            "Completeness: 0.320\n",
            "V-measure: 0.314\n",
            "Adjusted Rand Index: 0.071\n",
            "Adjusted Mutual Information: 0.106\n",
            "                    category_name  ... cluster\n",
            "12840     Грузовики и спецтехника  ...      11\n",
            "17720      Детская одежда и обувь  ...      11\n",
            "10419                  Автомобили  ...      11\n",
            "23120   Одежда, обувь, аксессуары  ...      11\n",
            "19722   Одежда, обувь, аксессуары  ...      11\n",
            "2850                     Телефоны  ...      11\n",
            "33052  Товары для детей и игрушки  ...      11\n",
            "\n",
            "[7 rows x 3 columns]\n"
          ],
          "name": "stdout"
        }
      ]
    },
    {
      "cell_type": "code",
      "metadata": {
        "id": "Ra9I_iMcS9mo",
        "colab_type": "code",
        "colab": {
          "base_uri": "https://localhost:8080/",
          "height": 181
        },
        "outputId": "40d575f3-285b-4d8f-a982-7294385a9e5b"
      },
      "source": [
        "cluster_metrics(cluster2_tf, sample1, 11, X_tf, y_tf)"
      ],
      "execution_count": 63,
      "outputs": [
        {
          "output_type": "stream",
          "text": [
            "Silhouette Coefficient: 0.117\n",
            "Homogeneity: 0.341\n",
            "Completeness: 0.497\n",
            "V-measure: 0.405\n",
            "Adjusted Rand Index: 0.003\n",
            "Adjusted Mutual Information: 0.194\n",
            "      category_name               title  cluster\n",
            "10419    Автомобили  Daewoo Nexia, 2001       11\n",
            "22576    Автомобили  Daewoo Matiz, 2007       11\n"
          ],
          "name": "stdout"
        }
      ]
    },
    {
      "cell_type": "code",
      "metadata": {
        "id": "ksPeZdcfX3y2",
        "colab_type": "code",
        "colab": {}
      },
      "source": [
        "cv = CountVectorizer(max_features=500, ngram_range=(1,2))\n",
        "X_cv = cv.fit_transform(sample1['title'])\n",
        "\n",
        "y_cv = sample1['category_name']"
      ],
      "execution_count": 0,
      "outputs": []
    },
    {
      "cell_type": "code",
      "metadata": {
        "id": "XkXsEKv7aDHq",
        "colab_type": "code",
        "colab": {}
      },
      "source": [
        "tfidf = TfidfVectorizer(max_features=500, ngram_range=(1,2))\n",
        "X_tf = tfidf.fit_transform(sample1['title'])\n",
        "y_tf = sample1['category_name']"
      ],
      "execution_count": 0,
      "outputs": []
    },
    {
      "cell_type": "code",
      "metadata": {
        "id": "o3RiqZTSaDKF",
        "colab_type": "code",
        "outputId": "c9a7bb6d-1129-4f65-a7cf-95c9a2d7b976",
        "colab": {
          "base_uri": "https://localhost:8080/",
          "height": 54
        }
      },
      "source": [
        "cluster1_cv = AffinityPropagation(damping=0.7, preference=-5, \n",
        "                              max_iter=400, verbose=2)\n",
        "cluster2_cv = KMeans(n_clusters=40, max_iter=300, n_init=10)\n",
        "\n",
        "cluster1_cv.fit(X_cv)\n",
        "labels1_cv = cluster1_cv.labels_\n",
        "cluster2_cv.fit(X_cv)\n",
        "labels2_cv = cluster2_cv.labels_\n",
        "\n",
        "cluster1_tf = AffinityPropagation(damping=0.7, preference=-5, \n",
        "                              max_iter=400, verbose=2)\n",
        "cluster2_tf = KMeans(n_clusters=40, max_iter=300, n_init=10)\n",
        "\n",
        "cluster1_tf.fit(X_tf)\n",
        "labels1_tf = cluster1_tf.labels_\n",
        "\n",
        "cluster2_tf.fit(X_tf)\n",
        "labels2_tf = cluster2_tf.labels_"
      ],
      "execution_count": 66,
      "outputs": [
        {
          "output_type": "stream",
          "text": [
            "Converged after 194 iterations.\n",
            "Converged after 15 iterations.\n"
          ],
          "name": "stdout"
        }
      ]
    },
    {
      "cell_type": "code",
      "metadata": {
        "id": "e15SSeP5aDMa",
        "colab_type": "code",
        "outputId": "0e3c45b8-4e52-4b26-da25-b7a36490c1c1",
        "colab": {
          "base_uri": "https://localhost:8080/",
          "height": 163
        }
      },
      "source": [
        "cluster_metrics(cluster1_cv, sample1, 11, X_cv, y_cv)"
      ],
      "execution_count": 32,
      "outputs": [
        {
          "output_type": "stream",
          "text": [
            "Silhouette Coefficient: 0.091\n",
            "Homogeneity: 0.352\n",
            "Completeness: 0.494\n",
            "V-measure: 0.411\n",
            "Adjusted Rand Index: 0.013\n",
            "Adjusted Mutual Information: 0.172\n",
            "                category_name               title  cluster\n",
            "21873  Детская одежда и обувь  Куртка весна-осень       11\n"
          ],
          "name": "stdout"
        }
      ]
    },
    {
      "cell_type": "code",
      "metadata": {
        "id": "DbtwS5JaVKDd",
        "colab_type": "code",
        "colab": {
          "base_uri": "https://localhost:8080/",
          "height": 254
        },
        "outputId": "4f195d9c-12f8-4b20-b245-583ff6ea7339"
      },
      "source": [
        "cluster_metrics(cluster2_cv, sample1, 11, X_cv, y_cv)"
      ],
      "execution_count": 67,
      "outputs": [
        {
          "output_type": "stream",
          "text": [
            "Silhouette Coefficient: 0.089\n",
            "Homogeneity: 0.267\n",
            "Completeness: 0.498\n",
            "V-measure: 0.348\n",
            "Adjusted Rand Index: 0.013\n",
            "Adjusted Mutual Information: 0.148\n",
            "              category_name                          title  cluster\n",
            "25199  Дома, дачи, коттеджи   Дом 100 м² на участке 4 сот.       11\n",
            "7178   Дома, дачи, коттеджи   Дача 35 м² на участке 8 сот.       11\n",
            "13780  Дома, дачи, коттеджи   Дом 47 м² на участке 30 сот.       11\n",
            "407    Дома, дачи, коттеджи    Дом 52 м² на участке 4 сот.       11\n",
            "6039   Дома, дачи, коттеджи    Дом 64 м² на участке 7 сот.       11\n",
            "18679  Дома, дачи, коттеджи  Дом 32 м² на участке 7.5 сот.       11\n"
          ],
          "name": "stdout"
        }
      ]
    },
    {
      "cell_type": "code",
      "metadata": {
        "id": "faUQd5imaDPI",
        "colab_type": "code",
        "outputId": "e077672a-60de-4739-9aa6-ac8b1cdf7b2b",
        "colab": {
          "base_uri": "https://localhost:8080/",
          "height": 290
        }
      },
      "source": [
        "cluster_metrics(cluster1_tf, sample1, 11, X_tf, y_tf)"
      ],
      "execution_count": 68,
      "outputs": [
        {
          "output_type": "stream",
          "text": [
            "Silhouette Coefficient: -0.120\n",
            "Homogeneity: 0.416\n",
            "Completeness: 0.324\n",
            "V-measure: 0.364\n",
            "Adjusted Rand Index: 0.003\n",
            "Adjusted Mutual Information: 0.013\n",
            "                    category_name  ... cluster\n",
            "21169  Товары для детей и игрушки  ...      11\n",
            "17251  Товары для детей и игрушки  ...      11\n",
            "11552      Ремонт и строительство  ...      11\n",
            "28639                  Автомобили  ...      11\n",
            "34734      Детская одежда и обувь  ...      11\n",
            "8707    Одежда, обувь, аксессуары  ...      11\n",
            "\n",
            "[6 rows x 3 columns]\n"
          ],
          "name": "stdout"
        }
      ]
    },
    {
      "cell_type": "code",
      "metadata": {
        "id": "44hRULTZVQl3",
        "colab_type": "code",
        "colab": {
          "base_uri": "https://localhost:8080/",
          "height": 199
        },
        "outputId": "8d7d858f-b76c-433e-8f55-1491fade3f1c"
      },
      "source": [
        "cluster_metrics(cluster2_tf, sample1, 11, X_tf, y_tf)"
      ],
      "execution_count": 69,
      "outputs": [
        {
          "output_type": "stream",
          "text": [
            "Silhouette Coefficient: 0.195\n",
            "Homogeneity: 0.318\n",
            "Completeness: 0.481\n",
            "V-measure: 0.383\n",
            "Adjusted Rand Index: -0.003\n",
            "Adjusted Mutual Information: 0.161\n",
            "                   category_name                            title  cluster\n",
            "32603  Одежда, обувь, аксессуары                   Сапоги женские       11\n",
            "7111   Одежда, обувь, аксессуары  Сланцы женские Reebok easy tone       11\n",
            "21904  Одежда, обувь, аксессуары      Ботинки, полусапоги женские       11\n"
          ],
          "name": "stdout"
        }
      ]
    },
    {
      "cell_type": "code",
      "metadata": {
        "id": "JIq11vt0aFs5",
        "colab_type": "code",
        "colab": {}
      },
      "source": [
        "#вроде лушче, попробую расширить диапазон нграммов"
      ],
      "execution_count": 0,
      "outputs": []
    },
    {
      "cell_type": "code",
      "metadata": {
        "id": "RYOqdZHQz-tR",
        "colab_type": "code",
        "outputId": "c4e5be78-fc97-4acc-f2c9-1b13229dc80c",
        "colab": {
          "base_uri": "https://localhost:8080/",
          "height": 54
        }
      },
      "source": [
        "cv = CountVectorizer(max_features=500, ngram_range=(1,3))\n",
        "X_cv = cv.fit_transform(sample1['title'])\n",
        "\n",
        "y_cv = sample1['category_name']\n",
        "\n",
        "tfidf = TfidfVectorizer(max_features=500, ngram_range=(1,3))\n",
        "X_tf = tfidf.fit_transform(sample1['title'])\n",
        "y_tf = sample1['category_name']\n",
        "\n",
        "\n",
        "cluster1_cv = AffinityPropagation(damping=0.7, preference=-5, \n",
        "                              max_iter=400, verbose=2)\n",
        "\n",
        "cluster2_cv = KMeans(n_clusters=40, max_iter=300, n_init=10)\n",
        "\n",
        "cluster1_cv.fit(X_cv)\n",
        "labels1_cv = cluster1_cv.labels_\n",
        "\n",
        "cluster2_cv.fit(X_cv)\n",
        "labels2_cv = cluster2_cv.labels_\n",
        "\n",
        "cluster1_tf = AffinityPropagation(damping=0.7, preference=-5, \n",
        "                              max_iter=400, verbose=2)\n",
        "cluster2_tf = KMeans(n_clusters=40, max_iter=300, n_init=10)\n",
        "\n",
        "\n",
        "cluster1_tf.fit(X_tf)\n",
        "labels1_tf = cluster1_tf.labels_\n",
        "\n",
        "cluster2_tf.fit(X_tf)\n",
        "labels2_tf = cluster2_tf.labels_"
      ],
      "execution_count": 70,
      "outputs": [
        {
          "output_type": "stream",
          "text": [
            "Converged after 149 iterations.\n",
            "Converged after 15 iterations.\n"
          ],
          "name": "stdout"
        }
      ]
    },
    {
      "cell_type": "code",
      "metadata": {
        "id": "HaXQigPkz-vv",
        "colab_type": "code",
        "outputId": "a82547b8-9ee2-4ace-bd4b-198fdb0e2db9",
        "colab": {
          "base_uri": "https://localhost:8080/",
          "height": 163
        }
      },
      "source": [
        "cluster_metrics(cluster1_cv, sample1, 11, X_cv, y_cv)"
      ],
      "execution_count": 71,
      "outputs": [
        {
          "output_type": "stream",
          "text": [
            "Silhouette Coefficient: 0.161\n",
            "Homogeneity: 0.316\n",
            "Completeness: 0.457\n",
            "V-measure: 0.374\n",
            "Adjusted Rand Index: 0.003\n",
            "Adjusted Mutual Information: 0.134\n",
            "     category_name                                              title  cluster\n",
            "4309      Ноутбуки  Ноутбук Asus X554LJ-XX787T i3-4005U/4Gb/500Gb/...       11\n"
          ],
          "name": "stdout"
        }
      ]
    },
    {
      "cell_type": "code",
      "metadata": {
        "id": "pnb03ExrV1ap",
        "colab_type": "code",
        "colab": {
          "base_uri": "https://localhost:8080/",
          "height": 181
        },
        "outputId": "7c74438f-cbe9-489f-8a31-d61331bd4858"
      },
      "source": [
        "cluster_metrics(cluster2_cv, sample1, 11, X_cv, y_cv)"
      ],
      "execution_count": 72,
      "outputs": [
        {
          "output_type": "stream",
          "text": [
            "Silhouette Coefficient: 0.134\n",
            "Homogeneity: 0.257\n",
            "Completeness: 0.480\n",
            "V-measure: 0.335\n",
            "Adjusted Rand Index: 0.013\n",
            "Adjusted Mutual Information: 0.134\n",
            "      category_name                          title  cluster\n",
            "31613      Квартиры   1-к квартира, 35 м², 4/5 эт.       11\n",
            "16277      Квартиры  1-к квартира, 35 м², 8/19 эт.       11\n"
          ],
          "name": "stdout"
        }
      ]
    },
    {
      "cell_type": "code",
      "metadata": {
        "id": "fsZb8ixdz-yY",
        "colab_type": "code",
        "outputId": "22151d2d-9a57-4814-95e6-621e61dfe159",
        "colab": {
          "base_uri": "https://localhost:8080/",
          "height": 272
        }
      },
      "source": [
        "cluster_metrics(cluster1_tf, sample1, 11, X_tf, y_tf)"
      ],
      "execution_count": 73,
      "outputs": [
        {
          "output_type": "stream",
          "text": [
            "Silhouette Coefficient: -0.165\n",
            "Homogeneity: 0.500\n",
            "Completeness: 0.361\n",
            "V-measure: 0.420\n",
            "Adjusted Rand Index: 0.011\n",
            "Adjusted Mutual Information: 0.035\n",
            "                category_name                                    title  cluster\n",
            "3537   Детская одежда и обувь        Спортивные туфли и босоножки р.34       11\n",
            "34281   Товары для компьютера                        Powerman 300 ватт       11\n",
            "32325         Бытовая техника  Продам настольную посудомоечную машинку       11\n",
            "28697       Земельные участки                    Участок 15 сот. (ИЖС)       11\n",
            "16647       Предложение услуг                      Металло конструкции       11\n",
            "6481   Детская одежда и обувь                        Платье для девочк       11\n",
            "17077       Земельные участки               Участок 11.2 га (СНТ, ДНП)       11\n"
          ],
          "name": "stdout"
        }
      ]
    },
    {
      "cell_type": "code",
      "metadata": {
        "id": "XsDTyJ_CV8nE",
        "colab_type": "code",
        "colab": {
          "base_uri": "https://localhost:8080/",
          "height": 235
        },
        "outputId": "741cb431-b4d9-4221-8620-82644a2a38f1"
      },
      "source": [
        "cluster_metrics(cluster2_tf, sample1, 11, X_tf, y_tf)"
      ],
      "execution_count": 74,
      "outputs": [
        {
          "output_type": "stream",
          "text": [
            "Silhouette Coefficient: 0.233\n",
            "Homogeneity: 0.355\n",
            "Completeness: 0.506\n",
            "V-measure: 0.417\n",
            "Adjusted Rand Index: 0.033\n",
            "Adjusted Mutual Information: 0.201\n",
            "                    category_name                     title  cluster\n",
            "4330                   Велосипеды            Велосипед кама       11\n",
            "33160                  Велосипеды  Продам детский велосипед       11\n",
            "1862                   Велосипеды          Продаю велосипед       11\n",
            "7068   Товары для детей и игрушки                 Велосипед       11\n",
            "10161  Товары для детей и игрушки          Велосипед Larsen       11\n"
          ],
          "name": "stdout"
        }
      ]
    },
    {
      "cell_type": "code",
      "metadata": {
        "id": "yA0V1nDlz-1P",
        "colab_type": "code",
        "outputId": "6bd92e3d-6be1-4f45-f0c2-c3f7745b0409",
        "colab": {
          "base_uri": "https://localhost:8080/",
          "height": 54
        }
      },
      "source": [
        "#вроде лучше, попробую поменять max_feachers\n",
        "cv = CountVectorizer(max_features=1000, ngram_range=(1,3))\n",
        "X_cv = cv.fit_transform(sample1['title'])\n",
        "\n",
        "y_cv = sample1['category_name']\n",
        "\n",
        "tfidf = TfidfVectorizer(max_features=1000, ngram_range=(1,3))\n",
        "X_tf = tfidf.fit_transform(sample1['title'])\n",
        "y_tf = sample1['category_name']\n",
        "\n",
        "\n",
        "cluster1_cv = AffinityPropagation(damping=0.7, preference=-5, \n",
        "                              max_iter=400, verbose=2)\n",
        "\n",
        "cluster2_cv = KMeans(n_clusters=40, max_iter=300, n_init=10)\n",
        "\n",
        "cluster1_cv.fit(X_cv)\n",
        "labels1_cv = cluster1_cv.labels_\n",
        "\n",
        "cluster2_cv.fit(X_cv)\n",
        "labels2_cv = cluster2_cv.labels_\n",
        "\n",
        "cluster1_tf = AffinityPropagation(damping=0.7, preference=-5, \n",
        "                              max_iter=400, verbose=2)\n",
        "cluster2_tf = KMeans(n_clusters=40, max_iter=300, n_init=10)\n",
        "\n",
        "\n",
        "cluster1_tf.fit(X_tf)\n",
        "labels1_tf = cluster1_tf.labels_\n",
        "\n",
        "cluster2_tf.fit(X_tf)\n",
        "labels2_tf = cluster2_tf.labels_"
      ],
      "execution_count": 75,
      "outputs": [
        {
          "output_type": "stream",
          "text": [
            "Converged after 149 iterations.\n",
            "Converged after 15 iterations.\n"
          ],
          "name": "stdout"
        }
      ]
    },
    {
      "cell_type": "code",
      "metadata": {
        "id": "T7b5ij2ez-3X",
        "colab_type": "code",
        "outputId": "48e1701c-46aa-4b68-84cf-8c688325c18b",
        "colab": {
          "base_uri": "https://localhost:8080/",
          "height": 163
        }
      },
      "source": [
        "cluster_metrics(cluster1_cv, sample1, 11, X_cv, y_cv)"
      ],
      "execution_count": 76,
      "outputs": [
        {
          "output_type": "stream",
          "text": [
            "Silhouette Coefficient: 0.070\n",
            "Homogeneity: 0.497\n",
            "Completeness: 0.501\n",
            "V-measure: 0.499\n",
            "Adjusted Rand Index: 0.021\n",
            "Adjusted Mutual Information: 0.150\n",
            "                    category_name               title  cluster\n",
            "21169  Товары для детей и игрушки  Стул для кормления       11\n"
          ],
          "name": "stdout"
        }
      ]
    },
    {
      "cell_type": "code",
      "metadata": {
        "id": "12A-Jy9wWKdI",
        "colab_type": "code",
        "colab": {
          "base_uri": "https://localhost:8080/",
          "height": 308
        },
        "outputId": "ac549376-ec69-47ea-97f0-e1b75d63aff2"
      },
      "source": [
        "cluster_metrics(cluster2_cv, sample1, 11, X_cv, y_cv)"
      ],
      "execution_count": 77,
      "outputs": [
        {
          "output_type": "stream",
          "text": [
            "Silhouette Coefficient: 0.016\n",
            "Homogeneity: 0.255\n",
            "Completeness: 0.524\n",
            "V-measure: 0.343\n",
            "Adjusted Rand Index: 0.026\n",
            "Adjusted Mutual Information: 0.158\n",
            "                   category_name  ... cluster\n",
            "34952                 Автомобили  ...      11\n",
            "182                     Растения  ...      11\n",
            "11118  Одежда, обувь, аксессуары  ...      11\n",
            "5861   Одежда, обувь, аксессуары  ...      11\n",
            "4891         Товары для животных  ...      11\n",
            "12582     Ремонт и строительство  ...      11\n",
            "18546          Мебель и интерьер  ...      11\n",
            "\n",
            "[7 rows x 3 columns]\n"
          ],
          "name": "stdout"
        }
      ]
    },
    {
      "cell_type": "code",
      "metadata": {
        "id": "RnKSaY6DaFvO",
        "colab_type": "code",
        "outputId": "4d44d105-b948-485f-937e-92a7eb8ecd0f",
        "colab": {
          "base_uri": "https://localhost:8080/",
          "height": 308
        }
      },
      "source": [
        "cluster_metrics(cluster1_tf, sample1, 11, X_tf, y_tf)"
      ],
      "execution_count": 78,
      "outputs": [
        {
          "output_type": "stream",
          "text": [
            "Silhouette Coefficient: -0.049\n",
            "Homogeneity: 0.312\n",
            "Completeness: 0.279\n",
            "V-measure: 0.295\n",
            "Adjusted Rand Index: 0.002\n",
            "Adjusted Mutual Information: 0.008\n",
            "                   category_name  ... cluster\n",
            "12582     Ремонт и строительство  ...      11\n",
            "31613                   Квартиры  ...      11\n",
            "8235    Оборудование для бизнеса  ...      11\n",
            "19158     Детская одежда и обувь  ...      11\n",
            "30145  Одежда, обувь, аксессуары  ...      11\n",
            "33269  Одежда, обувь, аксессуары  ...      11\n",
            "22580  Одежда, обувь, аксессуары  ...      11\n",
            "\n",
            "[7 rows x 3 columns]\n"
          ],
          "name": "stdout"
        }
      ]
    },
    {
      "cell_type": "code",
      "metadata": {
        "id": "3DSLkU7_WVK3",
        "colab_type": "code",
        "colab": {
          "base_uri": "https://localhost:8080/",
          "height": 199
        },
        "outputId": "3eca0c53-ba67-4886-eb03-51490d7c66d3"
      },
      "source": [
        "cluster_metrics(cluster2_tf, sample1, 11, X_tf, y_tf)"
      ],
      "execution_count": 79,
      "outputs": [
        {
          "output_type": "stream",
          "text": [
            "Silhouette Coefficient: 0.141\n",
            "Homogeneity: 0.271\n",
            "Completeness: 0.506\n",
            "V-measure: 0.353\n",
            "Adjusted Rand Index: 0.017\n",
            "Adjusted Mutual Information: 0.141\n",
            "                   category_name           title  cluster\n",
            "1784   Одежда, обувь, аксессуары          Пальто       11\n",
            "22580  Одежда, обувь, аксессуары  Пуховик/пальто       11\n",
            "11647     Детская одежда и обувь          Пальто       11\n"
          ],
          "name": "stdout"
        }
      ]
    },
    {
      "cell_type": "code",
      "metadata": {
        "id": "c0Bmc6FV0lEJ",
        "colab_type": "code",
        "outputId": "477d2d05-25b2-4834-e752-50d389b59aef",
        "colab": {
          "base_uri": "https://localhost:8080/",
          "height": 54
        }
      },
      "source": [
        "#похоже, это хуже. попробую, наоборот, уменьшить\n",
        "cv = CountVectorizer(max_features=300, ngram_range=(1,3))\n",
        "X_cv = cv.fit_transform(sample1['title'])\n",
        "\n",
        "y_cv = sample1['category_name']\n",
        "\n",
        "tfidf = TfidfVectorizer(max_features=300, ngram_range=(1,3))\n",
        "X_tf = tfidf.fit_transform(sample1['title'])\n",
        "y_tf = sample1['category_name']\n",
        "\n",
        "\n",
        "cluster1_cv = AffinityPropagation(damping=0.7, preference=-5, \n",
        "                              max_iter=400, verbose=2)\n",
        "\n",
        "cluster2_cv = KMeans(n_clusters=40, max_iter=300, n_init=10)\n",
        "\n",
        "cluster1_cv.fit(X_cv)\n",
        "labels1_cv = cluster1_cv.labels_\n",
        "\n",
        "cluster2_cv.fit(X_cv)\n",
        "labels2_cv = cluster2_cv.labels_\n",
        "\n",
        "cluster1_tf = AffinityPropagation(damping=0.7, preference=-5, \n",
        "                              max_iter=400, verbose=2)\n",
        "cluster2_tf = KMeans(n_clusters=40, max_iter=300, n_init=10)\n",
        "\n",
        "\n",
        "cluster1_tf.fit(X_tf)\n",
        "labels1_tf = cluster1_tf.labels_\n",
        "\n",
        "cluster2_tf.fit(X_tf)\n",
        "labels2_tf = cluster2_tf.labels_"
      ],
      "execution_count": 80,
      "outputs": [
        {
          "output_type": "stream",
          "text": [
            "Converged after 140 iterations.\n",
            "Converged after 15 iterations.\n"
          ],
          "name": "stdout"
        }
      ]
    },
    {
      "cell_type": "code",
      "metadata": {
        "id": "wYiuQlDa0lGm",
        "colab_type": "code",
        "outputId": "cfd18074-f67d-4c39-d930-b0997902f37e",
        "colab": {
          "base_uri": "https://localhost:8080/",
          "height": 163
        }
      },
      "source": [
        "cluster_metrics(cluster1_cv, sample1, 11, X_cv, y_cv)"
      ],
      "execution_count": 81,
      "outputs": [
        {
          "output_type": "stream",
          "text": [
            "Silhouette Coefficient: 0.236\n",
            "Homogeneity: 0.283\n",
            "Completeness: 0.445\n",
            "V-measure: 0.346\n",
            "Adjusted Rand Index: -0.003\n",
            "Adjusted Mutual Information: 0.133\n",
            "      category_name                         title  cluster\n",
            "20179      Квартиры  3-к квартира, 56 м², 1/4 эт.       11\n"
          ],
          "name": "stdout"
        }
      ]
    },
    {
      "cell_type": "code",
      "metadata": {
        "id": "j793iJRmWlLK",
        "colab_type": "code",
        "colab": {
          "base_uri": "https://localhost:8080/",
          "height": 199
        },
        "outputId": "3b70a0bd-6e86-4a83-ec79-bd83363ee1be"
      },
      "source": [
        "cluster_metrics(cluster2_cv, sample1, 11, X_cv, y_cv)"
      ],
      "execution_count": 82,
      "outputs": [
        {
          "output_type": "stream",
          "text": [
            "Silhouette Coefficient: 0.225\n",
            "Homogeneity: 0.298\n",
            "Completeness: 0.459\n",
            "V-measure: 0.362\n",
            "Adjusted Rand Index: 0.003\n",
            "Adjusted Mutual Information: 0.142\n",
            "      category_name                             title  cluster\n",
            "15053      Квартиры      3-к квартира, 54 м², 1/1 эт.       11\n",
            "13116      Квартиры     1-к квартира, 54 м², 6/10 эт.       11\n",
            "21054      Квартиры  1-к квартира, 54.6 м², 13/14 эт.       11\n"
          ],
          "name": "stdout"
        }
      ]
    },
    {
      "cell_type": "code",
      "metadata": {
        "id": "MNQxtXrn0lJB",
        "colab_type": "code",
        "outputId": "1af5aeaa-a5e8-4e06-a5bb-8bfba039ddcd",
        "colab": {
          "base_uri": "https://localhost:8080/",
          "height": 308
        }
      },
      "source": [
        "cluster_metrics(cluster1_tf, sample1, 11, X_tf, y_tf)"
      ],
      "execution_count": 83,
      "outputs": [
        {
          "output_type": "stream",
          "text": [
            "Silhouette Coefficient: -0.362\n",
            "Homogeneity: 0.558\n",
            "Completeness: 0.384\n",
            "V-measure: 0.455\n",
            "Adjusted Rand Index: 0.012\n",
            "Adjusted Mutual Information: 0.044\n",
            "                   category_name  ... cluster\n",
            "5861   Одежда, обувь, аксессуары  ...      11\n",
            "32603  Одежда, обувь, аксессуары  ...      11\n",
            "22599                   Растения  ...      11\n",
            "36990     Детская одежда и обувь  ...      11\n",
            "19205          Предложение услуг  ...      11\n",
            "2272               Спорт и отдых  ...      11\n",
            "36900  Одежда, обувь, аксессуары  ...      11\n",
            "\n",
            "[7 rows x 3 columns]\n"
          ],
          "name": "stdout"
        }
      ]
    },
    {
      "cell_type": "code",
      "metadata": {
        "id": "kocg6feSWpg3",
        "colab_type": "code",
        "colab": {
          "base_uri": "https://localhost:8080/",
          "height": 272
        },
        "outputId": "4875c8d0-aeda-4b8a-c5dd-0b8ea1670705"
      },
      "source": [
        "cluster_metrics(cluster2_tf, sample1, 11, X_tf, y_tf)"
      ],
      "execution_count": 84,
      "outputs": [
        {
          "output_type": "stream",
          "text": [
            "Silhouette Coefficient: 0.334\n",
            "Homogeneity: 0.376\n",
            "Completeness: 0.488\n",
            "V-measure: 0.425\n",
            "Adjusted Rand Index: 0.009\n",
            "Adjusted Mutual Information: 0.199\n",
            "              category_name                          title  cluster\n",
            "25199  Дома, дачи, коттеджи   Дом 100 м² на участке 4 сот.       11\n",
            "7178   Дома, дачи, коттеджи   Дача 35 м² на участке 8 сот.       11\n",
            "24109  Дома, дачи, коттеджи  Дом 80 м² на участке 5.5 сот.       11\n",
            "13780  Дома, дачи, коттеджи   Дом 47 м² на участке 30 сот.       11\n",
            "407    Дома, дачи, коттеджи    Дом 52 м² на участке 4 сот.       11\n",
            "6039   Дома, дачи, коттеджи    Дом 64 м² на участке 7 сот.       11\n",
            "18679  Дома, дачи, коттеджи  Дом 32 м² на участке 7.5 сот.       11\n"
          ],
          "name": "stdout"
        }
      ]
    },
    {
      "cell_type": "code",
      "metadata": {
        "id": "cyWKb7-z0lLj",
        "colab_type": "code",
        "outputId": "497c33e1-bf9a-44af-bd9a-177145304924",
        "colab": {
          "base_uri": "https://localhost:8080/",
          "height": 54
        }
      },
      "source": [
        "# попробую еще уменьшить\n",
        "cv = CountVectorizer(max_features=100, ngram_range=(1,3))\n",
        "X_cv = cv.fit_transform(sample1['title'])\n",
        "\n",
        "y_cv = sample1['category_name']\n",
        "\n",
        "tfidf = TfidfVectorizer(max_features=50, ngram_range=(1,3))\n",
        "X_tf = tfidf.fit_transform(sample1['title'])\n",
        "y_tf = sample1['category_name']\n",
        "\n",
        "\n",
        "cluster1_cv = AffinityPropagation(damping=0.7, preference=-5, \n",
        "                              max_iter=400, verbose=2)\n",
        "\n",
        "cluster2_cv = KMeans(n_clusters=40, max_iter=300, n_init=10)\n",
        "\n",
        "cluster1_cv.fit(X_cv)\n",
        "labels1_cv = cluster1_cv.labels_\n",
        "\n",
        "cluster2_cv.fit(X_cv)\n",
        "labels2_cv = cluster2_cv.labels_\n",
        "\n",
        "cluster1_tf = AffinityPropagation(damping=0.7, preference=-5, \n",
        "                              max_iter=400, verbose=2)\n",
        "cluster2_tf = KMeans(n_clusters=40, max_iter=300, n_init=10)\n",
        "\n",
        "\n",
        "cluster1_tf.fit(X_tf)\n",
        "labels1_tf = cluster1_tf.labels_\n",
        "\n",
        "cluster2_tf.fit(X_tf)\n",
        "labels2_tf = cluster2_tf.labels_"
      ],
      "execution_count": 85,
      "outputs": [
        {
          "output_type": "stream",
          "text": [
            "Converged after 113 iterations.\n",
            "Converged after 132 iterations.\n"
          ],
          "name": "stdout"
        }
      ]
    },
    {
      "cell_type": "code",
      "metadata": {
        "id": "XNkCgdbU08_E",
        "colab_type": "code",
        "outputId": "aaeda244-72ae-4735-dc00-a87504509e3b",
        "colab": {
          "base_uri": "https://localhost:8080/",
          "height": 308
        }
      },
      "source": [
        "cluster_metrics(cluster1_cv, sample1, 11, X_cv, y_cv)"
      ],
      "execution_count": 86,
      "outputs": [
        {
          "output_type": "stream",
          "text": [
            "Silhouette Coefficient: 0.434\n",
            "Homogeneity: 0.265\n",
            "Completeness: 0.453\n",
            "V-measure: 0.334\n",
            "Adjusted Rand Index: 0.014\n",
            "Adjusted Mutual Information: 0.164\n",
            "                    category_name  ... cluster\n",
            "12840     Грузовики и спецтехника  ...      11\n",
            "17720      Детская одежда и обувь  ...      11\n",
            "36990      Детская одежда и обувь  ...      11\n",
            "8935   Товары для детей и игрушки  ...      11\n",
            "16398                    Ноутбуки  ...      11\n",
            "24944      Детская одежда и обувь  ...      11\n",
            "26405      Детская одежда и обувь  ...      11\n",
            "\n",
            "[7 rows x 3 columns]\n"
          ],
          "name": "stdout"
        }
      ]
    },
    {
      "cell_type": "code",
      "metadata": {
        "id": "T4S8aV3EXahc",
        "colab_type": "code",
        "colab": {
          "base_uri": "https://localhost:8080/",
          "height": 199
        },
        "outputId": "e66ab31a-912f-4252-8083-7ef94f48da55"
      },
      "source": [
        "cluster_metrics(cluster2_cv, sample1, 11, X_cv, y_cv)"
      ],
      "execution_count": 87,
      "outputs": [
        {
          "output_type": "stream",
          "text": [
            "Silhouette Coefficient: 0.520\n",
            "Homogeneity: 0.310\n",
            "Completeness: 0.414\n",
            "V-measure: 0.355\n",
            "Adjusted Rand Index: -0.012\n",
            "Adjusted Mutual Information: 0.114\n",
            "           category_name                   title  cluster\n",
            "15710  Земельные участки  Участок 1.6 сот. (ИЖС)       11\n",
            "27801  Земельные участки    Участок 4 сот. (ИЖС)       11\n",
            "34301  Земельные участки    Участок 7 сот. (ИЖС)       11\n"
          ],
          "name": "stdout"
        }
      ]
    },
    {
      "cell_type": "code",
      "metadata": {
        "id": "DdJVyMQh09Bp",
        "colab_type": "code",
        "outputId": "8cdedd7f-4621-4976-d6cd-85659b2654e1",
        "colab": {
          "base_uri": "https://localhost:8080/",
          "height": 181
        }
      },
      "source": [
        "cluster_metrics(cluster1_tf, sample1, 11, X_tf, y_tf)"
      ],
      "execution_count": 88,
      "outputs": [
        {
          "output_type": "stream",
          "text": [
            "Silhouette Coefficient: 0.572\n",
            "Homogeneity: 0.208\n",
            "Completeness: 0.461\n",
            "V-measure: 0.286\n",
            "Adjusted Rand Index: 0.012\n",
            "Adjusted Mutual Information: 0.162\n",
            "Empty DataFrame\n",
            "Columns: [category_name, title, cluster]\n",
            "Index: []\n"
          ],
          "name": "stdout"
        }
      ]
    },
    {
      "cell_type": "code",
      "metadata": {
        "id": "8iqSv7yhXdGH",
        "colab_type": "code",
        "colab": {
          "base_uri": "https://localhost:8080/",
          "height": 217
        },
        "outputId": "b13dcc00-485c-4ff2-d595-30da93f3ca3c"
      },
      "source": [
        "cluster_metrics(cluster2_tf, sample1, 11, X_tf, y_tf)"
      ],
      "execution_count": 89,
      "outputs": [
        {
          "output_type": "stream",
          "text": [
            "Silhouette Coefficient: 0.854\n",
            "Homogeneity: 0.381\n",
            "Completeness: 0.453\n",
            "V-measure: 0.414\n",
            "Adjusted Rand Index: 0.001\n",
            "Adjusted Mutual Information: 0.177\n",
            "                   category_name                  title  cluster\n",
            "20979  Одежда, обувь, аксессуары   Продам новые слипоны       11\n",
            "12379  Одежда, обувь, аксессуары   Слипоны Лакост новые       11\n",
            "480       Детская одежда и обувь  Продам кросовки новые       11\n",
            "34308     Детская одежда и обувь             Юбки новые       11\n"
          ],
          "name": "stdout"
        }
      ]
    },
    {
      "cell_type": "code",
      "metadata": {
        "id": "HrQ8UmYX09EV",
        "colab_type": "code",
        "colab": {}
      },
      "source": [
        "#В среднем, похоже, что Count_Vectorizer лучше."
      ],
      "execution_count": 0,
      "outputs": []
    },
    {
      "cell_type": "code",
      "metadata": {
        "id": "Dk-eNhnGcpwJ",
        "colab_type": "code",
        "colab": {}
      },
      "source": [
        "#sample = data.sample(frac=0.05)\n",
        "y = sample1['category_name']\n",
        "X = cv.fit_transform(sample1['title'])\n",
        "#sample1['cluster'] = cluster.labels_\n"
      ],
      "execution_count": 0,
      "outputs": []
    },
    {
      "cell_type": "code",
      "metadata": {
        "id": "teKQze2E0lN4",
        "colab_type": "code",
        "colab": {}
      },
      "source": [
        "svd = TruncatedSVD(50)\n",
        "X_svd = svd.fit_transform(X)\n",
        "\n",
        "nmf = NMF(50)\n",
        "X_nmf = nmf.fit_transform(X)"
      ],
      "execution_count": 0,
      "outputs": []
    },
    {
      "cell_type": "code",
      "metadata": {
        "id": "7Ij2dzSFRVn7",
        "colab_type": "code",
        "colab": {
          "base_uri": "https://localhost:8080/",
          "height": 54
        },
        "outputId": "ef807bba-203a-4734-e64a-01544e0c7150"
      },
      "source": [
        "cluster1_svd = AffinityPropagation(damping=0.7, preference=-5, \n",
        "                              max_iter=400, verbose=2)\n",
        "\n",
        "cluster2_svd = KMeans(n_clusters=40, max_iter=300, n_init=10)\n",
        "\n",
        "cluster1_svd.fit(X_svd)\n",
        "labels1_cv = cluster1_svd.labels_\n",
        "\n",
        "cluster2_svd.fit(X_svd)\n",
        "labels2_svd = cluster2_svd.labels_\n",
        "\n",
        "cluster1_nmf = AffinityPropagation(damping=0.7, preference=-5, \n",
        "                              max_iter=400, verbose=2)\n",
        "cluster2_nmf = KMeans(n_clusters=40, max_iter=300, n_init=10)\n",
        "\n",
        "\n",
        "cluster1_nmf.fit(X_nmf)\n",
        "labels1_nmf = cluster1_nmf.labels_\n",
        "\n",
        "cluster2_nmf.fit(X_nmf)\n",
        "labels2_nmf = cluster2_nmf.labels_"
      ],
      "execution_count": 102,
      "outputs": [
        {
          "output_type": "stream",
          "text": [
            "Converged after 106 iterations.\n",
            "Converged after 155 iterations.\n"
          ],
          "name": "stdout"
        }
      ]
    },
    {
      "cell_type": "code",
      "metadata": {
        "id": "p_KE1rTrRVqs",
        "colab_type": "code",
        "colab": {
          "base_uri": "https://localhost:8080/",
          "height": 199
        },
        "outputId": "b55f10c0-c93a-4ac4-f119-c8de57c30280"
      },
      "source": [
        "cluster_metrics(cluster1_svd, sample1, 11, X_svd, y)"
      ],
      "execution_count": 103,
      "outputs": [
        {
          "output_type": "stream",
          "text": [
            "Silhouette Coefficient: 0.121\n",
            "Homogeneity: 0.725\n",
            "Completeness: 0.483\n",
            "V-measure: 0.580\n",
            "Adjusted Rand Index: 0.068\n",
            "Adjusted Mutual Information: 0.196\n",
            "                    category_name           title  cluster\n",
            "9173    Одежда, обувь, аксессуары  Бомбер Bershka       11\n",
            "32603   Одежда, обувь, аксессуары  Сапоги женские       11\n",
            "19458  Товары для детей и игрушки         Самокат       11\n"
          ],
          "name": "stdout"
        }
      ]
    },
    {
      "cell_type": "code",
      "metadata": {
        "id": "oq78VdkeRVtI",
        "colab_type": "code",
        "colab": {
          "base_uri": "https://localhost:8080/",
          "height": 163
        },
        "outputId": "08d8fb68-255d-46a6-d8d2-ddc8fc9ea0a4"
      },
      "source": [
        "cluster_metrics(cluster2_svd, sample1, 11, X_svd, y)"
      ],
      "execution_count": 108,
      "outputs": [
        {
          "output_type": "stream",
          "text": [
            "Silhouette Coefficient: 0.596\n",
            "Homogeneity: 0.341\n",
            "Completeness: 0.419\n",
            "V-measure: 0.376\n",
            "Adjusted Rand Index: -0.023\n",
            "Adjusted Mutual Information: 0.130\n",
            "      category_name                          title  cluster\n",
            "29736      Квартиры  1-к квартира, 32 м², 8/10 эт.       11\n"
          ],
          "name": "stdout"
        }
      ]
    },
    {
      "cell_type": "code",
      "metadata": {
        "id": "cexN2L3IRVv6",
        "colab_type": "code",
        "colab": {
          "base_uri": "https://localhost:8080/",
          "height": 181
        },
        "outputId": "e60de29a-66b2-4bcf-e541-121e52b0da75"
      },
      "source": [
        "cluster_metrics(cluster1_nmf, sample1, 11, X_nmf, y)"
      ],
      "execution_count": 105,
      "outputs": [
        {
          "output_type": "stream",
          "text": [
            "Silhouette Coefficient: 0.331\n",
            "Homogeneity: 0.087\n",
            "Completeness: 0.854\n",
            "V-measure: 0.158\n",
            "Adjusted Rand Index: 0.023\n",
            "Adjusted Mutual Information: 0.122\n",
            "Empty DataFrame\n",
            "Columns: [category_name, title, cluster]\n",
            "Index: []\n"
          ],
          "name": "stdout"
        }
      ]
    },
    {
      "cell_type": "code",
      "metadata": {
        "id": "ElzeVeNIRVx9",
        "colab_type": "code",
        "colab": {
          "base_uri": "https://localhost:8080/",
          "height": 272
        },
        "outputId": "78e2273b-2838-4310-cc82-66646d55c98c"
      },
      "source": [
        "cluster_metrics(cluster2_nmf, sample1, 11, X_nmf, y)"
      ],
      "execution_count": 107,
      "outputs": [
        {
          "output_type": "stream",
          "text": [
            "Silhouette Coefficient: 0.662\n",
            "Homogeneity: 0.374\n",
            "Completeness: 0.431\n",
            "V-measure: 0.401\n",
            "Adjusted Rand Index: -0.010\n",
            "Adjusted Mutual Information: 0.154\n",
            "                   category_name                          title  cluster\n",
            "33241     Детская одежда и обувь  Платье для выпускного дет сад       11\n",
            "15278  Одежда, обувь, аксессуары                 Платье женское       11\n",
            "21091  Одежда, обувь, аксессуары                         Платье       11\n",
            "24276  Одежда, обувь, аксессуары                         Платье       11\n",
            "14468     Детская одежда и обувь                         Платье       11\n",
            "25249  Одежда, обувь, аксессуары    Платье в отличном состоянии       11\n",
            "6176      Детская одежда и обувь               Выпускное платье       11\n"
          ],
          "name": "stdout"
        }
      ]
    },
    {
      "cell_type": "code",
      "metadata": {
        "id": "mMeHhCQRdaW_",
        "colab_type": "code",
        "colab": {}
      },
      "source": [
        "#SVD, кажется, получше."
      ],
      "execution_count": 0,
      "outputs": []
    },
    {
      "cell_type": "code",
      "metadata": {
        "id": "XKYa9x1PdaZ0",
        "colab_type": "code",
        "colab": {}
      },
      "source": [
        "cluster = MeanShift(cluster_all=False, bandwidth=0.5)\n",
        "cluster.fit(X_svd)\n",
        "sample1['cluster'] = cluster.labels_\n",
        "labels = cluster.labels_"
      ],
      "execution_count": 0,
      "outputs": []
    },
    {
      "cell_type": "code",
      "metadata": {
        "id": "jn4ye4kzdae2",
        "colab_type": "code",
        "colab": {
          "base_uri": "https://localhost:8080/",
          "height": 138
        },
        "outputId": "f3088547-494d-4e64-d549-7d0ec23ffa49"
      },
      "source": [
        "sample1.head(3)"
      ],
      "execution_count": 263,
      "outputs": [
        {
          "output_type": "execute_result",
          "data": {
            "text/html": [
              "<div>\n",
              "<style scoped>\n",
              "    .dataframe tbody tr th:only-of-type {\n",
              "        vertical-align: middle;\n",
              "    }\n",
              "\n",
              "    .dataframe tbody tr th {\n",
              "        vertical-align: top;\n",
              "    }\n",
              "\n",
              "    .dataframe thead th {\n",
              "        text-align: right;\n",
              "    }\n",
              "</style>\n",
              "<table border=\"1\" class=\"dataframe\">\n",
              "  <thead>\n",
              "    <tr style=\"text-align: right;\">\n",
              "      <th></th>\n",
              "      <th>category_name</th>\n",
              "      <th>title</th>\n",
              "      <th>cluster</th>\n",
              "    </tr>\n",
              "  </thead>\n",
              "  <tbody>\n",
              "    <tr>\n",
              "      <th>12840</th>\n",
              "      <td>Грузовики и спецтехника</td>\n",
              "      <td>Продажа Сельхоз-Оборудования Пишите на mail: d...</td>\n",
              "      <td>74</td>\n",
              "    </tr>\n",
              "    <tr>\n",
              "      <th>34952</th>\n",
              "      <td>Автомобили</td>\n",
              "      <td>Nissan Qashqai, 2008</td>\n",
              "      <td>0</td>\n",
              "    </tr>\n",
              "    <tr>\n",
              "      <th>17018</th>\n",
              "      <td>Музыкальные инструменты</td>\n",
              "      <td>Продам гитару</td>\n",
              "      <td>2</td>\n",
              "    </tr>\n",
              "  </tbody>\n",
              "</table>\n",
              "</div>"
            ],
            "text/plain": [
              "                 category_name  ... cluster\n",
              "12840  Грузовики и спецтехника  ...      74\n",
              "34952               Автомобили  ...       0\n",
              "17018  Музыкальные инструменты  ...       2\n",
              "\n",
              "[3 rows x 3 columns]"
            ]
          },
          "metadata": {
            "tags": []
          },
          "execution_count": 263
        }
      ]
    },
    {
      "cell_type": "code",
      "metadata": {
        "id": "gB3w27nEmawR",
        "colab_type": "code",
        "colab": {
          "base_uri": "https://localhost:8080/",
          "height": 48
        },
        "outputId": "007cf0c1-510a-4be6-9b0d-a7f9f971d840"
      },
      "source": [
        "sample1[sample1.cluster==-1]"
      ],
      "execution_count": 264,
      "outputs": [
        {
          "output_type": "execute_result",
          "data": {
            "text/html": [
              "<div>\n",
              "<style scoped>\n",
              "    .dataframe tbody tr th:only-of-type {\n",
              "        vertical-align: middle;\n",
              "    }\n",
              "\n",
              "    .dataframe tbody tr th {\n",
              "        vertical-align: top;\n",
              "    }\n",
              "\n",
              "    .dataframe thead th {\n",
              "        text-align: right;\n",
              "    }\n",
              "</style>\n",
              "<table border=\"1\" class=\"dataframe\">\n",
              "  <thead>\n",
              "    <tr style=\"text-align: right;\">\n",
              "      <th></th>\n",
              "      <th>category_name</th>\n",
              "      <th>title</th>\n",
              "      <th>cluster</th>\n",
              "    </tr>\n",
              "  </thead>\n",
              "  <tbody>\n",
              "  </tbody>\n",
              "</table>\n",
              "</div>"
            ],
            "text/plain": [
              "Empty DataFrame\n",
              "Columns: [category_name, title, cluster]\n",
              "Index: []"
            ]
          },
          "metadata": {
            "tags": []
          },
          "execution_count": 264
        }
      ]
    },
    {
      "cell_type": "code",
      "metadata": {
        "id": "bWsM0PSOmay4",
        "colab_type": "code",
        "colab": {}
      },
      "source": [
        "#пусто, может настройки поменять."
      ],
      "execution_count": 0,
      "outputs": []
    },
    {
      "cell_type": "code",
      "metadata": {
        "id": "0n7Pnw-ama1M",
        "colab_type": "code",
        "colab": {}
      },
      "source": [
        "cluster = MeanShift(cluster_all=False, bandwidth=1,min_bin_freq=1)\n",
        "cluster.fit(X_svd)\n",
        "sample1['cluster'] = cluster.labels_\n",
        "labels = cluster.labels_"
      ],
      "execution_count": 0,
      "outputs": []
    },
    {
      "cell_type": "code",
      "metadata": {
        "id": "bulKaGE5ma3C",
        "colab_type": "code",
        "colab": {
          "base_uri": "https://localhost:8080/",
          "height": 1000
        },
        "outputId": "cf5672b9-1233-47bd-cc58-b650e8ca542e"
      },
      "source": [
        "sample1[sample1.cluster==-1]"
      ],
      "execution_count": 278,
      "outputs": [
        {
          "output_type": "execute_result",
          "data": {
            "text/html": [
              "<div>\n",
              "<style scoped>\n",
              "    .dataframe tbody tr th:only-of-type {\n",
              "        vertical-align: middle;\n",
              "    }\n",
              "\n",
              "    .dataframe tbody tr th {\n",
              "        vertical-align: top;\n",
              "    }\n",
              "\n",
              "    .dataframe thead th {\n",
              "        text-align: right;\n",
              "    }\n",
              "</style>\n",
              "<table border=\"1\" class=\"dataframe\">\n",
              "  <thead>\n",
              "    <tr style=\"text-align: right;\">\n",
              "      <th></th>\n",
              "      <th>category_name</th>\n",
              "      <th>title</th>\n",
              "      <th>cluster</th>\n",
              "    </tr>\n",
              "  </thead>\n",
              "  <tbody>\n",
              "    <tr>\n",
              "      <th>12840</th>\n",
              "      <td>Грузовики и спецтехника</td>\n",
              "      <td>Продажа Сельхоз-Оборудования Пишите на mail: d...</td>\n",
              "      <td>-1</td>\n",
              "    </tr>\n",
              "    <tr>\n",
              "      <th>17720</th>\n",
              "      <td>Детская одежда и обувь</td>\n",
              "      <td>Комбинезон на теплую погоду</td>\n",
              "      <td>-1</td>\n",
              "    </tr>\n",
              "    <tr>\n",
              "      <th>31418</th>\n",
              "      <td>Одежда, обувь, аксессуары</td>\n",
              "      <td>Продам туфли буттери</td>\n",
              "      <td>-1</td>\n",
              "    </tr>\n",
              "    <tr>\n",
              "      <th>3537</th>\n",
              "      <td>Детская одежда и обувь</td>\n",
              "      <td>Спортивные туфли и босоножки р.34</td>\n",
              "      <td>-1</td>\n",
              "    </tr>\n",
              "    <tr>\n",
              "      <th>5017</th>\n",
              "      <td>Телефоны</td>\n",
              "      <td>USB для iPhone</td>\n",
              "      <td>-1</td>\n",
              "    </tr>\n",
              "    <tr>\n",
              "      <th>33241</th>\n",
              "      <td>Детская одежда и обувь</td>\n",
              "      <td>Платье для выпускного дет сад</td>\n",
              "      <td>-1</td>\n",
              "    </tr>\n",
              "    <tr>\n",
              "      <th>8235</th>\n",
              "      <td>Оборудование для бизнеса</td>\n",
              "      <td>Продам трансформаторы для прогрева бетона и гр...</td>\n",
              "      <td>-1</td>\n",
              "    </tr>\n",
              "    <tr>\n",
              "      <th>32603</th>\n",
              "      <td>Одежда, обувь, аксессуары</td>\n",
              "      <td>Сапоги женские</td>\n",
              "      <td>-1</td>\n",
              "    </tr>\n",
              "    <tr>\n",
              "      <th>16950</th>\n",
              "      <td>Телефоны</td>\n",
              "      <td>Продам Sony z1 copmact (сони компакт зэд1)</td>\n",
              "      <td>-1</td>\n",
              "    </tr>\n",
              "    <tr>\n",
              "      <th>21573</th>\n",
              "      <td>Детская одежда и обувь</td>\n",
              "      <td>Детские вещи пакетом</td>\n",
              "      <td>-1</td>\n",
              "    </tr>\n",
              "    <tr>\n",
              "      <th>35791</th>\n",
              "      <td>Аудио и видео</td>\n",
              "      <td>Продам усилитель и две колонки</td>\n",
              "      <td>-1</td>\n",
              "    </tr>\n",
              "    <tr>\n",
              "      <th>33210</th>\n",
              "      <td>Детская одежда и обувь</td>\n",
              "      <td>Сандалии для первых шагов малышки</td>\n",
              "      <td>-1</td>\n",
              "    </tr>\n",
              "    <tr>\n",
              "      <th>35647</th>\n",
              "      <td>Одежда, обувь, аксессуары</td>\n",
              "      <td>Рубашка в клетку с длинным рукавом, 8XL</td>\n",
              "      <td>-1</td>\n",
              "    </tr>\n",
              "    <tr>\n",
              "      <th>23120</th>\n",
              "      <td>Одежда, обувь, аксессуары</td>\n",
              "      <td>Новые балетки не подошли по размеру</td>\n",
              "      <td>-1</td>\n",
              "    </tr>\n",
              "    <tr>\n",
              "      <th>19158</th>\n",
              "      <td>Детская одежда и обувь</td>\n",
              "      <td>Кофта для мальчика</td>\n",
              "      <td>-1</td>\n",
              "    </tr>\n",
              "    <tr>\n",
              "      <th>33269</th>\n",
              "      <td>Одежда, обувь, аксессуары</td>\n",
              "      <td>Новая куртка тонкий синтепон</td>\n",
              "      <td>-1</td>\n",
              "    </tr>\n",
              "    <tr>\n",
              "      <th>10992</th>\n",
              "      <td>Детская одежда и обувь</td>\n",
              "      <td>Сандалики летние 18 размер</td>\n",
              "      <td>-1</td>\n",
              "    </tr>\n",
              "    <tr>\n",
              "      <th>16589</th>\n",
              "      <td>Ноутбуки</td>\n",
              "      <td>Asus- Core i7- идеальное состояние как новый</td>\n",
              "      <td>-1</td>\n",
              "    </tr>\n",
              "    <tr>\n",
              "      <th>9808</th>\n",
              "      <td>Одежда, обувь, аксессуары</td>\n",
              "      <td>Джинсы дырявые голубые, модель бойфренд, разме...</td>\n",
              "      <td>-1</td>\n",
              "    </tr>\n",
              "    <tr>\n",
              "      <th>2850</th>\n",
              "      <td>Телефоны</td>\n",
              "      <td>Телефон samsung Galaxy A5 SM-A500F</td>\n",
              "      <td>-1</td>\n",
              "    </tr>\n",
              "    <tr>\n",
              "      <th>25249</th>\n",
              "      <td>Одежда, обувь, аксессуары</td>\n",
              "      <td>Платье в отличном состоянии</td>\n",
              "      <td>-1</td>\n",
              "    </tr>\n",
              "    <tr>\n",
              "      <th>23343</th>\n",
              "      <td>Детская одежда и обувь</td>\n",
              "      <td>Ботинки стелька 15 см</td>\n",
              "      <td>-1</td>\n",
              "    </tr>\n",
              "    <tr>\n",
              "      <th>11139</th>\n",
              "      <td>Автомобили</td>\n",
              "      <td>ВАЗ 2107, 2007</td>\n",
              "      <td>-1</td>\n",
              "    </tr>\n",
              "    <tr>\n",
              "      <th>17296</th>\n",
              "      <td>Предложение услуг</td>\n",
              "      <td>Продажа и доставка песка и щебня</td>\n",
              "      <td>-1</td>\n",
              "    </tr>\n",
              "    <tr>\n",
              "      <th>13943</th>\n",
              "      <td>Аудио и видео</td>\n",
              "      <td>Продам видеокамеру sony</td>\n",
              "      <td>-1</td>\n",
              "    </tr>\n",
              "    <tr>\n",
              "      <th>15237</th>\n",
              "      <td>Детская одежда и обувь</td>\n",
              "      <td>Ботиночки для мальчишки</td>\n",
              "      <td>-1</td>\n",
              "    </tr>\n",
              "    <tr>\n",
              "      <th>18177</th>\n",
              "      <td>Детская одежда и обувь</td>\n",
              "      <td>Комбинезон белый, на выписку</td>\n",
              "      <td>-1</td>\n",
              "    </tr>\n",
              "    <tr>\n",
              "      <th>28718</th>\n",
              "      <td>Одежда, обувь, аксессуары</td>\n",
              "      <td>Платье 42-44 р</td>\n",
              "      <td>-1</td>\n",
              "    </tr>\n",
              "    <tr>\n",
              "      <th>4872</th>\n",
              "      <td>Детская одежда и обувь</td>\n",
              "      <td>Толстовка новая. 128-134. 8-9 лет</td>\n",
              "      <td>-1</td>\n",
              "    </tr>\n",
              "    <tr>\n",
              "      <th>12266</th>\n",
              "      <td>Телефоны</td>\n",
              "      <td>Чехлы на Meizu not 5</td>\n",
              "      <td>-1</td>\n",
              "    </tr>\n",
              "    <tr>\n",
              "      <th>23364</th>\n",
              "      <td>Детская одежда и обувь</td>\n",
              "      <td>Комплект новый,80</td>\n",
              "      <td>-1</td>\n",
              "    </tr>\n",
              "    <tr>\n",
              "      <th>36900</th>\n",
              "      <td>Одежда, обувь, аксессуары</td>\n",
              "      <td>Босоножки,одевались пару раз,в идеальном состо...</td>\n",
              "      <td>-1</td>\n",
              "    </tr>\n",
              "    <tr>\n",
              "      <th>32846</th>\n",
              "      <td>Детская одежда и обувь</td>\n",
              "      <td>Кроссовки Антилопа, р-р 32</td>\n",
              "      <td>-1</td>\n",
              "    </tr>\n",
              "    <tr>\n",
              "      <th>6481</th>\n",
              "      <td>Детская одежда и обувь</td>\n",
              "      <td>Платье для девочк</td>\n",
              "      <td>-1</td>\n",
              "    </tr>\n",
              "    <tr>\n",
              "      <th>24846</th>\n",
              "      <td>Планшеты и электронные книги</td>\n",
              "      <td>Чехлы для планшета</td>\n",
              "      <td>-1</td>\n",
              "    </tr>\n",
              "    <tr>\n",
              "      <th>14168</th>\n",
              "      <td>Телефоны</td>\n",
              "      <td>Продам чехлы</td>\n",
              "      <td>-1</td>\n",
              "    </tr>\n",
              "    <tr>\n",
              "      <th>21904</th>\n",
              "      <td>Одежда, обувь, аксессуары</td>\n",
              "      <td>Ботинки, полусапоги женские</td>\n",
              "      <td>-1</td>\n",
              "    </tr>\n",
              "  </tbody>\n",
              "</table>\n",
              "</div>"
            ],
            "text/plain": [
              "                      category_name  ... cluster\n",
              "12840       Грузовики и спецтехника  ...      -1\n",
              "17720        Детская одежда и обувь  ...      -1\n",
              "31418     Одежда, обувь, аксессуары  ...      -1\n",
              "3537         Детская одежда и обувь  ...      -1\n",
              "5017                       Телефоны  ...      -1\n",
              "33241        Детская одежда и обувь  ...      -1\n",
              "8235       Оборудование для бизнеса  ...      -1\n",
              "32603     Одежда, обувь, аксессуары  ...      -1\n",
              "16950                      Телефоны  ...      -1\n",
              "21573        Детская одежда и обувь  ...      -1\n",
              "35791                 Аудио и видео  ...      -1\n",
              "33210        Детская одежда и обувь  ...      -1\n",
              "35647     Одежда, обувь, аксессуары  ...      -1\n",
              "23120     Одежда, обувь, аксессуары  ...      -1\n",
              "19158        Детская одежда и обувь  ...      -1\n",
              "33269     Одежда, обувь, аксессуары  ...      -1\n",
              "10992        Детская одежда и обувь  ...      -1\n",
              "16589                      Ноутбуки  ...      -1\n",
              "9808      Одежда, обувь, аксессуары  ...      -1\n",
              "2850                       Телефоны  ...      -1\n",
              "25249     Одежда, обувь, аксессуары  ...      -1\n",
              "23343        Детская одежда и обувь  ...      -1\n",
              "11139                    Автомобили  ...      -1\n",
              "17296             Предложение услуг  ...      -1\n",
              "13943                 Аудио и видео  ...      -1\n",
              "15237        Детская одежда и обувь  ...      -1\n",
              "18177        Детская одежда и обувь  ...      -1\n",
              "28718     Одежда, обувь, аксессуары  ...      -1\n",
              "4872         Детская одежда и обувь  ...      -1\n",
              "12266                      Телефоны  ...      -1\n",
              "23364        Детская одежда и обувь  ...      -1\n",
              "36900     Одежда, обувь, аксессуары  ...      -1\n",
              "32846        Детская одежда и обувь  ...      -1\n",
              "6481         Детская одежда и обувь  ...      -1\n",
              "24846  Планшеты и электронные книги  ...      -1\n",
              "14168                      Телефоны  ...      -1\n",
              "21904     Одежда, обувь, аксессуары  ...      -1\n",
              "\n",
              "[37 rows x 3 columns]"
            ]
          },
          "metadata": {
            "tags": []
          },
          "execution_count": 278
        }
      ]
    },
    {
      "cell_type": "code",
      "metadata": {
        "id": "YwpKU7L7m6J6",
        "colab_type": "code",
        "colab": {}
      },
      "source": [
        " #Ну вот тут, кажется, попадается что-то странное"
      ],
      "execution_count": 0,
      "outputs": []
    },
    {
      "cell_type": "code",
      "metadata": {
        "id": "hbAdyUBUm6MR",
        "colab_type": "code",
        "colab": {}
      },
      "source": [
        "cluster = MeanShift(cluster_all=False, bandwidth=0.9,min_bin_freq=1)\n",
        "cluster.fit(X_svd)\n",
        "sample1['cluster'] = cluster.labels_\n",
        "labels = cluster.labels_"
      ],
      "execution_count": 0,
      "outputs": []
    },
    {
      "cell_type": "code",
      "metadata": {
        "id": "XeaYY8Aym6OX",
        "colab_type": "code",
        "colab": {
          "base_uri": "https://localhost:8080/",
          "height": 618
        },
        "outputId": "0cf3cd7a-ae34-4487-d900-b4a0ee551b61"
      },
      "source": [
        "sample1[sample1.cluster==-1]"
      ],
      "execution_count": 280,
      "outputs": [
        {
          "output_type": "execute_result",
          "data": {
            "text/html": [
              "<div>\n",
              "<style scoped>\n",
              "    .dataframe tbody tr th:only-of-type {\n",
              "        vertical-align: middle;\n",
              "    }\n",
              "\n",
              "    .dataframe tbody tr th {\n",
              "        vertical-align: top;\n",
              "    }\n",
              "\n",
              "    .dataframe thead th {\n",
              "        text-align: right;\n",
              "    }\n",
              "</style>\n",
              "<table border=\"1\" class=\"dataframe\">\n",
              "  <thead>\n",
              "    <tr style=\"text-align: right;\">\n",
              "      <th></th>\n",
              "      <th>category_name</th>\n",
              "      <th>title</th>\n",
              "      <th>cluster</th>\n",
              "    </tr>\n",
              "  </thead>\n",
              "  <tbody>\n",
              "    <tr>\n",
              "      <th>32603</th>\n",
              "      <td>Одежда, обувь, аксессуары</td>\n",
              "      <td>Сапоги женские</td>\n",
              "      <td>-1</td>\n",
              "    </tr>\n",
              "    <tr>\n",
              "      <th>21573</th>\n",
              "      <td>Детская одежда и обувь</td>\n",
              "      <td>Детские вещи пакетом</td>\n",
              "      <td>-1</td>\n",
              "    </tr>\n",
              "    <tr>\n",
              "      <th>35647</th>\n",
              "      <td>Одежда, обувь, аксессуары</td>\n",
              "      <td>Рубашка в клетку с длинным рукавом, 8XL</td>\n",
              "      <td>-1</td>\n",
              "    </tr>\n",
              "    <tr>\n",
              "      <th>10992</th>\n",
              "      <td>Детская одежда и обувь</td>\n",
              "      <td>Сандалики летние 18 размер</td>\n",
              "      <td>-1</td>\n",
              "    </tr>\n",
              "    <tr>\n",
              "      <th>22953</th>\n",
              "      <td>Аудио и видео</td>\n",
              "      <td>Радиотехника Усилитель У 101-стерео</td>\n",
              "      <td>-1</td>\n",
              "    </tr>\n",
              "    <tr>\n",
              "      <th>16589</th>\n",
              "      <td>Ноутбуки</td>\n",
              "      <td>Asus- Core i7- идеальное состояние как новый</td>\n",
              "      <td>-1</td>\n",
              "    </tr>\n",
              "    <tr>\n",
              "      <th>4330</th>\n",
              "      <td>Велосипеды</td>\n",
              "      <td>Велосипед кама</td>\n",
              "      <td>-1</td>\n",
              "    </tr>\n",
              "    <tr>\n",
              "      <th>2850</th>\n",
              "      <td>Телефоны</td>\n",
              "      <td>Телефон samsung Galaxy A5 SM-A500F</td>\n",
              "      <td>-1</td>\n",
              "    </tr>\n",
              "    <tr>\n",
              "      <th>20114</th>\n",
              "      <td>Аудио и видео</td>\n",
              "      <td>Усилитель sansui G5000</td>\n",
              "      <td>-1</td>\n",
              "    </tr>\n",
              "    <tr>\n",
              "      <th>26674</th>\n",
              "      <td>Одежда, обувь, аксессуары</td>\n",
              "      <td>Кардиган новый</td>\n",
              "      <td>-1</td>\n",
              "    </tr>\n",
              "    <tr>\n",
              "      <th>23343</th>\n",
              "      <td>Детская одежда и обувь</td>\n",
              "      <td>Ботинки стелька 15 см</td>\n",
              "      <td>-1</td>\n",
              "    </tr>\n",
              "    <tr>\n",
              "      <th>1862</th>\n",
              "      <td>Велосипеды</td>\n",
              "      <td>Продаю велосипед</td>\n",
              "      <td>-1</td>\n",
              "    </tr>\n",
              "    <tr>\n",
              "      <th>7068</th>\n",
              "      <td>Товары для детей и игрушки</td>\n",
              "      <td>Велосипед</td>\n",
              "      <td>-1</td>\n",
              "    </tr>\n",
              "    <tr>\n",
              "      <th>17296</th>\n",
              "      <td>Предложение услуг</td>\n",
              "      <td>Продажа и доставка песка и щебня</td>\n",
              "      <td>-1</td>\n",
              "    </tr>\n",
              "    <tr>\n",
              "      <th>10161</th>\n",
              "      <td>Товары для детей и игрушки</td>\n",
              "      <td>Велосипед Larsen</td>\n",
              "      <td>-1</td>\n",
              "    </tr>\n",
              "    <tr>\n",
              "      <th>23364</th>\n",
              "      <td>Детская одежда и обувь</td>\n",
              "      <td>Комплект новый,80</td>\n",
              "      <td>-1</td>\n",
              "    </tr>\n",
              "    <tr>\n",
              "      <th>2474</th>\n",
              "      <td>Товары для детей и игрушки</td>\n",
              "      <td>Новый конструктор мотоцикл</td>\n",
              "      <td>-1</td>\n",
              "    </tr>\n",
              "    <tr>\n",
              "      <th>33219</th>\n",
              "      <td>Мебель и интерьер</td>\n",
              "      <td>Шкаф-комод 3-Х створчатый новый</td>\n",
              "      <td>-1</td>\n",
              "    </tr>\n",
              "    <tr>\n",
              "      <th>21904</th>\n",
              "      <td>Одежда, обувь, аксессуары</td>\n",
              "      <td>Ботинки, полусапоги женские</td>\n",
              "      <td>-1</td>\n",
              "    </tr>\n",
              "  </tbody>\n",
              "</table>\n",
              "</div>"
            ],
            "text/plain": [
              "                    category_name  ... cluster\n",
              "32603   Одежда, обувь, аксессуары  ...      -1\n",
              "21573      Детская одежда и обувь  ...      -1\n",
              "35647   Одежда, обувь, аксессуары  ...      -1\n",
              "10992      Детская одежда и обувь  ...      -1\n",
              "22953               Аудио и видео  ...      -1\n",
              "16589                    Ноутбуки  ...      -1\n",
              "4330                   Велосипеды  ...      -1\n",
              "2850                     Телефоны  ...      -1\n",
              "20114               Аудио и видео  ...      -1\n",
              "26674   Одежда, обувь, аксессуары  ...      -1\n",
              "23343      Детская одежда и обувь  ...      -1\n",
              "1862                   Велосипеды  ...      -1\n",
              "7068   Товары для детей и игрушки  ...      -1\n",
              "17296           Предложение услуг  ...      -1\n",
              "10161  Товары для детей и игрушки  ...      -1\n",
              "23364      Детская одежда и обувь  ...      -1\n",
              "2474   Товары для детей и игрушки  ...      -1\n",
              "33219           Мебель и интерьер  ...      -1\n",
              "21904   Одежда, обувь, аксессуары  ...      -1\n",
              "\n",
              "[19 rows x 3 columns]"
            ]
          },
          "metadata": {
            "tags": []
          },
          "execution_count": 280
        }
      ]
    },
    {
      "cell_type": "code",
      "metadata": {
        "id": "hz3WsyAoffaX",
        "colab_type": "code",
        "colab": {}
      },
      "source": [
        "cluster = DBSCAN(min_samples=5, eps=0.5, leaf_size=20) \n",
        "cluster.fit(X_svd)\n",
        "labels = cluster.labels_\n",
        "sample1['cluster'] = cluster.labels_"
      ],
      "execution_count": 0,
      "outputs": []
    },
    {
      "cell_type": "code",
      "metadata": {
        "id": "6zSV52EbglfU",
        "colab_type": "code",
        "colab": {
          "base_uri": "https://localhost:8080/",
          "height": 407
        },
        "outputId": "bc925f91-1e48-40a8-cc2d-135bf4669ca8"
      },
      "source": [
        "sample1[sample1.cluster==-1]"
      ],
      "execution_count": 217,
      "outputs": [
        {
          "output_type": "execute_result",
          "data": {
            "text/html": [
              "<div>\n",
              "<style scoped>\n",
              "    .dataframe tbody tr th:only-of-type {\n",
              "        vertical-align: middle;\n",
              "    }\n",
              "\n",
              "    .dataframe tbody tr th {\n",
              "        vertical-align: top;\n",
              "    }\n",
              "\n",
              "    .dataframe thead th {\n",
              "        text-align: right;\n",
              "    }\n",
              "</style>\n",
              "<table border=\"1\" class=\"dataframe\">\n",
              "  <thead>\n",
              "    <tr style=\"text-align: right;\">\n",
              "      <th></th>\n",
              "      <th>category_name</th>\n",
              "      <th>title</th>\n",
              "      <th>cluster</th>\n",
              "    </tr>\n",
              "  </thead>\n",
              "  <tbody>\n",
              "    <tr>\n",
              "      <th>12840</th>\n",
              "      <td>Грузовики и спецтехника</td>\n",
              "      <td>Продажа Сельхоз-Оборудования Пишите на mail: d...</td>\n",
              "      <td>-1</td>\n",
              "    </tr>\n",
              "    <tr>\n",
              "      <th>32994</th>\n",
              "      <td>Собаки</td>\n",
              "      <td>Девочки сао (алабай) с родословной РКФ</td>\n",
              "      <td>-1</td>\n",
              "    </tr>\n",
              "    <tr>\n",
              "      <th>17720</th>\n",
              "      <td>Детская одежда и обувь</td>\n",
              "      <td>Комбинезон на теплую погоду</td>\n",
              "      <td>-1</td>\n",
              "    </tr>\n",
              "    <tr>\n",
              "      <th>31613</th>\n",
              "      <td>Квартиры</td>\n",
              "      <td>1-к квартира, 35 м², 4/5 эт.</td>\n",
              "      <td>-1</td>\n",
              "    </tr>\n",
              "    <tr>\n",
              "      <th>31418</th>\n",
              "      <td>Одежда, обувь, аксессуары</td>\n",
              "      <td>Продам туфли буттери</td>\n",
              "      <td>-1</td>\n",
              "    </tr>\n",
              "    <tr>\n",
              "      <th>...</th>\n",
              "      <td>...</td>\n",
              "      <td>...</td>\n",
              "      <td>...</td>\n",
              "    </tr>\n",
              "    <tr>\n",
              "      <th>15945</th>\n",
              "      <td>Детская одежда и обувь</td>\n",
              "      <td>Летние туфли</td>\n",
              "      <td>-1</td>\n",
              "    </tr>\n",
              "    <tr>\n",
              "      <th>24750</th>\n",
              "      <td>Телефоны</td>\n",
              "      <td>Новый Apple iPhone 7 Plus Silver 128 gb</td>\n",
              "      <td>-1</td>\n",
              "    </tr>\n",
              "    <tr>\n",
              "      <th>21904</th>\n",
              "      <td>Одежда, обувь, аксессуары</td>\n",
              "      <td>Ботинки, полусапоги женские</td>\n",
              "      <td>-1</td>\n",
              "    </tr>\n",
              "    <tr>\n",
              "      <th>18331</th>\n",
              "      <td>Земельные участки</td>\n",
              "      <td>Участок 18 сот. (ИЖС)</td>\n",
              "      <td>-1</td>\n",
              "    </tr>\n",
              "    <tr>\n",
              "      <th>27691</th>\n",
              "      <td>Комнаты</td>\n",
              "      <td>Комната 29.6 м² в 2-к, 1/2 эт.</td>\n",
              "      <td>-1</td>\n",
              "    </tr>\n",
              "  </tbody>\n",
              "</table>\n",
              "<p>171 rows × 3 columns</p>\n",
              "</div>"
            ],
            "text/plain": [
              "                   category_name  ... cluster\n",
              "12840    Грузовики и спецтехника  ...      -1\n",
              "32994                     Собаки  ...      -1\n",
              "17720     Детская одежда и обувь  ...      -1\n",
              "31613                   Квартиры  ...      -1\n",
              "31418  Одежда, обувь, аксессуары  ...      -1\n",
              "...                          ...  ...     ...\n",
              "15945     Детская одежда и обувь  ...      -1\n",
              "24750                   Телефоны  ...      -1\n",
              "21904  Одежда, обувь, аксессуары  ...      -1\n",
              "18331          Земельные участки  ...      -1\n",
              "27691                    Комнаты  ...      -1\n",
              "\n",
              "[171 rows x 3 columns]"
            ]
          },
          "metadata": {
            "tags": []
          },
          "execution_count": 217
        }
      ]
    },
    {
      "cell_type": "code",
      "metadata": {
        "id": "kXYJkceBglht",
        "colab_type": "code",
        "colab": {}
      },
      "source": [
        "cluster = DBSCAN(min_samples=1.1, eps=0.9, leaf_size=70,  ) \n",
        "X = cv.fit_transform(sample1['title'])\n",
        "X_svd = svd.fit_transform(X)\n",
        "y = sample['category_name']\n",
        "cluster.fit(X_svd)\n",
        "labels = cluster.labels_\n",
        "sample1['cluster'] = cluster.labels_"
      ],
      "execution_count": 0,
      "outputs": []
    },
    {
      "cell_type": "code",
      "metadata": {
        "id": "TWTHSbDyglkn",
        "colab_type": "code",
        "colab": {
          "base_uri": "https://localhost:8080/",
          "height": 348
        },
        "outputId": "7677562b-67ec-4e2d-f548-5cea02efe6d9"
      },
      "source": [
        "sample1[sample1.cluster==-1].head(10)"
      ],
      "execution_count": 247,
      "outputs": [
        {
          "output_type": "execute_result",
          "data": {
            "text/html": [
              "<div>\n",
              "<style scoped>\n",
              "    .dataframe tbody tr th:only-of-type {\n",
              "        vertical-align: middle;\n",
              "    }\n",
              "\n",
              "    .dataframe tbody tr th {\n",
              "        vertical-align: top;\n",
              "    }\n",
              "\n",
              "    .dataframe thead th {\n",
              "        text-align: right;\n",
              "    }\n",
              "</style>\n",
              "<table border=\"1\" class=\"dataframe\">\n",
              "  <thead>\n",
              "    <tr style=\"text-align: right;\">\n",
              "      <th></th>\n",
              "      <th>category_name</th>\n",
              "      <th>title</th>\n",
              "      <th>cluster</th>\n",
              "    </tr>\n",
              "  </thead>\n",
              "  <tbody>\n",
              "    <tr>\n",
              "      <th>31418</th>\n",
              "      <td>Одежда, обувь, аксессуары</td>\n",
              "      <td>Продам туфли буттери</td>\n",
              "      <td>-1</td>\n",
              "    </tr>\n",
              "    <tr>\n",
              "      <th>5017</th>\n",
              "      <td>Телефоны</td>\n",
              "      <td>USB для iPhone</td>\n",
              "      <td>-1</td>\n",
              "    </tr>\n",
              "    <tr>\n",
              "      <th>8235</th>\n",
              "      <td>Оборудование для бизнеса</td>\n",
              "      <td>Продам трансформаторы для прогрева бетона и гр...</td>\n",
              "      <td>-1</td>\n",
              "    </tr>\n",
              "    <tr>\n",
              "      <th>26568</th>\n",
              "      <td>Телефоны</td>\n",
              "      <td>Аккумулятор для iPhone 4s</td>\n",
              "      <td>-1</td>\n",
              "    </tr>\n",
              "    <tr>\n",
              "      <th>4546</th>\n",
              "      <td>Квартиры</td>\n",
              "      <td>2-к квартира, 52 м², 4/10 эт.</td>\n",
              "      <td>-1</td>\n",
              "    </tr>\n",
              "    <tr>\n",
              "      <th>35791</th>\n",
              "      <td>Аудио и видео</td>\n",
              "      <td>Продам усилитель и две колонки</td>\n",
              "      <td>-1</td>\n",
              "    </tr>\n",
              "    <tr>\n",
              "      <th>33210</th>\n",
              "      <td>Детская одежда и обувь</td>\n",
              "      <td>Сандалии для первых шагов малышки</td>\n",
              "      <td>-1</td>\n",
              "    </tr>\n",
              "    <tr>\n",
              "      <th>19158</th>\n",
              "      <td>Детская одежда и обувь</td>\n",
              "      <td>Кофта для мальчика</td>\n",
              "      <td>-1</td>\n",
              "    </tr>\n",
              "    <tr>\n",
              "      <th>36990</th>\n",
              "      <td>Детская одежда и обувь</td>\n",
              "      <td>Футболки с длинным рукавом на 2-2,5 года, по 50р</td>\n",
              "      <td>-1</td>\n",
              "    </tr>\n",
              "    <tr>\n",
              "      <th>33269</th>\n",
              "      <td>Одежда, обувь, аксессуары</td>\n",
              "      <td>Новая куртка тонкий синтепон</td>\n",
              "      <td>-1</td>\n",
              "    </tr>\n",
              "  </tbody>\n",
              "</table>\n",
              "</div>"
            ],
            "text/plain": [
              "                   category_name  ... cluster\n",
              "31418  Одежда, обувь, аксессуары  ...      -1\n",
              "5017                    Телефоны  ...      -1\n",
              "8235    Оборудование для бизнеса  ...      -1\n",
              "26568                   Телефоны  ...      -1\n",
              "4546                    Квартиры  ...      -1\n",
              "35791              Аудио и видео  ...      -1\n",
              "33210     Детская одежда и обувь  ...      -1\n",
              "19158     Детская одежда и обувь  ...      -1\n",
              "36990     Детская одежда и обувь  ...      -1\n",
              "33269  Одежда, обувь, аксессуары  ...      -1\n",
              "\n",
              "[10 rows x 3 columns]"
            ]
          },
          "metadata": {
            "tags": []
          },
          "execution_count": 247
        }
      ]
    },
    {
      "cell_type": "code",
      "metadata": {
        "id": "p_8kI3snglnM",
        "colab_type": "code",
        "colab": {}
      },
      "source": [
        "#Ну вот разве что \"Сандалии для первых шагов малышки\", но все равно в основном нормальные объявления"
      ],
      "execution_count": 0,
      "outputs": []
    },
    {
      "cell_type": "code",
      "metadata": {
        "id": "tYBqllrBglph",
        "colab_type": "code",
        "colab": {}
      },
      "source": [
        "cluster = DBSCAN(min_samples=1.1, eps=1.6, leaf_size=70,  ) \n",
        "X = cv.fit_transform(sample1['title'])\n",
        "X_svd = svd.fit_transform(X)\n",
        "y = sample['category_name']\n",
        "cluster.fit(X_svd)\n",
        "labels = cluster.labels_\n",
        "sample1['cluster'] = cluster.labels_"
      ],
      "execution_count": 0,
      "outputs": []
    },
    {
      "cell_type": "code",
      "metadata": {
        "id": "kekMaEymffgC",
        "colab_type": "code",
        "colab": {
          "base_uri": "https://localhost:8080/",
          "height": 138
        },
        "outputId": "83ee5b1a-9911-4668-ec4b-c7b675871117"
      },
      "source": [
        "sample1[sample1.cluster==-1].head(10)"
      ],
      "execution_count": 259,
      "outputs": [
        {
          "output_type": "execute_result",
          "data": {
            "text/html": [
              "<div>\n",
              "<style scoped>\n",
              "    .dataframe tbody tr th:only-of-type {\n",
              "        vertical-align: middle;\n",
              "    }\n",
              "\n",
              "    .dataframe tbody tr th {\n",
              "        vertical-align: top;\n",
              "    }\n",
              "\n",
              "    .dataframe thead th {\n",
              "        text-align: right;\n",
              "    }\n",
              "</style>\n",
              "<table border=\"1\" class=\"dataframe\">\n",
              "  <thead>\n",
              "    <tr style=\"text-align: right;\">\n",
              "      <th></th>\n",
              "      <th>category_name</th>\n",
              "      <th>title</th>\n",
              "      <th>cluster</th>\n",
              "    </tr>\n",
              "  </thead>\n",
              "  <tbody>\n",
              "    <tr>\n",
              "      <th>13116</th>\n",
              "      <td>Квартиры</td>\n",
              "      <td>1-к квартира, 54 м², 6/10 эт.</td>\n",
              "      <td>-1</td>\n",
              "    </tr>\n",
              "    <tr>\n",
              "      <th>29736</th>\n",
              "      <td>Квартиры</td>\n",
              "      <td>1-к квартира, 32 м², 8/10 эт.</td>\n",
              "      <td>-1</td>\n",
              "    </tr>\n",
              "    <tr>\n",
              "      <th>2281</th>\n",
              "      <td>Телефоны</td>\n",
              "      <td>Чехол на iPhone 4s</td>\n",
              "      <td>-1</td>\n",
              "    </tr>\n",
              "  </tbody>\n",
              "</table>\n",
              "</div>"
            ],
            "text/plain": [
              "      category_name                          title  cluster\n",
              "13116      Квартиры  1-к квартира, 54 м², 6/10 эт.       -1\n",
              "29736      Квартиры  1-к квартира, 32 м², 8/10 эт.       -1\n",
              "2281       Телефоны             Чехол на iPhone 4s       -1"
            ]
          },
          "metadata": {
            "tags": []
          },
          "execution_count": 259
        }
      ]
    },
    {
      "cell_type": "code",
      "metadata": {
        "id": "7zt4pJgPlsLJ",
        "colab_type": "code",
        "colab": {}
      },
      "source": [
        "#Их все меньше и меньше, похоже трэш найти не выходит."
      ],
      "execution_count": 0,
      "outputs": []
    },
    {
      "cell_type": "code",
      "metadata": {
        "id": "UGZfNN-NmF2N",
        "colab_type": "code",
        "colab": {}
      },
      "source": [
        ""
      ],
      "execution_count": 0,
      "outputs": []
    }
  ]
}